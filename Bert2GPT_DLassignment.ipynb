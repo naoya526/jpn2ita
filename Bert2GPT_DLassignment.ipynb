{
  "nbformat": 4,
  "nbformat_minor": 0,
  "metadata": {
    "colab": {
      "provenance": [],
      "gpuType": "T4"
    },
    "kernelspec": {
      "name": "python3",
      "display_name": "Python 3"
    },
    "language_info": {
      "name": "python"
    },
    "accelerator": "GPU",
    "widgets": {
      "application/vnd.jupyter.widget-state+json": {
        "cf120f62f6014b5e8a1ae33e7710a740": {
          "model_module": "@jupyter-widgets/controls",
          "model_name": "HBoxModel",
          "model_module_version": "1.5.0",
          "state": {
            "_dom_classes": [],
            "_model_module": "@jupyter-widgets/controls",
            "_model_module_version": "1.5.0",
            "_model_name": "HBoxModel",
            "_view_count": null,
            "_view_module": "@jupyter-widgets/controls",
            "_view_module_version": "1.5.0",
            "_view_name": "HBoxView",
            "box_style": "",
            "children": [
              "IPY_MODEL_11ba11b457a74403bad2b5309978591c",
              "IPY_MODEL_bbfd6221e1c74b1c9f686a6bd066f6ae",
              "IPY_MODEL_85dc7a4810454fe9ad779c07edb5cb48"
            ],
            "layout": "IPY_MODEL_8a9f1560db6d4974a5adea3881c40d0c"
          }
        },
        "11ba11b457a74403bad2b5309978591c": {
          "model_module": "@jupyter-widgets/controls",
          "model_name": "HTMLModel",
          "model_module_version": "1.5.0",
          "state": {
            "_dom_classes": [],
            "_model_module": "@jupyter-widgets/controls",
            "_model_module_version": "1.5.0",
            "_model_name": "HTMLModel",
            "_view_count": null,
            "_view_module": "@jupyter-widgets/controls",
            "_view_module_version": "1.5.0",
            "_view_name": "HTMLView",
            "description": "",
            "description_tooltip": null,
            "layout": "IPY_MODEL_7d39145c4cbe48c09a8da217b8b06dcd",
            "placeholder": "​",
            "style": "IPY_MODEL_056be302645a41ceaadcd5dda7eb1fb7",
            "value": "tokenizer_config.json: 100%"
          }
        },
        "bbfd6221e1c74b1c9f686a6bd066f6ae": {
          "model_module": "@jupyter-widgets/controls",
          "model_name": "FloatProgressModel",
          "model_module_version": "1.5.0",
          "state": {
            "_dom_classes": [],
            "_model_module": "@jupyter-widgets/controls",
            "_model_module_version": "1.5.0",
            "_model_name": "FloatProgressModel",
            "_view_count": null,
            "_view_module": "@jupyter-widgets/controls",
            "_view_module_version": "1.5.0",
            "_view_name": "ProgressView",
            "bar_style": "success",
            "description": "",
            "description_tooltip": null,
            "layout": "IPY_MODEL_f8ca22b5aeea4ff48b0f1a40bf2cd5a7",
            "max": 49,
            "min": 0,
            "orientation": "horizontal",
            "style": "IPY_MODEL_a62a09c8766c4958943be1a0d4b33124",
            "value": 49
          }
        },
        "85dc7a4810454fe9ad779c07edb5cb48": {
          "model_module": "@jupyter-widgets/controls",
          "model_name": "HTMLModel",
          "model_module_version": "1.5.0",
          "state": {
            "_dom_classes": [],
            "_model_module": "@jupyter-widgets/controls",
            "_model_module_version": "1.5.0",
            "_model_name": "HTMLModel",
            "_view_count": null,
            "_view_module": "@jupyter-widgets/controls",
            "_view_module_version": "1.5.0",
            "_view_name": "HTMLView",
            "description": "",
            "description_tooltip": null,
            "layout": "IPY_MODEL_511fbc8d09c7438d9b9e6a85f01421c8",
            "placeholder": "​",
            "style": "IPY_MODEL_207122568ce746b293a7725a88401cd1",
            "value": " 49.0/49.0 [00:00&lt;00:00, 5.30kB/s]"
          }
        },
        "8a9f1560db6d4974a5adea3881c40d0c": {
          "model_module": "@jupyter-widgets/base",
          "model_name": "LayoutModel",
          "model_module_version": "1.2.0",
          "state": {
            "_model_module": "@jupyter-widgets/base",
            "_model_module_version": "1.2.0",
            "_model_name": "LayoutModel",
            "_view_count": null,
            "_view_module": "@jupyter-widgets/base",
            "_view_module_version": "1.2.0",
            "_view_name": "LayoutView",
            "align_content": null,
            "align_items": null,
            "align_self": null,
            "border": null,
            "bottom": null,
            "display": null,
            "flex": null,
            "flex_flow": null,
            "grid_area": null,
            "grid_auto_columns": null,
            "grid_auto_flow": null,
            "grid_auto_rows": null,
            "grid_column": null,
            "grid_gap": null,
            "grid_row": null,
            "grid_template_areas": null,
            "grid_template_columns": null,
            "grid_template_rows": null,
            "height": null,
            "justify_content": null,
            "justify_items": null,
            "left": null,
            "margin": null,
            "max_height": null,
            "max_width": null,
            "min_height": null,
            "min_width": null,
            "object_fit": null,
            "object_position": null,
            "order": null,
            "overflow": null,
            "overflow_x": null,
            "overflow_y": null,
            "padding": null,
            "right": null,
            "top": null,
            "visibility": null,
            "width": null
          }
        },
        "7d39145c4cbe48c09a8da217b8b06dcd": {
          "model_module": "@jupyter-widgets/base",
          "model_name": "LayoutModel",
          "model_module_version": "1.2.0",
          "state": {
            "_model_module": "@jupyter-widgets/base",
            "_model_module_version": "1.2.0",
            "_model_name": "LayoutModel",
            "_view_count": null,
            "_view_module": "@jupyter-widgets/base",
            "_view_module_version": "1.2.0",
            "_view_name": "LayoutView",
            "align_content": null,
            "align_items": null,
            "align_self": null,
            "border": null,
            "bottom": null,
            "display": null,
            "flex": null,
            "flex_flow": null,
            "grid_area": null,
            "grid_auto_columns": null,
            "grid_auto_flow": null,
            "grid_auto_rows": null,
            "grid_column": null,
            "grid_gap": null,
            "grid_row": null,
            "grid_template_areas": null,
            "grid_template_columns": null,
            "grid_template_rows": null,
            "height": null,
            "justify_content": null,
            "justify_items": null,
            "left": null,
            "margin": null,
            "max_height": null,
            "max_width": null,
            "min_height": null,
            "min_width": null,
            "object_fit": null,
            "object_position": null,
            "order": null,
            "overflow": null,
            "overflow_x": null,
            "overflow_y": null,
            "padding": null,
            "right": null,
            "top": null,
            "visibility": null,
            "width": null
          }
        },
        "056be302645a41ceaadcd5dda7eb1fb7": {
          "model_module": "@jupyter-widgets/controls",
          "model_name": "DescriptionStyleModel",
          "model_module_version": "1.5.0",
          "state": {
            "_model_module": "@jupyter-widgets/controls",
            "_model_module_version": "1.5.0",
            "_model_name": "DescriptionStyleModel",
            "_view_count": null,
            "_view_module": "@jupyter-widgets/base",
            "_view_module_version": "1.2.0",
            "_view_name": "StyleView",
            "description_width": ""
          }
        },
        "f8ca22b5aeea4ff48b0f1a40bf2cd5a7": {
          "model_module": "@jupyter-widgets/base",
          "model_name": "LayoutModel",
          "model_module_version": "1.2.0",
          "state": {
            "_model_module": "@jupyter-widgets/base",
            "_model_module_version": "1.2.0",
            "_model_name": "LayoutModel",
            "_view_count": null,
            "_view_module": "@jupyter-widgets/base",
            "_view_module_version": "1.2.0",
            "_view_name": "LayoutView",
            "align_content": null,
            "align_items": null,
            "align_self": null,
            "border": null,
            "bottom": null,
            "display": null,
            "flex": null,
            "flex_flow": null,
            "grid_area": null,
            "grid_auto_columns": null,
            "grid_auto_flow": null,
            "grid_auto_rows": null,
            "grid_column": null,
            "grid_gap": null,
            "grid_row": null,
            "grid_template_areas": null,
            "grid_template_columns": null,
            "grid_template_rows": null,
            "height": null,
            "justify_content": null,
            "justify_items": null,
            "left": null,
            "margin": null,
            "max_height": null,
            "max_width": null,
            "min_height": null,
            "min_width": null,
            "object_fit": null,
            "object_position": null,
            "order": null,
            "overflow": null,
            "overflow_x": null,
            "overflow_y": null,
            "padding": null,
            "right": null,
            "top": null,
            "visibility": null,
            "width": null
          }
        },
        "a62a09c8766c4958943be1a0d4b33124": {
          "model_module": "@jupyter-widgets/controls",
          "model_name": "ProgressStyleModel",
          "model_module_version": "1.5.0",
          "state": {
            "_model_module": "@jupyter-widgets/controls",
            "_model_module_version": "1.5.0",
            "_model_name": "ProgressStyleModel",
            "_view_count": null,
            "_view_module": "@jupyter-widgets/base",
            "_view_module_version": "1.2.0",
            "_view_name": "StyleView",
            "bar_color": null,
            "description_width": ""
          }
        },
        "511fbc8d09c7438d9b9e6a85f01421c8": {
          "model_module": "@jupyter-widgets/base",
          "model_name": "LayoutModel",
          "model_module_version": "1.2.0",
          "state": {
            "_model_module": "@jupyter-widgets/base",
            "_model_module_version": "1.2.0",
            "_model_name": "LayoutModel",
            "_view_count": null,
            "_view_module": "@jupyter-widgets/base",
            "_view_module_version": "1.2.0",
            "_view_name": "LayoutView",
            "align_content": null,
            "align_items": null,
            "align_self": null,
            "border": null,
            "bottom": null,
            "display": null,
            "flex": null,
            "flex_flow": null,
            "grid_area": null,
            "grid_auto_columns": null,
            "grid_auto_flow": null,
            "grid_auto_rows": null,
            "grid_column": null,
            "grid_gap": null,
            "grid_row": null,
            "grid_template_areas": null,
            "grid_template_columns": null,
            "grid_template_rows": null,
            "height": null,
            "justify_content": null,
            "justify_items": null,
            "left": null,
            "margin": null,
            "max_height": null,
            "max_width": null,
            "min_height": null,
            "min_width": null,
            "object_fit": null,
            "object_position": null,
            "order": null,
            "overflow": null,
            "overflow_x": null,
            "overflow_y": null,
            "padding": null,
            "right": null,
            "top": null,
            "visibility": null,
            "width": null
          }
        },
        "207122568ce746b293a7725a88401cd1": {
          "model_module": "@jupyter-widgets/controls",
          "model_name": "DescriptionStyleModel",
          "model_module_version": "1.5.0",
          "state": {
            "_model_module": "@jupyter-widgets/controls",
            "_model_module_version": "1.5.0",
            "_model_name": "DescriptionStyleModel",
            "_view_count": null,
            "_view_module": "@jupyter-widgets/base",
            "_view_module_version": "1.2.0",
            "_view_name": "StyleView",
            "description_width": ""
          }
        },
        "26333ea6bc6e4a9ca1b0a5c910433bb3": {
          "model_module": "@jupyter-widgets/controls",
          "model_name": "HBoxModel",
          "model_module_version": "1.5.0",
          "state": {
            "_dom_classes": [],
            "_model_module": "@jupyter-widgets/controls",
            "_model_module_version": "1.5.0",
            "_model_name": "HBoxModel",
            "_view_count": null,
            "_view_module": "@jupyter-widgets/controls",
            "_view_module_version": "1.5.0",
            "_view_name": "HBoxView",
            "box_style": "",
            "children": [
              "IPY_MODEL_f904e8d046db45fd9868814a552c14d8",
              "IPY_MODEL_236cf2f8f49f4a78a583e6c1b2860eae",
              "IPY_MODEL_9417de92b93c417aba8b8d079fca92d5"
            ],
            "layout": "IPY_MODEL_d4b53babb3a8489b9611cbbc30fab5fe"
          }
        },
        "f904e8d046db45fd9868814a552c14d8": {
          "model_module": "@jupyter-widgets/controls",
          "model_name": "HTMLModel",
          "model_module_version": "1.5.0",
          "state": {
            "_dom_classes": [],
            "_model_module": "@jupyter-widgets/controls",
            "_model_module_version": "1.5.0",
            "_model_name": "HTMLModel",
            "_view_count": null,
            "_view_module": "@jupyter-widgets/controls",
            "_view_module_version": "1.5.0",
            "_view_name": "HTMLView",
            "description": "",
            "description_tooltip": null,
            "layout": "IPY_MODEL_935a151343c44632a17bb283f2f418c4",
            "placeholder": "​",
            "style": "IPY_MODEL_3abea600544f46f6a9f5929b48b97cd7",
            "value": "config.json: 100%"
          }
        },
        "236cf2f8f49f4a78a583e6c1b2860eae": {
          "model_module": "@jupyter-widgets/controls",
          "model_name": "FloatProgressModel",
          "model_module_version": "1.5.0",
          "state": {
            "_dom_classes": [],
            "_model_module": "@jupyter-widgets/controls",
            "_model_module_version": "1.5.0",
            "_model_name": "FloatProgressModel",
            "_view_count": null,
            "_view_module": "@jupyter-widgets/controls",
            "_view_module_version": "1.5.0",
            "_view_name": "ProgressView",
            "bar_style": "success",
            "description": "",
            "description_tooltip": null,
            "layout": "IPY_MODEL_dfe2e11752da45eb9c8410e653142499",
            "max": 570,
            "min": 0,
            "orientation": "horizontal",
            "style": "IPY_MODEL_4a7f4bf01d304f12a8db32c212542cc2",
            "value": 570
          }
        },
        "9417de92b93c417aba8b8d079fca92d5": {
          "model_module": "@jupyter-widgets/controls",
          "model_name": "HTMLModel",
          "model_module_version": "1.5.0",
          "state": {
            "_dom_classes": [],
            "_model_module": "@jupyter-widgets/controls",
            "_model_module_version": "1.5.0",
            "_model_name": "HTMLModel",
            "_view_count": null,
            "_view_module": "@jupyter-widgets/controls",
            "_view_module_version": "1.5.0",
            "_view_name": "HTMLView",
            "description": "",
            "description_tooltip": null,
            "layout": "IPY_MODEL_b1fa4738e8e34973a2fd88f43685999d",
            "placeholder": "​",
            "style": "IPY_MODEL_21dc4e21e6c542d6b5861c8ca04b3425",
            "value": " 570/570 [00:00&lt;00:00, 35.5kB/s]"
          }
        },
        "d4b53babb3a8489b9611cbbc30fab5fe": {
          "model_module": "@jupyter-widgets/base",
          "model_name": "LayoutModel",
          "model_module_version": "1.2.0",
          "state": {
            "_model_module": "@jupyter-widgets/base",
            "_model_module_version": "1.2.0",
            "_model_name": "LayoutModel",
            "_view_count": null,
            "_view_module": "@jupyter-widgets/base",
            "_view_module_version": "1.2.0",
            "_view_name": "LayoutView",
            "align_content": null,
            "align_items": null,
            "align_self": null,
            "border": null,
            "bottom": null,
            "display": null,
            "flex": null,
            "flex_flow": null,
            "grid_area": null,
            "grid_auto_columns": null,
            "grid_auto_flow": null,
            "grid_auto_rows": null,
            "grid_column": null,
            "grid_gap": null,
            "grid_row": null,
            "grid_template_areas": null,
            "grid_template_columns": null,
            "grid_template_rows": null,
            "height": null,
            "justify_content": null,
            "justify_items": null,
            "left": null,
            "margin": null,
            "max_height": null,
            "max_width": null,
            "min_height": null,
            "min_width": null,
            "object_fit": null,
            "object_position": null,
            "order": null,
            "overflow": null,
            "overflow_x": null,
            "overflow_y": null,
            "padding": null,
            "right": null,
            "top": null,
            "visibility": null,
            "width": null
          }
        },
        "935a151343c44632a17bb283f2f418c4": {
          "model_module": "@jupyter-widgets/base",
          "model_name": "LayoutModel",
          "model_module_version": "1.2.0",
          "state": {
            "_model_module": "@jupyter-widgets/base",
            "_model_module_version": "1.2.0",
            "_model_name": "LayoutModel",
            "_view_count": null,
            "_view_module": "@jupyter-widgets/base",
            "_view_module_version": "1.2.0",
            "_view_name": "LayoutView",
            "align_content": null,
            "align_items": null,
            "align_self": null,
            "border": null,
            "bottom": null,
            "display": null,
            "flex": null,
            "flex_flow": null,
            "grid_area": null,
            "grid_auto_columns": null,
            "grid_auto_flow": null,
            "grid_auto_rows": null,
            "grid_column": null,
            "grid_gap": null,
            "grid_row": null,
            "grid_template_areas": null,
            "grid_template_columns": null,
            "grid_template_rows": null,
            "height": null,
            "justify_content": null,
            "justify_items": null,
            "left": null,
            "margin": null,
            "max_height": null,
            "max_width": null,
            "min_height": null,
            "min_width": null,
            "object_fit": null,
            "object_position": null,
            "order": null,
            "overflow": null,
            "overflow_x": null,
            "overflow_y": null,
            "padding": null,
            "right": null,
            "top": null,
            "visibility": null,
            "width": null
          }
        },
        "3abea600544f46f6a9f5929b48b97cd7": {
          "model_module": "@jupyter-widgets/controls",
          "model_name": "DescriptionStyleModel",
          "model_module_version": "1.5.0",
          "state": {
            "_model_module": "@jupyter-widgets/controls",
            "_model_module_version": "1.5.0",
            "_model_name": "DescriptionStyleModel",
            "_view_count": null,
            "_view_module": "@jupyter-widgets/base",
            "_view_module_version": "1.2.0",
            "_view_name": "StyleView",
            "description_width": ""
          }
        },
        "dfe2e11752da45eb9c8410e653142499": {
          "model_module": "@jupyter-widgets/base",
          "model_name": "LayoutModel",
          "model_module_version": "1.2.0",
          "state": {
            "_model_module": "@jupyter-widgets/base",
            "_model_module_version": "1.2.0",
            "_model_name": "LayoutModel",
            "_view_count": null,
            "_view_module": "@jupyter-widgets/base",
            "_view_module_version": "1.2.0",
            "_view_name": "LayoutView",
            "align_content": null,
            "align_items": null,
            "align_self": null,
            "border": null,
            "bottom": null,
            "display": null,
            "flex": null,
            "flex_flow": null,
            "grid_area": null,
            "grid_auto_columns": null,
            "grid_auto_flow": null,
            "grid_auto_rows": null,
            "grid_column": null,
            "grid_gap": null,
            "grid_row": null,
            "grid_template_areas": null,
            "grid_template_columns": null,
            "grid_template_rows": null,
            "height": null,
            "justify_content": null,
            "justify_items": null,
            "left": null,
            "margin": null,
            "max_height": null,
            "max_width": null,
            "min_height": null,
            "min_width": null,
            "object_fit": null,
            "object_position": null,
            "order": null,
            "overflow": null,
            "overflow_x": null,
            "overflow_y": null,
            "padding": null,
            "right": null,
            "top": null,
            "visibility": null,
            "width": null
          }
        },
        "4a7f4bf01d304f12a8db32c212542cc2": {
          "model_module": "@jupyter-widgets/controls",
          "model_name": "ProgressStyleModel",
          "model_module_version": "1.5.0",
          "state": {
            "_model_module": "@jupyter-widgets/controls",
            "_model_module_version": "1.5.0",
            "_model_name": "ProgressStyleModel",
            "_view_count": null,
            "_view_module": "@jupyter-widgets/base",
            "_view_module_version": "1.2.0",
            "_view_name": "StyleView",
            "bar_color": null,
            "description_width": ""
          }
        },
        "b1fa4738e8e34973a2fd88f43685999d": {
          "model_module": "@jupyter-widgets/base",
          "model_name": "LayoutModel",
          "model_module_version": "1.2.0",
          "state": {
            "_model_module": "@jupyter-widgets/base",
            "_model_module_version": "1.2.0",
            "_model_name": "LayoutModel",
            "_view_count": null,
            "_view_module": "@jupyter-widgets/base",
            "_view_module_version": "1.2.0",
            "_view_name": "LayoutView",
            "align_content": null,
            "align_items": null,
            "align_self": null,
            "border": null,
            "bottom": null,
            "display": null,
            "flex": null,
            "flex_flow": null,
            "grid_area": null,
            "grid_auto_columns": null,
            "grid_auto_flow": null,
            "grid_auto_rows": null,
            "grid_column": null,
            "grid_gap": null,
            "grid_row": null,
            "grid_template_areas": null,
            "grid_template_columns": null,
            "grid_template_rows": null,
            "height": null,
            "justify_content": null,
            "justify_items": null,
            "left": null,
            "margin": null,
            "max_height": null,
            "max_width": null,
            "min_height": null,
            "min_width": null,
            "object_fit": null,
            "object_position": null,
            "order": null,
            "overflow": null,
            "overflow_x": null,
            "overflow_y": null,
            "padding": null,
            "right": null,
            "top": null,
            "visibility": null,
            "width": null
          }
        },
        "21dc4e21e6c542d6b5861c8ca04b3425": {
          "model_module": "@jupyter-widgets/controls",
          "model_name": "DescriptionStyleModel",
          "model_module_version": "1.5.0",
          "state": {
            "_model_module": "@jupyter-widgets/controls",
            "_model_module_version": "1.5.0",
            "_model_name": "DescriptionStyleModel",
            "_view_count": null,
            "_view_module": "@jupyter-widgets/base",
            "_view_module_version": "1.2.0",
            "_view_name": "StyleView",
            "description_width": ""
          }
        },
        "81b5a2d13c60433c800ad0063b48895e": {
          "model_module": "@jupyter-widgets/controls",
          "model_name": "HBoxModel",
          "model_module_version": "1.5.0",
          "state": {
            "_dom_classes": [],
            "_model_module": "@jupyter-widgets/controls",
            "_model_module_version": "1.5.0",
            "_model_name": "HBoxModel",
            "_view_count": null,
            "_view_module": "@jupyter-widgets/controls",
            "_view_module_version": "1.5.0",
            "_view_name": "HBoxView",
            "box_style": "",
            "children": [
              "IPY_MODEL_8d5b63c0e9f74b339c7ef8229892659f",
              "IPY_MODEL_80e8c9bdc82e4bd7b69afe325f0789f6",
              "IPY_MODEL_a9df89a6c08d41e0b15f6efcbba51c3b"
            ],
            "layout": "IPY_MODEL_8109e8d4801741c79e307db4d2a9ae76"
          }
        },
        "8d5b63c0e9f74b339c7ef8229892659f": {
          "model_module": "@jupyter-widgets/controls",
          "model_name": "HTMLModel",
          "model_module_version": "1.5.0",
          "state": {
            "_dom_classes": [],
            "_model_module": "@jupyter-widgets/controls",
            "_model_module_version": "1.5.0",
            "_model_name": "HTMLModel",
            "_view_count": null,
            "_view_module": "@jupyter-widgets/controls",
            "_view_module_version": "1.5.0",
            "_view_name": "HTMLView",
            "description": "",
            "description_tooltip": null,
            "layout": "IPY_MODEL_f13aee09e83543a99e9f17806a4ddc45",
            "placeholder": "​",
            "style": "IPY_MODEL_4406e70c54aa45cb8041de36f324c92c",
            "value": "vocab.txt: 100%"
          }
        },
        "80e8c9bdc82e4bd7b69afe325f0789f6": {
          "model_module": "@jupyter-widgets/controls",
          "model_name": "FloatProgressModel",
          "model_module_version": "1.5.0",
          "state": {
            "_dom_classes": [],
            "_model_module": "@jupyter-widgets/controls",
            "_model_module_version": "1.5.0",
            "_model_name": "FloatProgressModel",
            "_view_count": null,
            "_view_module": "@jupyter-widgets/controls",
            "_view_module_version": "1.5.0",
            "_view_name": "ProgressView",
            "bar_style": "success",
            "description": "",
            "description_tooltip": null,
            "layout": "IPY_MODEL_f478d9ed7db54c388a2d80625a900067",
            "max": 213450,
            "min": 0,
            "orientation": "horizontal",
            "style": "IPY_MODEL_eebb52bbf8fe4c8d830fb791021328ce",
            "value": 213450
          }
        },
        "a9df89a6c08d41e0b15f6efcbba51c3b": {
          "model_module": "@jupyter-widgets/controls",
          "model_name": "HTMLModel",
          "model_module_version": "1.5.0",
          "state": {
            "_dom_classes": [],
            "_model_module": "@jupyter-widgets/controls",
            "_model_module_version": "1.5.0",
            "_model_name": "HTMLModel",
            "_view_count": null,
            "_view_module": "@jupyter-widgets/controls",
            "_view_module_version": "1.5.0",
            "_view_name": "HTMLView",
            "description": "",
            "description_tooltip": null,
            "layout": "IPY_MODEL_5ef65ace5b6745bbb20bbddb02b6f528",
            "placeholder": "​",
            "style": "IPY_MODEL_9a77d07811524b86af4a9af21776ad52",
            "value": " 213k/213k [00:00&lt;00:00, 1.32MB/s]"
          }
        },
        "8109e8d4801741c79e307db4d2a9ae76": {
          "model_module": "@jupyter-widgets/base",
          "model_name": "LayoutModel",
          "model_module_version": "1.2.0",
          "state": {
            "_model_module": "@jupyter-widgets/base",
            "_model_module_version": "1.2.0",
            "_model_name": "LayoutModel",
            "_view_count": null,
            "_view_module": "@jupyter-widgets/base",
            "_view_module_version": "1.2.0",
            "_view_name": "LayoutView",
            "align_content": null,
            "align_items": null,
            "align_self": null,
            "border": null,
            "bottom": null,
            "display": null,
            "flex": null,
            "flex_flow": null,
            "grid_area": null,
            "grid_auto_columns": null,
            "grid_auto_flow": null,
            "grid_auto_rows": null,
            "grid_column": null,
            "grid_gap": null,
            "grid_row": null,
            "grid_template_areas": null,
            "grid_template_columns": null,
            "grid_template_rows": null,
            "height": null,
            "justify_content": null,
            "justify_items": null,
            "left": null,
            "margin": null,
            "max_height": null,
            "max_width": null,
            "min_height": null,
            "min_width": null,
            "object_fit": null,
            "object_position": null,
            "order": null,
            "overflow": null,
            "overflow_x": null,
            "overflow_y": null,
            "padding": null,
            "right": null,
            "top": null,
            "visibility": null,
            "width": null
          }
        },
        "f13aee09e83543a99e9f17806a4ddc45": {
          "model_module": "@jupyter-widgets/base",
          "model_name": "LayoutModel",
          "model_module_version": "1.2.0",
          "state": {
            "_model_module": "@jupyter-widgets/base",
            "_model_module_version": "1.2.0",
            "_model_name": "LayoutModel",
            "_view_count": null,
            "_view_module": "@jupyter-widgets/base",
            "_view_module_version": "1.2.0",
            "_view_name": "LayoutView",
            "align_content": null,
            "align_items": null,
            "align_self": null,
            "border": null,
            "bottom": null,
            "display": null,
            "flex": null,
            "flex_flow": null,
            "grid_area": null,
            "grid_auto_columns": null,
            "grid_auto_flow": null,
            "grid_auto_rows": null,
            "grid_column": null,
            "grid_gap": null,
            "grid_row": null,
            "grid_template_areas": null,
            "grid_template_columns": null,
            "grid_template_rows": null,
            "height": null,
            "justify_content": null,
            "justify_items": null,
            "left": null,
            "margin": null,
            "max_height": null,
            "max_width": null,
            "min_height": null,
            "min_width": null,
            "object_fit": null,
            "object_position": null,
            "order": null,
            "overflow": null,
            "overflow_x": null,
            "overflow_y": null,
            "padding": null,
            "right": null,
            "top": null,
            "visibility": null,
            "width": null
          }
        },
        "4406e70c54aa45cb8041de36f324c92c": {
          "model_module": "@jupyter-widgets/controls",
          "model_name": "DescriptionStyleModel",
          "model_module_version": "1.5.0",
          "state": {
            "_model_module": "@jupyter-widgets/controls",
            "_model_module_version": "1.5.0",
            "_model_name": "DescriptionStyleModel",
            "_view_count": null,
            "_view_module": "@jupyter-widgets/base",
            "_view_module_version": "1.2.0",
            "_view_name": "StyleView",
            "description_width": ""
          }
        },
        "f478d9ed7db54c388a2d80625a900067": {
          "model_module": "@jupyter-widgets/base",
          "model_name": "LayoutModel",
          "model_module_version": "1.2.0",
          "state": {
            "_model_module": "@jupyter-widgets/base",
            "_model_module_version": "1.2.0",
            "_model_name": "LayoutModel",
            "_view_count": null,
            "_view_module": "@jupyter-widgets/base",
            "_view_module_version": "1.2.0",
            "_view_name": "LayoutView",
            "align_content": null,
            "align_items": null,
            "align_self": null,
            "border": null,
            "bottom": null,
            "display": null,
            "flex": null,
            "flex_flow": null,
            "grid_area": null,
            "grid_auto_columns": null,
            "grid_auto_flow": null,
            "grid_auto_rows": null,
            "grid_column": null,
            "grid_gap": null,
            "grid_row": null,
            "grid_template_areas": null,
            "grid_template_columns": null,
            "grid_template_rows": null,
            "height": null,
            "justify_content": null,
            "justify_items": null,
            "left": null,
            "margin": null,
            "max_height": null,
            "max_width": null,
            "min_height": null,
            "min_width": null,
            "object_fit": null,
            "object_position": null,
            "order": null,
            "overflow": null,
            "overflow_x": null,
            "overflow_y": null,
            "padding": null,
            "right": null,
            "top": null,
            "visibility": null,
            "width": null
          }
        },
        "eebb52bbf8fe4c8d830fb791021328ce": {
          "model_module": "@jupyter-widgets/controls",
          "model_name": "ProgressStyleModel",
          "model_module_version": "1.5.0",
          "state": {
            "_model_module": "@jupyter-widgets/controls",
            "_model_module_version": "1.5.0",
            "_model_name": "ProgressStyleModel",
            "_view_count": null,
            "_view_module": "@jupyter-widgets/base",
            "_view_module_version": "1.2.0",
            "_view_name": "StyleView",
            "bar_color": null,
            "description_width": ""
          }
        },
        "5ef65ace5b6745bbb20bbddb02b6f528": {
          "model_module": "@jupyter-widgets/base",
          "model_name": "LayoutModel",
          "model_module_version": "1.2.0",
          "state": {
            "_model_module": "@jupyter-widgets/base",
            "_model_module_version": "1.2.0",
            "_model_name": "LayoutModel",
            "_view_count": null,
            "_view_module": "@jupyter-widgets/base",
            "_view_module_version": "1.2.0",
            "_view_name": "LayoutView",
            "align_content": null,
            "align_items": null,
            "align_self": null,
            "border": null,
            "bottom": null,
            "display": null,
            "flex": null,
            "flex_flow": null,
            "grid_area": null,
            "grid_auto_columns": null,
            "grid_auto_flow": null,
            "grid_auto_rows": null,
            "grid_column": null,
            "grid_gap": null,
            "grid_row": null,
            "grid_template_areas": null,
            "grid_template_columns": null,
            "grid_template_rows": null,
            "height": null,
            "justify_content": null,
            "justify_items": null,
            "left": null,
            "margin": null,
            "max_height": null,
            "max_width": null,
            "min_height": null,
            "min_width": null,
            "object_fit": null,
            "object_position": null,
            "order": null,
            "overflow": null,
            "overflow_x": null,
            "overflow_y": null,
            "padding": null,
            "right": null,
            "top": null,
            "visibility": null,
            "width": null
          }
        },
        "9a77d07811524b86af4a9af21776ad52": {
          "model_module": "@jupyter-widgets/controls",
          "model_name": "DescriptionStyleModel",
          "model_module_version": "1.5.0",
          "state": {
            "_model_module": "@jupyter-widgets/controls",
            "_model_module_version": "1.5.0",
            "_model_name": "DescriptionStyleModel",
            "_view_count": null,
            "_view_module": "@jupyter-widgets/base",
            "_view_module_version": "1.2.0",
            "_view_name": "StyleView",
            "description_width": ""
          }
        },
        "b6ccc8269f28443f910a52b8839b98e3": {
          "model_module": "@jupyter-widgets/controls",
          "model_name": "HBoxModel",
          "model_module_version": "1.5.0",
          "state": {
            "_dom_classes": [],
            "_model_module": "@jupyter-widgets/controls",
            "_model_module_version": "1.5.0",
            "_model_name": "HBoxModel",
            "_view_count": null,
            "_view_module": "@jupyter-widgets/controls",
            "_view_module_version": "1.5.0",
            "_view_name": "HBoxView",
            "box_style": "",
            "children": [
              "IPY_MODEL_e874cf39f3c543a9891209b3a8f89a8e",
              "IPY_MODEL_ffe9ea3db07846e59ad05f62f457d192",
              "IPY_MODEL_a6b3ff1da2724464aaefce6a2b1238fd"
            ],
            "layout": "IPY_MODEL_4e2e4ed81eba4193bf8e3cf7bc685176"
          }
        },
        "e874cf39f3c543a9891209b3a8f89a8e": {
          "model_module": "@jupyter-widgets/controls",
          "model_name": "HTMLModel",
          "model_module_version": "1.5.0",
          "state": {
            "_dom_classes": [],
            "_model_module": "@jupyter-widgets/controls",
            "_model_module_version": "1.5.0",
            "_model_name": "HTMLModel",
            "_view_count": null,
            "_view_module": "@jupyter-widgets/controls",
            "_view_module_version": "1.5.0",
            "_view_name": "HTMLView",
            "description": "",
            "description_tooltip": null,
            "layout": "IPY_MODEL_d11b1396d3354a36a90d555f6f5d6816",
            "placeholder": "​",
            "style": "IPY_MODEL_801352ee01cf44fcb2c5b40108df48be",
            "value": "tokenizer.json: 100%"
          }
        },
        "ffe9ea3db07846e59ad05f62f457d192": {
          "model_module": "@jupyter-widgets/controls",
          "model_name": "FloatProgressModel",
          "model_module_version": "1.5.0",
          "state": {
            "_dom_classes": [],
            "_model_module": "@jupyter-widgets/controls",
            "_model_module_version": "1.5.0",
            "_model_name": "FloatProgressModel",
            "_view_count": null,
            "_view_module": "@jupyter-widgets/controls",
            "_view_module_version": "1.5.0",
            "_view_name": "ProgressView",
            "bar_style": "success",
            "description": "",
            "description_tooltip": null,
            "layout": "IPY_MODEL_6ce1951d0bbc489e83d31da2b0682dd3",
            "max": 435797,
            "min": 0,
            "orientation": "horizontal",
            "style": "IPY_MODEL_d1980867a59c4b8db6589218ec56ab37",
            "value": 435797
          }
        },
        "a6b3ff1da2724464aaefce6a2b1238fd": {
          "model_module": "@jupyter-widgets/controls",
          "model_name": "HTMLModel",
          "model_module_version": "1.5.0",
          "state": {
            "_dom_classes": [],
            "_model_module": "@jupyter-widgets/controls",
            "_model_module_version": "1.5.0",
            "_model_name": "HTMLModel",
            "_view_count": null,
            "_view_module": "@jupyter-widgets/controls",
            "_view_module_version": "1.5.0",
            "_view_name": "HTMLView",
            "description": "",
            "description_tooltip": null,
            "layout": "IPY_MODEL_6fe88614fc5d4bb9a17eb82a99f5d513",
            "placeholder": "​",
            "style": "IPY_MODEL_2f69f791d44c46c480a24c24fbd27d2a",
            "value": " 436k/436k [00:00&lt;00:00, 2.64MB/s]"
          }
        },
        "4e2e4ed81eba4193bf8e3cf7bc685176": {
          "model_module": "@jupyter-widgets/base",
          "model_name": "LayoutModel",
          "model_module_version": "1.2.0",
          "state": {
            "_model_module": "@jupyter-widgets/base",
            "_model_module_version": "1.2.0",
            "_model_name": "LayoutModel",
            "_view_count": null,
            "_view_module": "@jupyter-widgets/base",
            "_view_module_version": "1.2.0",
            "_view_name": "LayoutView",
            "align_content": null,
            "align_items": null,
            "align_self": null,
            "border": null,
            "bottom": null,
            "display": null,
            "flex": null,
            "flex_flow": null,
            "grid_area": null,
            "grid_auto_columns": null,
            "grid_auto_flow": null,
            "grid_auto_rows": null,
            "grid_column": null,
            "grid_gap": null,
            "grid_row": null,
            "grid_template_areas": null,
            "grid_template_columns": null,
            "grid_template_rows": null,
            "height": null,
            "justify_content": null,
            "justify_items": null,
            "left": null,
            "margin": null,
            "max_height": null,
            "max_width": null,
            "min_height": null,
            "min_width": null,
            "object_fit": null,
            "object_position": null,
            "order": null,
            "overflow": null,
            "overflow_x": null,
            "overflow_y": null,
            "padding": null,
            "right": null,
            "top": null,
            "visibility": null,
            "width": null
          }
        },
        "d11b1396d3354a36a90d555f6f5d6816": {
          "model_module": "@jupyter-widgets/base",
          "model_name": "LayoutModel",
          "model_module_version": "1.2.0",
          "state": {
            "_model_module": "@jupyter-widgets/base",
            "_model_module_version": "1.2.0",
            "_model_name": "LayoutModel",
            "_view_count": null,
            "_view_module": "@jupyter-widgets/base",
            "_view_module_version": "1.2.0",
            "_view_name": "LayoutView",
            "align_content": null,
            "align_items": null,
            "align_self": null,
            "border": null,
            "bottom": null,
            "display": null,
            "flex": null,
            "flex_flow": null,
            "grid_area": null,
            "grid_auto_columns": null,
            "grid_auto_flow": null,
            "grid_auto_rows": null,
            "grid_column": null,
            "grid_gap": null,
            "grid_row": null,
            "grid_template_areas": null,
            "grid_template_columns": null,
            "grid_template_rows": null,
            "height": null,
            "justify_content": null,
            "justify_items": null,
            "left": null,
            "margin": null,
            "max_height": null,
            "max_width": null,
            "min_height": null,
            "min_width": null,
            "object_fit": null,
            "object_position": null,
            "order": null,
            "overflow": null,
            "overflow_x": null,
            "overflow_y": null,
            "padding": null,
            "right": null,
            "top": null,
            "visibility": null,
            "width": null
          }
        },
        "801352ee01cf44fcb2c5b40108df48be": {
          "model_module": "@jupyter-widgets/controls",
          "model_name": "DescriptionStyleModel",
          "model_module_version": "1.5.0",
          "state": {
            "_model_module": "@jupyter-widgets/controls",
            "_model_module_version": "1.5.0",
            "_model_name": "DescriptionStyleModel",
            "_view_count": null,
            "_view_module": "@jupyter-widgets/base",
            "_view_module_version": "1.2.0",
            "_view_name": "StyleView",
            "description_width": ""
          }
        },
        "6ce1951d0bbc489e83d31da2b0682dd3": {
          "model_module": "@jupyter-widgets/base",
          "model_name": "LayoutModel",
          "model_module_version": "1.2.0",
          "state": {
            "_model_module": "@jupyter-widgets/base",
            "_model_module_version": "1.2.0",
            "_model_name": "LayoutModel",
            "_view_count": null,
            "_view_module": "@jupyter-widgets/base",
            "_view_module_version": "1.2.0",
            "_view_name": "LayoutView",
            "align_content": null,
            "align_items": null,
            "align_self": null,
            "border": null,
            "bottom": null,
            "display": null,
            "flex": null,
            "flex_flow": null,
            "grid_area": null,
            "grid_auto_columns": null,
            "grid_auto_flow": null,
            "grid_auto_rows": null,
            "grid_column": null,
            "grid_gap": null,
            "grid_row": null,
            "grid_template_areas": null,
            "grid_template_columns": null,
            "grid_template_rows": null,
            "height": null,
            "justify_content": null,
            "justify_items": null,
            "left": null,
            "margin": null,
            "max_height": null,
            "max_width": null,
            "min_height": null,
            "min_width": null,
            "object_fit": null,
            "object_position": null,
            "order": null,
            "overflow": null,
            "overflow_x": null,
            "overflow_y": null,
            "padding": null,
            "right": null,
            "top": null,
            "visibility": null,
            "width": null
          }
        },
        "d1980867a59c4b8db6589218ec56ab37": {
          "model_module": "@jupyter-widgets/controls",
          "model_name": "ProgressStyleModel",
          "model_module_version": "1.5.0",
          "state": {
            "_model_module": "@jupyter-widgets/controls",
            "_model_module_version": "1.5.0",
            "_model_name": "ProgressStyleModel",
            "_view_count": null,
            "_view_module": "@jupyter-widgets/base",
            "_view_module_version": "1.2.0",
            "_view_name": "StyleView",
            "bar_color": null,
            "description_width": ""
          }
        },
        "6fe88614fc5d4bb9a17eb82a99f5d513": {
          "model_module": "@jupyter-widgets/base",
          "model_name": "LayoutModel",
          "model_module_version": "1.2.0",
          "state": {
            "_model_module": "@jupyter-widgets/base",
            "_model_module_version": "1.2.0",
            "_model_name": "LayoutModel",
            "_view_count": null,
            "_view_module": "@jupyter-widgets/base",
            "_view_module_version": "1.2.0",
            "_view_name": "LayoutView",
            "align_content": null,
            "align_items": null,
            "align_self": null,
            "border": null,
            "bottom": null,
            "display": null,
            "flex": null,
            "flex_flow": null,
            "grid_area": null,
            "grid_auto_columns": null,
            "grid_auto_flow": null,
            "grid_auto_rows": null,
            "grid_column": null,
            "grid_gap": null,
            "grid_row": null,
            "grid_template_areas": null,
            "grid_template_columns": null,
            "grid_template_rows": null,
            "height": null,
            "justify_content": null,
            "justify_items": null,
            "left": null,
            "margin": null,
            "max_height": null,
            "max_width": null,
            "min_height": null,
            "min_width": null,
            "object_fit": null,
            "object_position": null,
            "order": null,
            "overflow": null,
            "overflow_x": null,
            "overflow_y": null,
            "padding": null,
            "right": null,
            "top": null,
            "visibility": null,
            "width": null
          }
        },
        "2f69f791d44c46c480a24c24fbd27d2a": {
          "model_module": "@jupyter-widgets/controls",
          "model_name": "DescriptionStyleModel",
          "model_module_version": "1.5.0",
          "state": {
            "_model_module": "@jupyter-widgets/controls",
            "_model_module_version": "1.5.0",
            "_model_name": "DescriptionStyleModel",
            "_view_count": null,
            "_view_module": "@jupyter-widgets/base",
            "_view_module_version": "1.2.0",
            "_view_name": "StyleView",
            "description_width": ""
          }
        },
        "27d4c58c1bfd4311a0046c4799fa5c86": {
          "model_module": "@jupyter-widgets/controls",
          "model_name": "HBoxModel",
          "model_module_version": "1.5.0",
          "state": {
            "_dom_classes": [],
            "_model_module": "@jupyter-widgets/controls",
            "_model_module_version": "1.5.0",
            "_model_name": "HBoxModel",
            "_view_count": null,
            "_view_module": "@jupyter-widgets/controls",
            "_view_module_version": "1.5.0",
            "_view_name": "HBoxView",
            "box_style": "",
            "children": [
              "IPY_MODEL_a6a13917e3874f7eb2c78ee2d3973585",
              "IPY_MODEL_b26785c75d754b69a3e9b9f26cdaf8f1",
              "IPY_MODEL_073f04caaf034ab7b081ecda4125dbdc"
            ],
            "layout": "IPY_MODEL_40c1db01578448fe8c694c02cc1c2428"
          }
        },
        "a6a13917e3874f7eb2c78ee2d3973585": {
          "model_module": "@jupyter-widgets/controls",
          "model_name": "HTMLModel",
          "model_module_version": "1.5.0",
          "state": {
            "_dom_classes": [],
            "_model_module": "@jupyter-widgets/controls",
            "_model_module_version": "1.5.0",
            "_model_name": "HTMLModel",
            "_view_count": null,
            "_view_module": "@jupyter-widgets/controls",
            "_view_module_version": "1.5.0",
            "_view_name": "HTMLView",
            "description": "",
            "description_tooltip": null,
            "layout": "IPY_MODEL_eb1b0ab56c1a4a9586857a8232fc8bfa",
            "placeholder": "​",
            "style": "IPY_MODEL_aa3b4e4099114af080c63fd5f45347fa",
            "value": "tokenizer_config.json: 100%"
          }
        },
        "b26785c75d754b69a3e9b9f26cdaf8f1": {
          "model_module": "@jupyter-widgets/controls",
          "model_name": "FloatProgressModel",
          "model_module_version": "1.5.0",
          "state": {
            "_dom_classes": [],
            "_model_module": "@jupyter-widgets/controls",
            "_model_module_version": "1.5.0",
            "_model_name": "FloatProgressModel",
            "_view_count": null,
            "_view_module": "@jupyter-widgets/controls",
            "_view_module_version": "1.5.0",
            "_view_name": "ProgressView",
            "bar_style": "success",
            "description": "",
            "description_tooltip": null,
            "layout": "IPY_MODEL_c0cdff22cf3744ca9762767e6dfa93ea",
            "max": 42,
            "min": 0,
            "orientation": "horizontal",
            "style": "IPY_MODEL_6f03b340fa73443ca764d6b7e22f5904",
            "value": 42
          }
        },
        "073f04caaf034ab7b081ecda4125dbdc": {
          "model_module": "@jupyter-widgets/controls",
          "model_name": "HTMLModel",
          "model_module_version": "1.5.0",
          "state": {
            "_dom_classes": [],
            "_model_module": "@jupyter-widgets/controls",
            "_model_module_version": "1.5.0",
            "_model_name": "HTMLModel",
            "_view_count": null,
            "_view_module": "@jupyter-widgets/controls",
            "_view_module_version": "1.5.0",
            "_view_name": "HTMLView",
            "description": "",
            "description_tooltip": null,
            "layout": "IPY_MODEL_008830c11b5b49e8aa27a91d8c1fc2b1",
            "placeholder": "​",
            "style": "IPY_MODEL_8d62f5c9e6e6448bbe9880f95421cd7f",
            "value": " 42.0/42.0 [00:00&lt;00:00, 4.05kB/s]"
          }
        },
        "40c1db01578448fe8c694c02cc1c2428": {
          "model_module": "@jupyter-widgets/base",
          "model_name": "LayoutModel",
          "model_module_version": "1.2.0",
          "state": {
            "_model_module": "@jupyter-widgets/base",
            "_model_module_version": "1.2.0",
            "_model_name": "LayoutModel",
            "_view_count": null,
            "_view_module": "@jupyter-widgets/base",
            "_view_module_version": "1.2.0",
            "_view_name": "LayoutView",
            "align_content": null,
            "align_items": null,
            "align_self": null,
            "border": null,
            "bottom": null,
            "display": null,
            "flex": null,
            "flex_flow": null,
            "grid_area": null,
            "grid_auto_columns": null,
            "grid_auto_flow": null,
            "grid_auto_rows": null,
            "grid_column": null,
            "grid_gap": null,
            "grid_row": null,
            "grid_template_areas": null,
            "grid_template_columns": null,
            "grid_template_rows": null,
            "height": null,
            "justify_content": null,
            "justify_items": null,
            "left": null,
            "margin": null,
            "max_height": null,
            "max_width": null,
            "min_height": null,
            "min_width": null,
            "object_fit": null,
            "object_position": null,
            "order": null,
            "overflow": null,
            "overflow_x": null,
            "overflow_y": null,
            "padding": null,
            "right": null,
            "top": null,
            "visibility": null,
            "width": null
          }
        },
        "eb1b0ab56c1a4a9586857a8232fc8bfa": {
          "model_module": "@jupyter-widgets/base",
          "model_name": "LayoutModel",
          "model_module_version": "1.2.0",
          "state": {
            "_model_module": "@jupyter-widgets/base",
            "_model_module_version": "1.2.0",
            "_model_name": "LayoutModel",
            "_view_count": null,
            "_view_module": "@jupyter-widgets/base",
            "_view_module_version": "1.2.0",
            "_view_name": "LayoutView",
            "align_content": null,
            "align_items": null,
            "align_self": null,
            "border": null,
            "bottom": null,
            "display": null,
            "flex": null,
            "flex_flow": null,
            "grid_area": null,
            "grid_auto_columns": null,
            "grid_auto_flow": null,
            "grid_auto_rows": null,
            "grid_column": null,
            "grid_gap": null,
            "grid_row": null,
            "grid_template_areas": null,
            "grid_template_columns": null,
            "grid_template_rows": null,
            "height": null,
            "justify_content": null,
            "justify_items": null,
            "left": null,
            "margin": null,
            "max_height": null,
            "max_width": null,
            "min_height": null,
            "min_width": null,
            "object_fit": null,
            "object_position": null,
            "order": null,
            "overflow": null,
            "overflow_x": null,
            "overflow_y": null,
            "padding": null,
            "right": null,
            "top": null,
            "visibility": null,
            "width": null
          }
        },
        "aa3b4e4099114af080c63fd5f45347fa": {
          "model_module": "@jupyter-widgets/controls",
          "model_name": "DescriptionStyleModel",
          "model_module_version": "1.5.0",
          "state": {
            "_model_module": "@jupyter-widgets/controls",
            "_model_module_version": "1.5.0",
            "_model_name": "DescriptionStyleModel",
            "_view_count": null,
            "_view_module": "@jupyter-widgets/base",
            "_view_module_version": "1.2.0",
            "_view_name": "StyleView",
            "description_width": ""
          }
        },
        "c0cdff22cf3744ca9762767e6dfa93ea": {
          "model_module": "@jupyter-widgets/base",
          "model_name": "LayoutModel",
          "model_module_version": "1.2.0",
          "state": {
            "_model_module": "@jupyter-widgets/base",
            "_model_module_version": "1.2.0",
            "_model_name": "LayoutModel",
            "_view_count": null,
            "_view_module": "@jupyter-widgets/base",
            "_view_module_version": "1.2.0",
            "_view_name": "LayoutView",
            "align_content": null,
            "align_items": null,
            "align_self": null,
            "border": null,
            "bottom": null,
            "display": null,
            "flex": null,
            "flex_flow": null,
            "grid_area": null,
            "grid_auto_columns": null,
            "grid_auto_flow": null,
            "grid_auto_rows": null,
            "grid_column": null,
            "grid_gap": null,
            "grid_row": null,
            "grid_template_areas": null,
            "grid_template_columns": null,
            "grid_template_rows": null,
            "height": null,
            "justify_content": null,
            "justify_items": null,
            "left": null,
            "margin": null,
            "max_height": null,
            "max_width": null,
            "min_height": null,
            "min_width": null,
            "object_fit": null,
            "object_position": null,
            "order": null,
            "overflow": null,
            "overflow_x": null,
            "overflow_y": null,
            "padding": null,
            "right": null,
            "top": null,
            "visibility": null,
            "width": null
          }
        },
        "6f03b340fa73443ca764d6b7e22f5904": {
          "model_module": "@jupyter-widgets/controls",
          "model_name": "ProgressStyleModel",
          "model_module_version": "1.5.0",
          "state": {
            "_model_module": "@jupyter-widgets/controls",
            "_model_module_version": "1.5.0",
            "_model_name": "ProgressStyleModel",
            "_view_count": null,
            "_view_module": "@jupyter-widgets/base",
            "_view_module_version": "1.2.0",
            "_view_name": "StyleView",
            "bar_color": null,
            "description_width": ""
          }
        },
        "008830c11b5b49e8aa27a91d8c1fc2b1": {
          "model_module": "@jupyter-widgets/base",
          "model_name": "LayoutModel",
          "model_module_version": "1.2.0",
          "state": {
            "_model_module": "@jupyter-widgets/base",
            "_model_module_version": "1.2.0",
            "_model_name": "LayoutModel",
            "_view_count": null,
            "_view_module": "@jupyter-widgets/base",
            "_view_module_version": "1.2.0",
            "_view_name": "LayoutView",
            "align_content": null,
            "align_items": null,
            "align_self": null,
            "border": null,
            "bottom": null,
            "display": null,
            "flex": null,
            "flex_flow": null,
            "grid_area": null,
            "grid_auto_columns": null,
            "grid_auto_flow": null,
            "grid_auto_rows": null,
            "grid_column": null,
            "grid_gap": null,
            "grid_row": null,
            "grid_template_areas": null,
            "grid_template_columns": null,
            "grid_template_rows": null,
            "height": null,
            "justify_content": null,
            "justify_items": null,
            "left": null,
            "margin": null,
            "max_height": null,
            "max_width": null,
            "min_height": null,
            "min_width": null,
            "object_fit": null,
            "object_position": null,
            "order": null,
            "overflow": null,
            "overflow_x": null,
            "overflow_y": null,
            "padding": null,
            "right": null,
            "top": null,
            "visibility": null,
            "width": null
          }
        },
        "8d62f5c9e6e6448bbe9880f95421cd7f": {
          "model_module": "@jupyter-widgets/controls",
          "model_name": "DescriptionStyleModel",
          "model_module_version": "1.5.0",
          "state": {
            "_model_module": "@jupyter-widgets/controls",
            "_model_module_version": "1.5.0",
            "_model_name": "DescriptionStyleModel",
            "_view_count": null,
            "_view_module": "@jupyter-widgets/base",
            "_view_module_version": "1.2.0",
            "_view_name": "StyleView",
            "description_width": ""
          }
        },
        "1802bd7c86784da5893b1e609de918ef": {
          "model_module": "@jupyter-widgets/controls",
          "model_name": "HBoxModel",
          "model_module_version": "1.5.0",
          "state": {
            "_dom_classes": [],
            "_model_module": "@jupyter-widgets/controls",
            "_model_module_version": "1.5.0",
            "_model_name": "HBoxModel",
            "_view_count": null,
            "_view_module": "@jupyter-widgets/controls",
            "_view_module_version": "1.5.0",
            "_view_name": "HBoxView",
            "box_style": "",
            "children": [
              "IPY_MODEL_66ad98ae47bf49f5841a1c138cdb0fe6",
              "IPY_MODEL_198f81f7538a42ac83784803fc9d8ff1",
              "IPY_MODEL_bc0b84f6c20e46208bcf22547fc3acbe"
            ],
            "layout": "IPY_MODEL_fa2507abc7fc457b910735ac3bcb12cb"
          }
        },
        "66ad98ae47bf49f5841a1c138cdb0fe6": {
          "model_module": "@jupyter-widgets/controls",
          "model_name": "HTMLModel",
          "model_module_version": "1.5.0",
          "state": {
            "_dom_classes": [],
            "_model_module": "@jupyter-widgets/controls",
            "_model_module_version": "1.5.0",
            "_model_name": "HTMLModel",
            "_view_count": null,
            "_view_module": "@jupyter-widgets/controls",
            "_view_module_version": "1.5.0",
            "_view_name": "HTMLView",
            "description": "",
            "description_tooltip": null,
            "layout": "IPY_MODEL_633aa2c9cad2425bb9cfcc7ecdd50d15",
            "placeholder": "​",
            "style": "IPY_MODEL_b01548733a004f118f51d8a95c1366ab",
            "value": "source.spm: 100%"
          }
        },
        "198f81f7538a42ac83784803fc9d8ff1": {
          "model_module": "@jupyter-widgets/controls",
          "model_name": "FloatProgressModel",
          "model_module_version": "1.5.0",
          "state": {
            "_dom_classes": [],
            "_model_module": "@jupyter-widgets/controls",
            "_model_module_version": "1.5.0",
            "_model_name": "FloatProgressModel",
            "_view_count": null,
            "_view_module": "@jupyter-widgets/controls",
            "_view_module_version": "1.5.0",
            "_view_name": "ProgressView",
            "bar_style": "success",
            "description": "",
            "description_tooltip": null,
            "layout": "IPY_MODEL_c1b0b630052d4cf4b539539c636f60b4",
            "max": 789468,
            "min": 0,
            "orientation": "horizontal",
            "style": "IPY_MODEL_9d7a2a4b35634aeea310e999296d8e6e",
            "value": 789468
          }
        },
        "bc0b84f6c20e46208bcf22547fc3acbe": {
          "model_module": "@jupyter-widgets/controls",
          "model_name": "HTMLModel",
          "model_module_version": "1.5.0",
          "state": {
            "_dom_classes": [],
            "_model_module": "@jupyter-widgets/controls",
            "_model_module_version": "1.5.0",
            "_model_name": "HTMLModel",
            "_view_count": null,
            "_view_module": "@jupyter-widgets/controls",
            "_view_module_version": "1.5.0",
            "_view_name": "HTMLView",
            "description": "",
            "description_tooltip": null,
            "layout": "IPY_MODEL_55118eec9a4642689256d8266572d21d",
            "placeholder": "​",
            "style": "IPY_MODEL_041c7ab4f5f74500a49bfe975bb47126",
            "value": " 789k/789k [00:00&lt;00:00, 50.8MB/s]"
          }
        },
        "fa2507abc7fc457b910735ac3bcb12cb": {
          "model_module": "@jupyter-widgets/base",
          "model_name": "LayoutModel",
          "model_module_version": "1.2.0",
          "state": {
            "_model_module": "@jupyter-widgets/base",
            "_model_module_version": "1.2.0",
            "_model_name": "LayoutModel",
            "_view_count": null,
            "_view_module": "@jupyter-widgets/base",
            "_view_module_version": "1.2.0",
            "_view_name": "LayoutView",
            "align_content": null,
            "align_items": null,
            "align_self": null,
            "border": null,
            "bottom": null,
            "display": null,
            "flex": null,
            "flex_flow": null,
            "grid_area": null,
            "grid_auto_columns": null,
            "grid_auto_flow": null,
            "grid_auto_rows": null,
            "grid_column": null,
            "grid_gap": null,
            "grid_row": null,
            "grid_template_areas": null,
            "grid_template_columns": null,
            "grid_template_rows": null,
            "height": null,
            "justify_content": null,
            "justify_items": null,
            "left": null,
            "margin": null,
            "max_height": null,
            "max_width": null,
            "min_height": null,
            "min_width": null,
            "object_fit": null,
            "object_position": null,
            "order": null,
            "overflow": null,
            "overflow_x": null,
            "overflow_y": null,
            "padding": null,
            "right": null,
            "top": null,
            "visibility": null,
            "width": null
          }
        },
        "633aa2c9cad2425bb9cfcc7ecdd50d15": {
          "model_module": "@jupyter-widgets/base",
          "model_name": "LayoutModel",
          "model_module_version": "1.2.0",
          "state": {
            "_model_module": "@jupyter-widgets/base",
            "_model_module_version": "1.2.0",
            "_model_name": "LayoutModel",
            "_view_count": null,
            "_view_module": "@jupyter-widgets/base",
            "_view_module_version": "1.2.0",
            "_view_name": "LayoutView",
            "align_content": null,
            "align_items": null,
            "align_self": null,
            "border": null,
            "bottom": null,
            "display": null,
            "flex": null,
            "flex_flow": null,
            "grid_area": null,
            "grid_auto_columns": null,
            "grid_auto_flow": null,
            "grid_auto_rows": null,
            "grid_column": null,
            "grid_gap": null,
            "grid_row": null,
            "grid_template_areas": null,
            "grid_template_columns": null,
            "grid_template_rows": null,
            "height": null,
            "justify_content": null,
            "justify_items": null,
            "left": null,
            "margin": null,
            "max_height": null,
            "max_width": null,
            "min_height": null,
            "min_width": null,
            "object_fit": null,
            "object_position": null,
            "order": null,
            "overflow": null,
            "overflow_x": null,
            "overflow_y": null,
            "padding": null,
            "right": null,
            "top": null,
            "visibility": null,
            "width": null
          }
        },
        "b01548733a004f118f51d8a95c1366ab": {
          "model_module": "@jupyter-widgets/controls",
          "model_name": "DescriptionStyleModel",
          "model_module_version": "1.5.0",
          "state": {
            "_model_module": "@jupyter-widgets/controls",
            "_model_module_version": "1.5.0",
            "_model_name": "DescriptionStyleModel",
            "_view_count": null,
            "_view_module": "@jupyter-widgets/base",
            "_view_module_version": "1.2.0",
            "_view_name": "StyleView",
            "description_width": ""
          }
        },
        "c1b0b630052d4cf4b539539c636f60b4": {
          "model_module": "@jupyter-widgets/base",
          "model_name": "LayoutModel",
          "model_module_version": "1.2.0",
          "state": {
            "_model_module": "@jupyter-widgets/base",
            "_model_module_version": "1.2.0",
            "_model_name": "LayoutModel",
            "_view_count": null,
            "_view_module": "@jupyter-widgets/base",
            "_view_module_version": "1.2.0",
            "_view_name": "LayoutView",
            "align_content": null,
            "align_items": null,
            "align_self": null,
            "border": null,
            "bottom": null,
            "display": null,
            "flex": null,
            "flex_flow": null,
            "grid_area": null,
            "grid_auto_columns": null,
            "grid_auto_flow": null,
            "grid_auto_rows": null,
            "grid_column": null,
            "grid_gap": null,
            "grid_row": null,
            "grid_template_areas": null,
            "grid_template_columns": null,
            "grid_template_rows": null,
            "height": null,
            "justify_content": null,
            "justify_items": null,
            "left": null,
            "margin": null,
            "max_height": null,
            "max_width": null,
            "min_height": null,
            "min_width": null,
            "object_fit": null,
            "object_position": null,
            "order": null,
            "overflow": null,
            "overflow_x": null,
            "overflow_y": null,
            "padding": null,
            "right": null,
            "top": null,
            "visibility": null,
            "width": null
          }
        },
        "9d7a2a4b35634aeea310e999296d8e6e": {
          "model_module": "@jupyter-widgets/controls",
          "model_name": "ProgressStyleModel",
          "model_module_version": "1.5.0",
          "state": {
            "_model_module": "@jupyter-widgets/controls",
            "_model_module_version": "1.5.0",
            "_model_name": "ProgressStyleModel",
            "_view_count": null,
            "_view_module": "@jupyter-widgets/base",
            "_view_module_version": "1.2.0",
            "_view_name": "StyleView",
            "bar_color": null,
            "description_width": ""
          }
        },
        "55118eec9a4642689256d8266572d21d": {
          "model_module": "@jupyter-widgets/base",
          "model_name": "LayoutModel",
          "model_module_version": "1.2.0",
          "state": {
            "_model_module": "@jupyter-widgets/base",
            "_model_module_version": "1.2.0",
            "_model_name": "LayoutModel",
            "_view_count": null,
            "_view_module": "@jupyter-widgets/base",
            "_view_module_version": "1.2.0",
            "_view_name": "LayoutView",
            "align_content": null,
            "align_items": null,
            "align_self": null,
            "border": null,
            "bottom": null,
            "display": null,
            "flex": null,
            "flex_flow": null,
            "grid_area": null,
            "grid_auto_columns": null,
            "grid_auto_flow": null,
            "grid_auto_rows": null,
            "grid_column": null,
            "grid_gap": null,
            "grid_row": null,
            "grid_template_areas": null,
            "grid_template_columns": null,
            "grid_template_rows": null,
            "height": null,
            "justify_content": null,
            "justify_items": null,
            "left": null,
            "margin": null,
            "max_height": null,
            "max_width": null,
            "min_height": null,
            "min_width": null,
            "object_fit": null,
            "object_position": null,
            "order": null,
            "overflow": null,
            "overflow_x": null,
            "overflow_y": null,
            "padding": null,
            "right": null,
            "top": null,
            "visibility": null,
            "width": null
          }
        },
        "041c7ab4f5f74500a49bfe975bb47126": {
          "model_module": "@jupyter-widgets/controls",
          "model_name": "DescriptionStyleModel",
          "model_module_version": "1.5.0",
          "state": {
            "_model_module": "@jupyter-widgets/controls",
            "_model_module_version": "1.5.0",
            "_model_name": "DescriptionStyleModel",
            "_view_count": null,
            "_view_module": "@jupyter-widgets/base",
            "_view_module_version": "1.2.0",
            "_view_name": "StyleView",
            "description_width": ""
          }
        },
        "f1b0f32cf9ee42d3a9b60b050d79e7c9": {
          "model_module": "@jupyter-widgets/controls",
          "model_name": "HBoxModel",
          "model_module_version": "1.5.0",
          "state": {
            "_dom_classes": [],
            "_model_module": "@jupyter-widgets/controls",
            "_model_module_version": "1.5.0",
            "_model_name": "HBoxModel",
            "_view_count": null,
            "_view_module": "@jupyter-widgets/controls",
            "_view_module_version": "1.5.0",
            "_view_name": "HBoxView",
            "box_style": "",
            "children": [
              "IPY_MODEL_993e19233ca84f88916901f7c8286b59",
              "IPY_MODEL_96fc99b603ec4375819e693f2be08083",
              "IPY_MODEL_b8e99969254e43a0bcf564dcfd8b2e41"
            ],
            "layout": "IPY_MODEL_4b8f241a02a1440fbb227c41ee23eb12"
          }
        },
        "993e19233ca84f88916901f7c8286b59": {
          "model_module": "@jupyter-widgets/controls",
          "model_name": "HTMLModel",
          "model_module_version": "1.5.0",
          "state": {
            "_dom_classes": [],
            "_model_module": "@jupyter-widgets/controls",
            "_model_module_version": "1.5.0",
            "_model_name": "HTMLModel",
            "_view_count": null,
            "_view_module": "@jupyter-widgets/controls",
            "_view_module_version": "1.5.0",
            "_view_name": "HTMLView",
            "description": "",
            "description_tooltip": null,
            "layout": "IPY_MODEL_f824833079064ab3aa0ae0f9b6d74beb",
            "placeholder": "​",
            "style": "IPY_MODEL_a08bd729fd524311bf1d2478aa04f52e",
            "value": "target.spm: 100%"
          }
        },
        "96fc99b603ec4375819e693f2be08083": {
          "model_module": "@jupyter-widgets/controls",
          "model_name": "FloatProgressModel",
          "model_module_version": "1.5.0",
          "state": {
            "_dom_classes": [],
            "_model_module": "@jupyter-widgets/controls",
            "_model_module_version": "1.5.0",
            "_model_name": "FloatProgressModel",
            "_view_count": null,
            "_view_module": "@jupyter-widgets/controls",
            "_view_module_version": "1.5.0",
            "_view_name": "ProgressView",
            "bar_style": "success",
            "description": "",
            "description_tooltip": null,
            "layout": "IPY_MODEL_bc00ea330a6a4fa1828216d163f9fc30",
            "max": 813725,
            "min": 0,
            "orientation": "horizontal",
            "style": "IPY_MODEL_e37956cf986240be90ad0350e3b0964b",
            "value": 813725
          }
        },
        "b8e99969254e43a0bcf564dcfd8b2e41": {
          "model_module": "@jupyter-widgets/controls",
          "model_name": "HTMLModel",
          "model_module_version": "1.5.0",
          "state": {
            "_dom_classes": [],
            "_model_module": "@jupyter-widgets/controls",
            "_model_module_version": "1.5.0",
            "_model_name": "HTMLModel",
            "_view_count": null,
            "_view_module": "@jupyter-widgets/controls",
            "_view_module_version": "1.5.0",
            "_view_name": "HTMLView",
            "description": "",
            "description_tooltip": null,
            "layout": "IPY_MODEL_94e049e54a0140058ad774b28eb25bc6",
            "placeholder": "​",
            "style": "IPY_MODEL_69697fdf6d6b406dabcc344bbfdc83f5",
            "value": " 814k/814k [00:00&lt;00:00, 72.0MB/s]"
          }
        },
        "4b8f241a02a1440fbb227c41ee23eb12": {
          "model_module": "@jupyter-widgets/base",
          "model_name": "LayoutModel",
          "model_module_version": "1.2.0",
          "state": {
            "_model_module": "@jupyter-widgets/base",
            "_model_module_version": "1.2.0",
            "_model_name": "LayoutModel",
            "_view_count": null,
            "_view_module": "@jupyter-widgets/base",
            "_view_module_version": "1.2.0",
            "_view_name": "LayoutView",
            "align_content": null,
            "align_items": null,
            "align_self": null,
            "border": null,
            "bottom": null,
            "display": null,
            "flex": null,
            "flex_flow": null,
            "grid_area": null,
            "grid_auto_columns": null,
            "grid_auto_flow": null,
            "grid_auto_rows": null,
            "grid_column": null,
            "grid_gap": null,
            "grid_row": null,
            "grid_template_areas": null,
            "grid_template_columns": null,
            "grid_template_rows": null,
            "height": null,
            "justify_content": null,
            "justify_items": null,
            "left": null,
            "margin": null,
            "max_height": null,
            "max_width": null,
            "min_height": null,
            "min_width": null,
            "object_fit": null,
            "object_position": null,
            "order": null,
            "overflow": null,
            "overflow_x": null,
            "overflow_y": null,
            "padding": null,
            "right": null,
            "top": null,
            "visibility": null,
            "width": null
          }
        },
        "f824833079064ab3aa0ae0f9b6d74beb": {
          "model_module": "@jupyter-widgets/base",
          "model_name": "LayoutModel",
          "model_module_version": "1.2.0",
          "state": {
            "_model_module": "@jupyter-widgets/base",
            "_model_module_version": "1.2.0",
            "_model_name": "LayoutModel",
            "_view_count": null,
            "_view_module": "@jupyter-widgets/base",
            "_view_module_version": "1.2.0",
            "_view_name": "LayoutView",
            "align_content": null,
            "align_items": null,
            "align_self": null,
            "border": null,
            "bottom": null,
            "display": null,
            "flex": null,
            "flex_flow": null,
            "grid_area": null,
            "grid_auto_columns": null,
            "grid_auto_flow": null,
            "grid_auto_rows": null,
            "grid_column": null,
            "grid_gap": null,
            "grid_row": null,
            "grid_template_areas": null,
            "grid_template_columns": null,
            "grid_template_rows": null,
            "height": null,
            "justify_content": null,
            "justify_items": null,
            "left": null,
            "margin": null,
            "max_height": null,
            "max_width": null,
            "min_height": null,
            "min_width": null,
            "object_fit": null,
            "object_position": null,
            "order": null,
            "overflow": null,
            "overflow_x": null,
            "overflow_y": null,
            "padding": null,
            "right": null,
            "top": null,
            "visibility": null,
            "width": null
          }
        },
        "a08bd729fd524311bf1d2478aa04f52e": {
          "model_module": "@jupyter-widgets/controls",
          "model_name": "DescriptionStyleModel",
          "model_module_version": "1.5.0",
          "state": {
            "_model_module": "@jupyter-widgets/controls",
            "_model_module_version": "1.5.0",
            "_model_name": "DescriptionStyleModel",
            "_view_count": null,
            "_view_module": "@jupyter-widgets/base",
            "_view_module_version": "1.2.0",
            "_view_name": "StyleView",
            "description_width": ""
          }
        },
        "bc00ea330a6a4fa1828216d163f9fc30": {
          "model_module": "@jupyter-widgets/base",
          "model_name": "LayoutModel",
          "model_module_version": "1.2.0",
          "state": {
            "_model_module": "@jupyter-widgets/base",
            "_model_module_version": "1.2.0",
            "_model_name": "LayoutModel",
            "_view_count": null,
            "_view_module": "@jupyter-widgets/base",
            "_view_module_version": "1.2.0",
            "_view_name": "LayoutView",
            "align_content": null,
            "align_items": null,
            "align_self": null,
            "border": null,
            "bottom": null,
            "display": null,
            "flex": null,
            "flex_flow": null,
            "grid_area": null,
            "grid_auto_columns": null,
            "grid_auto_flow": null,
            "grid_auto_rows": null,
            "grid_column": null,
            "grid_gap": null,
            "grid_row": null,
            "grid_template_areas": null,
            "grid_template_columns": null,
            "grid_template_rows": null,
            "height": null,
            "justify_content": null,
            "justify_items": null,
            "left": null,
            "margin": null,
            "max_height": null,
            "max_width": null,
            "min_height": null,
            "min_width": null,
            "object_fit": null,
            "object_position": null,
            "order": null,
            "overflow": null,
            "overflow_x": null,
            "overflow_y": null,
            "padding": null,
            "right": null,
            "top": null,
            "visibility": null,
            "width": null
          }
        },
        "e37956cf986240be90ad0350e3b0964b": {
          "model_module": "@jupyter-widgets/controls",
          "model_name": "ProgressStyleModel",
          "model_module_version": "1.5.0",
          "state": {
            "_model_module": "@jupyter-widgets/controls",
            "_model_module_version": "1.5.0",
            "_model_name": "ProgressStyleModel",
            "_view_count": null,
            "_view_module": "@jupyter-widgets/base",
            "_view_module_version": "1.2.0",
            "_view_name": "StyleView",
            "bar_color": null,
            "description_width": ""
          }
        },
        "94e049e54a0140058ad774b28eb25bc6": {
          "model_module": "@jupyter-widgets/base",
          "model_name": "LayoutModel",
          "model_module_version": "1.2.0",
          "state": {
            "_model_module": "@jupyter-widgets/base",
            "_model_module_version": "1.2.0",
            "_model_name": "LayoutModel",
            "_view_count": null,
            "_view_module": "@jupyter-widgets/base",
            "_view_module_version": "1.2.0",
            "_view_name": "LayoutView",
            "align_content": null,
            "align_items": null,
            "align_self": null,
            "border": null,
            "bottom": null,
            "display": null,
            "flex": null,
            "flex_flow": null,
            "grid_area": null,
            "grid_auto_columns": null,
            "grid_auto_flow": null,
            "grid_auto_rows": null,
            "grid_column": null,
            "grid_gap": null,
            "grid_row": null,
            "grid_template_areas": null,
            "grid_template_columns": null,
            "grid_template_rows": null,
            "height": null,
            "justify_content": null,
            "justify_items": null,
            "left": null,
            "margin": null,
            "max_height": null,
            "max_width": null,
            "min_height": null,
            "min_width": null,
            "object_fit": null,
            "object_position": null,
            "order": null,
            "overflow": null,
            "overflow_x": null,
            "overflow_y": null,
            "padding": null,
            "right": null,
            "top": null,
            "visibility": null,
            "width": null
          }
        },
        "69697fdf6d6b406dabcc344bbfdc83f5": {
          "model_module": "@jupyter-widgets/controls",
          "model_name": "DescriptionStyleModel",
          "model_module_version": "1.5.0",
          "state": {
            "_model_module": "@jupyter-widgets/controls",
            "_model_module_version": "1.5.0",
            "_model_name": "DescriptionStyleModel",
            "_view_count": null,
            "_view_module": "@jupyter-widgets/base",
            "_view_module_version": "1.2.0",
            "_view_name": "StyleView",
            "description_width": ""
          }
        },
        "0f74b2e62c674a00b868c8fd40b21292": {
          "model_module": "@jupyter-widgets/controls",
          "model_name": "HBoxModel",
          "model_module_version": "1.5.0",
          "state": {
            "_dom_classes": [],
            "_model_module": "@jupyter-widgets/controls",
            "_model_module_version": "1.5.0",
            "_model_name": "HBoxModel",
            "_view_count": null,
            "_view_module": "@jupyter-widgets/controls",
            "_view_module_version": "1.5.0",
            "_view_name": "HBoxView",
            "box_style": "",
            "children": [
              "IPY_MODEL_e5bf0a9a05d54dfa81fa160965a776f3",
              "IPY_MODEL_b77f20ac32bf422da879e854b188e47c",
              "IPY_MODEL_81bc6ab9e1f14feabc6d221772b6a338"
            ],
            "layout": "IPY_MODEL_60ac9b49b386405d80ed3d307c59b2f5"
          }
        },
        "e5bf0a9a05d54dfa81fa160965a776f3": {
          "model_module": "@jupyter-widgets/controls",
          "model_name": "HTMLModel",
          "model_module_version": "1.5.0",
          "state": {
            "_dom_classes": [],
            "_model_module": "@jupyter-widgets/controls",
            "_model_module_version": "1.5.0",
            "_model_name": "HTMLModel",
            "_view_count": null,
            "_view_module": "@jupyter-widgets/controls",
            "_view_module_version": "1.5.0",
            "_view_name": "HTMLView",
            "description": "",
            "description_tooltip": null,
            "layout": "IPY_MODEL_b7d43badfabb4915ba2c926d70dc6f24",
            "placeholder": "​",
            "style": "IPY_MODEL_7cb7f3736a804aaf9fe7bb6d62f918b3",
            "value": "vocab.json: "
          }
        },
        "b77f20ac32bf422da879e854b188e47c": {
          "model_module": "@jupyter-widgets/controls",
          "model_name": "FloatProgressModel",
          "model_module_version": "1.5.0",
          "state": {
            "_dom_classes": [],
            "_model_module": "@jupyter-widgets/controls",
            "_model_module_version": "1.5.0",
            "_model_name": "FloatProgressModel",
            "_view_count": null,
            "_view_module": "@jupyter-widgets/controls",
            "_view_module_version": "1.5.0",
            "_view_name": "ProgressView",
            "bar_style": "success",
            "description": "",
            "description_tooltip": null,
            "layout": "IPY_MODEL_076fafe267ee4d7ca63846eb4e1f0924",
            "max": 1,
            "min": 0,
            "orientation": "horizontal",
            "style": "IPY_MODEL_846d2768bab84ec7bc05ca951499a776",
            "value": 1
          }
        },
        "81bc6ab9e1f14feabc6d221772b6a338": {
          "model_module": "@jupyter-widgets/controls",
          "model_name": "HTMLModel",
          "model_module_version": "1.5.0",
          "state": {
            "_dom_classes": [],
            "_model_module": "@jupyter-widgets/controls",
            "_model_module_version": "1.5.0",
            "_model_name": "HTMLModel",
            "_view_count": null,
            "_view_module": "@jupyter-widgets/controls",
            "_view_module_version": "1.5.0",
            "_view_name": "HTMLView",
            "description": "",
            "description_tooltip": null,
            "layout": "IPY_MODEL_536bf60abeb14999a2d3784cd7f102ee",
            "placeholder": "​",
            "style": "IPY_MODEL_4a80ee6c435649f0ba09098e71388b7e",
            "value": " 2.35M/? [00:00&lt;00:00, 64.2MB/s]"
          }
        },
        "60ac9b49b386405d80ed3d307c59b2f5": {
          "model_module": "@jupyter-widgets/base",
          "model_name": "LayoutModel",
          "model_module_version": "1.2.0",
          "state": {
            "_model_module": "@jupyter-widgets/base",
            "_model_module_version": "1.2.0",
            "_model_name": "LayoutModel",
            "_view_count": null,
            "_view_module": "@jupyter-widgets/base",
            "_view_module_version": "1.2.0",
            "_view_name": "LayoutView",
            "align_content": null,
            "align_items": null,
            "align_self": null,
            "border": null,
            "bottom": null,
            "display": null,
            "flex": null,
            "flex_flow": null,
            "grid_area": null,
            "grid_auto_columns": null,
            "grid_auto_flow": null,
            "grid_auto_rows": null,
            "grid_column": null,
            "grid_gap": null,
            "grid_row": null,
            "grid_template_areas": null,
            "grid_template_columns": null,
            "grid_template_rows": null,
            "height": null,
            "justify_content": null,
            "justify_items": null,
            "left": null,
            "margin": null,
            "max_height": null,
            "max_width": null,
            "min_height": null,
            "min_width": null,
            "object_fit": null,
            "object_position": null,
            "order": null,
            "overflow": null,
            "overflow_x": null,
            "overflow_y": null,
            "padding": null,
            "right": null,
            "top": null,
            "visibility": null,
            "width": null
          }
        },
        "b7d43badfabb4915ba2c926d70dc6f24": {
          "model_module": "@jupyter-widgets/base",
          "model_name": "LayoutModel",
          "model_module_version": "1.2.0",
          "state": {
            "_model_module": "@jupyter-widgets/base",
            "_model_module_version": "1.2.0",
            "_model_name": "LayoutModel",
            "_view_count": null,
            "_view_module": "@jupyter-widgets/base",
            "_view_module_version": "1.2.0",
            "_view_name": "LayoutView",
            "align_content": null,
            "align_items": null,
            "align_self": null,
            "border": null,
            "bottom": null,
            "display": null,
            "flex": null,
            "flex_flow": null,
            "grid_area": null,
            "grid_auto_columns": null,
            "grid_auto_flow": null,
            "grid_auto_rows": null,
            "grid_column": null,
            "grid_gap": null,
            "grid_row": null,
            "grid_template_areas": null,
            "grid_template_columns": null,
            "grid_template_rows": null,
            "height": null,
            "justify_content": null,
            "justify_items": null,
            "left": null,
            "margin": null,
            "max_height": null,
            "max_width": null,
            "min_height": null,
            "min_width": null,
            "object_fit": null,
            "object_position": null,
            "order": null,
            "overflow": null,
            "overflow_x": null,
            "overflow_y": null,
            "padding": null,
            "right": null,
            "top": null,
            "visibility": null,
            "width": null
          }
        },
        "7cb7f3736a804aaf9fe7bb6d62f918b3": {
          "model_module": "@jupyter-widgets/controls",
          "model_name": "DescriptionStyleModel",
          "model_module_version": "1.5.0",
          "state": {
            "_model_module": "@jupyter-widgets/controls",
            "_model_module_version": "1.5.0",
            "_model_name": "DescriptionStyleModel",
            "_view_count": null,
            "_view_module": "@jupyter-widgets/base",
            "_view_module_version": "1.2.0",
            "_view_name": "StyleView",
            "description_width": ""
          }
        },
        "076fafe267ee4d7ca63846eb4e1f0924": {
          "model_module": "@jupyter-widgets/base",
          "model_name": "LayoutModel",
          "model_module_version": "1.2.0",
          "state": {
            "_model_module": "@jupyter-widgets/base",
            "_model_module_version": "1.2.0",
            "_model_name": "LayoutModel",
            "_view_count": null,
            "_view_module": "@jupyter-widgets/base",
            "_view_module_version": "1.2.0",
            "_view_name": "LayoutView",
            "align_content": null,
            "align_items": null,
            "align_self": null,
            "border": null,
            "bottom": null,
            "display": null,
            "flex": null,
            "flex_flow": null,
            "grid_area": null,
            "grid_auto_columns": null,
            "grid_auto_flow": null,
            "grid_auto_rows": null,
            "grid_column": null,
            "grid_gap": null,
            "grid_row": null,
            "grid_template_areas": null,
            "grid_template_columns": null,
            "grid_template_rows": null,
            "height": null,
            "justify_content": null,
            "justify_items": null,
            "left": null,
            "margin": null,
            "max_height": null,
            "max_width": null,
            "min_height": null,
            "min_width": null,
            "object_fit": null,
            "object_position": null,
            "order": null,
            "overflow": null,
            "overflow_x": null,
            "overflow_y": null,
            "padding": null,
            "right": null,
            "top": null,
            "visibility": null,
            "width": "20px"
          }
        },
        "846d2768bab84ec7bc05ca951499a776": {
          "model_module": "@jupyter-widgets/controls",
          "model_name": "ProgressStyleModel",
          "model_module_version": "1.5.0",
          "state": {
            "_model_module": "@jupyter-widgets/controls",
            "_model_module_version": "1.5.0",
            "_model_name": "ProgressStyleModel",
            "_view_count": null,
            "_view_module": "@jupyter-widgets/base",
            "_view_module_version": "1.2.0",
            "_view_name": "StyleView",
            "bar_color": null,
            "description_width": ""
          }
        },
        "536bf60abeb14999a2d3784cd7f102ee": {
          "model_module": "@jupyter-widgets/base",
          "model_name": "LayoutModel",
          "model_module_version": "1.2.0",
          "state": {
            "_model_module": "@jupyter-widgets/base",
            "_model_module_version": "1.2.0",
            "_model_name": "LayoutModel",
            "_view_count": null,
            "_view_module": "@jupyter-widgets/base",
            "_view_module_version": "1.2.0",
            "_view_name": "LayoutView",
            "align_content": null,
            "align_items": null,
            "align_self": null,
            "border": null,
            "bottom": null,
            "display": null,
            "flex": null,
            "flex_flow": null,
            "grid_area": null,
            "grid_auto_columns": null,
            "grid_auto_flow": null,
            "grid_auto_rows": null,
            "grid_column": null,
            "grid_gap": null,
            "grid_row": null,
            "grid_template_areas": null,
            "grid_template_columns": null,
            "grid_template_rows": null,
            "height": null,
            "justify_content": null,
            "justify_items": null,
            "left": null,
            "margin": null,
            "max_height": null,
            "max_width": null,
            "min_height": null,
            "min_width": null,
            "object_fit": null,
            "object_position": null,
            "order": null,
            "overflow": null,
            "overflow_x": null,
            "overflow_y": null,
            "padding": null,
            "right": null,
            "top": null,
            "visibility": null,
            "width": null
          }
        },
        "4a80ee6c435649f0ba09098e71388b7e": {
          "model_module": "@jupyter-widgets/controls",
          "model_name": "DescriptionStyleModel",
          "model_module_version": "1.5.0",
          "state": {
            "_model_module": "@jupyter-widgets/controls",
            "_model_module_version": "1.5.0",
            "_model_name": "DescriptionStyleModel",
            "_view_count": null,
            "_view_module": "@jupyter-widgets/base",
            "_view_module_version": "1.2.0",
            "_view_name": "StyleView",
            "description_width": ""
          }
        },
        "97e58286443447caa29ab9a53c0de2e4": {
          "model_module": "@jupyter-widgets/controls",
          "model_name": "HBoxModel",
          "model_module_version": "1.5.0",
          "state": {
            "_dom_classes": [],
            "_model_module": "@jupyter-widgets/controls",
            "_model_module_version": "1.5.0",
            "_model_name": "HBoxModel",
            "_view_count": null,
            "_view_module": "@jupyter-widgets/controls",
            "_view_module_version": "1.5.0",
            "_view_name": "HBoxView",
            "box_style": "",
            "children": [
              "IPY_MODEL_12b0af5871b146f093d05e2c776b187f",
              "IPY_MODEL_e6856b9342f84c25897249e18c3546d0",
              "IPY_MODEL_fe0eb96becfa44c29a40d499328e1d9c"
            ],
            "layout": "IPY_MODEL_a91d730ad9f64548b70a6f92e1bb0b4d"
          }
        },
        "12b0af5871b146f093d05e2c776b187f": {
          "model_module": "@jupyter-widgets/controls",
          "model_name": "HTMLModel",
          "model_module_version": "1.5.0",
          "state": {
            "_dom_classes": [],
            "_model_module": "@jupyter-widgets/controls",
            "_model_module_version": "1.5.0",
            "_model_name": "HTMLModel",
            "_view_count": null,
            "_view_module": "@jupyter-widgets/controls",
            "_view_module_version": "1.5.0",
            "_view_name": "HTMLView",
            "description": "",
            "description_tooltip": null,
            "layout": "IPY_MODEL_2e451fdd6223480b9f82cb202b3e3607",
            "placeholder": "​",
            "style": "IPY_MODEL_65976fb7a7d1401c9c8bae9ee8fdef0b",
            "value": "config.json: "
          }
        },
        "e6856b9342f84c25897249e18c3546d0": {
          "model_module": "@jupyter-widgets/controls",
          "model_name": "FloatProgressModel",
          "model_module_version": "1.5.0",
          "state": {
            "_dom_classes": [],
            "_model_module": "@jupyter-widgets/controls",
            "_model_module_version": "1.5.0",
            "_model_name": "FloatProgressModel",
            "_view_count": null,
            "_view_module": "@jupyter-widgets/controls",
            "_view_module_version": "1.5.0",
            "_view_name": "ProgressView",
            "bar_style": "success",
            "description": "",
            "description_tooltip": null,
            "layout": "IPY_MODEL_43ced9c128e545d7ae375c86601651ce",
            "max": 1,
            "min": 0,
            "orientation": "horizontal",
            "style": "IPY_MODEL_ce732ce99e444e3da31f8871f597d590",
            "value": 1
          }
        },
        "fe0eb96becfa44c29a40d499328e1d9c": {
          "model_module": "@jupyter-widgets/controls",
          "model_name": "HTMLModel",
          "model_module_version": "1.5.0",
          "state": {
            "_dom_classes": [],
            "_model_module": "@jupyter-widgets/controls",
            "_model_module_version": "1.5.0",
            "_model_name": "HTMLModel",
            "_view_count": null,
            "_view_module": "@jupyter-widgets/controls",
            "_view_module_version": "1.5.0",
            "_view_name": "HTMLView",
            "description": "",
            "description_tooltip": null,
            "layout": "IPY_MODEL_f7e7d449715b4af1af740d48f4104d58",
            "placeholder": "​",
            "style": "IPY_MODEL_44a49014f9d04f90ab81b8ad6ee00508",
            "value": " 1.38k/? [00:00&lt;00:00, 141kB/s]"
          }
        },
        "a91d730ad9f64548b70a6f92e1bb0b4d": {
          "model_module": "@jupyter-widgets/base",
          "model_name": "LayoutModel",
          "model_module_version": "1.2.0",
          "state": {
            "_model_module": "@jupyter-widgets/base",
            "_model_module_version": "1.2.0",
            "_model_name": "LayoutModel",
            "_view_count": null,
            "_view_module": "@jupyter-widgets/base",
            "_view_module_version": "1.2.0",
            "_view_name": "LayoutView",
            "align_content": null,
            "align_items": null,
            "align_self": null,
            "border": null,
            "bottom": null,
            "display": null,
            "flex": null,
            "flex_flow": null,
            "grid_area": null,
            "grid_auto_columns": null,
            "grid_auto_flow": null,
            "grid_auto_rows": null,
            "grid_column": null,
            "grid_gap": null,
            "grid_row": null,
            "grid_template_areas": null,
            "grid_template_columns": null,
            "grid_template_rows": null,
            "height": null,
            "justify_content": null,
            "justify_items": null,
            "left": null,
            "margin": null,
            "max_height": null,
            "max_width": null,
            "min_height": null,
            "min_width": null,
            "object_fit": null,
            "object_position": null,
            "order": null,
            "overflow": null,
            "overflow_x": null,
            "overflow_y": null,
            "padding": null,
            "right": null,
            "top": null,
            "visibility": null,
            "width": null
          }
        },
        "2e451fdd6223480b9f82cb202b3e3607": {
          "model_module": "@jupyter-widgets/base",
          "model_name": "LayoutModel",
          "model_module_version": "1.2.0",
          "state": {
            "_model_module": "@jupyter-widgets/base",
            "_model_module_version": "1.2.0",
            "_model_name": "LayoutModel",
            "_view_count": null,
            "_view_module": "@jupyter-widgets/base",
            "_view_module_version": "1.2.0",
            "_view_name": "LayoutView",
            "align_content": null,
            "align_items": null,
            "align_self": null,
            "border": null,
            "bottom": null,
            "display": null,
            "flex": null,
            "flex_flow": null,
            "grid_area": null,
            "grid_auto_columns": null,
            "grid_auto_flow": null,
            "grid_auto_rows": null,
            "grid_column": null,
            "grid_gap": null,
            "grid_row": null,
            "grid_template_areas": null,
            "grid_template_columns": null,
            "grid_template_rows": null,
            "height": null,
            "justify_content": null,
            "justify_items": null,
            "left": null,
            "margin": null,
            "max_height": null,
            "max_width": null,
            "min_height": null,
            "min_width": null,
            "object_fit": null,
            "object_position": null,
            "order": null,
            "overflow": null,
            "overflow_x": null,
            "overflow_y": null,
            "padding": null,
            "right": null,
            "top": null,
            "visibility": null,
            "width": null
          }
        },
        "65976fb7a7d1401c9c8bae9ee8fdef0b": {
          "model_module": "@jupyter-widgets/controls",
          "model_name": "DescriptionStyleModel",
          "model_module_version": "1.5.0",
          "state": {
            "_model_module": "@jupyter-widgets/controls",
            "_model_module_version": "1.5.0",
            "_model_name": "DescriptionStyleModel",
            "_view_count": null,
            "_view_module": "@jupyter-widgets/base",
            "_view_module_version": "1.2.0",
            "_view_name": "StyleView",
            "description_width": ""
          }
        },
        "43ced9c128e545d7ae375c86601651ce": {
          "model_module": "@jupyter-widgets/base",
          "model_name": "LayoutModel",
          "model_module_version": "1.2.0",
          "state": {
            "_model_module": "@jupyter-widgets/base",
            "_model_module_version": "1.2.0",
            "_model_name": "LayoutModel",
            "_view_count": null,
            "_view_module": "@jupyter-widgets/base",
            "_view_module_version": "1.2.0",
            "_view_name": "LayoutView",
            "align_content": null,
            "align_items": null,
            "align_self": null,
            "border": null,
            "bottom": null,
            "display": null,
            "flex": null,
            "flex_flow": null,
            "grid_area": null,
            "grid_auto_columns": null,
            "grid_auto_flow": null,
            "grid_auto_rows": null,
            "grid_column": null,
            "grid_gap": null,
            "grid_row": null,
            "grid_template_areas": null,
            "grid_template_columns": null,
            "grid_template_rows": null,
            "height": null,
            "justify_content": null,
            "justify_items": null,
            "left": null,
            "margin": null,
            "max_height": null,
            "max_width": null,
            "min_height": null,
            "min_width": null,
            "object_fit": null,
            "object_position": null,
            "order": null,
            "overflow": null,
            "overflow_x": null,
            "overflow_y": null,
            "padding": null,
            "right": null,
            "top": null,
            "visibility": null,
            "width": "20px"
          }
        },
        "ce732ce99e444e3da31f8871f597d590": {
          "model_module": "@jupyter-widgets/controls",
          "model_name": "ProgressStyleModel",
          "model_module_version": "1.5.0",
          "state": {
            "_model_module": "@jupyter-widgets/controls",
            "_model_module_version": "1.5.0",
            "_model_name": "ProgressStyleModel",
            "_view_count": null,
            "_view_module": "@jupyter-widgets/base",
            "_view_module_version": "1.2.0",
            "_view_name": "StyleView",
            "bar_color": null,
            "description_width": ""
          }
        },
        "f7e7d449715b4af1af740d48f4104d58": {
          "model_module": "@jupyter-widgets/base",
          "model_name": "LayoutModel",
          "model_module_version": "1.2.0",
          "state": {
            "_model_module": "@jupyter-widgets/base",
            "_model_module_version": "1.2.0",
            "_model_name": "LayoutModel",
            "_view_count": null,
            "_view_module": "@jupyter-widgets/base",
            "_view_module_version": "1.2.0",
            "_view_name": "LayoutView",
            "align_content": null,
            "align_items": null,
            "align_self": null,
            "border": null,
            "bottom": null,
            "display": null,
            "flex": null,
            "flex_flow": null,
            "grid_area": null,
            "grid_auto_columns": null,
            "grid_auto_flow": null,
            "grid_auto_rows": null,
            "grid_column": null,
            "grid_gap": null,
            "grid_row": null,
            "grid_template_areas": null,
            "grid_template_columns": null,
            "grid_template_rows": null,
            "height": null,
            "justify_content": null,
            "justify_items": null,
            "left": null,
            "margin": null,
            "max_height": null,
            "max_width": null,
            "min_height": null,
            "min_width": null,
            "object_fit": null,
            "object_position": null,
            "order": null,
            "overflow": null,
            "overflow_x": null,
            "overflow_y": null,
            "padding": null,
            "right": null,
            "top": null,
            "visibility": null,
            "width": null
          }
        },
        "44a49014f9d04f90ab81b8ad6ee00508": {
          "model_module": "@jupyter-widgets/controls",
          "model_name": "DescriptionStyleModel",
          "model_module_version": "1.5.0",
          "state": {
            "_model_module": "@jupyter-widgets/controls",
            "_model_module_version": "1.5.0",
            "_model_name": "DescriptionStyleModel",
            "_view_count": null,
            "_view_module": "@jupyter-widgets/base",
            "_view_module_version": "1.2.0",
            "_view_name": "StyleView",
            "description_width": ""
          }
        }
      }
    }
  },
  "cells": [
    {
      "cell_type": "markdown",
      "source": [
        "##**Disclaimer**\n",
        "These are the materials I used for this project:\\\n",
        "**[1]Pavia University Deep Learning**\n",
        "\n",
        "`06_Attention_and_Transformers_in_BERT.ipynb`\\\n",
        "Multi Head Attention, Encoder Block, Bert Embeddings, Bert\n",
        "\n",
        "**[2]Pavia University Machine Learning**\n",
        "\n",
        "`English_to_italian_automatic_translation.ipynb`\\\n",
        "Dataset([Tatoeba Project](https://www.manythings.org/anki/)).For applying this dataset into Bert and GPT2, I removed `<sos>` token and `<eos>` token.\\\n",
        "In transformer, Tokenizer automatically add these token.\n",
        "\n",
        "**[3]Hugging face**\n",
        "\n",
        "Tokenizer `bert-base-cased` (English), MarianTokenizer `Helsinki-NLP/opus-mt-en-it`(Italian)\n",
        "\n",
        "**[4]BLEU(Bilingual Evaluation Understudy) score**\n",
        "\n",
        "this metrics is 0-1 scoring depend on the similarity of Source Language and Target Language.\\\n",
        "nltk.translate.bleu_score `sentence_bleu, SmoothingFunction`\n",
        "\n",
        "**[5]Pytorch**\n",
        "\n",
        "In pytorch, Weight of Neural Networks are automatically initialized: I did not use any other configuration but with default settings.\n",
        "\n",
        "\n",
        "**My Implementation**:\n",
        "\n",
        "- `Cross Head Attention` (Modify `Multi head Attention` (Self Attention))\n",
        "- `BERT2GPT` (This idea is common, but I reimplemented wheel)\n",
        "- `Translation Dataset`\n",
        "- `Learning Phase`, `Inference Phase`\n",
        "- `Bert Embedding Visualization` (Based on my Word2Vec Visualization implementation)\n"
      ],
      "metadata": {
        "id": "1Wrim8gFetPW"
      }
    },
    {
      "cell_type": "markdown",
      "source": [
        "Bert Implementation - This was implemented by Naoya Kumakura with refering to [1]"
      ],
      "metadata": {
        "id": "G-B0xrVgecff"
      }
    },
    {
      "cell_type": "code",
      "source": [
        "### This code is based on [1] Deep Learning, but some part is modified by Naoya Kumakura(Me).\n",
        "import torch\n",
        "import torch.nn as nn\n",
        "import torch.nn.functional as F\n",
        "import math\n",
        "import transformers\n",
        "class MultiHeadAttention(nn.Module):\n",
        "    \"\"\"\n",
        "    - Query, Key, Value\n",
        "    - Scaled Dot Product Attention: softmax(QK^T / sqrt(d_k))V\n",
        "    \"\"\"\n",
        "    def __init__(self, d_model, num_heads, dropout=0.1):\n",
        "        super().__init__()\n",
        "        assert d_model % num_heads == 0, \"d_model must be divisible by num_heads\"\n",
        "\n",
        "        self.d_model = d_model\n",
        "        self.num_heads = num_heads\n",
        "        self.head_dim = d_model // num_heads\n",
        "        self.dropout = torch.nn.Dropout(dropout)\n",
        "\n",
        "        # Q, K, V linear Conversion\n",
        "        self.query = torch.nn.Linear(d_model, d_model)\n",
        "        self.key = torch.nn.Linear(d_model, d_model)\n",
        "        self.value = torch.nn.Linear(d_model, d_model)\n",
        "\n",
        "        self.out_proj = torch.nn.Linear(d_model, d_model)\n",
        "\n",
        "    def forward(self, x, mask=None):\n",
        "        batch_size, seq_len, d_model = x.shape\n",
        "\n",
        "        # step1: Q, K, V\n",
        "        query = self.query(x)  # (batch, seq_len, d_model)\n",
        "        key = self.key(x)      # (batch, seq_len, d_model)\n",
        "        value = self.value(x)  # (batch, seq_len, d_model)\n",
        "\n",
        "        # step2: Multi-Head\n",
        "        query = query.view(batch_size, seq_len, self.num_heads, self.head_dim)\n",
        "        key = key.view(batch_size, seq_len, self.num_heads, self.head_dim)\n",
        "        value = value.view(batch_size, seq_len, self.num_heads, self.head_dim)\n",
        "\n",
        "        # step3: Change Dimention for Calclate Efficiently\n",
        "        query = query.permute(0, 2, 1, 3)  # (batch, num_heads, seq_len, head_dim)\n",
        "        key = key.permute(0, 2, 1, 3)\n",
        "        value = value.permute(0, 2, 1, 3)\n",
        "\n",
        "        # step4: Scaled Dot-Product Attention\n",
        "        # scores = Q @ K^T / sqrt(d_k)\n",
        "        scores = torch.matmul(query, key.transpose(-2, -1)) / math.sqrt(self.head_dim)\n",
        "\n",
        "        # step5: masking\n",
        "        if mask is not None:\n",
        "            scores = scores + mask\n",
        "\n",
        "        # step6: Softmax + Dropout\n",
        "        weights = F.softmax(scores, dim=-1)  # (batch, num_heads, seq_len, seq_len)\n",
        "        weights = self.dropout(weights)\n",
        "        # step7: multiply with Value\n",
        "        context = torch.matmul(weights, value)\n",
        "        # step8: Restore the original shape of tensor\n",
        "        context = context.permute(0, 2, 1, 3)\n",
        "        # → (batch, seq_len, d_model)\n",
        "        context = context.contiguous().view(batch_size, seq_len, self.num_heads * self.head_dim)\n",
        "\n",
        "        # Step9: Final Linear Conversion\n",
        "        return self.out_proj(context)  # 修正: output_linear → out_proj\n",
        "\n",
        "class PositionwiseFeedForward(nn.Module):\n",
        "    \"\"\"\n",
        "    Property:\n",
        "    - 2 layer Neural Network\n",
        "    - 中間層では次元を拡張（通常4倍）Based on the paper, Hidden Layer has 4 times bigger dimention\n",
        "    - GELU is used (It has Effect of Regularization to some Extent)\n",
        "    - Drop out (Regularization)\n",
        "    \"\"\"\n",
        "    def __init__(self, d_model, d_ff, dropout=0.1):\n",
        "        super().__init__()\n",
        "        self.linear1 = nn.Linear(d_model, d_ff)  # 入力次元 → 中間次元\n",
        "        self.linear2 = nn.Linear(d_ff, d_model)  # 中間次元\n",
        "        self.dropout = nn.Dropout(dropout)\n",
        "        self.gelu = nn.GELU()\n",
        "\n",
        "    def forward(self, x):\n",
        "        x = self.linear1(x)\n",
        "        x = self.gelu(x)\n",
        "        x = self.dropout(x)\n",
        "        x = self.linear2(x)\n",
        "        x = self.dropout(x)\n",
        "        return x\n",
        "\n",
        "class EncoderBlock(nn.Module):\n",
        "    \"\"\"\n",
        "    - Multi-Head Attention + Residual Connection + Layer Norm\n",
        "    - Feed Forward + Residual Connection + Layer Norm\n",
        "    - Which is better??: Pre-LN vs Post-LN - Pre-LN\n",
        "    \"\"\"\n",
        "    def __init__(self, d_model, num_heads, d_ff, dropout=0.1):\n",
        "        super().__init__()\n",
        "        self.attention = MultiHeadAttention(d_model,num_heads)\n",
        "        self.ffn = PositionwiseFeedForward(d_model,d_ff)\n",
        "\n",
        "        self.layer_norm1 = nn.LayerNorm(normalized_shape=d_model, eps=1e-6)\n",
        "        self.layer_norm2 = nn.LayerNorm(normalized_shape=d_model, eps=1e-6)\n",
        "        self.dropout = nn.Dropout(dropout)\n",
        "\n",
        "    def forward(self, x, mask=None):\n",
        "        #Attention block\n",
        "        #TODO implement transformer block\n",
        "        residual = x\n",
        "        #print(\"Took Residual...\",x.shape)\n",
        "        x = self.layer_norm1(x)\n",
        "        #print(\"calculating layer norm...\",x.shape)\n",
        "        x = self.dropout(self.attention(x,mask))\n",
        "        #print(\"calculating Attention...\",x.shape)\n",
        "        x = x + residual\n",
        "        #print(\"calculating Residual Connection...\",x.shape)\n",
        "        #ffnn\n",
        "        residual = x\n",
        "        x = self.layer_norm2(x)\n",
        "        #print(\"calculating layer norm...\",x.shape)\n",
        "        x = self.dropout(self.ffn(x))\n",
        "        #print(\"calculating ffn...\",x.shape)\n",
        "        x = x + residual\n",
        "        return x\n",
        "\n",
        "\n",
        "class BertEmbeddings(nn.Module):\n",
        "    \"\"\"\n",
        "    - Token Embeddings (Vocabsize × d_model)\n",
        "    - Position Embeddings (Maximum Sequence length × d_model)\n",
        "    - Segment Embeddings (2 × d_model, NSP Task)\n",
        "    - Add three types of embedding, LayerNorm and Dropout\n",
        "    \"\"\"\n",
        "    def __init__(self, vocab_size, d_model, max_seq_len=512, dropout=0.1):\n",
        "        super().__init__()\n",
        "        # TODO: 3種類の埋め込みを実装\n",
        "        self.d_model = d_model\n",
        "        self.token = torch.nn.Embedding(vocab_size, d_model, padding_idx=0)\n",
        "        self.position = torch.nn.Embedding(max_seq_len, d_model)\n",
        "        self.segment = torch.nn.Embedding(2, d_model)  # 2つのセグメント（0と1）\n",
        "        self.layer_norm = nn.LayerNorm(d_model)\n",
        "        self.dropout = nn.Dropout(dropout)\n",
        "        #Embedding: Lookup table that keep meaning vector of words\n",
        "    def forward(self, input_ids, token_type_ids=None):\n",
        "        # TODO: 埋め込みの計算を実装\n",
        "        batch_size, seq_len = input_ids.shape\n",
        "        # Step 1: Token Embeddings\n",
        "        token_embeddings = self.token(input_ids)\n",
        "        # Step 2: Position Embeddings\n",
        "        position_ids = torch.arange(seq_len, device=input_ids.device).unsqueeze(0)\n",
        "        position_ids = position_ids.expand(batch_size, -1)  # 🔧 バッチ次元を拡張\n",
        "        position_embeddings = self.position(position_ids)\n",
        "        # Step 3: Segment Embeddings\n",
        "        if token_type_ids is None:\n",
        "            token_type_ids = torch.zeros_like(input_ids)  # 全て0（単一文）\n",
        "        segment_embeddings = self.segment(token_type_ids)  # (batch, seq_len, d_model)\n",
        "        embeddings = token_embeddings + position_embeddings + segment_embeddings\n",
        "        embeddings = self.dropout(self.layer_norm(embeddings))\n",
        "\n",
        "        return embeddings\n",
        "\n",
        "class Bert(nn.Module):\n",
        "    def __init__(self, vocab_size, d_model=768, num_layers=12, num_heads=12, d_ff=3072, max_seq_len=512, dropout=0.1):\n",
        "        super().__init__()\n",
        "        self.d_model = d_model\n",
        "        self.num_layers = num_layers\n",
        "        self.heads = num_heads\n",
        "        # paper noted 4*d_model size for ff\n",
        "        self.feed_forward_hidden = d_model * 4\n",
        "        # embedding for BERT, sum of positional, segment, token embeddings\n",
        "        self.embedding = BertEmbeddings(vocab_size, d_model, max_seq_len, dropout)\n",
        "\n",
        "        self.encoder_blocks = torch.nn.ModuleList(\n",
        "            [EncoderBlock(d_model, num_heads, d_model * 4, dropout) for _ in range(num_layers)])\n",
        "\n",
        "    def forward(self, input_ids, attention_mask=None, token_type_ids=None):\n",
        "        # Implement All BERT forward pass\n",
        "        if attention_mask is None:\n",
        "            attention_mask = (input_ids != 0).float()\n",
        "        if attention_mask.dim() == 2:\n",
        "            # (batch, seq_len) → (batch, 1, 1, seq_len)\n",
        "            extended_attention_mask = attention_mask.unsqueeze(1).unsqueeze(2)\n",
        "            # print(\"squeeze is required\")\n",
        "        elif attention_mask.dim() == 4:\n",
        "            # If it has correct shape, just use it\n",
        "            extended_attention_mask = attention_mask\n",
        "            # print(\"squeeze is not required\")\n",
        "        else:\n",
        "             raise ValueError(f\"Attention mask should be 2D or 4D, but got {attention_mask.dim()}D\")\n",
        "\n",
        "        # Convert attention mask (0) into -1e9（to make it 0 in Softmax）\n",
        "        extended_attention_mask = (1.0 - extended_attention_mask) * -1e9\n",
        "\n",
        "\n",
        "        # embedding the indexed sequence to sequence of vectors\n",
        "        x = self.embedding(input_ids, token_type_ids)\n",
        "        # running over multiple transformer blocks\n",
        "        for encoder in self.encoder_blocks:\n",
        "            x = encoder.forward(x, extended_attention_mask)\n",
        "        return x\n"
      ],
      "metadata": {
        "id": "bPkjBAZ4nUIj"
      },
      "execution_count": null,
      "outputs": []
    },
    {
      "cell_type": "markdown",
      "source": [
        "![transformer (1).jpg](data:image/jpeg;base64,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)\n",
        "https://arxiv.org/abs/1706.03762"
      ],
      "metadata": {
        "id": "VQbt235TpKv8"
      }
    },
    {
      "cell_type": "markdown",
      "source": [
        "![image.png](data:image/png;base64,iVBORw0KGgoAAAANSUhEUgAABOAAAAFqCAYAAACzqCVpAAAAAXNSR0IArs4c6QAAAARnQU1BAACxjwv8YQUAAAAJcEhZcwAADsMAAA7DAcdvqGQAAP+lSURBVHhe7N11WBTbG8Dx7y4h2CJ2d3d367X1qlevrdeun9fuxO5W7Ljqxe4WuzsQEdRri0gbwO7s7w8MGJYlBAPez/Oc5/HMO7OsZyfOvHNmRmMwGAwIIYQQQgghhBBCCCFihVY9QQghhBBCCCGEEEIIEXMkASeEEEIIIYQQQgghRCySBJwQQgghhBBCCCGEELFII8+AEyLmKYrC0KFD2b9vnzoU51hYWDBl6lTq1q2rDn0X586do2+fPnz8+FEdinMqVKjAosWLsbCwUIdi1ZEjRxgyeDCBgYHqUJxTu04dZs2ahVb7fa9P7dy5k7FjxqDT6dShOOf3Zs2YMGECGo1GHYoxQUFB9OrZk7Nnz6pD8U7ixIlZvmIFRYoUUYdi3OLFi1m8aBHStQxNq9UyeMgQ2rdvrw7FCkVRGDx4MAcPHFCH4hwLCwumTZ9OnTp11KEY4+7uTts2bXj27Jk6FO9lyZKF9Rs2YGtrqw59s48fP9K1SxeuXr2qDsU7yZIlY/WaNeTNm1cdihWKojBw4EAOHTyoDolvkCVLFjb88w8pU6ZUh2Kco6MjAwcMICAgQB2K9xo0bMjUqVNjtR9qiiTghIhhiqLQq1cvNv7zD0M6dSJJokTqWeKUG87O/LNvHzt37qRevXrqcKw6d+4ctWvXpm6FClQsXlwdjlM+BAQwe+1aqlSvzsaNG79bEu7w4cM0bNiQlr/9Ron8+dXhOMX//XtmrF7N782bs2LFiu+WhNu2bRstW7bkr99/J3+OHOpwnOLt58e0lSvp3qMHs2fPjpXOT1BQEK1ateLMyZP83b491gkSqGeJVw6fO8f527dxdHSM1STcvHnzGDBgAAM6dCBjmjTqcLz26PlzFvzzD8uXL6dz587qcIxSFIXu3bvjsHkzg+NBH+S6szOb9u9n165d/Pbbb+rwN3N3d6dqlSokADo0aULM77F+XYrBwKrt29FaWXHs+PEYTcJ9/PiR35s25db16/Rr25YE36nP87Pac/Ikt11dOXnqVKwn4RRF4a+//mLHtm0M7tSJxAkTqmcR0RByeznu6BirSbjjx49Tv359mtaoQZlChdTheM3X35/pq1fTtl07Fi9eHCv90IhIAk6IGBQy+bZ74UJKFSyoniVOmrJ8OdNXrfquSbjPybe29eszc/DgH7ID/d7uPXxI/Z49qVyt2ndJwn1OvvVv147RPXrEiza+5uREw969v1sS7nPybUKfPvyvXTt1OE46c+0aTfv1i5UkXMjk24Fly8iTNat6lnhHr9fTfdw4Dl24EGtJuM/Jt1V2djSvXVsdFsC6XbvoM2lSrCbhQibf9ixaRIkCBdSzxEmTli1j1tq1MZ6E+5x8S2xhwc4FC0iWOLF6lnjPy9eXhr16oVhYxFgS7kvy7cYNDi5dSraMGdWzxDtBOh0dRozgwu3bsZqE+5x827l9O3sXL6ZoLP2d+Crk9hJbSbjPybcef/zBxL59Y7SPFVdcvHWLxn37/rAkXOyeWQgRj8TX5BvA8K5dGdK5M02aNGH//v3qcIyLj8k3gHzZs7NvyRJOOTrSunVrgoKC1LPEmPiYfAMonj8/exYtYvvWrXTp0gVFUdSzxJj4mHwDqFi8ODvmz2fZ0qUMGDAgxm5XlOSbcWZmZiwbN446ZctSrVo1bt68qZ7lm0jyLXLaN27MwpEj6dq1K6tWrVKHv1l8Tb4BjOzenYEdOtC4cWMOxtAtc5J8i5wUSZOyZ/FitEFB1KheHQ8PD/UsUSLJN+MszM1ZO3kyZQsVokrlyjg7O6tn+WaSfIt9IbeX6tWq8fbtW/Us30SSb5FTpnBhdi1YwIb16+nVq1eM9UMjSxJwQsSA+Jx8++x7JeHia/Lts++RhIuvybfPvkcSLr4m3z6L6SScJN9Mi60knCTfoia2knDxOfn2WUwm4ST5FjUxlYST5JtpsZmEk+Tb9xNbSThJvkXNj0zCSQJOiG8kybevYjsJF9+Tb5/FZhIuviffPovNJFx8T759FlNJOEm+RU5MJ+Ek+RY9MZ2Ek+TbVzGRhJPkW/R8axJOkm+RExtJOEm+fX8xnYST5Fv0/KgknCTghPgGknwLK7aScJJ8Cy02knCSfAstNpJwknwL7VuTcJJ8i5qYSsJJ8u3bxFQSTpJvYX1LEk6Sb98mukk4Sb5FTUwm4ST59uPEVBJOkm/f5kck4SQBJ0Q0SfItfDGdhJPkm3ExmYST5JtxMZmEk+SbcdFNwknyLXq+NQknybeY8a1JOEm+hS86SThJvsWMqCbhJPkWPTGRhJPk24/3rUk4Sb7FjO+dhJMEnBDRIMm3iMVUEk6Sb6bFRBJOkm+mxUQSTpJvpkU1CSfJt28T3SScJN9iVnSTcJJ8i1hUknCSfItZkU3CSfLt23xLEk6Sbz+P6CbhJPkWs75nEk5jiM1PFyKOGjlyJAvmz5fkWyRMWb6c6atWcebMGUqXLq0Om+Ti4kLx4sUl+RYJ9x4+pF6PHjRu2pTlK1aow+G6du0a5cqVk+RbJFxzcqJBr15069GDGTNmqMPhOnXqFNWrV5fkWyScuXaNpv36MXLUKEaOHKkOf/FX587s3b1bkm/fSK/X033cOA5duMDt27fJkCGDepYvNm3aRNu2bSX5FgvW7dpFbzs7du7cSaNGjdThMIYNG8aSRYsk+RYJk5YtY+aaNZw7d46SJUuqw+h0OooWKYK1mRm7JPkWo7x8fWnYqxcaKyuuXL2KVht63EfLP/7g7OnTknz7RkE6HR1GjODC7dvcdXLC1tZWPUsYgwYNYoW9PfuWLJHk208iou0lpNu3b1O6dGlJvsWCi7du0bhvX/r//TcTJ05Uh2NE+L+sECJcp06epMcff0jyLRKGd+1K5nTpuHTpkjoUoRs3bmCu1UryLRLyZc/O4M6dOXXqlDpk0pUrV0hjayvJt0gonj8/fVq35tTJk+qQSRcuXCB/jhySfIuEisWL07lpU05HsB6fPn2awZ06SfLtG30eCefl5cW9e/fU4VBOnz5N3UqVJPkWC9o3bkzlkiU5e/asOmTUqZMn6dmqlSTfImFk9+5kSJOGy5cvq0MA+Pj4cNfJiTlDhkjyLYalSJqUmYMHc/3GDd6/f68Oc/r0aUZ16ybJt29kYW7OygkTcH/zBldXV3XYqNOnTtGndWtJvv1EItpeQrp69SrJkySR5FssKFO4MN1atIiwH/otJAEnRDQltLJSTxLhSGhtrZ4UadZWVnJwiaTorpMJpY0jLbptbP0N20B8Yx3JNo7ubyFCMzMzw9LSUj3ZKGnz2BPZ9f4z+S0iLzJtFdX2F5ETUdtLu8cMC3Nz9aQIRfTbiO8vKr+JnB/Fnqj8DtEhCTghhBBCCCGEEEIIIWKRJOCEEEIIIYQQQgghhIhFkoATQgghhBBCCCGEECIWxVACTs/DrWPo3qUrvRZfUAd/avo397j3UlFPFkIIIYQQQgghhBAiRsRYAs790hZWrVzJ6iORe/vKj/eOW2t6ULFIPebcDFIHhRBCCCGEEEIIIYSIETGUgPsF6Z+yb+kqLrhL8k0IIYQQQgghhBBCxJ74m4ATQgghhBBCCCGEEOI7iOUEnB+uZw9x4NBVXuhB9/oqW+eNpn+PLnT/3xjmbbvKa114y1zhuQ7euR5k8dh+dP2rK/1GzWHLVXf0qiUUr3ucOniAg2fu4xPmcW4KXs6nOXjgIGfu+wRPcb+N46HzuPkawBDAyxuHOXDwOLfdwywshBBCCCGEEEIIIcQ3id0EnM6Vtb0aUq/xOBz2j6VGkXL80d+OectWYj9/Iv1blCF/pZEc9wyR+PqyzGg27hhCtVL16T1hAStWrWDBpAG0LFuQSoP38iLkInfs+athPRr2WMP9MAk9HXftu9CwXkO6rXIGIPDiHP5s2JmV93SgeLB3eCPq1W/FzPOB6oWFEEIIIYQQQgghhPgmsZuA+yzoLHYdpuCUqS2T1u/D0XEfa8c3J18iBc+LM/h79lX1EhB0gandZnPHpi7DVuzm+PFd2A/5jSxmHpyf3ZbWs+8SJtcWSebZqtO5ZzsqpjMDTRIKNe1J715/UTO7uXpWIYQQMUT/6jTTZs2k/8J96pAQQoifTNDDg4yZOZMBK47jpr79RIRDj8tRe/6eOZMJR5+og8Ypr9i3Zhb9Z85nXdiRBCKW6Z4cZcLMmfxtf1QdEkKIGPd9EnCKN/5ZB7HnxCqGt61H1ar1aD9mM9tHlsGSIO4dOqReAhRvfBI2ZumxXUz5qyHVqjWi67Q9HJlXj1T4cHrWNPZ4qxeKHPOCbZk8bwT1MmtBm5Sy3eawcMEU2hWSBJwQQsQWg/9TLl65hOM1N3VIxBKfEzOp3KED5f6axe536qj4vhR8Xz3gyl0nbrzwRx56IX52ivcjTl++hOPN//AyqKPCOAXPxzdwvHSFc499Q0XC3R8b/HG9fYXjl65x21Mynd+b4vOYM1cu4XjzsTokfhHhbltC/IS+TwJOY0GZdt0onSjkRDOyVyxHFjNQ3r4OGQimSUDpvpNok9UsxERzcnYaQftc5ijuB9nuKFuYiB/0H31x9/kQ7VGfoSkE+Hvxxi9QTgCFiOMMukDeffjAuw8BBMkJ9A+m5/7+eXQZP54Bu12Qd7DruLZ5JHV69KDW59JnLrvUD/PV+3L/ylGWb1zNhKXLsFu9gcV7j3PcxZ13oWZV8HC9zIEzZ9gfXjl3C7cPn2f35s7ls19iB86e48jlW9x45oP6gSS6J7vp1jvE9+zRh34HjfRdhTBB9sdCxA7Ztr5VJI/H6PF8fIWt2zcy1X4p41esZrbDXnZcduH5h9DzKt6uHD9r5Dj8pZzj/LNPB+R4djz+Tgk4G3LmThvmj2mTJiWJBtAZ6Yaa56JqjZyETL8BYFmUCqWSo1W8uXPjgToqxK8l6A5TevxO4SZNKNy0FQNPB3wJKX732bx4JDUaVSVlpepkr1GFdL+15c9FR7n/+QQC0D/+l1bNm9Nu+4swLygJJeAxOxYNplL9KqSqWots1SqQuk4rmk7fzpXPO9h3R+nVoknw92nWj7kPYiblJ4T4MRIXb83iUaOwH9GaStbqqBA/koFAfy9e+6aifqcujOzShZGd61Eq4dfe4vvHRxk5tB9/TLdnyeHznL97k+OnDrJ83VL6j+pL9X5z2fnlBVp67h9fyfD58xkWXlmwkaNvP82vf8z2lQu+xIbOm8vAGXa0H9CDGoNns/KO95eLVOa2Jen2V/B3HNGyGEl83vL2gxwfRdTI/ljEH++4dngjq66+CT43UV5xfPsmtrt+Pc+JiK/zYebtuvrpue8KTy9tZ/5xV0KcAn0h29a3ivh4zMfHbF04lIZDpzNhy2EO37rLuUun2LR9HWNnjKJe934Mdvz6skzd4+NMWWDkOPylLGDexbfB88ez47E6JxY7NNZYJ9Sop4JGgwbAYCRVrUlDhozGvp45qVPboEXB881bdVCIX4vhI29fvuBt8hK0rF+XSumDU87KmxP0/+svujk8JGO9fqxduJxDiyYzsVZirq4fSd3Bm7n76ZKAQefDs2fPeO5rIv2meLJ7Sl86bXIjY8OBbFyygsNLZzO/RU5e7p9K48EbuBMEWGSmWr0GtCySmNfPX+EZYGTbFEL8MsxtslKmcGHKFsxK6jBXtIT4CWiTkatoSaqWLEnV4rlJb/Fp+rtrzJy5kr3utjTpOZWjK+05sGAxx1ev5uiMYYxsUARb/xc8e686TmnT0nzQXPYvWBC2zBvCn+lC9y3N0tZkztwF7J8/lx1TxjC1VTlSu19k3vTpLH/46QJxwvSULB78HSvnT0eSUJ8gROTI/ljEG4HO7Nx2hNvvE2IGKG+vsWHHZZ6EHVoTjkCuO25jy4P3JNYCyltO7t/B8Zdg7IFRsm3FkPCOx7zj9LqZTD7tTtpqPdm8bCXHFy7gkP1qzi6dwcIuDaiQ3J/H7u8JfUTWkqnmIHarj8ULFrB/wTzm/5Yu1BoRX47HxjJcscJI+i2aDAQF6TCgwdLyy1phkl5vIjEhxE8gcZ7aDOrSgSY5zEFxZ/O0Saxxz8vIRStZ2+N3GpcpRoUyNekxcAG7+hTj46WljNz9Uv0x4VLeHmfFkTfkbTuZtT2a0KBUUcqXrETrLhPY2r883NzI4osfwTI3LTp1YWC1HMTpC0j6x2xbtZDhC9ex97kevyfnWLJwPL/36Ey59p2pNXgyk4+64vvpqpvvk3MsXjSB5r26UKFDR2r0H8PQLVd5FvKCi/KK/RsWMXzhYhZf8Qr39l7F/xYrlixk+KKNHP4yciNuCfK8y6ZV0/mzXzcqtG9PxR5/03HOBrY4e5q+NeDjCxx3LqP3sH7U6NyBcp2702D4VCbsusoTUxdNA905s3cFfYb1pWrH9pTp2I2GI2cyde9pNm9cxPCFy3Fw+7WujsUU3dMTTF+4gJFrT4R9iLrei2tHNzBkwhDqdu1I2fYdqdTjf7SaOJcpO05z09PI6PS4TPHj7qnNjLQbSr1unSnXviNVew+i06wV2J+6z+vPzaFzZt3iBQxf7MAJL2PbsA6nw8sZsWARc868Cr66q3Nlk/0SVt3xw4AB/3v7GLtgAcM/lRHLD+MUahVV8Hl0mkWL7GjZtxsVO3SgYvd+/DnVnrU33DG1OcQV726c4JC7gYzVOjOiWnZsvvTSLUiZpTgt24/AYUJ7KiVT9zC1JEqWmoxp0oQtqW1Iqj4501qTMnUaMqZNT44cBan3ex8WtClMoo8P2XLkbpjbX+ItwwceXdrJ+CnDqNe1I+U6dqPhqNnMP//M6IgUABR/7p12YJTdUOp160S5Dp2p0W84ve33cMY9/rWsyf2xKYFP2b1+ESMWLGTs1iu8Uu12FP9H7HNYRPehfaneKcSxc88NnhltZj1vnI8ye+4EWvTpSoX27SnfuQcNh01k8Kod7HPx/AXXez33j61i5IKFzDz1nEA/N/ZsXsBfg3pRpWNHKvccRLele7gQpWfsBXD/9GbGz55E+6EDqNfjL8q1bUe5zj1oOGwyox3O4Owf+sfQvzrD7EULGBHu8YHg/futHYxZuIBRG8/zPLzZfmFBj+9x831WSuQLPpvwd3bifsLcFM9sLH1mhO4x11zekyd/PhIDvHfm6uOEFMmXGWNn/+FtW7rHx5i8cAEj153ikT4a+zACeXZjL3ZTg5cp074j1f83kv6r97Lv0EZGLVjIxMPx4LnGH26w65w7hjTVGN65GvlDHEgtk2ehcu32LJ42gcHFkoVJLplZJyOD+licJg0Z06QmdSLVATmeHI/VbfTzMLzmhdE90geePHFH0WhJnyVL8CSNJvg/otMZuQVPwcfHL9yTYSF+NvpHu1l6xpdsDXryvwIJVVEL8jXvxtBGv1HGJvKnYAZ/X3z0YK41V230WtJXbce49o0omTgenWzrPbl54TT7zpxh57YZtBw+lyVn3fAyS0RSy0De/HeDzcvt6L/nNqe3TKHZsLksPe3Ca4M1SRMoeL5w5sCWWfRcc50vj1jWpiS94QEHT51g5XZHHhnd6Si8OLWD5Y6nOPRYS8aUP+8uOLp8XXbSa9hEphy8wl33j1gkTkZSjS9OF3czZd0p/jPaLqD3uMKUscPpv/EYpx968NEyCcktA3jhdo2t/0znz7FrOW2kM6t432Lu+KH0XneYUw89+GiRGBtrPe4PL7Nx3QIm7zzJvtPnufb5trN4RvF25eiZ0+y75IpHyCYIesq/s4bTxX43B+88xVuTGJskCTD4vcbp9jk2bVrEQIc7caazExHF34VVUwfTbuF29tz6Dw+9FSmSWqHzfsrVi4dZuHA8Yxx9gmfWu3P1zGn2nb6B63v1JwEovHI5z77Tp3F85BPc/9C/4dq5M5x99gED8PHlbfafPs2+z+W8S4iT6g/c3T+TP0YuYNnJWzzwMZA4aRISBLzh7rWjzJo6kt47H2D0T8cZCh/fvecDGqwTWoc7ZiJR5oIUSRHT+1EtqfPmIYuZgucbd/zU4XjIEPCELTMH02LmRnbcdScoQSKsFD/+c7nAinkTGX7i621HX3xw45+ZQ2izYCu7bz3B05CQFEks+PDGjdNH19Nn5FRWPfioXipOC3d/bErQc7YvmMK4PSc59EChVMWipA2xyr9z28/fQ0YyfOtJzj/xQUmYlOQWn46d66fSdupOboVq5iBcD8/iz/H2rDl3Bzc/DUmTJcHa4MfTh7c5dHATI2c7cPGX6xLqee1ygb2nz7D3yAa6DRzFyO3nuOMNCa21fPB8woXj6+k1ZhH730Sy8ZX3XHPczbYLN7nx6AUeQZakSJGUhPjz7OENdm2dT/sxqzkV4jlZZilTYXhwlr0ndrLcMZxHwyge7N2xnZ2nzuGsTUOamN6F/XAKr53v8zJtXkqk0AKB3HJyhRx5KWKpntc4/Vtnrr9JS7F8KdACAa5O3CEHxXMb/4Dwti29pwtHTp9m3xlHlk6P4j5M8eb8P+NpNWUdDtce8irAguRJrdF5PcTxwDqGr9zJ7tOnOeQc9+/IUwLe4RsImgQJUefMvrDOTOncwb9XzImbx+OYbaOYpHuA41HXsBuD52EOnH+PwTw3FStlAEBrZU0CDSi+nniq96m6B1y/Y2w0ivqKqRA/AwWP69e4o9hQoVxBrNRhAKvi/G/UMIZXz6qOhMssY2mqZ9Vwc91gWs51YN+9rw+v1iYvQdfevehc9FccxPuNFG8unXcjZbXurF+8EsdFCzhkv4TVzfOQiPdc2WhHn60uJCrdmkVzl3NyyQIO2Nvzb5dSpNbq+O/ELna+/rx3saBQ9aoUsICghyfZ7mKk96r/j50nnPmAFcWrVydPeAexX5Tic5lZ8//loreGdCVaY79gOScWL2D/kpWctZ/JvOaFsTF21FGes2nxQjY/+kjCrDWxm27PqaULObB0FY7TetE0SwL8Hu5n+OIjPAm5M1fc2b50PqsfvMMyXXmGjV/EqeWLObBkJRfXLmXzgN8pk1T29WEpPD++lrlXPCF1GYbbLeGU/UL2L1rGmdVL+HdIJ9oUTYN1fGk6xYN9y2Yx/4Yn2Ban74h5nFi5mP0Ll3Jq5SLW9/uDetmSBN9Go142siwK0Xf0BMaUt0GLhuSlOrLGzo71n8uo5pQ0J/gYcGElf6+7wivzzDTuasfhVcs5uGAhx1YuY2O3SmQ19+GSwzLsje1j4gwtSTNnJoNWj9vJbTi4eEfhpRVBeDxz4Zqzc9hy/zGvInHtSvH1xtugIWHSZKgvg8VHivddDrsmpn6nMexdsYIjCxfhuGIOM6qnx1zx4uS2vVwP+QMp3hxeOYuZV95imbkqo+2WcHr5IvYvXMapZZMZUyk9Fj53WLhsOzcj/8PGP/pX7F0yFbuLHmjSVmL8iF40SPt1BJHifYFJs9bh+NacXFW7sn7JKk4sWsCBZSs5Orkb9dOb43nHgfHbXb5cTNG7H2fGP1dwJzU1O9txeKU9BxYs4tjq1RyZNoRh9YqSKcGvvPNX8Lx/hzfZG2Jnt4hTKxZzYMkKjk3rTt105ujczzHznwtE7pqclsSp81KvSVeWzF7B2ZVL2L9gEcdWreHIxE7USGXGx2dHmbkrxEt1LHLxe9WcWKLD6eRxbhlZv3X/ObLTOQCs8vF79axGb6n85egfs/ffjcz955/gcuoRBuUZ+zf/w9wNa1l7wwdLf2dW/fMPczc6sP+J+gxfz/1T/35d/p9TOKPw8Mxm5v6zgem7b/DW0p9rO/9h7j8bWXzmiWp506K8D0Ph2fGlDNv9AF+LdNTpNJ6DK5dzaOESTq1by9GpA+hWMGm8ySZoE2cmVyotuqcnWXbYhbdRuKkk0PsZN9XHYmdnrjnf575HxAfkuHg8NnYq9HMwBHBp3mDsnUL8MPrn7Bwymu1vDCQq0562xYJ3WeZZcpAlgQbF/RhbDrqH6CAH4LJuHMtvGNn7YYmlRfAzuD5+NHVPlBDfk8KzV29RtKnJlj4GD8kWBRk6ZRQds/txbMN0WrarT+bazag5aApT993ipbFNJD7QJqd2z2ms6VKDIik+DWrXJqFYgzqUswawpkz7SWzq34RKaa0/7TCtyF29AbVTayHwIdddvu6jzNJV4fdCCdEorzl47EaYKzXv7x5l7xM9mqTFaV4xdbijOn5NelyPbGOvux7zzA2Y1r8JZVMl+BK1SJqZSsWzY2Okt/L+xh7WOr2HhAXpN6ALjbIm/tQ2WpJlq8qYv1tSytqA7+1drL3ztb0/3N3Nyhu+GBLkocfAPrTOZ8OXa6OWKchfqiQFk/28h7kfJ5Abt+/zDjOyVWxKi9zJv97SYZmCfCXrMnTEdFa1yBU3TgwiEHBvN0sve6FYZuevAQPoWjTNl06e1sqWIhWbM3XydMaVThT9TpM2MZlz5CBL0k/9liRpKZA7N0U+lcLZ05JUG3yr6rp/z/LKkJQqHYcwrlZubD//CGZJKVizG+Nqp8dM94w9x2+buG3m12eRux49y6dG43GJqaN6UrXPUP6asYipDnvZdc2N1+H125U37Fs2jo5jxoQt45ayK6LRLx/c2LDtHC9JTqUyBeL24xgiSZO8LOOnTWJ83YJktPq0FVimpVbz2hQzB72HMxeffz2hDnLdy6KzHihJSzB0SI9Q+xjzpDlp3q0Hf6TXont2ku23w/sh4znFnUPLpjDuzGs0aSsxYUTPUMk30HF7778c9DBgU6Ij83vUokjyLzsLbHLWZEyP2mTV6nA7eZwLn5o54P5tbnwA8wwV6RJy/4IlqbKVpHXHETiMa0HhX7aDoiV15T78M6w1jXLbENwL0ZI0aw3GdKxCOq2Cx9XjHAkzYsMIbTIa9hjD1Na1qJAxcYhbH82xzVOH4Y3ykwA9z5zuhrg4qCVLleqUTahB//os226oxyp/5PLRUzzQa7ApXpN6qaN9VPm5KH48fuDCTRcXbt67woVnGlJa+uPk6srtuze45WVNYuUlt1xcuOnixn9+6vZX8Hr5IHh5l3ucuPMMTTJLfB66ctv1LmddvUhorfDk09+481LdwzYtqvswAu6yZucNvAwJKNp8IJPr5iP1144SqbKXomrOZHGsH2+CeW7atihPBq0Hx1ePolaXPrQcP4NRqx1Yd+Iadz3D248rvDi9jM7qY/GYMXQcM46xJz+9pCM8cfR4/PNu9RoLzL0O0LdiSZr0GsX4Mf35s3wp/ljlgi5ZeYbN7k2+z2t9ynq0+i0VWv1/rGtbjtqdhzJ2zGA61ylM6e6HsSmaDyv1SZ+ZLWlTWaFRvNg3uQcjx41lzeX4crON+Plp0KjX2W9kla0+C9bt5c7qaczs0oTaWeHB2W3Yje1C6S7zOBK5y4FxTAJsbZOGPYBapiJ9Mi0YIGmKVGF3+Fpb0tlogSC8vP2+Hjy0KahVszSptAoel49xJOQtk4ovJ45e4KWiJUP5WlSLawMO9Y85eP4/grCkWPXaFP6ae4tAEDev3OSNoiFx4WrUD3lvzSdm6SvTuGBCUDw5d+XBpyv5Qdy8eI2XCiQqVIOmkX2uiABAq9UCCq8eOPPUaAI+AalsEv/EnYSYErwePVcgYcFatMxu/PYWzJKR+svJbewJcj2P40s92lTlaVfJWJI+AQWLFyKNVsHL1YVHJnuuvzitLfV627GiawNq5LZF4/mIy5dPsnHrOkZPHU7d3sMYddgtzIUOtKmo330cayZMCFvG9aBxqtBrteJ7D4d/1jFz3RrsFk2nzd9jmeukI2etrgwolTjUvPGVNkEK0icPuzZqk6Unc1ItGHzx8P58vNNx+/xlnui1ZChfn/rGEgwJclC5UEq0ii93XJ4ThcEU8YPiyfGV0xh94iWGT8m3+qGSb8HJ+sOXX6LTpqJO/UpkMNLM1jmKUzalFsXXlVufkwtaLVpA7/GAa6+M7vyxTmHDr3ztyjJREhKpJwKJCpSmXHItBLpx3TV653y6j768fPGY285OOPtrSaABw4d3n54ZHEyboizNSqdAq3jjeOwCIXP+iu8Vtl3wQNGmpk6tkiT/Gvq1WRSiz6hxrB4/HvvWxUhmmY8uQ0ezcuxY5tTNhrlNOUaOHc/q8eNZPW44PQuon+RmQdmWo4Ljo1tTMbElJZoOZfnYsawcWJe8Whvq/DU2OD5+HItbFFAtb1rU9mEQ6HKRUx4KWBfi9+rGnzsXv2hJV7E368d0pV3p3KTVeHLv7mV2H9jKzMVT+bN3b1otOsxddb4ZLekrdWeV+lg8YQJrJoxjfJVUofo58eV4/PPuXrUZaDtrNs1TP2bP0kmMmziPzZffYlOiPXP27WJEqRCDELVp+XPBP4z+LRvWHx5xbPV0JkycyZpT7yk5eDNbBxQwsuEk4reunSiQyIDn5bVMHj+FxYdc1TMJ8Z1pyZAmJVrFg+fu4Z9ZBQREr+MAVmQsVIMePUayacU2Hh7czLoORTF3+oe/V15Tzxx/aRJgnUADKCjG8pJaK6w/nafr9KFPHZIUqUHdtFoM72+z49TLL8k5vccZtl33w2CelcY18366KhuHvH+M8ys9aFNRMFcUngGh+OD6wgcFLZmyZDXaaYaE5MmSGnMUXj97ho8SfLX10QtvFMzIlDUrSdWLCBMsKVmyEMk1Bvxur+XPv8cyeNUWNp6+xq1X/lG41S8OUHx48NQTBTOyZM9F8kivuLFBwfvxf8EP5Faesnu1PRPsw5apR934COh9vfAI/zARN5glp3it9syxW8CpNcvZNWkEM7r9Sduy2Un27iG7V81k+mV/1UIW2GbMTfG8ecOWPFlJq9r5Gt4/4dTpU+w9dZYTTi8xZC5Pr/52rPmrJKpcnVDTWJEwAWDQo9N9uptE8eP+f8GjGnRPTzLVyDo8wX41W90Cgke9eHmbHgER3xh8OL1uKsOPPEVJV5kJI3uFTb4Bit9j7r9RAAXXk6uNtLE9E1Yf5W5A8AVAd+/gVrbKX5IySTQY3t9mxvC/6TR3FUsOnOb0g1f4xPVMqHk6sqTSgOEjL9291VHjFH9cLuzEbsYoGnVrT+n2XajTfwhtxkygz7838TUAGFRvfkxIhRoVyKw14Hf7OHtefu5IKrw4c4zTfgbMs1ahWd5wLvj80hSe3X/Am/R5KJY0+EL1rXuuaLLnJX/Yk3Gj9O73ue2ZniJ5k6IFAl3vcVeTneI5IvkBUWFsH4aC9/MXeChgniYr+Yx3TOMhM2zz1mLwIDv2r1yD49xJLOnfjX71ypI/yTucTq6i/5rLX5+N/Yll8owUUR+L8+aleN485LENfUCOL8fjGPqvWFJ2+j2CDAofdrT9Otm8GBNvBmLQPWRBtbCnm+aFxnIl0IDu6TJ1CNBgnb87m++4cePwFjb8s40jlx7gdnkt/cqnDPPFtWlrMu7AA57edWTHxnVs2HqE649cOTq5Prlbb8FXCcJpWpmQS5Cy7jwuOp1j14bVrF6/iWnN04eIC/EjaLEtWpi8Wg8uXHtk/KqwzokpHWqTe9BWdSQcQVxY2oXCraZzUPW8Y7NkOfm911C659Xy7N6d0MF4TYtWvZMJRYs2vBGKX57/EcQdR0fu6AD0uDie4HoAJC5Yk8YZw16F+9Xp/fyCrwBrEpMiqcnGC83wDr8PBkBD4kSJwnmehoakiT5ddHn/7tPB/SMfAoM7SwmtE4aznDBOS6qKfzG5aSHSWhp4736PQwe3MHXBVNr260KVPmMZs9cp8g8J/5UZ3uHzPnj9S5L0R4/4M+Dl+w4AxeMuu44eZauxcs41+Hm3er3xY0QcpbVMRrZcRalTsylDBkxiXftCJFI8OXXx3je9FdYsbR0WLl3BiRXLObpoDhtH9KJHuczEtUHKsUMT9lho8MPrnQFQeHX3RNj191M55OqLYuQiVvym48HemQw98JgPmJGpWFUqpjLeX1D8fPEzAIoHl0+Ebd/gco7bvgqgR/epmbUpKjKyb1PK2lpi+OjO1XMHWbJ6Ab1H9qNqlz50WrKXKyFGAsUt1iT69Hy7Dx8j8QKQgMdsmjmEP2dvxOGyC/+9tyBtltyUKlqaOpWr07xU5rB3SHximas6TXJaQJArOx1dgy9sfXkOcELK1qxKTuM/7S/Onxv3n2ObOy+ZtID+GTdc/cmVN0/w20wjwcf5Pg+T56Z4Gi2gx83ZFZ/MeSkaXmN/EyP7MOD9x08DHaysSWQkHu9pLUmZPhcVytekS8cBbJjQnrLWCu7XLnIlumNE4tHx+Mf2NSPDPDWFajanTevfqVkyczijIz4zwyZvFZr82Y42zWpSRH2Z04iEmcvSqE1HOrZtRrW8cWYgsPiFmWevS6vCFtzduYotr9TXhRVeHlvPPw8DSJWrkCoWHjOyZ0zG24fH2HTybdiHiOvf4fcBEqa0VUdEtAQ//6NcQg36V2fYduMDfLzL1lNP0GlTUK1muVBvMIsrNBbmWGgAFPTq1dYUjTmWZgAGdEFBqqvIXwUEfTp7sLD49Jw3a6wtv3akw1tOhEObgoqtRrN3wVTmdWtFu6qlKZXVlsRmCv7u99i5bjI9NjvH8TdtBq9/Fp/Wv6DA8Ne/70ODuXnwGZl5zkbMHTUKexNl2cDGFA07MCaeMCNtzmyk1hr4GBAQ9rgmfhyN9tM2ZUahRoPDrLfqMrtxXiN3qcRXgTx0fUaynDlIbabH7cBcBu19aHQ/rNGaB9+6ZZaTjoPDtmvoMpDOeT/vLLSkKtoK+3kL2DykG30aVKV6gaykTWiG/r07Vx3X0WvSZq5FIj/16wn4cuEugWVEo8/0PNhnz+wrHgRZpKVGmxHsXbGc/TPsWDliEDP69GBojZzhJ2e06WhYvTBJNApPzhzj7IevzwHWpihJ83K2v8BJeOQoXtdYseLryMtNzgEoz04zc+VKJq/cxMHnWnycdmBnb8+EFVs5rr66p3hxeseKL8tPPOjMR8Mz9q1byeSVK5l/7jkaf6dPf2MFyy57xPqo2URWn9aPgI+8/7Edg1+CuW1O8tloMQQGII/Wj1hc2faFiDvMstClfyfKfHSkX8/BjN97hXtvfPB8dZ/9G8bSZPJRfHK0ZHLrPKEW83lymb2OjuwOWU6c45YnpK7ZkR6537NjSh+6rT7C+cceePq+5eGd48weMx775+n5s0XVUJ8nok+boiy/l06BVvHi2PELuF0+yhEPBbO0FWhRzPRlhF+VNklybCyCb5957RWFrpHWhnQ2loCBF69ehdOp0vPslQcKYJ3SlpRaQJuYTGmSokXh+dOncfph9LHJMkV2qtX8ncG9BrFy+mJOLpnE2MrpsSCQB8eOcP5bhhb9CrQpSBe84vL8xYtIjyjTaAH0BOmj0tPUfB2paXQxLalSfXpoeKAZaQoUpmxhEyV/JuNvFY4TFB45bmTpFfdwRrcF8ej2PV4oluTPk/Pry1fEj6e1Ib1N8C/y0cyGkur1NlQpRMlMwbeZCQAzMlXqzfLxY5n/Z0FS4MvFTTMYcex5mEcDmNmkIo0lQCDmNgWMtG2IUig/OdUj0y1SkL9kTbq178XcsdM5vGIJG7pXJqs5fHxyjC23jG95vzT9Cx67G0BjTca0NupoaMpbzt98TABastTqydTGRcn0+eH9kaIlVdkaVE+hRfG6yI4Lz3D89BzgzBVqUTEOdQUN+o94eXvxxsuL14/dcA1Iho2lDy89PHh835XnljYkV7x54+XFGy9f3oc50Op55/sp7vmYO88CSJnMkrceHrx8cZ877pakSaLg4RX8Nzw/hPmAGKYlWdo02GhB7/4Utzi4KUSV/rkj87Ze4Vk4o9sCX9zm6hsFq2x5KChXVCIUlT2JEOI7SZi/I/8uHEzz5PdYML4HperWIHODNvyx8ByU64XDgr5UCTUeV8f93ZNpM3gwrUOWIRNZdk8HVoUYOXc2Y8tqObpsOLWa/0bm6nUo3HE4M53T0XXiPCaXiezgcBGxEM//uLmbETuu4W2woFC1mhSKqwcmy2zky2AGyltuOb2MdCIDElAsf3YSoPDm9hVuGOvofLzHiTveKCSgQL7cWAFgQeEi+YOfY3brJAfcw46BCXzzjP/eGc10xHOBePq8NzpqyCJ5Lho3rkguMzB88OHtR2NzxSVWFM2bHUsUPG5e5ELwHaCmaaxJZKUBgw9vonirloWlORogIDDQaPsnyluQgpage3aB3ffi5BCUSDIQ4H4d++l/U3/UXGbtPslJJ1dcnj7hzp1zrFs5iV5bXDHLXp8+NdOqXlbxjnvn97J69+6wZe8pbvoba3kRc6woVjAHVuh5eOFkHB1JFVsSkL9kSTKaW5G/wQBmNM5OIuUtx1dOZ+IF1agfq7yUzmEJ+mccOXnP6Cg5YwJ8fQjzAkoA8+QUrtqY+pnNwPCBt95x74d7d/cS570VNNb5KJcvgrS94f2nx2NoSZcuXfRGaSYsQrMKaTEzvOfs7gWsuOaHwSIXTWrmilMXDcxsyzN40FAWDB3MoFI2mGWqztjBQ1kw9G/a5bIkYcHfmTtsKAuGDmXB4M40UN8GorXltw6DWDB0KHPblyKNNhNNug1mwdChzKyfiwRWBek6aFjw8kMHM7yyep8f8yxzFaFkYg2G97fYfcY97MXhoDe4vnxn9DgeFxmC3Dm9bTpN+o1iyPrd7L7qxJ0nT3ngeodDe1fSY/IWbmuz07ZVTTKrfl7fR+dZrz4W797N6t172eviH2/aMKSfLwGnSUruir9R97eq5E8Z25uXED8rLTYFW7Bk9V4e7dvMsaWL2WO/lusHDnBxaieq2n7dNsxzduPMhSv4XzFSLh1gUYXgw7zWthQDp/6D29G9nF+5lN2L7TmxZR8Pdy5kcs1Mce+lAD/Y1+d/POfes0A0iYrye5XY7zT8MNp01CibiwTocT62NUxC7MPrq9g7nOG/ML0YLWkr1KRqcg36V47M+vcWoV7Iq/hw/t8N7HZX0NqUpkV5my8HrqTF69EimyWG9zeZPXUuS0/d4KbrA65cPcmqFZNpNnQpRz3j46E9AoonO+eN4H8OF3jwTt0+Ch5uj3ipgNYmPdkS/nzdhJilJX3FGlRJqkF5e4qZa8/xTJ091nly5cBy5l/49LB/8yzkyWAGijcXLtwN/cBhvTfXD9qz6Mo7I4PctKRPlRIzDLx3u8stI+e32pQV+LN8SrTKS7YsWci/j42dVn/kyfU9jP/3Utg3gMYZGtKXbECnKnlJ8uoSazcsou+4ETQfOIjWE+Yyy/E1Gat2ZtnIlpQIzsh/pfhwaf9G5mzYELb8s58LkXz2uoguLWkr/EadlFr0L48wZuFhnI2uxq84vWcZCy8ZCwq0iSndagh21dJjqXvJzsUzmHMr+Ll5wfGU1P2tPGm0Cv8dWcLIw4+N7g/ev7rO2mX/cuw9gMJrx3m0meHA4Sdhkwd6LzecPBTQ2pA1Q4iX3f1i9EGBYUYM6j2vMGfdSV4oZmSsVIdaEb3m1cyWzKkTBN+KevdO8HM3v1DwfXKaeTuu4BV2Rx+CBYWqV6WABQQ+f4RboIakRWvQSJ2AijPec+vBc5Jlz0VWs+ARhzfd/MmeK3cEj5D6yt/lAQ8TZ6dwejNAz6MHbvhmzEWR7706JipO29rZSGB4z7kNUxm69RRnXVy55XSV3TtX0HPQUMZd9AyzDcVVWtuStG9cheIJX3F0zwZGTRtH60EDaTZiAoPXO/I0dVWGjxpJn3xhDsh43tnPXPWxeMMG5mz4hw23vY30leK+n28PYJaDdot2s3/vKnoWjrcPNxHiEzOSpM5JmZKlqVa8ALlSfPs1M7PEaSlUpCTVSxenZDbbT6OJRIz78vwPAC2py9Sg9o99xWIs05KtVitaZbZE8bzA2FEjGLRqM4sdNjBh5ggaDpzOCpf3RhOQ2mTlGNCxEpnMA7i3dyp/jJrN5M1bWLJpJYNGDqb3vsd8tEhH445tqJEkRBta5qRr3y7UT2fJ+2cXWLxwMu1GjKTztEXMPfoAqxK1qZ46eP7wHtMSbwW+5uTW2bTs3Z8OM5cxc/NWln36rVrbX8ZLk4yKTepRPFqX/X8t2uQVGNipEpnMdfx3Yj4tB01i9Lp/WeKwgcmLptGqTz/+Wu3IXV99cGdba0udasVJoVF4dnwunWauYuHWrSxYNZdO//sfndZcw+vTs9xC02JTrBTFrUH/6igjJi1izpatLNqwnGFzt3MlCNAmoWrbnrTLbo3+zSUmjehPy2lLmLF5C0sd/mHq4um06dODxlPWs9vNLw53XLUkzVGFvr1Hs8N+FcdmT2bVqGHMHzKUJeOnc3D5ItZ0r0ORkPsDLKjQbSk3HBy4FV7ZNJXuGT8tY1GUMUs3c31uu3j8LL3YoU1Skr971ie/tcKLSyto038ofZesZcGWrSz6ZzWjp4+gbo/+9F5/Eiejw7EEAFobanQZwojSNph9fMT6ubNY4fL5gQtakpdsy4T62UmkvOHYihE0GjqNMWs3s2SrA3NXL6bfiD7U7D+FWSfd+DJY1xDIs6tbGTS0Nw3HzGT8us0s3ebAHPuZtBlhj6OvBpuiTWib71fd+Su8PDqTRsOmM2btZpZudWCu/XRaDZmFw7MgEmaty6g/ChJxPicxVWtWIouZgbcXltHebjEzHbayZPMaRk0eTIOhC9n2TB9h38IsXRWaFf70oiitDTVrlMU2rnYFg1y5+dBAvjw5SQAovi7cem1Dody2Rvt+YQVxx+Uhhmx5KGQJKL7cfPCa1Dlzk+67t5klBZv2ZWSldFh9fMZhh4X0HDWCtuOmMWrjUW4nKEHL0qkxAzQRrQRxgDZxDhq16o39bHvOLJvNP+NGsWjIEBaMGM+WRcs5OKE7rXInCZVYsizajSObjRyHv5RNbG6WMXjdiGfH4+++Ogsh1Ay82DWQrFV/o8tRI0Mivie/fbStWYVsow7xVh0TUaQlZaEC5DYDzDLSsFbhSHT4fnHW+fnfkL60y5scvB9y+OB2lm7dzdar7tiWbc/S/rUw/gJYLenK92T5oOZUS2/JW9cLbN6+hSU7DnHYzRfrDKXpNXg0Y8p+Hf32mWWGqkyZNoNl3VrQunol6lasQovGbZlmN4dNvSqSxQLQWH55YYMAtMmpULsu1bOnwOzDK65fOsa67Q4s2rqbrZce8S5FAf7sNZrpYW7ti6u0pK/QizUj2lAvexI+vLjJrr3bWLJ1N5tPXsXJx4IshatSJ7f1p/VPS5rKfzG5aQFSa9/z4NJB7B0cWH7wIg+sitJrmB3DilgZPTEzS12T4Z2rkiuhgTf3T7J6iwPLdh/hwK0X+H7KpmmTFmbg6PFMqFeELJa+3LvqyPrtW1i8dRcbT1zhtgeky1uO1pVyxY8LKForUmXMScnCxalasgQV8mUlnbV6TyB+LlpsCrfDfnxP2hZJh5XvI0467mP5FgeW7TrAriuuvMKWYuXqUj+XjL83yTw9v/cZTN+CScD/HktmzWPzk08PYtImpVy70azuWY/y6SzxfnSVnfu2s8RhK6sOnOCEqwfY5qV23UoUTgCgxbZobVqXzk4qsw88db7Etr3bWfzvVlYfvcS9jyko9Vsv7PuHvY3s16EhaeZcZPC/w65921nssJVVR69w3z8BOcu2ZeHItpQLlbgPX5KibZndrSq5Ewbx7M4J1m11YMn2/ex10VOk0d+s716G5MZ29CFpk1GmQFbMAPOMlWlROO7utXUvXbjrn4FCuYLHuwU8cMHFPDtFs0Uyo6J/yU03f7LlyhX81sugB9z8z5z8ebJF7xbgb2WRgSZ9p7FlVDd61q1O/QoVaVSrMQP+Z8euKb2ol9YC0GCV4NsHR/w6tCRMkZFC+QtTqWRJqhTNRx5b63jSV4w5GoPBEHcvoAoRSypVrEiNIkUY3LmzOhQ1igeXj1/A+b0CGnOyFK9D5Qw/cDcW9JTjh67zXAG0SShQsQrFY2DUVrk2bejWpw99+vRRh0xycHDgf3364HrggDr0C1Bw3T6KVptdMSvQkW2j6/F54EVsWbNzJ/P//Zf7Li7qULjs7e2ZPW0aVx0c1KFvEIj7QyduPPMhKIENufLkJXfyyHafPvLKzYU7L714jzWp0uekaHYbovX2+Y8XGNZrDvs/5KL/nAl0joHbPuauW8fu8+e5eOmSOhSu6dOns23jRo6vXKkO/WAK7z2f4fToOa/9AtCbJyR1umwUypaKRN/eVNE2btEibj9/zsFDh9ShL3LnykX/Vq3o0KSJOvSN9Pi8cOXWkzd4fVSwSpqaXDlzkC2p8fX3g+cjrrk85W2QJTbpc1Iih22k1lW9/wuu33vIc389lolsyJQlG3nTJCbMaUqgN65ubri98eWDYkHCpLbkyJ6dHMljtsNvU748+/bto2bNmurQF7169cLj4UNWT5qkDkVTEBdW/I8eRwPJmjsDKTSAWXbaDuhAjZ/skaT6F8cZt/wkzxQgyAsXtzdkbTWTf5pmUM8abc3//pvC5coxbdo0dSiM8uXK8VvJkgzs2FEd+ikFeD/ljttTXvgGoFhYY2ObkXzZM2Ibs6txuEq3akWfAQPo2bOnOsTbt2+xtbXlypYt5M2WTR3+hQTy9qkbd56+wStAwcI6KekzZid/xuRGHzGifPTE9eEjHr/1471iTpIU6ciXKxvpYzi5fev+fcq3aYOfnx+JE4fesNOnS8eUfv1oXrt2qOnRE8ipJX3o6+hLhrpj2NkhMy9c7uP82g+dZTKy5MxHgVRWYS7iRYbe/wXXndx4/t5AQpsMFMydjXSRfSGD8pTlo4axwFVLqY4zsa+XJlaSFTqdjuRly3L+/HnKli2rDodRpnRpGpcvz//atVOHRKR85Mj8Xgw684FCreewoUla9QzRYmp7CWnNmjVMGDOG2zt2qEPRJMfjkKauWMFpJydOnDypDsWISO49hBCxQmtLqZoNaNeoEe0a1vuxyTcAi0xUb9Ao+Ps0qBYjybd4K+Au/x5/SKAmKZVqVIr15NvPxZLU2YtSu3IV6pcpFIXkG4AVaXMUpmbFKjSqWJpy0U2+ofDy3CnOvzNgnj4/pVPFqx8gkrQktMlMyRLlqF+1Ko0qlqZsjh+bfPvxzEiWPg+VylakUdXK1C6eN9zkG4C1TTYqlK1Mo0plqRjJ5BuAWeL0lCxVkcbVqlC3dCEKGku+AVgmJ2e+EtSpXI0mVStSu3jeGE++/ThmZC3/B0M7NOOPcmWpVbYstcrkI1P4zf3DaBJnpFyZT9+xUl16d+xIhyLJ1bOJcCRInokSJcrTsFo1GlcsS6W83y/5Fn9YkjJTPqqUr0yTalWpX7Y4xcJJvgForWzInb8EtStVpUmVitQonCPGk28/kkabmKx5S/Bblao0KFeMQtFMvvF5f126Eo2rVqZW4RyRT74BH+4eYsfDIDRJi9OsUuwk38T3p3icY++tdxjM0lOqYCp1+Bckx+PvKfJ7ECGEEJGk4HH+IAfeKGhTlaNFqVCvrBUxRuHRkaX8b+lG1hy/wAWXRzx49oz796+xffNMuq2+ghdJqVS/Fvmk1yvET0ZL2vxV+bNuXVp/LnVKkzu8jMEPpE2am3q/hfiedetQO3tkHysuhIiXFG8OHzzHc0VLhnK1qCZdwV+K/sURxs5Yytzdxzlyy4V7T57x8PF9Th3fzN8TV+PoCzbF6tMie1zoYMrx+HuSBJwQQsQ0/XN2HL6Or8GcvFVqUuInPIDFDQaCvB5x+vhOZi+dTbdRQ2k2YAAtRk9l3PYr/Ke3oWyL/oytmkquOgshhBDiu9E9P47DdX8M5llpWDNfpEdIi5+DIcgL52vHWbVhKQPtRtFy0ACaDBlNn6XbcXypJ03hFkzvUZX0kk0RUSSrjBBCxDD9m4e4Jy1IxZK/0blGJuO3lokYYEamqp2Y0qUVnWpXo3650lQtXpKaFWvQ4c+e2M+ei33zgtjIkU4IIYSIw7TYZC5IxaJFKZUxsdGX4HxfCi8fepKiYDGq/taY3zPJZcBfjXnaqgzt24W+jWrTpFI5qpcsTtUyFWnW8E8mjJ7NrlHNKZ1UOpgi6mStEUKIGGaWtgojh41g8ZD21JbsT6yyTp2XOrV/5+8uPZny9yDmDxvC7H7dGdi0GmXTxt23jQkhhBDiM3MK1u/HohHDGF8r809w4VNLpipdWDhiOPPblyONdAV/PQlSU7x8bbq27cKEvn8zd8gw5g/sx9h2TWlSKC0J1fMLEUmyOxBCCCGEEEIIIYQQIhZJAk4IIYQQQgghhBBCiFgkCTghhBBCCCGEEEIIIWKRJOCEEEIIIYQQQgghhIhFkoATQgghhBBCCCGEECIWSQJOCCGEEEIIIYQQQohYJAk4IYQQQgghhBBCCCFikSTghBBCCCGEEEIIIYSIRZKAE0IIIYQQQgghhBAiFmkMBoNBPVEIYVqF8uUpmycPgzt1UoeEERXatePvwYPp06ePOmSSg4MDXf/6i/v79qlDwog1O3eyYtcuXN3c1KFw2dvbYzd+PJc2bVKHhBFz16/n2PXrXL5yRR0K1/Tp01m/ciVHli9Xh4QR4xcv5qGnJ4cOH1aHvsiRPTvdmjalQ+PG6pCIhnRVqnDkyBFq1qypDn3Rq1cvHt25w2o7O3VIxIA/Bg6kXPXqTJs2TR0Ko2yZMlQqUICBHTuqQ8KIcm3aMGTECHr27KkO8fbtW2xtbTmxZg15smVTh8U3uuXiQp2uXfHz8yNx4sShYqlTpWJsjx40q1Ur1HQRdTq9nkzVq3P+/HnKli2rDodRqmRJahYrxv/atVOHxA9kansJac2aNQwfMoTrW7eqQyIGTF2xgmuPHnHq9Gl1KGYYhBBRVqtmTQMgJQpl/fr16maM0N69e8N8jhTTpXixYupmNGnDhg1hPkOK6VKzRg11M5q0cOHCMJ8hxXT5o0ULdTOGUiB//jDLSPm2cunSJXUzhzJo0KAwy0iJ2TJ58mR1sxtVvVq1MMtKMV02btyobkaDwWAw+Pj4hJlXSsyXDx8+qJvekCljxjDzSfm24uTkpG5mo6pUrhxmWSk/TzG2vYTk4OAQZhkpMVsaNWyobvYYIyPghIgGX19fHj58qJ4sTChYsCDm5ubqyRFycnIiMDBQPVmEI126dKRJk0Y9OVwGg4G7d++i0+nUIRGOjBkzYmtrq54cLkVRuHPnDoqiqEMiHFmyZCFFihTqyV94enry9OlT9WQRTRYWFuTPn189OZTAwECcnJzUk0UMyps3L1ZWVurJYfj4+PDo0SP1ZBEOjUZDwYIFMTMzU4cAePbsGW/fvlVPFjEkWbJkZM2aVT0ZDw8Pnj9/rp4soilBggTkzZtXPdkoHx8fHj9+rJ4sfgLhbS8hGQwGnJycCAoKUodEDMmcOTM2NjbqyTFCEnBCCCGEEEIIIYQQQsQieQmDEEIIIYQQQgghhBCxSBJwQgghhBBCCCGEEELEIknACSGEEEIIIYQQQggRiyQBJ4QQQgghhBBCCCFELJIEnBBCCCGEEEIIIYQQsUgScEIIIYQQQgghhBBCxCJJwAkhhBBCCCGEEEIIEYskASeEEEIIIYQQQgghRCySBJwQQgghhBBCCCGEELFIEnBCCCGEEEIIIYQQQsQiScAJIYQQQgghhBBCCBGLJAEnhBBCCCGEEEIIIUQs0hgMBoN6ohBCfC/qXVDIuqlYVOumYhHVTcWiWjcVi6huKhbVuqlYRHVTsajWTcUiqpuKRbVuKhbVuqlYRHVTsajWTcUiqpuKRbVuKhZR3VQsqnVTsYjqpmJRrZuKRVQ3FYtq3VQsorqpWFTrpmIR1U3Folo3FYuobioW1bqpWER1U7Go1k3FIqqbikW1bioWUd1ULKp1U7Go1k3FIqqbikW1bioWUd1ULKp1U7GI6qZiUa2bikVUNxWLat1ULKK6qVhU66ZiEdVNxaJaNxWLqG4qFtW6qVhEdVOxqNZNxSKqm4pFtW4qFlHdVCyqdVOxiOparRZ/f/9Q8e8hWgm4bdu2sXz58i919UfEVKOo66ZiEdVNxaJaNxWLqG4qFtW6qVhEdVOxqNZNxSKqm4pFtW4qFlHdVCyqdVOxiOqmYlGtm4pFVDcVi2pdHRNCCCGEEEIIIX4UrVaLXq9XT4510UrAzZo1i0GDBqknCyGEEEIIIYQQQgjx05IEnBBCCCGEEEII8ZPTaDTh1k3Folo3FYtq3VQsqnVTsYjqpmJRrZuKRbVuKhbVuqlYVOumYhHVTcWiWjcVi2rdVCyqdVMxU3WNRsPx48dDxb6HaCXg5syZw+DBg0NNC+8/pv73t9ZNxaJaNxWLqG4qFtW6qVhU66ZiUa2bikW1bioWUd1ULKp1U7Go1k3Folo3FYuobioW1bqpWFTrpmJRrZuKRbVuKhZR3VQsqnVTsajWTcWiWjcVi6huKhbVuqlYVOumYlGtm4pFtW4qFlHdVCyqdVOxqNZNxaJaNxWLqG4qFtW6qVhU66ZiUa2bikW1bioWUd1ULKp1U7Go1k3Folo3FYuobioW1bqpWFTrpmJRrZuKRbVuKhZR3VQsqnVTsajWTcWiWjcVi6huKhbVuqlYVOumYlGtm4pFta6OCSFETIhWAk4IIYQQQgghhBBCCBE5WvUEIYQQQgghhBBCCCFEzJEEnBBCCCGEEEIIIYQQsUgScEIIIYQQQgghhBBCxCJJwAkhhBBCCCGEEEIIEYskASeEEEIIIYQQQgghRCySBJwQQgghhBBCCCGEELFIEnBCCCGEEEIIIYQQQsQiScAJIYQQQgghhBBCCBGLJAEnhBBCCCGEEEIIIUQskgScEEIIIYQQQgghhBCxSGMwGAzqiUKI8Ol0Ok6dOoVsOtFjaWlJhQoV0Gojzv8risLJkydRFEUdEuHInTs3mTJlUk8OV1BQEKdPn5b1OQry589PunTp1JPD9eHDB86dO6eeLEwoUqQItra26snh8vPz49KlS+rJwoQSJUqQPHly9eRweXl5ce3aNfVkEYPKly+PtbW1enIYT58+xcXFRT1ZhMPMzIxKlSphZmamDoXr0aNHPHz4UD1ZhCMqfbvwnD9/nvfv36sni3BkypSJ3LlzqydHyaVLl/Dz81NPFt9JwoQJKVu2LBqNRh0ySc5FY1+hQoVInTq1enKMkAScEFHk4OBAy5YtsbQwV4dEJAQG6di6dSvNmjVTh8LYu3cvDRs2lLaOpMAgHbly5YrSidmGDRto166dtHEkBQbpKFeuXJQSagsXLqRv377SxpEUGKSjQYMG7NmzRx0Kl52dHaNHj5Y2jqTAIB3t2rVj3bp16lC4Bg0axKxZs6SNY0lgkI6RI0diZ2enDoVRvXp1HB0d5beIpMAgHcuXL6dLly7qULiKFCnCrVu3pI0jKTBIx5YtW2jevLk6FCkuLi7kyZMHQNo8EgKDdADflIB5/vw5GTNmBGnzHyYwSIejoyNVq1ZVh0ySc9HYFRiko0aNGhw9elQdihGSgBMiitasWYPdhNG43typDolIyJinLjNnz6dVq1bqUBgODg7079ebFw8OqkPCiBVrdzJz4RacnZ3VoXDZ29szd9YUnK5sVYeEETPmrmPbvotcuHBBHQrX9OnT2bltA+eOrlaHhBEjxy/i2t2XHDhwQB0K14gRI7hx5ST7t81Xh4QRvQdMxdPfnE2bNqlD4erVqxfebx6ycdUkdUjEgIZ/9Cd/4fJMmzZNHQqjQoUKNKxdnGEDOqpDwohCZVrSq+9AevbsqQ6Fq0CBAvTr1pjunSO+WCiC+3YzZs3jzz//VIci5caNGxQrVgy/F6dInDihOixUTp65SvUGPdHr9epQpLm5uZEzZ05euBwkXdrIjzgXMcc6VXl279lLrVq11CGT5Fw0dk2ctoLjZ51xdHRUh2JE9McJCyGEEEIIIYQQQgghIiQJOCGEEEIIIYQQQgghYpEk4IQQQgghhBBCCCGEiEXfnIBTXu5jUvcudOkS+dL1f8u5Gqj+pMhRnu9mYvcudBu6Aafg508KIYQQQgghhBBCCPHT+uYEnMHrOjtXr2TlyiiUdY48imbyTHl7jZ2rV7Jq01leRP+5k0IIIYQQQgghhBBCfBffnIAzy9KWRQePcORIyLKbYeUtAHNytFvGwVCxIxzZOYLKVupPEkIIIYQQQgghhBAi7vnmBByJslK6ek1q1gxZKpPbRgtoSJi5ODVCxWpSo0pBUn/7XxZCCCGEEEIIIYQQ4qf3k6TBAnl1eSsLxg6gZ5cu9Og/mtmbzvLfR/V8pr1/dIFDBw9w4OBpnL2VUDH929vsXWbH4N5d6dL9f4ya9Q9njP4BP1zPHuLAoau80IPu9VW2zhtN/x5d6P6/MczbdpXX0bx9VgghhBBCCCGEEELEPz8+Aed9mYWtipC77B/0mzCHpStXsmyeHQNbV6JAod+Zdd6L0Kk0495dn0fzipWoW68FQ3d7kiTJ5/+ajkfb/keFfCVo1GM0MxevYKX9fCYNakvlAoVpPu8yPiE/SOfK2l4Nqdd4HA77x1KjSDn+6G/HvGUrsZ8/kf4typC/0kiOe0bmWwkhhBBCCCGEEEKI+O7HJuD0rti3a0h/h/u8tylJp8nr2ed4goObZtGjUloC3XYwpEFz5t81/cpU/+tzaVF/EAdfWlGo50YOLGhMBjMABc+D/anXZgGXPJNRooMda/c4cvLodpYNb0JujRvbBjSg7XI3wrzPIegsdh2m4JSpLZPW78PRcR9rxzcnXyIFz4sz+Hv2VfUSQgghhBBCCCGEEEKE8UMTcN577Bh/4DWGpBUYf9CRVcPbUq9qFeq0GsCSI8eYXccWPE8wcdQmXoYz4Mz/+lz+qD+Yg6+sKNx7IwfmN/qUfAN015kzbDn3g5JRye4IJ9eMpH2DqlSu0ZRuk7dxamMncmrfcGD8JPaFGgYHKN74Zx3EnhOrGN62HlWr1qP9mM1sH1kGS4K4d+iQagEhhBBCCCGEEEIIIcL6gQm4dxzfuo9XejOytBnHwBKJQocT5KOHXXcKWih4HfmXvW/UGTgD767NoUX9wRx8ZU2Rvps5MK8h6T8n34DAy/+y9W4g2vQtGN6vKAlDLo6W1PUG0rG4OfqX+9h24n2oKBoLyrTrRulQX8uM7BXLkcUMlLevQwaEEEIIIYQQQgghhDDqxyXgdK7cvOuDok1KmaplsVLHAfOCVamQzgzDRydu3A0KFTN4H6R/48EceqlDm64JY8bXJ12o/42C5/VrPNIDBmc2DuhBjx6q0ns2Z7w1aBQv7t15HHJh0NiQM3faMA2kTZqUJBpAF/r7CCGEEEIIIYQQQghhjDq/9P3o3+LhpYA2JWnTWqijwczSkjaVFhQfvDwNoUKK33889rAgUWILlJf/MnriSfxDz8Hr154oBtA/P836ZctYFqas4KBLIAYM+Hp5h1oajTXWCTWhpwFoNGgADKG/jxBCCCGEEEIIIYQQxvy4BBxatFrAoEenDy+ZFYROF3w7qIU6R6dJQtHe/3J5Rw9ymwfhtKgvE86ETsFpNBpAg3XVMew7coQj4ZaDrOqWP9SyQHCiTQghhBBCCCGEEEKIb/DjEnDm6UifRguKO/89fqeOBgt4iNszPWhTkS5t6K9qlr4VU2Y2Im/NcczqmA2zwDss6DuJc18+SkvadKkw0xjQ+ZuTpVpNatYMr9SgfO7koT5fCCGEEEIIIYQQQoiY8OMScGZZKVsyI2aGD5zdvY/X6ncsAN5H9nDSW0GbrCglC1iGDmrNMAfAhrp2M2idUcvHm/PoO/Uiwa9T0GJTpjR5zEF3ezfb7upCLw+gvGL/9CGMnb2KIy6qlzAIIYQQQgghhBBCCBEDflwCjgRUaN+aApYGvPaMpu96FwJCRHVPtjNo2CZeKOZkadGe3xKHCKpoUzdhytRmpNd+4PrsPky7/BEA80KtaVs2EQRcY06viZzxDJnl0/Fo8wB6j5zJxGFzOO4VnM4TIjbpHx9jbL+JdOkdudJj9jncjSSnRfQpLw7SsUoHilSIuBStvVi9uDBB2vbHk98gmpQ3rOvZOUwbGS0VezD0eKD6E0QkyPr5C5Bt4dtJG/4Y0u4/CYXnmyZRQt3mRktHKoy9pP4A8T3I9vLD/MAEHFiWGsyCQSVIqvzH1r/KUKx+N4aNG8/I3r9TqmQrVt0PwipvV+aNq4WJ/BugJX3L6UysnwrN+6vM6judqwGAWV76zBtL1ZTgc3YitYpUpnX/MUwcP5weTUpQuuNmHustydNlGgNKqUbYCREL9G/usmX9LlZGsqza74JveI9IFNFiMATx4d0H/N8FobGyJnEiEyWx7BeiQtr2x5PfIJoMBgI/fsD/3QcCtAnCtlWokpAEcs0uWmT9/AXItvDtpA1/DGn3n4YSFID/uw/4B2iwCtP2qiI/xI8h28sP80MTcJCMyhMPsX9OO4rbvMN5/3KmjR/H5MU7uOlrS4nWU9h7bAEN00Tia5plocOscdRMoeHdpRn0nXWTAMCq2GB2H1tB94rpMTw/y6Z5ExkzbirLdt3GK2EuGo7ezqH59UgViT8hRIwxL8ywzYs4sst0OTitDhnN1AuLGGGenvaLFnH28NJwy5ntXdRLiciQtv3x5DeIJjOytxrOSSPt9aUcms2EypIc+iayfv4CZFv4dtKGP4a0+8/CPNtvrNpvpP2/lCUcGlFcvZj4rmR7+d5iKe2UjE57PmIwBHLLruSnZ7WFQ2tD+X7ruPL0CTeO7WDjunX8u/cktx4/4vI/Q6meLnT2wbzwOK4GGtA9WULNBKFCmOXsxSFPPQbFj3MjivA5nLhIJ5acfsyLe6fZ47CeNWs2sO3wJR4+u8fu8fXIHPILmhdj4s1ADLqHLKim+gOAeaGxXAk0oHu6TB0SIvK0ScldoQw1q5ku1Uukw0q9rBBCCCGEEEIIIX4psZSAi4YEaSlcvQl/tmvHH/UrUzBt2OTXtzHHJk9FGrRoS4cObfi9VkkyJ/55/vtCCCGEEEIIIYQQIm6SDJQQQgghhBBCCCGEELFIEnBCiPhJ8ePazh0ssN8ablm45qJ6KREZ0rY/nvwG0WTA64Yji42019eym4MP9eoFRVTI+vkLkG3h20kb/hjS7j8LxduFLSvVbR+ybMP+2DP1YuK7ku3le9MYDAZ5x6IQUbBmzRrsJozG9eZOdShCgZfnU7T2Ou5p8vDXlOaUMXWntTY5xRtUoYRN3MqTZ8xTl5mz59OqVSt1KAwHBwf69+vNiwcH1aFo0z/fQ+vG67miU0eMSFIet9P91VN/WivW7mTmwi04OzurQ+Gyt7dn7qwpOF3Zqg5FWVxu289mzF3Htn0XuXDhgjoUrunTp7Nz2wbOHV2tDsW4uPAbjBy/iGt3X3LgwAF1KFwjRozgxpWT7N82Xx2KHL07K7r8jynXI9PBTEj96cuYX9vUDvzn1nvAVDz9zdm0aZM6FK5evXrh/eYhG1dNUociLS6sn7Gl4R/9yV+4PNOmTVOHwqhQoQINaxdn2ICO6tC3i4PbQqEyLenVdyA9e/ZUh8JVoEAB+nVrTPfOzdShiMXBNoxIxjx1mTFrHn/++ac6FCk3btygWLFi+L04ReLECdXhyIlH7X7yzFWqN+iJXh+Z/6txbm5u5MyZkxcuB0mX1lYd/gYKT9eNo+ZsZyK1q6/9Nzeml1NPjhesU5Vn95691KpVSx0y6VvORb+IR9tLVE2ctoLjZ51xdHRUh2KEJOCEiKJv2el9ScBFZl9nnocxJ9cyvpDJ15j8cn6aBJySkppdf6daao16li80lmlp2bCgevJP66dJwMXBtv3sl0nA/cK/wY9NwBlIV/V3elWyCf8WAY0FWcpUolyGcOf46f3wBNwvvH7Glp8vARd3toUfl4CLO20YkZ8rARf32/1XScApaUrSp0tx0oTbzBosMxXi99Kp1YF44edIwMX97SWqYjsBFz9aUYifjXk2Wg7vzeSxJsqYltRKK5torNEmIk+16rRqVjPcEp9O/mKUtO2PJ79BNGlImqsUfxhpry/l9yrxphMaa2T9/AXItvDtpA1/DGn3n4U2aWZqNjXS/l9KjXibfPt5yPbyvUlLCvEjaDNQp1cnhg80Ufo3omIq2USFEEIIIYQQQohfnZzdCyGEEEIIIYQQQggRiyQBJ4QQQgghhBBCCCFELIqZBJz+EdvGdqdLly6RKz2mctBdUX9KDNDzZOc4unfpxsh/XYn+Yym/jd7VgVHdutB93A51KBx6XB1G0a1Ld8bt+O/LVOX5biZ270K3oRtwisxrZIQQQgghhBBCCCHETyeGEnDuXNqyipUrV0aurNrNTd/YePmqgbdXd7B65WocLrz8cQm4VxfYsnolq7dfVYfCoefVhS2sXrma7VfffJmqvL3GztUrWbXpLC9+1H9G/DR07/3x8fbD29ufd2ESsh95df8OjkfOcPTSY94EqsL6APx83vExMutRwFucLlziwOFLnLvnwceQscAPX76D3/swX0KIGBN4dzc9Os5mtUtkVlrxbfQ8v3mFw2cf4xEb18aE+Fa6x6wcMIqmbUcEl46rOeQbcgYF30e32Lp+CzPmbGDG4u2s2XOVW69CHsEUfFzvcOTYJQ4ZKYcvPMFbARR/XC5dDp5+/BJHTt3gopM7vqEOeX4cmDrm6/dpL/sqAp2Y13M0g3e8/mH9719ekDMLeo9mwNYXwXXdG66duMRJZ59PM+i5vXYmfwzaxz3pgn1nOq7YT+aPkUd5JCv4d6Dj/btAFBQC3n3E+Ooe3jzSp4ldepzWz6T55+Nf2zFMOPYu1ByK73PO7NrLvHkbmDrPgcUbT3L8jgfvv84Rr4/HGoPB8O2ZsMCLDC1aken3NJQfto3xNazVc4SmTUau8qXIYqUOfCsd10eXoIydE1n6H+funEpYqmf5DgLPDKBQtTk8yjeSwFt26rARgZwZUIhqcx6Rb+Q5btmVBEB5uosJ43fyNHk1BkxtTwFz9XLiR/iWVz8HXp5P0drruKckJku+dCSPKAVunoXuKybRM7eObX/9xh9b/FCwoMGiI+xplxgIwHn7MgZP2cmhBx+wTpoAnZ8/ettCdBo/ilmtc5AQCDg9g/yNj1N98y6W1w5vq/DjwqJJdJl2gnvvLEiWSMN730Csc1Rg4OwRjKiSkrer+pCp/wUC0JC69UxeL62i/pAIZcxTl5mz59OqVSt1KAwHBwf69+vNiwcH1aFo0z/fQ+vG67misyRVlnSkTKCe4ytNwqLsXdNGPfmntWLtTmYu3IKzs7M6FC57e3vmzpqC05Wt6lCUxWTbBlxaQa1et6mzfBYji/08O78Zc9exbd9FLly4oA6Fa/r06ezctoFzR1erQzEuer/BOxz6dGWkSxVW7O1OlfB2Ed/JyPGLuHb3JQcOHFCHwjVixAhuXDnJ/m3z1aHI0buzosv/mHJdj5VterLaWKjn+EpjTZW/RzOkrIl5oijwugOdpv5HzUkD6JTTTB2Ocb0HTMXT35xNmzapQ+Hq1asX3m8esnHVJHUo0qK3fgJBTkxoaselyv2Z8FtyNJpEZMqXAVtzQPHm5MLZDF7nipI+O/kyWqH3ecMDl5d4Koko238Ca9tlwhwdN+cNocWaVyRMnhD1r2eWoRZLV7ekKK7MaDWKZU+sSJHYHIMuAD+/ALSp89FmcC+G1EqDJXo8Hj7iqb+C8vIUI0bdprL9t+2rGv7Rn/yFyzNt2jR1KIwKFSrQsHZxhg3oqA59u+huCwGXGFh7Lq5/TmVbj8xEvyViXqEyLenVdyA9e/ZUh8JVoEAB+nVrTPfOzdShiEW7Da8wtO5s7jSbzL7eWcH3OH/VsOdew2GcG1MUCOL81L/pdK4UG7Z1oKSJj/3eMuapy4xZ8/jzzz/VoUi5ceMGxYoVw+/FKRInTqgOR0502z1SAjk2tje979Vk+8aW5P/BK/jJM1ep3qAnen30Ew1ubm7kzJmTFy4HSZfWVh3+BgpP142j5mxndFbJyZY5GeHv6jUkrtCWf/9XONRU5eVB+i5NzvRhlkwZ+YwuMxqRVXVoDH+en6tPY4p1qvLs3rOXWrVqqUMmfcu56BfR3l50XJr2Nx2ulWDeiPKk0mhJmjEbOWzMAIU3ZzfTZ/QebiqpKZg7DYkUP565/cdjL4Wkpdry75IG5Db/uY/HE6et4PhZZxwdHdWhGBHR6X8UabHJXZmaNWuaLtVjI/kW92gzNWbcitWsnCnJtzjH4M9/Tg+4eSei8pRXAV9z5Oal/uL4mfXMb5AQ0PNw/UhqdtnJmyoDOHv/FD5PTuDr+g/LfvvIP33+R4+dHkT24o//8UW0Hn2dDP0W8vj5aTyfnMLn3hJG5bzHhA5TWPdCwabJcC6fWcjQYrF/ghj7Annz3384u4Rf7rl9HZEqokLa9seLym9gTZ3hU9mzpAUlf+KO6vfy0eNFmLYKVe4/4ZlvZPeskWN458kjt1d4hBpyHJdFZf38TEPC1JkpUjg3xQp9Sr4B3kfXMWTtc/L0scNxtx3rF49i4z/zuHBsJov+KkBC/4BQx0FNguJM2L+Cy46hy4UNLSn65SxAg1WlLpxyXMGV0+u5vm8UvbO/ZO3o+axw0QNm2GbPSbHCuSmSIzlWmhB/IA75EdtCXPNNbZi4NOM2TmNt97zqiIjAN7W7iDkfvXmkbvtQ5TH3n4cePQXgf8MVbcG8mD+4z9useUlv5LQj/HmkTxNV0dperG3IUzA3xQrn/JR8A3wuMnnMbtxy/cmWPfPYaj+CtSumcOyoPftn/k5Z6/d8CDH0K74ej2N4BJwZDVa9Zk+nZOo5TPDD9ew5XN+npkiNYqR4fpYtG3dz0fUtumQ5KP97B1qVT48loH97i93/bOHE3ZcEJM5MyfrtaF09G1+vk4QeAXdnUkbObdzAnitPeG+dnkJVm/FHg8KkMrIRA+jf3ubA1l2cvPUfXrqEpM1dmt+aN6OiiWyhn/M+Nmw5yZ1nflhlKk3j9n9S5skICoc7As4P530b2HLyDs/8rMhUujHt/yzDkxGFw4yAw9+Nc2dd8LXKTKlKBUipBfxcOXvuAf62RahZIjUeV3eyeecZ7r38QIL0+ancuBWNS6QxeuVR736dHZu2c/ruSz5YpaNg9T9o26gAursnufbcQPpiVSmcJkROVufOjb3b2H3mFk88AzFPnpF8ZerSvElZMoR/KSPOi5GrDlEWwLa/fqPN6x483N2S9Frg7VFalxnFqap2XLWvScifjsAHTKzdgYn69lx27EHe8xGNgAvi7IiWVN9VmgPXhlE9xO+rf7yB6iWXYDVtFwf+skWrvGBOvWZMzTr1lxwBF136pzfYfNqf/L8VxOzCcXZefIG/dXoq//4bDXJb8fbuORz23+aBtxnpilaiw+/5SG0GivcD9u5/gEXx6tTNG3JfovD0/HGOvk5LnYYFjXYuoupHj4D7FnpPV/ZuPc25x/5obDJROs1jZs17RL1QI+D0uN84zb+HnXnkYyB5lnzUb1qJEqqduu6tC3u3neP8Yz80KTJRrmx6Ap++J0utypRO9W3XnX72EXDRE7wuHnubmYb1cgcfa1Dwcr7AlgN3cPEIwiqFLVnzFKBWjYJkiebghMj6ISPgvomCz4MrbNt/k3vuQVinTE3uoiX5rXJWbHnG0S23CCoWevv3dz7P1uvmVGheihxeTmxZuYkpW99QtG19KttqwMyWsk3Kkj8hwHtcHB3ZdfYxLz6Ykzp3UX5vWoo8SaO/Lv+oEXDRFuTEhKaTuNN8Fps6puXrFh/E2Un/o9Pe7Mw8PohGRm7ACAzSY2lhBp9GwP2xKT0zHI3PC0CQKzNajWZtlt5cnl2Rz7PpnDbTqP0uEvWew5ZOab/MrnPdSrPWpym97NuuuP80I+Ci68sIuCmsrfGSf3ffwMVTQ5rCFWjbrCDpQzVNzK/Tpnz3EXDRpR4Bp3fnzI4reOSqSJMiScMdAad7fottjs8wz1+OJsVTBG8ffk85sus0p+578N4iBXkrVKFltcx8beKY3cf/FCPgoulL/65OATjvyN7LL/BNkJrSDerwe+Fkn/Y3RkbAvXvGsb0Xufr4LW98PmKwSkbWQiVpUq8AGRPEbv/v5x4BF30Bl7byv3X3cX/0lPfps5LK6zH/JchIroxF6GPXkGIWkZlH3adR+O/sURx9stGwYgIubzvBCVdftKlz0bBlTcqlDfkD6PG4dZbNB+/g5qMlZY4CVMgSxH/v0tKxUf4Q88WMHzoCLto+jYC7V4uDKxuRJUTzBVxcQc1epyg00Z7F9YzkT4J06CzMv4xI/1mPx7/YCLho0LmytldD6jUax4bNvShXqDIdhk1n0YqVLJs1go5VStJ00V08L86kYbFSNPufHfPtV7Js9li61ipBrfHn8Fd/JmDwOMqAysWp2W0Mc5atYNncCfRpWoJ8Ff5m91P1zkrHo23/o0K+EjTqMZqZi1ew0n4+kwa1pXKBwjSfd5nPT1/4QnnB/mGVyV24Ib3GzGCx/VJmj/6L6kUrMfiYp9FRR8qL/QyrnJvCDXsxZsZi7JfOZvRf1SlaaTDHPMMuoXu4nr4N69Gg3UKuB32a5rqWXg3r0XicA/vH1qBIuT/obzePZSvtmT+xPy3K5KfSyOOE/jiFF/sGU6lAaf7ob8f85StZvsCO//1eiqKNprNiUivq12/B9HNfHxymuB9leKV8lPy9F2NnLWXl6lUsmzOB/q3Kk7dwa1Y6BYT8A+IH8DpykP2eaWneuUro5BuAZQ76rVmP8+4uFInU/keLjU0SeH2DHY6vCPkIObOsf7DLaRcbW6X4CXYYP47uwRlmz1rDkC7D6bXBFT+tBs/LuxnQZTrDJoyjYb+dXPbWYPHhIVumTaKrvRuBgDYROG9dz/CFZ3gVcrv8cJflE1ey4kYASaPR+YpLdE9O8L+2Yxi+zQ0/ywTg4cSadZd5FeryUBDOG6fRqMsadroGYGkRiMve1bRuPZ21Dz7tIIGABwfp8edYRu18yDsLC/Qvb7J49FyGzdrBkWdh97MCQIfLwX+Zuu46rxWCbyE4Zk/z9kvZcNMPM0stvm5XWTlxMqP2ehs9vsVfetx2zqVRm/msvOKDxlzHy9tnmDNkMjPOBUKgKw6zN7Dhqn+IdlPwvnyQqbOPczMQFE9Xjpx/wQfFn3uOp9i25yTb9t7A9YMC+tfsHjmcpiMOcNXHDGtzPy79M58WXf/hbKhnoMVXWpImS4gm8CkXr/gaXTeDk2/fTmNliSVgMBj7KyKYwssji2jadzuXPMH8wyO2zZhM+5m3vvbVZZ2OPN0T9izewPIznurIF7rn5xjRczrTjviRMUdwskj/7AwD2wxnwKb7eJklwNz7HquHj6L13NufzmdkHx9ScP9uFQM6DqPPRld8tFp8bh5mVNfxTLkYdnTWZ7rn55g35wCObv5orSzB2w2HaRNp2v8gbnrp/0VHgtLNWTq3JZXyVmLSot40zlWAvxePYuW04ORb5OZR92l03N+/mckzltCx9VQWXvUB84847V5D5+5rOfvlJw7i/qYZNOq8HId7H7G00PPi/A4GD13K5BVXvnxHET6zJIlJognk/lUn3hrbkViYGx0kFFW/+vH45zmfDjzOxO4reF2oGzM3H8TxqAPTWubBSv+Sg6OaUanZSK5k6MjMfw9z4qgDM9oWIrHBi/MzxrDmP3Xj63m00Y6l99PSdMwa9h4/xk77IfyWxQzPi/Pp0HEh97/k4BQ8D/anXpsFXPJMRokOdqzd48jJo9tZNrwJuTVubBvQgLbL3UI8VFaH07y2tJlxmtdm2ag/bDm7jjuyb+04mmdwYdHEDWEf0KlzYl7bNsw4/RqzbPUZtnwXxx33sXZcczK4LGLihkdRemht0Fk7OkxxIlPbSazf54jjvrWMb56PRIonF2f8zeyrX59OqLs7hzZtZ3P+rQXZ6g3FfudxHPdvYEr7grw7OJKx294SehikDwdG/MWMiz6kLN+TOZsPcOL0SfZvmEybwkl477KZv/suwy0qX1jEsCDu333Me8uclCikvnMeQEuyrDnIniKyuzkz8rTvQtfsz1j0R1Myl+1J6yErsN97hyfvzEme2paUiaSXAGZkaTqQfRuGMGNsb+yXtKZsoDNHnhZmrsN0Vk3qwbTZoxhT3RLnQ+e5EwRY5KBF41wEXnJkx6Ov+yqvk8c44J6OJs2KkDjU34hnFC92zl7HEfMqLNw0gcXjujF16gi2TKpGhhDDyPVPjzBxgRNpOo5gt/3/mDruf2zYNJy/bO4wa/oRnuiDT+w2Td/I2aS/sXzzOBaO78GM2WPZPb066X+BIek/DeUtezed4kXxNmxdNZBpY3syf8l0TuwaSY8iVj9Rx+HH0z8/wviZV7BsPIhdawcxfXw/lq+ezbEN3Wgc8rKwCeZ5G7FoSClSmqWh+eSp7HOYwb6NPWiUEl7tXs04x0R0XTaDzTN6MHn8ILau/Yty7oeYt+1FlPoNcZMZ+RvUpnzS12z++29+6zqb4bO3snbvNW6++Gg0kWD4eIXBlVqTt2ToUqDZBq5+zeWr+HNlx3nuk44ypVKrgyIEs3SVmLN5Kisn9WDa7PHM/t2GpwdOcOYDgCLrdAzSv7rE2L5LOGrTiKXzW1AmmRYUT7ZNW8WRpI1Y5zCeheO6M222HVtHFOS1gwObHyuyjzfKklyth3NgwxBmju2F/brh9Mj2io32jsH9CyPMM1ZnwZ7FHLAfwLQxPZg5exxbhxVHd/k4ex7opf8XZYF4v/bg+f1b3EuQgdQeN7nkn5pM/p54fYjKPOEwT0XjKdPYvbAvU8cPYtPkGqR5foat54Of/aB/doSJC26RvNVQ9qwcwLRxvVm8fBrzf7eNp9tE1JnnqUyb0ol5sm0GdZqNp/f49SzYdArH2294Z+SAHF+PxzG8Pik8P7ue5cuXmygr2XE17Agxg/KOwNxD2XVoCQNa1qFqjRYMWT6dlunMULxdeJCsN1sPL2PAH7WoUqMFg1ba0yuvOYb3VzlzUf3QFAMGbVbarzuOw7gO1K9WncZdp7HnyDzqpQLvkzOZcfDTtTjddeYMW879oGRUsjvCyTUjad+gKpVrNKXb5G2c2tiJnNo3HBg/iX2fh8H5HWDmrFN4k4r68w6zc0oXGlWrSr32Y9h4bAOds2lRVDf2+h2YyaxT3pCqPvMO72RKl0ZUq1qP9mM2cmxDZ7JpFVUSzDTF25+sg/ZwYtVw2tarStV67RmzeTsjy1hC0D0OHXL5NKc3u6fN5JS3hnRNl3Bs91S6Nq5G1bptGLbmGLuHFsNSrw/9twMusPvgc/QWlRixcSH9W/5GlYqVqdtmOGt32FE1Mfif3cne5+pfUXw/Bt75fwSrhCQxln+LBm3qSiw8spZtE5pQLtELDqxYSvfWHcmepzmNp5yXN/ECaFJQqGw2kn3ac2qTpyVLMg3JchWgaPB9e4A12bOkBE9P3BUALVkaVKdygods2+lCAIDenT3br/GhSHX++NFP8v3BFO/rHLzwgQKNG1LFJrxDksLrM5e5psvF781zkujz5ES5adsoF4E3r3DyrYLicZ2jN3UUbVKPMqpbmST/FhUatBoN+v/ucPiOV/A6CyRIV4AKeYzcUhBvKbw+eZHLH3PSsmNhbL+sclqS5y1J+Ugm4MKl+HDs8B30JavzR1YFX993+Pq+412iwlTOZ8Dp5oMQbxSLv8yy1mbR6gEMbJAD6+d32LnegQmjpvJ7g27U7PMvJ4KHQHyhscxLjznDWLkwdLEfXZ1cIX6yINczTJu+hvGTFtOz3WA6b3xLwU5/0U0eymuCltQFi1DwyxumLMidIzWad1689lVknY5Bisc17Pot5GDShiyd15zSnzomytsr7Lusp0zT6uTQB7evr+8HEpcpSkHlMdduf5R9vDGa5BQomenrLboJslKvamb0Ts5cC2+lTGhLllRaPNycOLL3CKtWbWPtdV/M8OWNpyL9v6gKesb+VQ5Mm3ach2/vMG/CVi56P8fBfit7XT8NLInMPOHQ2uakUr4kX5IfCXJkIhMfcX/zHgWFN6evcDUwN81b5//Szw8mPchIM0tPm1kTWNSnCoWt3nB+717mTltIl3Z9Kdd4CnPOeIa6yBJfj8fhne1EUxDXV/alW7duJkpPJu5+GiYBB+YU/6MDxUPe9p+oKEVzmwHmFGrRifJJQsQsC1IwjwUaw3s8PdU3oWqwrtyfcY3ThfoPmufsxLC2OTHXv2DvVkfeA4GX/2Xr3UC06VswvF/REM+TI7gjUW8gHYubo3+5j20ngvfAH0/u5OBLPebZWzO4Q45QQym1qeszqm9F1QMAP3Jy50Fe6s3J3nowHXKEWoLU9UfRt6JVlDZvjUUZ2nUr/fVEFMAsOxXLZcEMhbev3YOn+R9j2wF3FIuCdBndRvUGmWRUGDycpqnVq4EWjRbQu+C49y5+ISJmWVsze+chzt/cTPeM6uXE9/PpltH3fnir88/fIlkOmvYfyo5ju3jjtoNTa/6mV4kgjkwdRpslj+XKtJrGHAsLDaEfpanB0tICjcHA55HR2pRlaVkjGU8PHuOUH+genGDLdQuqNKtMpm88R//VKS9f81xnRZYstiGe66Sm8OqlF0piWzKkCLnf0ZIyvS2JFS9evFLQuXvioViRLl2ymD64xS9aGxp1aUixj1cY274Hxar1o3H3eUzb8cD4LQXxlsKLF29RkqQmy9fsW8zRv+HpKx3+p+ypVLkTxb6UXow5F4Tu3Tv85PcAIGHW0vQaN4Jd+1dx88QCdi7tx/Dfs/L+wnb+nnQi9O1f2sTkKFmYCmVVpWj6EM/HAsNHb549d+fF2wASF6jOOPvpbOhdQHViJkzTYpXAEg0G9Iqs0zHF8MGVhf+bx/pnOfnfpK/JNwDdS3deBn3g+MReIdq3E8XqruBUoB5/3/coso+PBDNS2yZBG+THW/XD5z/RPTnLmLY9qdhsAn/P3oXDkZtce+hLkAE+dwul/xcFFtlpPbwrzfNl5fch3elTNiMVuvRm+vhutCv06dw5MvNEkjaBJQk0oOiV4Atq7t4oCVOS4csFdREt1ump3aUHqzYt5Nq5lThuHMWcATXI9+EWi4YvZ3vIi2Lx9Hgcw1/bgvwtxzF58mQTxY6+tUInxgDQJiNnnoyqEzArElgCGjMyZM2qumdYi1WC4CfFK2EeQGlO3kpVyBDmj1hSrHxxkmgVPO/c4JFewfP6teDbRQ3ObBzQgx49VKX3bM54a9AoXty78xjQ8/DmbTwUDYmKlqV4mJcRaMlQqQK5Q35Z/UNu3vZA0SSiaNniYV/FrM1ApQq5o3RPtMYmJ7nTqv+DWpImTYIG0AUFj9vU3b/ObR8FbaqSlM1n5C8krUjFwhahk38JytKkbibMlRfs6lOCLLkr0bzXeJbtvsKLwJQUqVGLMnlSY6X+8+I7Mid30Vwk17lx5VbIJ7Z9pvB80xTqd12Lo5HnC4YR6MSS/41j7F73L8lx8xSZqPR7G+Zvm8fI4gGc23cWeYRWdFlRoVllsnld5t+jr7m4/RQuqcrRulrSsPvC+MZMgxYDer2pMcAaLBKYgy6IANU6qA8MRIcFCSw1aK0tSUAQ7z+YvgoqIqIlRZlWbNo3jy2zutKvSUHS+99jzYSJ9Fr/DGndrywszCEoiMAI9o1KdN53pTHHwlxD0qqd2fHvdPaqys4xlQhz/UxgmSwNhcpWpMuowQyumAD/O87cDfdWlvBZFmzAgnlDWDb7b2YMa0GLErZh+28iamSdjhHKm8e8zlKGstb3mD9uL7dCjNDSmptjrklEzaGTw7Tv3n+nMLl+CrSyj48EhXcfAjFoLLG2NrJSKl5sn7Gcza+y0X/5Yq4eX8jBTXasHVKWdKFOqqT/FyW6F9x4bUORjAFcd9ZSqKCR23wiM0+UabC2toTAj7w3dlolosciMZnzF6ZR+64s7VeMhO9cuewc9T1MXDsex/C2ryV7nf4MHz7cRBlCp4qpw/5hTSISJwlvDJgW8yg9RFdDyrRpw/4NwCJVKlJowODtiade4fVrTxQD6J+fZv2yZSwLU1Zw0CUQAwZ8vbwBPR5vvDCgJZmtLcY2eW26dKQK+V/Re/DGywDaZNjaGl2CdOlSRW0EnLU1CY0soNEET/z8UEK9xxu8FNAmS4mNkfnRJsHWVv3qkST8Nm0TM5rlIalWh9eDM2xbMo4ejUuTJW0OqnSYyA7n8B9KKr6PRFVr0yi1O9tXHOeF+uQv4D72S3Zz5M47kkTmrWJmVry9eZC5y0+EfdaFNik2ycwwS5Dgl97Z/WiW+avTvJCOsxuXMOegJ3ka1qSMetOLh8zTpyezZQAP3V6a6PSbkS13JhJ/eMR155Bn0kE43f6PD4kzkjezGeaZcpDfRsetC3dCvDhHwd/L/8stNiIygvgQoKBNmJriNWrS43/dWLJ2GN1zB3HriovcIvaFOdlyZ8T64yOu3AlnDdNYYmlhCB51oo6FZKZFi44gXYhEnXk68uew5v0TD3TZspIvT+iSN1OSKF24i5sUnjj/h4+xxlX06HSgTZb005t9xQ8n63SM0GaoxvhJvVg8sylZnTfRc+RRXD8lDcyzZCV3oo88fqWQXdW++fJkIUtyM9nHR4biz5XrTzFkyUHBpOogoH/J/ccBJK9Qm06lbEz2j6X/FwXmWeg3tzMVEiSm6dQB/Gls5x2ZeaLMjCz5s5JS58bZSyHurFM+4OUTFKXHRMVn+mePcTY6YlRBr9Nj0CYmZbiPm4k/fqIW0GIWg98m7Ki4YAadLvg2Oovgt2cEJ6w0WFcdw74jRzgSbjnIqm7Brx82+/RF9fpwThc1GlUyzezT/01P+IsYy46ZErn5NdbWWGnA8PE9H43uPQx8/Ggk1Z+8LP233OXRrX3Yj+1Ok/K5sLEEnc9DTq0bS4sqf7DUxXgbi+8kSTlGjqqEdu9UGvTZzBEXP3To8XE7x4zOw5l+Ny0dR/9J8S+92SA8HtzizPkbocq5+55glpXOvauR5PRimvdz4KiLLzpA5/mIvTMnMuVMUhq3rSpXpr+FWWqaNC2ClasT13X5+aNxZjnRAEhchPqVkvBg579suOOHXgngxfXjTFtyidch9lmJK9aiWeY3bJm+gQOPP6AoH3h47B/sdniQrVEtqiQEEhSiY7u8fDi4jPZD1zF30TqG9R9BY7ureIf8m8K0oMcs6TuRMZuucd9TB+h463yXO280ZM6ZkXj6hCCjklapTbMMHmyZtprtzsH7YL9nTmyZu4gFl4LAMjP5s2twPeHIRQ89BHpxc+9GRvzzgJCpZPMMaUmv8eDiKVd8FIUATy+8gqyp3qoWuV4cZPDo/Zx7/hEFhQ9vHnN88zqGrXIO9cbq+CmIq8vGUr/LUpbsd8LNMwgFCPB8wmH7Rcy7YEbp5tUI9a4iwzv+u+3Mleuq4uT+9U2dIpbIOh0TNGZmmGsgabHmLLGrQZLzq+g+8RzP9UCi4rRrnolnmxcx5J87PH2vgBKA+/2rrJ+5lKXXdbKPN8qXBzce8vqDAkHeXPvXntmnNFRsWQ2jj5kyS022DBb43LiC4/MAIJBXN44zZfYJQrxv4cu80v/7+SUoU4+/igWwZ6Id/5vpwJxZS+nedigjT4Z8GJMwJfDGFlq1GM+wlWe4+Mg3+K6VQF/uH9/GoKW3MC9ei+Yhn30YT4/HcfR02oD7i+dGrzb7//eEN4oGs3SZyGSuJW26VJhpDOj8zclSrSY1a4ZXalA+d3LAnIwZ06FFwfPpE6NXXZUXL0KdOGKekYzpgt9M9PSJj5HvpfDixetYya6b58hJZjMNyqsH3PcO+5fRueDyMLzMvhk2+evSddxSdpx1wf3VPY4u/5sqabQo7oeZu/yidJR+KDOytR3PgYW/kfTEQn4rWQ1rmwrYFPsfE25npO/qBSysl+LrRq54s3N4DyrV6RKqVB97HtCSvsVo9s2thdXRedQpWR0rm7JYZf2DFsu9qTltFkuby1uAvo0W22rlKJdYi23VmjRML60JgDYZ9QZ2o11qFya37Ur+0h2oPvQUSv7soUftWudn4PRu1OU0/Zt0Il/pTtQaehpDra4s6J2P4IvJ5uRpM5B1Y6qT3e8h568/JyBbLWaPqkRqLLBKELkLF/GeNhk5M37g0Oyp1Kvelrwl21GmwxaelGjLtM65sVTPH58lLMigWd1pYn2NEa26UKBkG4o2mMCk4+9IlFQLZulp3a8RBd0P0r5WW/KU70WXf3woXiZTqBMws4yV6fZ7Oh6vHkPJ0m0oWHs+O98qJCj6B0un1iPLvX/pUL8D+Uq2oVCtIfRedot3iRPKPhlz8lerTMGAmyweNY7a1duSr+SfFKw+iP9tfUfFgcOZ/2eGUI83MQTcZW63MbTsFLq0HnaAUANsRayQdTomaUlVpRPLRpYi8MBSus+6jodiSYmeg5jXJg13FttRtUIb8pZuT7mWs1hw8QNJEmtkH2+M8p6ba6ZRpWJb8pbrTos5bmTp/D+mNktj/Pm0Wlt+79+aGoaz9K7fgbwl21NtyAmCCuUhbPdO+n+/BIvMdJo1mslN0+N77w6XHwWSo3lfJjVIgcYyXm4VUWaRpxRN8gdyZsVCWjftQoHSrclTtgv1hh7Bp2x7Vk7/jRwhNqj4ejzWGEI/PTx6Ai8ytGhFpt8zo8Gq1+zplEw9R/h01xldogx2dzPS58g9FlQLMYhXcWdp3Uz0PGJO0/Vv2N4m5CsS3rOlVQZa/vue6gsfc7R3OkDH9dElKGN3G22Fadw6OZjcIfeaijsbWuSjw3Y/Cow8zzW7EnBjDCVLT+SWtiTjLp1nTGHVNQnlFftnzuaieV4qNmhFrdwJ0V0aTtEKU7mXpAmr7m2jQ5qQO1I996dXpuiwc+gLjiTwlh2g49LwolSYeo8kTVZxb1sHQi9yn+mVizLsnJ6CI89xy64kALpb4yhTcjw30/bg4IMl1EwAuuujKVHGjrsZ+3Dk3gJCNhfouD2+LCXG3SBNt308XVYH9PeYUrEYIy9aUm3udQ73yxHqQPL+7GBKVZuFkz4FbbY+Z0NTK3S3l9K592LOaZrx77GxlAjVJDqujy5JGbvbJPrTgZcbm8W7K2Vr1qzBbsJoXG/uVIdiUQDb/vqNNq978HB3y7AHd+UDL13ccPUIxCJlJgrlSUUi9TyR9eWzgrBInpa8+dKRPNR29II59ZoxNetUXi+tEiIQORnz1GXm7Pm0atVKHQrDwcGB/v168+LBQXXol+R3YjF1Bt2nnv0MRhWP+YP5irU7mblwC87OzupQuOzt7Zk7awpOV7aqQ9+X8pEXDx7zPDAx2fJkxDbc5gnE4+F/PPKGFFmykDNluDN+ouCxfRrVZmgYc2AYLZKr41EzY+46tu27yIULF9ShcE2fPp2d2zZw7uhqdeinpn/ngetDd7wCLUiZOTO5Upm6ySbmjBy/iGt3X3LgwAF1KFwjRozgxpWT7N82Xx36TvT4PH+K6+tAEqVOR7aMSULdkqS898D5vjsfk6SnQM7k4dyupMf7ySNc3HUkSpOenJmShpgvEI9HT3j8NhCzZKnJmd2WJEbPCiOn94CpePqbs2nTJnUoXL169cL7zUM2rpqkDsW+ICcmNJ3Eneaz2NQxrZETYoUA7zc8euqFz0cDCZKnImd2WxKHnTHG6Vy30qz1aUovm8XIYtEf19Lwj/7kL1yeadOmqUNhVKhQgYa1izNsQEd16BcSs+u0KYXKtKRX34H07NlTHQpXgQIF6NetMd07N1OHfh0B3rg9eIVHgJbk6TOSM13CUNtOTO7jM+apy4xZ8/jzzz/VoUi5ceMGxYoVw+/FKRInDv1KvNgWcHwh5Yc8o/2mcbTWPuGRj5ZU2bOSLXkktudAPx4/eM4bQ3Jy5klLCmNPGoqF/t/JM1ep3qAn+nDu+IoMNzc3cubMyQuXg6RLa6sOC4IHL/zbrx92mo7cXlBdHf1m1qnKs3vPXmrVqqUOmfRjzkU/03Fp2t90uFeLgysbYeyF70qAH8/+e4W7byCGBEnIkD0j6aN9Yhp5MXU8njhtBcfPOuPo6KgOxYjYb4kfwkDA+Zn8vfQuX18QqePxloGM3eOFIVEZ2rUpijlgXqg1bcsmgoBrzOk1kTOhHliv49HmAfQeOZOJw+Zw3Cv4hzQv0Y72ZRJh8N7H+IH/8ijEbaUBTvYMmnNRdbunOSXatadMIgPe+8Yz8N9HIZ51FICT/SDmXPwYzii0b2SWh459G5NW68eJsW0YstPt07MdFLyuLuWvTgu4FxT6L5unT8L7u3dxO7uK2duehn7zZaArJ8/9h15jRs58eWUI9fcW9AGP1x54qd98qrUmXd6CVKpYnLL5viH5RsjPKkbZgqGTb8p7X1699sE/nFuphQnKG3b/exGvfFVpWeTbO19xjtaK9HnyUqqQqeQbgCW22XNRqnguo8k3nfM5Vu28wsW7z3j64hW3T+5h9IrbJKpcmWrGnuMiwmWWyJY8hfJTtkSubzoxix/MSJYhKyWK5yavKvkGoE1oS/5i+SkebvINwIzkmXNSumReCoRKvhG83mfLScmS+SmWK/YSFT+7oPd+vHnjhbuHPx9CDerXkiB5GvIWykuZUvkomiu2k28KH3y8cX/jhYdvoLwhPFpknY51CZKTo2BeypTITR5V8g3ZxxthQaocuSldPGfkkm8AlknIWiAvpQqGn3yT/t+vQo/ToX1sOeHELTd3nj95yLG1K1h80YrqDYqrZxa6j3h5eOH+xhuf0AdktAmSkDl3LkqWLECpQpljOfn26x2PY7g1gjgzvhJFixaNoJSk5ZL76oVjkBmp05lzpH9lSjfpxchxY/jfH2Up0+4fHuqTU2nkHHrn+3QYMstLn/+zd9dhUpVtHMe/EwtLd4eUhHRIp4BBCEg3KF0iSksjyFIS0qXSnVIC0qB0Sy2S0g0bE+8fxLt7dgd2lxnYhd/nup7Ly/s+E9xn5szMvc95zqg+lE4Ed7cPoHzuktTr2JsB/brTqmp+CjaZyzl7NLI0G0KnD58eNC0f0G5kN4rEs+M7uzGFC9fi6979+L5tNT4s3oG15uQkM3zKWT5ox8huRYhn92V248IUrvU1vft9T9tqH1K8w1rMyV1McX5lZlLUGcboRpnxurubEV9kI1WarHyQORVpCrVh3sUEJI9vBkyYn52dlagandvmJabjPHMaFaRwjbb06D+Q/j3a8EWRUnTZdBdzqpp0bpZNDbjXLHDnWHJnqUyjBW/mzPibc3uQLktDev+lDlx4BRzfwKy/TRSvXjrY9GtxL/v1Y8z0GUa9+p0oXaED1bqs4kqeeoztXpjEbv7EE5HXxYu4ieNxbelwqtfvTrUm01n3Jpflcdzn90HfU61+d6p328LtxAmIG02nuItISPr+F1XYubp3LQO+7Uu16u0o+Xl32s+6Qb4Onehb/hVPn3jLRIuTgMTXNtK2YXeq1e9Fv41v8NItUfDz2M0/Rxzc+fcwBw8efMk4xKn/jFN43MlC9m9+YUzNpPiumMCgfgMYvWAfN2Nlp+7I31natQBBJzd75+3M8g1TaFk8Jc5L25kzagC9+/7IxGWHuR3zfSr3Wsza0RVIEqRaMT/swdLlPtTJHZfb+xYwekBffhi/nLNJvuCnGd+QI8QBNiYf9ljKcp865I57m30LRjOg7w+MX36WJF/8xIxvcnioAQeY01Bj8hb+GN2az3Inh5tnOXvVTIZyrRizZh4tM1nAFJ1oz1+sMSnUZzFzu31MOq9r7F00jsF9etFn8HiW7r9HksLNmfT7JGqlcPPLR14gOp8M+o3jexZyYs9cJlZ9vdPzn0lUvTeH9izkxJ6F7OxX0JiWF7CkKcfPi4YxrGKQdfnE7aKXaMbGrb+wd/3P/LlqIvu2TmLpoEoUiK+qi0RZXu/TccY4tq+b8GSsbE+VcKx24nbmeFQfMvb/z+f3vrTP7rFvcSLiQdGLNGDxou9onM4z72F9/4sqolGmx2j2b5vGzt/Hsnn9NPb/8SMjG2YlgXZcEFbytOnP1meff+vGMKJibONGr08U/Dx2z8spWiGGHAvE6XSGcQSwr1/uJ7e15mXAwQCctrPB138DMCel1Vp/nI6HhvXfAGJSc+5tHE7/p+u/AVjJO+AgAU5/Nn5bjpazD3PmwHoWzvyVOcu3cfL8QWZ3KBzqmyh27qaM33qOy8e3smL+b8yYMZNF6/7i7MXjLO9XgbQhpnqZSVLiW+bsPcOJnatZOHMmC9Yd4OzRebQp/y1/+Dufrv8W9CZJKPHtHPaeOcHO1QuZOXMB6w6c5ei8NpT/9g/8nQHP138DsObqy94AJ7bzT9Z/A7DmHcDBACe2s8b13wCs5OyzhwCn7cn6b0FZklG83Th+33+e248C8Lt7iUNrxtG2cHQePXSCKT6JEwfpFlvSUnnQWk5dPMXONQuZ9csMZi5YydYTlzm/YyJNc8YKeu/yGsROlprMmdORJfN7pIwTyov4NTDHS/r8OWRIpmuoh4clbmLSv5eYeK5OURD3sUQnfpIkpEmVgLg620NERERciRGf995LTHwPfT/T97+oxRIjNklTJiV1klgvWDJCJOLezK/418ZK0pxlqV6/IXUqFyXDS5sWVhJmKU6lmg1o3Lg+X5QvQNrYL7mNOR4ZCn1K9fr1qVEuJ0lDNOpCMsfLQKFPq1O/fg3K5Uzq2dM4bYfwqVyA0lW/Yc6ZkGdF2y/s4K9/7ZhivE+290P+UrXEz0ChT6pTr1Fj6teoSLHMCTw3U09ERERERERE5C30ku6SRHnWNKSN4cvW5WPp2Wsmx4MsHWa7vJEBzQez5ZGJROWr88mbPJ1DREREREREROQtpQbcWy8BVbt0plh8B75zmpI79XvkLFiEQnkykSJDOfpvuoFXhtqMHFqP5Ho1iIiIiIiIiIi4nVou7wDvAt1YtWUW39cuRnqvaxzbs4u/D1/AljwflTuMY8OO32iQQSeWioiIiIiIiIh4gsnpdDqNQXm72fweEmCOQcxo6r9GxIwZM2jatCkDvm9lTEkY9Bo4gTlz5lCnTh1jKoT58+dTu3Zt1TqMZs5bjX+gCV9fX2PKpUmTJtGyZUvVOIwmTF1E8pRp2bNnjzHlko+PD127dlWNw2jE2Fl8WLAIa9euNaZc6tGjB4MHD1aNw2igz1SqVvuCuXPnGlMutWnThvHjx6vGHtJr4AS6dOnCkCFDjKkQChcuzPlzZ2jTvIYxJaHoNXAC48aNo3Xr1saUS++//z4mpz+N6lY0piQUvQZOYPbs2dStW9eYCpMDBw6QN29eunZsTOzYusjXy2zZvp/1m3bzKj/jz5w5Q6ZMmWjTrAYpkic2puU16DVwAuvWraN8+fLG1Avpt6hnjZkwjyzZcrBlyxZjyi3UgBMJpyNHjtC+fXscDocxJWHgdDqZPn06GTNmNKZCOHnyJK1bt8ZmsxlTEgq73U7ZsmXp16+fMeXSwYMH+frrr1/pS9y7xG63U6VKFTp37mxMubRjxw66deuGyRTkStPikt1up0GDBrRqFfYvln/88Qf9+vXDbNYflsLCbrfTqlUrGjRoYEy5tHTpUoYNG4bFohnznmC32+nTp0+YfogNHz6cJUuWaF+EkcPh4OeffyZXrlzGlEv9+vVj/fr1qnEYhee7XWhu3rxJkyZNuHPnjo7jYWC328mSJQtTp041psLs/v37NG7cmGvXrul1/oZYLBZmz55N8uTJjakX0m9Rz7Lb7dSqVYsOHToYU26hBpyIiIiIiIiIiIgH6U8MIiIiIiIiIiIiHqQGnIiIiIiIiIiIiAepASciIiIiIiIiIuJBasCJiIiIiIiIiIh4kBpwIiIiIiIiIiIiHqQGnIiIiIiIiIiIiAepASciIiIiIiIiIuJBasCJiIiIiIiIiIh4kBpwIiIiIiIiIiIiHqQGnIiIiIiIiIiIiAepASciIiIiIiIiIuJBasCJiIiIiIiIiIh4kBpwIiIiIiIiIiIiHqQGnIiIiIiIiIiIiAepASciIiIiIiIiIuJBasCJiIiIiIiIiIh4kMnpdDqNQRGJWtasWcPly5eDxWLHjk316tWxWCzB4hIxy5cv58aNG8FiCRIkoEqVKpjN+luGOyxYsID79+8HiyVNmpSKFStiMpmCxSX8nE4nc+bMwc/PL1g8derUfPzxx8FiEjF2u51Zs2Zhs9mCxTNkyEDp0qWDxcSzbt26xdKlS41hChQoQK5cuYxhiYCrV6+yatUqY5iiRYuSNWtWY1gi4MKFC6xfv94YpnTp0mTIkMEYFjf4888/OXv2bLBY9OjRqVGjBtGjRw8Wlzdj06ZN+Pr6Bot5e3tTo0YNokWLFiwur8fp06fZsmWLMcwnn3xCqlSpjOF3mhpwIlFcQEDA8y8E3t7ez+N+fn5s376dokWLBtlaIuLGjRskSZIEs9n8/IPdbrcTGBjI0aNH+eCDD4w3kXA6ffo077//PlarFavVCkBgYCB2u51Lly6RMmVK400knPbs2cOHH35I9OjRnzc0nzXjHj58SMyYMQ23kPD6448/KF++fIhjMU8boPL6jBgxgm+//TbEvsiWLRvHjh0Ltq1ETO/evRkwYECIGhcvXpytW7cG21YipkOHDowZMyZEjatWrcqSJUuCbSvuYbFYcDgcIWq+dOlSqlSpEmxbeTPMZjNOpzPEPlq2bBmff/55sG3l9ahduzbz588PsU9atmzJhAkTgm37rtO0DZEoLuiPOj8/v+fDmJOIs9vtADgcjuf1DQwMBNXYbZ7NGLLZbM9r/KzuqrF7PKuxv79/sOMEqrHb2Gw2LBZLiGOxZiK/fjabDW9v7xD7QtzHZrMRLVq0EDXW8cR9bDYbZrM5RI0dDodxU3GTZ39oDVpzLy8vva4jkWcTD7SPIo9n3zGD7hOTyaR9Ego14ERERERERERERDxIDTgREREREREREREPUgNOJApwOp08fPiQBw8ehDpcMW4XdGhKcHBOpzNEjV61xhKcu2v88OFD46bvPIfDEaJOqrF7vazGoR1b7XZ7iO2ejUePHhk3lzAKDAwMUc+gIzR+fn4htns2np3eJ/8XkRo/evQoxHbPhr+/v3Hzd15AQECIOr2sxi/6ThgQEGDcXAxe9Bp9tsRIUC/7/qJTgt3vRfsotNe49pHn+fv7h6hr0BEa4zZBR2jvtXeCU0QivWXLljkBt45evXoZH+ad9ssvv4So0auO4cOHGx/mnTZq1KgQNXrVMXXqVOPDvNP69esXokavOhYuXGh8mHdahw4dQtQo6LBYLCFiLxvr1q0zPoyEQbFixULUMujw8vIKEXvZOHfunPFh3mkffPBBiBoFHVarNUTsRcNkMjlv3LhhfJh3WsqUKUPUyVgzY+xFI0aMGM7Hjx8bH0ae2rlzZ4iavWy87LjerFkz48PIK9i+fXuIGr9svGwfNW/e3PgwEg7+/v7OmDFjhqjrq4ykSZMaH+adoBlwIlHApUuXnl+10F0uXbpkDL3TLl265NaF0s1mM5cvXzaG32mXLl3CbHbfx47FYlGNDdz9vjabzVy5csUYfqdduHDBGArm2cVDwuPq1avGkITBmTNnjKFgIvLX9bt37xpD7zRfX19jKJhnC2+HldPp1KxPg5d9joU2q/ZFHj9+HKHX/rsiIp+TLzuunz9/3hiSV6B9FPkEBga6/dh97do1Y+id4L5fQiLiUc+u+COe4+XlZQxFmDubeW8Td9bFnfvrbeLOZr2OOyG5s76oxq/k2dUKxXP0+vQ8q9VqDImH6dgR+bl7H7n7s1tenTv/KB+VvJv/ahERERERERERkddEDTiRKCK8pyBI+Lmzxu68Lwmdaux5qnFI7q6Ju+/vXaJFtT1PNfY81fj1U80jP3d/Nrr7/uTVvavvQzXgRKIAb2/vcF857GWn+sWNG9cYeqdFpMYvmjpts9lUYwNvb+8XrkvzonqGxt/fXzU28Pb2fuGXzJcdF4z8/PxUY4OYMWMaQ8GE99TogIAA1TiCvL29jaFgwrsvAGLHjm0MvdNednpkeI8pADFixDCG3mkvOmZH1Mv227vM29s73GsXvuxYEi9ePGNIXsHLvi+G5mX7KH78+MaQhENEjvUvE97v/W8Lk9MTR30RcSuHw8G+fftCXWDU39+fUqVKGcMADB8+nGLFihnDAGTLlk0/+oKw2+3s3bs31C/CV69epUqVKsYwAFOnTiV79uzGMAA5cuQgVqxYxvA7KzAwkH379hnDAJw4cYImTZoYwwAsWrSIVKlSGcMA5M6d+6U/wt8lfn5+HDx40BgGYNeuXXTs2NEYBmDDhg0uX6v58uV76Rfbd8mDBw84evSoMQzAmjVr6Nu3rzEMT+sfGpPJRIECBd7ZL6Kv4tq1ay4vEuDj48Pvv/+On59fsHiMGDHYtGlTsNgzMWPGJGfOnMbwO+3KlSsuFy/v2bMnW7duJSAgIFg8SZIkrFixIljsmThx4vDBBx8Yw++0CxcuuLwQQ4cOHdizZ0+ImSIZMmRg9uzZwWLPJEiQgMyZMxvD8pTT6eTgwYMu/+hauHBhYwiz2UyXLl2oWrWqMQVApkyZSJQokTEsEeR0Ojlw4ECIY8szoe0jk8lEt27dXH5ff//990mYMKExLOHg6+vr8sIJDRs25NSpU8FiJpOJfPny8fPPPweLP5MkSRIyZMhgDL/11IATieL8/f1dNiC2bdvmsgEnYXf16lWSJ09uDANw5MgRlw04CbsTJ06QLVs2YxiAixcvumzASdjt2rWLIkWKGMPwtKnkqgEnYbdmzRoqVaoU4o8lFosl3DMu5NX4+PjQp0+fEA24bNmycezYsWAxiZgePXowfPjwED+SixUrxrZt24LFJGLatGnDxIkTQzTgPv/8c5YtWxYsJu4RI0aMEMcNLy8v5s+f77IBJ6+Xq320YMEClw048azq1auzePHiYDGTyUTz5s2ZOHFisPi7Tn9uFRERERERERER8SA14ERERERERERERDxIDTiRt4TZbMbLywsvLy8tvushFotFNfawoDX2xIKv8mRx7mc11rpj7me325/X18vLC5PJFOKUVHk9/Pz8gu0L3uGrrnlKQECAauxhDocjRI3Fc/z8/DCZTMFqHt4LAohnaR9FPs9WNQu6T7TSWei0BpxIFOd0Ohk9enSIRZKjR49Onz59iB49erC4hJ/dbmf48OFcvXo1WDx27Nj07t1bjSI38Pf3Z9iwYdy6dStYPFGiRHTv3h2TyRQsLuH38OFDhg4dyv3794PFU6VKRadOnYLFJGLu3LnDsGHDePz4cbB4pkyZaN26dbCYeNbZs2cZP358iGZQyZIltUaQmxw/fpwpU6YYw3zyySd8/PHHxrBEwP79+5k5c6YxTJUqVShZsqQxLG4wZcoUjh8/HixmsVj4/vvvdfGySGLy5MmcOHEiWEz76M3atm0bS5YsMYapV68e+fPnN4bfaWrAiYiIiIiIiIiIeJDOPREREREREREREfEgNeBEREREREREREQ8SA04ERERERERERERD1IDTkRERERERERExIPUgBMREREREREREfEgNeBEREREREREREQ8yOR0Op3GoIi82O7du9mxY4cxLC5YLBYaNGhAwoQJjakXevToEZMnT8bhcBhT4kK+fPkoVaqUMezS3bt3mT59OvooCLsiRYpQuHBhY9ila9euMWvWLGNYXqBMmTLkyZPHGHbpwoULLFy40BiWF/j000/Jli2bMezS6dOnWbFihTEsblSzZk1Sp05tDIewa9cudu7caQyLCxaLhYYNG5IgQQJjyqXNmzezb98+Y1hciBYtGo0aNSJOnDjGVJg4HA4mT57Mo0ePjClxIUOGDFSpUsUYDjOn08n06dO5e/euMSWvScyYMWncuDHe3t7G1Avdv3+fqVOn6ru7B5UoUYICBQoYw26hBpxIBJQsWZKtW7fyfvYMxpSE4tTRs4wZM4Z27doZUy+0cOFCatasqTqH0amjZ0mfPj1nz541plyaMmUKzZs3V43D6NTRsxQoUIC///7bmHJp2LBhdO7cWTUOo1NHz/LJJ5+wZs0aY8ql77//nh9++EE1DqNTR89Sp04d5syZY0y51K5dO37++WfV2ENOHT1Lly5dGDJkiDEVQtGiRdm5c6f2RRidOnqWcePG0bp1a2PKpSxZsnDy5EnVOIxOHT3L7NmzqVu3rjEVJocOHSJ37tykyZgKb+/oxrQY+J48jy3Q9koNGF9fXzJkyEDSlEmIlyBijVN5NaeOnmXdunWUL1/emHqhX3/9lcaNG+v45CGnjp6lZMmSbN682ZhyCzXgRCKgZMmSpM+fkjotqxlTEoq2VbvQqV3ncDfg5s+fT6t2LZm1ZYIxJaFYs2Aja2dt5sSJE8aUS5MmTWLgkP5MXDXcmJJQLJy6nKNbz7Br1y5jyiUfHx+mz5nCiDkDjCkJxS8j53L3vB+rV682plzq0aMH67etpv+kbsaUhOLn/lOJ40wUrgZcmzZtOHb+IF2HdTCmxA36tvahdMFyYWrAFStWjMyF0lKrRVVjSkLR+vPv6PpNj3A14LJnz85HtYpSoXY5Y0pC0bBUa8b89HOEG3AHDhwgb968LNozgxixwjcb6F10+K9jdG86ELvdbkyF2ZkzZ8iUKRMzN48nYdKwzw4V96mSuyGrVq4KdwNuxowZdO/djWnrRhlT4gazxy3i4uHrbNq0yZhyC60BJyIiIiIiIiIi4kFqwImIiIiIiIiIiHiQGnAiIiIiIiIiIiIe5OYGnB///jmVPi2qUCzn+6RJlpjEyd8j64cf06DzGFaffGC8gYSB/fpxjl/RVSBFRERERERERKIi9zXg7P+yqE1R8pRtTv/JK9j5zxUemaPjZb/N2X1/MGtYByrmzU+dSYfRBabD6iGHZrSieO4KjDwYaEyKiIiIiIiIiEgU4KYGnJ0zE5rTbOJ+7sUvSNtp2/j3zj1uXrnElet3uHN+BzM6FieJ/ynmt69Fj033jXcgobFfYNWEaey6puabiIiIiIiIiEhU5Z4GnO0wv075kzsk5PPhixndtChpYj67azMxUxWm8chlTG3yHuaAf5g2dC6XdUaliIiIiIiIiIi8A9zTgAs4wbEzNrBkIN+HyVzcaUI+bvg56axOHu7Zxt8BxjzYbx5m5cSBdG7bnGYtv+b74bPY9q+fcbMg7Fzbv5BRvb6mRbMWdOg1mqWHb+FwXOPwpjWs2Xjo/5veP832tWtYv/8KDvy4sP03hnRtR/Nmrfhu8K/suPzsCdm5eWgJo3t9Tctmrfi2/xQ2+ro+aTbMz/n+abavXc3avZexY+Pq3oWM6tWRVs1a8nXvUSzaexVbkM0d1w6zae1OztxzgtOfKwfWsXrNRg5fU+dSRERERERERCQqCb1XFl6WBCSMZwbbSTatOxWskRRUtGL92XLyDKf/8qGcd9CMDd9FX1MsW34+b9WLYeOmMHXSaH74rgEls+eixqi/uRt0cwDHZVZ1LkH2grXoOHA0k6dOZszAr/niwzx87jOFH+pUpGJNn+eb207/QpvKFfi870zmtilCzpKN6ebzM1OmTmR4jyaUKlCNn4/eYvewyuT9sDpfDxzNpKkTGdGnOeXzl6ffDuMFJML3nJ89fpW+8/m9T1lyF6lFx4GjmDh1EqMHdKRmoQ8o0XMjt5721wJ2j6Ru5S+ZetwGjhus7P45FSrWYdjOUDqXIiIiIiIiIiISabmnARe9OLU+T4eVe/zZrSylvhzAr5tOctvYibPGI2X6DKRPl4xYz4MObq3pSIX6Y/jrVjzyNx7ILys2sfmPxUzsXpXMpjMs6lSJBpPPYH9+GxtHR9anwYid3PRKT4Wuk1i6cRO/zxxMoxwPWdOzD4tuOp9vHVTAxgG0nHKVnC2GMXfNJv6YP4TaWbyxX1nD99VLUL3nHlI1Gca8dX/yx/yhNMgZG+ftnQztPYN/n08+i8hzfiJw+0AaDz5GmgY/8NuqTWxa9Qv9amQjluMWu4d+w4i9T4pmTf8RX7ZuSPEUFjDFIWe11rRt8xXlMlgN9ygiIiIiIiIiIpGZexpwxKLMwGn0LJEYc+BldkzvTeOPspIsSQYKfNqQbwZNZdWB//A33gzAtp+R3SbzT2A8Sgxcz+YZPWlUqTQly1ajxaBFbJndlEzm66zu9wOrnk0pu7OcIcO2cMeUgmrjN7D8x+ZUKVOaz+p3Y8aG5XTNGw27PbQGnBPHwwAyd13G2vGdqP1JacrW7MJkn9qksDi4c/IU8douZN3ETtQqX4qyNb9j6qQ2ZLU6ebR3G7ufnVkakef8lOPOA9J9t4I/p3WnQYXSlK7QiN5zF9OzUDQIPM7atScBsOZowKBRPaiQ1gzmuBRuMZKxYwbTMKcacCIiIiIiIiIiUYmbGnBgTlCSvuv2sGZEaz7LmYToJieBd3zZu3YmP/VsRqV8aUmdpwZ9l50h6AppAX/PY+HRAMwpa9K9Qx5iBsmBmaQVvqVJPiv2K6tY9OeTtdgebFjE6msOvHI0o1f9dFiC3iReMTp3r0ZSV/8yaz5qNc4X7HFi5clDZgtgzUnNpkWJEyQXLUcOsniZcD66xa0HT6bAReQ5P2PyKkTDFgWDzAAELBkoXuQ9LDi4efVa0IyIiIiIiIiIiERxrtpUERP9Pcp1HMfvhy5z5cRm5o/tQ5sapfkgqTcmArlxcBH9qxel0rC9PGlLObi1fx++dsB5gtmdWtGqlWG0HcG2OyZMjtscP3IOsPHP/sPcdZhJUqAw2UKZEBa3eHFyeZmMYQDM8TKRJXWwlh14RycaYLKkIl06wx2avYkeHcCB3f7kv+F/zv9nSpiJzMmNZTcTN24cTIAtMNCQExERERERERGRqMzYCXITKwkyl6Rm2778vGATRy9f5sjyYTTOlwCT4xob+3zN2ON2wMHVq7dwOMF+aSu/TZzIxBBjCmtOBuDEyb3bdwA7N67fxoGZeIkSElqbzRwnMYljGKNPmGLFJk5oNwIwW/Ey9OZCishz/j9TjBjEDOXxTaYnQadTVzkVEREREREREXmbmJxOZ2iLpYWDnTOrJ7PiRABJizagTqGELrt6jpsraF6gGtPOmSkx/CRbOqXmUN9CFOi3H2vpXizsWYJoxhs9ZyJm2vwUzRyTLR2zU3aUL2na/cHxMaWJbtz04Uy+SNqIZd71sN+cCYBtfy/yFxrI0dTtWH98DGWC3MhxbQKfpWnNems1fru+mPpBzyl9tIA6qWoz79FHjD23jrYpHBF4zvFf+Phg43C/wuTve4BkLVZxYeInT8L2Ewwulosee5LSfOUZJn0a4l8qb0jJkiVJnz8ldVpWM6bcwn7pBDsO3CTUpQxfxpKQLGWzkcL1C/O1a1u1C53adaZdu3bG1AvNnz+fVu1aMmvLBGPKbRxX9zF76C6uGK+Y8jKW5JTqVpWCiV0d8V6/NQs2snbWZk6cOGFMuTRp0iQGDunPxFXDjSm3eZtqvHDqco5uPcOuXbuMKZd8fHyYPmcKI+YMMKbc5m2q8S8j53L3vB+rV682plzq0aMH67etpv+kbsaUmzi49ccSZqy6GuLiSi9jSVeETl/nNYbfqJ/7TyWOMxFz5swxplxq06YNx84fpOuwDsaUh71dtXelb2sfShcsx5AhQ4ypEIoVK0bmQmmp1aKqMeUmb1fNW3/+HV2/6UHr1q2NKZeyZ8/OR7WKUqF2OWPKPey32TVmPlv/DXeFSVW5DvU+imdMvFENS7VmzE8/U7duXWMqTA4cOEDevHlZtGcGMWJ5G9Nu8TZ9Th7+6xjdmw7E/uT0rAg5c+YMmTJlYubm8SRMmsCYfr3esvdDWFXJ3ZBVK1dRvnx5Y+qFZsyYQffe3Zi2bpQx5XFv0/vIldnjFnHx8HU2bdpkTLmFGypg5/La4XTu9A3f/Lzl6amloTMnKsunhZ+cann39k3ATPIUSbCYnNgeWHmvTDnKlXM1ylI0c3zASsZMabGYHPx36h/uhDJhzHbyJGcDI9K5CIuIPGeR8Anct4oR343Bp3MERtdlHAq60KK8WMA9rpy8yL/hHte5pzPGw0Y19jzV2OMCbl3lXIj6vXycu3DfeFcSTqr966eae1ogd89fCFG/l48L/HfLZrwzCQt9TkZiej9EGXofvTI3NOCikad0URKbHdxYPYMFF0LpiD1j/5dTvg/B5E26jOkAMwkLFSSLFWyHl7PoaChvIMd//O7ThT4jprH+5KMnDbCy5cgbDfx2zGeer7H9+ojdsxdxLJS7co+IPOeICuVcVRHxGFPCdBSqWJiSYRrZSRP8CiwSBqqx56nGnmYiXva8lAhRSxejWErjHUiEqfavn2ruceY4ZCxbKGQtXYzcmXRGzKvS52QkpvdDlKH3UcS44RRUwH8PfYqVZMBef+IX6sDkXwdSPXOw63yC4zpbf6hN9b6buJW8PnMP/UqNRGawn2BYmQJ02fqYeMW+Z8XyPhRP+KwvaMN3diM+ajyXf03Z6bp1L4MLRQPHFWbXzU+j+VeJU6gj02cNoGrGmOC4zd5JbajbcR6n/J2YE9b3wCmoEXvOL3p816eg+jK8dBa+2xGXhosu8mtVz0zJlvDz9CmofiuGU7fL3/hjIV3L/ozpmDH41X6jmEh9CuqFPxnedh3/2sGc9RN6+ZQiSRQtdqQ9BfUtqnGkPQX1LapxZD0F9b/5Exj0y0UcmEnf5Bu+qZnIHX/FfCOi2imob1PtXYlsp6C+TTWPnKegXmNt59Gs+McBljR8PqElH6eMqhWOIqegvkWfk2/fKahv1/shrKLkKahv0fvIlShwCioQvQDdpw+lYioLd3b/RM1cGchZvj5tO/eiX//edGldm9LZMvNRn03c8M7GVz/78EWipw9tyUq7UX0onQjubh9A+dwlqdexNwP6dadV1fwUbDKXc/ZoZGk2hE4fPl3UypyCOsNG0yizF3d3j+CLbKlIk/UDMqdKQ6E287iYIDnxzYDJPf+8ECLynCPCkpjkSbwxOW6zalArevbtw4y/A4xbiYiIiIiIiIhIJOa2DpV3zrYs2fk7QxoXI431Bkf/mM24YQPp22cAQyfMZ8tpG2lKt+TnPzYzvmrKYA/snbczyzdMoWXxlDgvbWfOqAH07vsjE5cd5nbM96ncazFrR1cgSZAbmdPUYPKWPxjd+jNyJ4ebZ89y1ZyBcq3GsGZeSzJZwBT9FZpfLxGR5xx+sfi0eVOyx3Jy6+9fGNRvMOPWnjZuJCIiIiIiIiIikdgrtYeMrGnK0XnGNnyvXeTQ1t9ZOHMGU6fOYNaSDew99x+nN06gdZEkoT5o7NxNGb/1HJePb2XF/N+YMWMmi9b9xdmLx1nerwJprcZbgCVZcdqN+53952/zKMCPu5cOsWZcWwpHf8RDJ5jiJ36+rTXvAA4GOLGdNZ7+CeakrVjr78Tx0HD6KUDMmsy97cDp/8eT00+DCM9zftHjg5WcffYQ4LT9//RTAMwk+mwUu4/tYNnM6Uz/bQ5DamhtDRERERERERGRqCS0XtgrM8dMQY7in1G9fmO+/LIx9ap+RN40scLwYFYSZilOpZoNaNy4Pl+UL0Da2CFvZTvkQ+UCpan6zRzOhDj13c6FHX/xr91EjPezGZMeELbn/Cpipi3M5/Wb0KRBdcpk1VVVRURERERERESiEvd2il4Ta5q0xPDdyvKxPek18zgPnmdsXN44gOaDt/DIlIjy1YPOJhMReYlb59i+8E/Wzg/DWLifc/8/+EhYqcaepxp73N2jf7PeWEsXY/2GC8abyytQ7V8/1dzDnPc5u2ZziFqGPjbz14nHxnuQ8NLnZOSl90PUofdRhLjnKqivnR97fvyYj3tu5bbTi3hpspA5ZUwCrp/lxNmb+BONDHWmsP63BmR4y67KIZHD67wKatovv8enZdqwdctNZqLFjEG0SPa6jypXQQ0Xy3tUndiccoZT09+kqHAV1HCJhDWOCldBDZdIWOPIfxXU8DFn+5TRw0oaw29U1L0KavhExtq7Enmvgho+kbHmkf4qqOFiJkPTb+hUI5Ex8UZFtaughksk/Jx8q6+CGi6R8/0QVlH9KqjhEgnfR65EjaugvnbeFOi2ii2zvqd2sfR4XTvGnl1/c/iCjeT5KtNh3AZ2qPkmbwU756f1o06hr6gVllH4Oyb9FWi8EwkrqzfxEsUlflhGklhEj6JH0DdKNfY81djjrLHihKyli5EgfoiFX+UVqPavn2ruaRZiJAxZy9BHPOLE1EH7lelzMhLT+yHK0PsoQqLoDDgjG34PAzDHiEk07Vh5DV7fDLhwMieiwpSfaFfEy5h5o6LKDDhz1k/o5VOKJFG0eR8VZsBF9RpHhRlwUb3GkX8GnJn0Tb7hm5qJoupfMaPwDLioX3tXIu8MuKhf80g/A86Shs8ntOTjlFG1wlFvBlxU/5x8q2fAvQXvh7CK6jPgovr7yBXNgAsTK96x1HyTt5GZZBWb0GtcZ/qEZYxtTaWsb9lRUERERERERCSKU8tKJFIzESP1+xQsk59CYRo5SJdAb2sRERERERGRyES/1EVERERERERERDxIDTgREREREREREREPck8Dzu7Loj4tadasWdhGqx9Zcy28lxkOCzvnl/alZbMW9Jx3mogvS/lq7Kfn832LZrTsu8SYcsHO6fnf06JZS/ou+fd51HFpOQNaNqNF15kcswW7gYiIiIiIiIiIRBFuasBd468F05g6dWrYxrTlHLzniYuvOrm5dwnTp05n/q4rb64B998uFkyfyvTFe40pF+z8t2sB06dOZ/He68+jjpv7WDp9KtPmbOfym/rHiIiIiIiIiIjIK3FPA+45L4p2W8769etfPNaMok5qXanxZcwJ8lK5URMa1ypCCpVL3MLBPd9THN37D2ev+BuT4i72q+yZ+TuLp/zO0mWnueeJCb/vOtXY81Rjz1ON3xj7vwdZNfV3Fk9Zw6YD91HpPcGPM7+vYfGUJ6/xxVN+Z8m0NSybsZ7fF+7i74PXeKTCvyLV+LV7eI6t0/9f78VTn9R8+W8bWL/yAP9ceKzjyZuifRNlPD62m2VBj1tTV7N0+lpWzt7Mlj/P8N+Dt3dPmZxO56tPRQvYTdc8xfE5bqHStKusaBrPuMVrYmN/r/wUGniM9zpu5OjIEkQzbvIaBGzrRM4yI/HN1pOAQwON6VAEsK1TTsqM9CVbzx0cGljAuIFEMiVLliR9/pTUaVnNmHILvxXDqdvlb/wxkbR8HRp/nBiTcSOXTMTMmIOC2eIaExBwgklV+rP0nIMYxb5k/KSPSermNnxo2lbtQqd2nWnXrp0x9ULz58+nVbuWzNoywZhyG8eFPxnedh3/2sGcKg9f1MtCbONGoTHHIvWHmUgew5iAwIPLGfj9Lm46gOgZqDH+S0on83yh1yzYyNpZmzlx4oQx5dKkSZMYOKQ/E1cNN6bc5m2q8cKpyzm69Qy7du0yplzy8fFh+pwpjJgzwJhym7epxr+MnMvd836sXr3amHKpR48erN+2mv6TuhlTbuLgv/kTGPTLRRyYSfpRBT7LHytMx2VTvBTkz5vUGIY3WOOf+08ljjMRc+bMMaZcatOmDcfOH6TrsA7GlId5ovaBnBz/E2NW3sYJeOWqxPc/FCWR50vvUt/WPpQuWI4hQ4YYUyEUK1aMzIXSUqtFVWPKTdxUc8dd/uw5jIWHXJ3GYSJGxg+p0+Nz8if3XPFbf/4dXb/pQevWrY0pl7Jnz85HtYpSoXY5Y8o97NdY23k0K/5xgDkxHzb7iOzxwlRhYmfMQtY00Z/8bySpccNSrRnz08/UrVvXmAqTAwcOkDdvXhbtmUGMWN7GtFu463PScWMHY75aySlXywOZvUnzSVW+ap2LxB6aQHH4r2N0bzoQu93Vfn+5M2fOkClTJmZuHk/CpAmM6dfLTe+HyLBvwqNK7oasWrmK8uXLG1MvNGPGDLr37sa0daOMKY9zz/vIwZ3l0+gz8azLMxZNsVNStG09apdM6O4ZYy81e9wiLh6+zqZNm4wpt4gEDbj7nN6+g9OPkpK7bF4SXNrOgtnL2X36JrZ4GSn6RWPqFE1JNMB+8xDLZy3gz6NX8I+dlgIVG1Lvo/TEfH5fwRtwR35IzY7ZM1mx5zyPYqQkZ+nq1KqUiyQu3nD2m4dZvXAZmw/9y21bTJJnLsinNapT/D3XHwT3T6xi5oLNHLl4H+80BanSqC6Fzvcgl8sG3H1OrJrJgs1HuHjfmzQFq9CobiHO98gVsgH34Aw7tp/knndaPiyR/ckXw/un2b7jFA8S56Zc/qTc2LuUuUu3cfzKY6Kn/ICSVepQJX8yrIZHBbBf28+SOYvZevQKj71TkOOjWjT4PDu2o5vZd8lJyrylyRX0i7/tGgdWLmL5tkOcvxWANX5qshX6jBpVC5Pq6ef+u+r1NeAiwkyqJn2Y3DWLMYHflom0aLMNZ2Jvbt9KSoNF/anzvos3hBtFlQZcuFjeo+rE5pRLYfxYCODY6JGMX28nTSYvLp68R7qmX9OxRmKPf4BEhQZcuETCGkeFBly4RMIaR/4GXPiYs33K6GEljeE3WuOo24ALH5e19zvJ7Ja/sNOWkrTRr/DvzTRUHdeccqk8XXnXIm8DLnyC1fxZc+hIAsoMak2l9y2AE7u/H/cu+rLrt1VsOPyImCVq0btbbmIZ78xNIn0DLlzMZGj6DZ1qJHryv5GkxlGtARcuhs/JZ02eM8mK0X5EedJaAYedgEf3uXZ4Hysnb+XUvRjk7dyJr0r9/1eqO73VDbhwCf5+iAz7JjyiegMuXIK9j5414M6RqOqXfNcwNRbAaQvA7/YNTq1fz6LFvjyMk5PGk+pSII7xzjzL0w24N/dN4xnbaX5pU5kKn/dl5tw2FMlZksbdfPh5ylQmDu9Bk1IFqPbzUW7tHkblvB9S/euBjJ40lYkj+tC8fH7K99vBA+N9As4bf9CpZD7KtejNyIlTmPhTf9pVy0+2Yt+w/ILxFWPDd9HXFMuWn89b9WLYuClMnTSaH75rQMnsuagx6m/uGm6B4zK/dytJ5lyVadN7KOMmTWBEr6/4KE8JOm+4FeoXFsfl3+lWMjO5Kreh99BxTJowgl5ffUSeEp3ZcCvkLWxnf6N95QpUajiW/YFPY6d/oU3lClTpO5/f+5Qld5FadBw4iolTJzF6QEdqFvqAEj03EvzuHFxe1ZkS2QtSq+NARk+eyuQxA/n6iw/J87kPU36oQ8WKNfHZEfD/W1z7g+4lslHgizb0GT6BqdOnMXFkfzrWKUrWXPWYeixirSF5kx7w9/I93DRnpGKb/CSw+7Jh8WmevrTEXR6dZu9f9yBhNj77MidJzXb+3XaIq8bDjkScaux5qrHnqcZvjN/+gxy5CfEKlaVqicSYbRfZt+V6qN/dxB1MmL28iO4djeje0YkZLx7Js+ehUuO8JDE7eXzmIv/py8grUo1fO5MZa/RoT2oeMwZxEiclY5lyVC6bCLPTj0snr+FqIpZ4mPZNlGGyWInm/WRfeceOTfw06fiw4ScUSmnG+eAy5y+8fXvqzc+As+2nV/5C/HAkOrFj+hM7z1d8164q+RLf46/Jveg7/x/842UhayxfrqdpQrdvapA/0R3+njGAfrMO8zBmWUYfXUe798xBZsAdxm42QczMVPu2G01LpcF2ei0TBo1i7blA4n00gl3rviaLBcDBrTUdKFZ1HP/YEpG/QUfa1yhGuhi3ObHhV0aMWc4/jxJTacIOljbPyJO5QjaOjfyYYt9t4m60DFTo2J0WH2fCemELvw4dzoLjDzE57JhzBJkBZzvGyI+L8d2mu0TLUIGO3VvwcSYrF7b8ytDhCzj+0ITDbiZHkBlwtkN9KVSgHweTt2LNqfGUiw62/b3IX2ggR2InIt4DExkbdOLrGkVIzXm2TP+RoYuO89Caix7b9zLwwyfz4GxHh1O+eBf+vBudDJ91oFuLT3g/2mV2zRvJ0Jn7uWcyYXfEo97CS8ys5g3cZVWzXFSZdolERVvQvf3n5E0Vk0f/bmeWz4/MOXSfWB/9xP51Hcjo+clTkZKnZ8B5guP6nwyoOJG9Geswbkp6llQezFp7Sb7/vTWFPfUn0aci8ww4d3u0ZS79fQ4T7bOm9Grlzer2E1h3MRmfjWxDRQ+/YSLrDDh3e5M1jqwz4NztTdY4cs6Ac783WeOoNQPO3R6zb8gIpm/zotiAb6gZaxNDvv2T/977iC4/leNNLVEcuWbAucnz2VkJKTu0PdWyBj8/w3Z8NYO7bOV6xnJ0H/6Rx9Y7jpQz4NwlktQ4KsyAc5fns6ySl+CbsZ+R3ito1sbZaWP4adFNUjdoz3d1k3lktstbNwPOTSLDvgmPqDgDzj3+PwMucfUWdP8ybfCz9wLPs6TdJDZcSUGlsa35NO3r3VNRbAacg0vbf2Py5MkvGFNZsjfkDDGn4yEBmbuybO14OtX+hNJla9Jlsg+1U1hw3DnJqXhtWbhuIp1qladU2Zp8N3USbbJacT7ay7bdfsZ7w2lOR6NfNzK/b2MqlvmIKs2HsGL9KCokgTubhzF0zdN5c7b9jOw2mX8C41Fi4Ho2z+hJo0qlKVm2Gi0GLWLL7KZkMl9ndb8fWPVsGtz91QwbvoU7JKHiqHUsHdyMz8uUpkKj3szeMJMv05txGNqa91cPY/iWO5CkIqPWLWVws88pU7oCjXrPZsPML0lvdhCeTqjjzgPSfbeCP6d1p0GF0pSu0IjecxfTs1A0CDzO2rUnn255h+VDhrHljokU1cazYfmPNK9ShtKf1afbjA0s75qXaHZ78Mf238XyNZewe5Wgx+yxdKz9KaWKl+Sz+t35ZclASseGB9uXsvKScS9K5OXg+tqtHLhvJevHhUgRKxtlPk4O1/9m3bo7Id6PElEPOLL1JA9NCchZIh1elhTkK5oMs/0q+zZf1l/b3EI19jzV2PNU4zfm7gn27nuEKWk28mX3wpIhB7nfM+M4d5g9LhcOErcLvMXB1Ue5Tmyyf5aHZB5qDL3TVOPXLvC/Y2zfcRNn/CwUL5PE3T+05RVo30QVNm7s3M3BK07ifFiQAm9waQhPcfO/KJD9U9vTokWLF4zWDFh+IZQf/Fby1WpMvqCnY8fKQ57MFsBKzppNKRr0/N9oOciRxQuT8xG3bhlPQjURo2RH+lZJEewfaM3UlG4NMmG1X2blwk08AgL+nsfCowGYU9ake4c8QdaTAzCTtMK3NMlnxX5lFYv+fASA3+alrLlix5qhHp0bZwzWsTUnrcj37YvjHWzdSD82L13DFbuVDPU60zhjsFuQtOL3tC/uHabFbZ8xeRWiYYuCwddysGSgeJH3sODg5tVrT2IPNrBo9TUcXjlo1qs+6YJ9+MajWOfuVAuxCr8Zkxmwn2TTyqPcD5KxpKvHiKVr2XlwLi1TG28nkZb9MptWnMA/ZjZKVUiKBS+yVS5MWssj9i3exn8R/wOaBOG4dZx9B/wwJc9GvmxWwEKK4h+QyuLg+s6DnNPpH69MNfY81djzVOM3xcG9XYf454GJxIVzksELsCQjT+HkmB03ObjlgpZl8ATnPY78No8pg2YzZdBsJvebwuCmPzF9UwAZG9Sn4Sevf5Htt45q/No5b51gpc+Tek8ZNIsJ3cfQp9Vc/nqcjko9a1DUgxe9kBfTvokqnNz9az0znh63pvzwK6PbD2XgkAP4Zy9H828+jBQXy3A3N7/6vPigdl8GDRr0gjGQ9uWDN8YAMMcjU5YnC/D9nzfRowEmC6nSpTNcWMCMd/SnVzwJMf3WStYSpQjZMI1G3qL5iGN2cOvIAXztDm7t34evHXCeYHanVrRqZRhtR7DtjgmT4zbHj5wD7Jw9eJgbDhOx8hQmX4iLEZhJVaIYmYM+WftZDh6+gcMUizyF8xHyJqkoUSxzqBdOcMWUMBOZQxw8zMSNGwcTYAt88hXS9s9+Dt91YE5SgMLZQnmEuMUpnssrePMvemGqfpYGq+Myy9rl573MJajRph8Tl+/hckAicpctT6EsSfE2PrxEWvbj29hyzEHsosUpnuTJjrNkLUap7FYCDmxm/XHje0jCz8HdHYc5+chMkiI5ee/ptHdLmhzkzmDG8d8x9hzRT7tXoxp7nmrsearxG+O4x4EtZ/EzJyJn8dRPv3c9aX6mtji4sfMQZ/6/HK64izOQO2fPc/bYv5w99i++J69y67EDk+MBp2b9ypiRe7hkPJlFwkc1fu2c/ne5ePxJvc8eO8+/527j5zDhvHOWVf2nMnPdf+hw8mZo30QVTgJuXHl+3Dp7/CKXr/njMDm5f2gDE3ssZOe5t29PubmFYibDJx3p3r37C0YXmhZPGvKBTbGIHcfVHDAzVq/wtD9NJEqePORjAF5JkpDABM47t7hld3D16i0cTrBf2spvEycyMcSYwpqTAThxcu/2HcDOjeu3cWImXuLEBDu1/ClzihQkCfpPsd/g+m0nmOOROHGotyBFiiThmwEXIwYxQ7mByfQk6HQ+mWNov3Gd2w4wx0tEwlC2xxyHxImfXlf7uTh8OmQOQ6tnIa7Zxu1T21g0vi+tqhTkveQZKdV4AEtOPDTcRiKvAI4u3cl5e1w+rFyAeM/eGJaUlK6Yhei2i2xaeBR9L3tF9jvs33aOAHNichVL9f+GuiUJeYqmwuK4y+EtZyJ4ZVsB1fi1UI09TzV+YxxXj7L/WCDm1B+QN8hfSs2pc5A7kwXnjePsPfD2fdl/48yJKN6nM4Nmdn8yZvVk6KK+DBpbj4+zW7j4x1KmTDut7yGvQjV+7cwpCtFq+tN6z+zO4Dm9GbGoO917lCaj9Qq7xs5i6X4dyd8E7ZuowkySCo3o/+y4NbMHP87ry4hZ7fmqVjrMvvuY88MaTjw5CfGtEVqP6g0xY3Hjswk5K+4Jp82GHcArGtGeN6xMxCjdm1Xr17Pe5VjDtBYfAGB5+kTtdhdrhZhMhmaa5em/zY7rm4TWHXuRsG1vihEDbxM4/R7hF+oic078/EL5shm/MB0XHMX30Com9WlJ1aLvkzAa2O6eZcuvfahZqhYTToZeY4lkHh5mw/prOJyP+PuH72hYus3T0Y7vJp7FhpPr6zay+7bxhhIejiuH2X/cBl5wZe0K5oxd+nQsZ+MpG9FMTu79dYjj6l1HmGrseaqx56nGb4qD69sO4RsAVq6yY/yzui9lzvjtnA/0wuS4z5EtJ3lsvKl4gJU46XNQqWNpMkVzcGPzHo6p8G6mGr92XrFJVawcDWumx8t+iz3rTuqPKZGF9k2UYY2XgrwNq/NJDiuOKwfZufft2lNubHlFJk6uXb4Uyjpz8ODf81x3mLCkSEMaq5nkKZJgMTmxPbDyXplylCvnapSlaOb4gJXUqVNgxsGtC+e5G8qDOC5f5mrQZpc1NalTmMFxiwvn74byvBxcvnw1XBdhCCtrxkyktZhw/HeKf+6EfGRsJzl5NtDFY1tI+MFnNO87gSXbT3Ltv+P8MfkbSiUz47i2jp8m79b03Sjg/p9b2X0dYmfMzAcfpCNjtiAjZzaypYsBt/ezbvX1UF6bEjZ2/ttymH9tQOB1jq7/mx1r/z927voPP8B59x/2/v2W/RnntVGNPU819jzV+I2xX2PvtkvYgMCL/7AzSN13rN3DoXP+gJMHew5xNOjit+JR5oSJSRLHhPPxPW7f07cQT1CNXzczcVIlIqbZid/NuzxQySMR7ZsowxyHpCliYnL6c+fG2/V96C1twNk4uXkTZ40TtBzXWL1qJ35OK5mLFCGp2UzCQgXJYgXb4eUsOhrK9DTHf/zu04U+I6ax/uQjwEyqYkV43+rEf/dqVl83vnPtnFm/kZNB78qcimJF3sfq9Gf36tWEvMkZ1m886ZGrnpmTl6Vc3mjgt4P583yfzP4L4tHu2Sw6FvyRbYcn0KhkLjKV6sfeIClLgiyUbebDyOY5sOLg6qUrathEdo7bbFt+kHumxJT+vit9x3cJOboUJKHZn8OLt3DeEy/Cd4H9P/Zu+w+HVzqqTRrAmBU/GMYABn2dFW+nHye2nuC+3jjhpxp7nmrsearxG2M/e4gDvg6sOSrQe6mx7j8wZll36heKjvPBafbtfqDvN6/Lo/vce+SEaDGJE+st/VnypqnGr53f7fv4OcArbixiqOSRivZNVOHH3dt+OLESO663MRmlvaUvOyf+O4fxzYSg61rZOLfgW/qsuI0zViEa1s+DFbDmrEeDwrHAfx8j2wxg262gX7ls+M7tRNuewxjQbSQbbz9ZL8SavyGNCsXCeWcV/b6dh2+QpoX/sUl8N3K34XRPK/kbNqJQLCd3VvXj23m+QZpt/hyb9B0jd/u5mIX2iixZaNK+CsnN9/mzT326LD3Dkx6yg9t7J/BV0zEcDwz+yNaUcXh09Chntk9jxKILwZt2AafZvONf7CYLmbJlDdeFI+T1s1/awabdjzGnLUipfNGMaQBiFi1J0VRmbCe2sfaAFv6OCNvJgxy44MArWw7yJAvtsGomTqGcZIkNjw8e4uBt/bQLL9XY81Rjz1ON3xQb/245yn92K+mLZidRaMsKm2OTo3gmYuDHP1uOoYlCr0HgLfbN2MKJxybiFMhJ1pjGDeSVqcavXeCVQyxfeAp/U2w+KJ6Jt6t1ELVp30QVNm5sWccf+wIwJchC3pBXvYzSQvv29woC2davBHny5HnJKEDt8f8Yb+xGFpKmsLK+Y0kKVm1Dz769+bpWYQo1nMVZe3xK9BxJ22xPv31ZstJuVB9KJ4K72wdQPndJ6nXszYB+3WlVNT8Fm8zlnD0aWZoNodOHTxsYlg9oN7IbReLZ8Z3dmMKFa/F1735837YaHxbvwFpzcpIZvtxZPmjHyG5FiGf3ZXbjwhSu9TW9+31P22ofUrzDWszJkxmuAOsuZlLUGcboRpnxurubEV9kI1WarHyQORVpCrVh3sUEJI9vBkyYny0rl6gandvmJabjPHMaFaRwjbb06D+Q/j3a8EWRUnTZdBdzqpp0bpZNDbhIzc6FFds54W8hzcdFyRp6/w2iZ6XsZymx2P9jy8IDaNmh8LJxdvMxrju8yFjsAxK4OqrGzUrevN6YHvuyb/tdY1ZeSDX2PNXY81TjNybwPHt33MQRPR15i8Zz+eU39oc5yBrbhP+RQxwIcbqCRJjzAaeWrmL+uOXMH7eceWMX88sP0xjy1Simr7uO+b0Pqf1VTuK62jHycqrxa+e8c5ZNk5/Ue/64ZcwZNZ8pPcfSt+08dl60kPLTKnxRMo7L4414jvZNVOHk/sHtLHp63Jo/bimzhs9ibIdh/OCzh6vWZBRr8xn5XH5hiprc/K9xcOffwxw8ePAl4xCn/vPkdXgsZP/mF8bUTIrvigkM6jeA0Qv2cTNWduqO/J2lXQsQ9A9A3nk7s3zDFFoWT4nz0nbmjBpA774/MnHZYW7HfJ/KvRazdnQFkgSpVswPe7B0uQ91csfl9r4FjB7Qlx/GL+dski/4acY35AjRTYvJhz2WstynDrnj3mbfgtEM6PsD45efJckXPzHjmxweasAB5jTUmLyFP0a35rPcyeHmWc5eNZOhXCvGrJlHy0wWMEUnWrRnHbiYFOqzmLndPiad1zX2LhrH4D696DN4PEv33yNJ4eZM+n0StVK4+eUj7hVwlo2/n8NmTUuxCule8PqykLFyUTJ6ObmzcRPbr+lHR7j4nWXvrts4YqQnb9G4LzioxuCD4pmJZQrk7LYjxqS8iGrseaqx56nGb0zAoYMcuuYgeo4c5E7kuvLEyUy+fDEx+Z9n/3ZdmchtnI85v3U3W1btYsuqXWxdvZe9+y7zMG5aCjWoR+fhVckT9Eu2hJ9q/No5H1xi39N6b1m1m+1/HOLY2UfEzpaXSj1a82277K7/0CIepX0TVTh5dPowW5/vq7/YtfkUF+7HJEPZcjQb2Yo6ReO/4PtS1GRyOp0eOfMxcrBx7fBmth66TGDcjBQsXZgMcV60C23c+mcXOw6d4+YjE3FSZqFAkXykjf2C2zjucvbvnew/fRNnslyULJ2TpC+ZFua4e5a/d+7n9E0nyXKVpHTOpG9uJlnAbrrmKY7Pqcx03b6fHwsGnyZlv3OWPbv3c+bqA5wxE5MuV1EKZ07wgmbOu6FkyZKkz5+SOi2rGVMSirZVu9CpXWfatWtnTL3Q/PnzadWuJbO2TDCmJBRrFmxk7azNnDhxwphyadKkSQwc0p+Jq4YbUxKKhVOXc3TrGXbt2mVMueTj48P0OVMYMWeAMSWh+GXkXO6e92P16tXGlEs9evRg/bbV9J/UzZiSUPzcfypxnImYM2eOMeVSmzZtOHb+IF2HdTCmxA36tvahdMFyDBkyxJgKoVixYmQulJZaLaoaUxKK1p9/R9dvetC6dWtjyqXs2bPzUa2iVKhdzpiSUDQs1ZoxP/1M3bp1jakwOXDgAHnz5mXRnhnEiKUTA1/m8F/H6N50IHa7cXXvsDtz5gyZMmVi5ubxJEyawJiW16BK7oasWrmK8uXLG1MvNGPGDLr37sa0daOMKXGD2eMWcfHwdTZt2mRMucULOktvAytJc5alev2G1Klc9CXNNwArCbMUp1LNBjRuXJ8vyhd4cfMNwByPDIU+pXr9+tQo9/LmG4A5XgYKfVqd+vVrUM7TzTfbIXwqF6B01W+YcybkQdp+YQd//WvHFON9sr0f8hxFS/wMFPqkOvUaNaZ+jYoUU/NNRERERERERCRcXtJdkijPmoa0MXzZunwsPXvN5PiD/6dslzcyoPlgtjwykah8dT6JF/SGIiIiIiIiIiLiDmrAvfUSULVLZ4rFd+A7pym5U79HzoJFKJQnEykylKP/pht4ZajNyKH1SK5Xg4iIiIiIiIiI26nl8g7wLtCNVVtm8X3tYqT3usaxPbv4+/AFbMnzUbnDODbs+I0GGXRiqYiIiIiIiIiIJ7zlF2GQ0Nj8HhJgjkHMaOq/RlSxYsXYsWMHJT4tbExJKLau2cWYMWMidBGG2rVrq85htHvTXlKmSIWvr68x5dKkSZNo2bKlahxGW9fsIn/+/OzZs8eYcsnHx4euXbuqxmG0dc0uPv74Y9auXWtMudSjRw8GDx6sGofR1jW7qFOnTrgvwjB+/HjV2EO2rtlFly5dwnQRhsKFC7N7927tizDaumYX48aNC9dFGN5//33+Pf8vhT/Kb0xJKLau2cXs2bNf+SIMBUrmIUZMXYThZU4ePsPVS9d5lZ/xzy7CkOPDbCRIpHWI3oSta3axbt26CF2EoWnTpvoM8JCta3ZRsmRJNm/ebEy5hRpwIhGwfPly1q9fbwzLC3Tu3Jm0adMawy909epVfHx8CAgIMKbEhcKFC1O/fn1j2KULFy4wYsQIbDabMSUufPTRR1SrFvYrIJ86dYqxY8ficDiMKXGhYsWKfPrpp8awS4cPH2bSpEnGsLxAjRo1KFWqlDHs0t9//82vv/5qDIsbtWjRgpw5cxrDISxdupQNGzYYw+KCyWSiS5cupE6d2phyac6cOezYscMYFhfMZjO9evUiceLExlSYPHr0iEGDBnH37l1jSlzImDEjHTt2NIbDzN/fn8GDB3Pz5k1jSl4TLy8vBgwYQKxYsYypF7p06RLDhw8nMDDQmBI3+fjjj6lcubIx7BZqwImIiIiIiIiIiHiQzkEUERERERERERHxIDXgREREREREREREPEgNOBEREREREREREQ9SA05ERERERERERMSD1IATERERERERERHxIDXgREREREREREREPEgNOBEREREREREREQ9SA05ERERERERERMSD1IATERERERERERHxIDXgREREREREREREPEgNOBEREREREREREQ9SA05ERERERERERMSD1IATERERERERERHxIDXgREREREREREREPEgNOBEREREREREREQ9SA05ERERERERERMSDTE6n02kMikjUMmLECC5cuBAsFjt2bLp06UKcOHGCxSX8nE4ngwYN4saNG8HiCRIkoEuXLnh7eweLS/jZ7Xb69evH/fv3g8WTJk1K586dsVqtweISfv7+/vTt2xc/P79g8dSpU9OpUydMJlOwuITfgwcP6NevHzabLVg8U6ZMtG3bNlhMPOvs2bOMGTPGGKZkyZJUq1bNGJYIOHr0KFOmTDGG+eSTT/j000+NYYmAvXv3MnPmTGOYqlWrUqpUKWNY3GDSpEkcP348WCx69Oh89913JE6cOFhc3oyJEydy4sSJYDFvb2++++47EiVKFCwur8eWLVtYsmSJMUy9evX48MMPjeF3mhpwIlGcv78/3t7emM1mzOb/T2q12Wxs27aNYsWKBdtewu/q1askT548WI2dTid2u50jR46QPXt2400knE6cOEG2bNmwWCzPG0EOhwOHw8HFixdJlSqV8SYSTrt27aJIkSLBmpnPavzgwQNixYoVbHsJvzVr1vDZZ58Fq7HdbsfpdKKvW6+Xj48PXbt2DbYvbDYbmTNn5p9//gm2rURMjx49GDx4cIgaFylShB07dgTbViKmTZs2jB8/PkSNK1euzPLly4NtK+5hMpkwmUxYLJbnMZvNxpIlS6hatWqwbeXNcLWPli5dSpUqVYJtK69H9erVWbx4cYhjVYsWLZg4cWKwbd91OgVV5C3hcDiw2WzPh7hf0Brb7XZjWtzAbrc/r7HD4TCmxQ2CHidUY/ezWCzBaux0OoP9SJDXx9vbO8TnovaFe0WLFi1EjYP+MVBendlsDlFjzVj2HG9vb5xOZ7Cae3l5GTeTN0j7KPIKuk90nAqdPiFFREREREREREQ8SA04ERERERERERERD9IacCJRgM1mY8+ePaGuIeTv70+ZMmWMYQCGDh3qcg243LlzEzNmTGP4neXv78++ffuMYXi6BpyrRbsnT57scg24/PnzEy1aNGP4nfXw4UMOHTpkDMPTNeC+/PJLYxiABQsWhLoGnMlkokCBArpAQxD37t3j6NGjxjA8XQOuU6dOxjAA69evD3UNOIvFQoECBXRKWRC3bt1yuYbYmjVr6N+/vzEM4HJNLC8vL/Lnz69TNSLg4sWLIS5A9IyPjw9r1qwJcdERb29vNm7cGCz2TLx48fjggw+M4XfauXPnuHLlijEMwPfff8+2bdsICAgIFk+cOLHL9ckSJUpE5syZjeF32pkzZ7h27ZoxDECHDh3Yt29fiOUC0qdPz6xZs4LFnkmaNCkZM2Y0huUpp9PJX3/9FaKmzxQtWtQYwmw2891337lcAy579uzEjRvXGJYIisg+MplMdOnSxeUacNpHr+6ff/7h1q1bxjAADRs25MyZM8FiJpOJvHnzMnbs2GDxZ1KmTMl7771nDL/9nCIS6f32229OIFzDYrGEiAUdbdq0MT7MO23MmDEhavSyYTabQ8SCjp49exof5p02YMCAEDV6WT1NJlOIWNAxdOhQ48O807799tsQNQo6XnZcCG1MnjzZ+DDvtCZNmoSoUdDh5eUVIvaysWDBAuPDSBhkyZIlRC2DDqvVGiL2snHixAnjw7zTkiRJEqJGQUdEjilXrlwxPsw7LSI1fNl4+PCh8WHkqbVr14ao18vGy47rVapUMT6MvILVq1eHqPHLxsv2UbVq1YwPI+Hw+PHjEDV1x3gX6U/aIlHA/fv38fb2NoZf6GUXCTDOCnjXRaTGrv4yx9NZLapxcPfv33/hIrmh1TO0WZ/PRI8eXTU2uH///gtnUr3suGDk7e2tGhvcvXvXGAomMDDQGHohvY4j7tGjR8ZQMM8WrA8Pf39/Y+idZpzdZhTeYwoReI9I+EVkv7wrXvZdJDQve80+fvzYGJJX4Il99LLPC3kxTxxTXvR99W2mBpyIiERJ7+oH9+ukGoekmkQe2heepxp7nmr8+qnmkZ+795G7709e3bu6T9SAExERERERERER8SA14ESiCJ0W43kvO9UmPDwxVftt4M66uHN/vU1edNpueOm4E5I764tq/Ep0DPA8vT49LyKnSsur0bEj8nP3PnL3Z7e8utCWnnkXqAEnEgWkTJnS7R8cadKkMYbeaalSpXLrB4HD4SB16tTG8DstderUqrGHubseqnFIadOmNYaCicgpFapxxGTKlMkYCia8awjx9Aqe8n8ZMmQwhoKxWCzG0AuZTCZdidAgtKt8BxXeY0rMmDGJHj26MSxPJUuWzBh6qZddbT1dunTGkLyCiOyjlx2LtI9ejZeXF7FjxzaGX0ny5MmNoXeCyenuX/Ui4hF+fn6hNuH8/f1JkCCBMQzA+vXrKVasmDEMTxdXD++XuredqxpfvXqV9OnTG8MA/P3332TPnt0YBtU4VK4WKj5x4gT58uUzhgE4deqUyx8oqnFwTqfT5YL+u3bt4qOPPjKGAbh+/TqxYsUyhgGIESOGMfROe1GN16xZQ40aNUJtNLtaANpkMoX7AjDyhN1udzlLwsfHhx9//DHEvsqYMSOHDx8OFnvGYrEQLVo0Y/id9qIa9+jRg3HjxoXIFyhQgC1btgSLPaMah2Sz2VwuIN+mTRt+/fXXEMeU8uXLs2zZsmCxZ6xWa4Saz+8Sf3//EDV9Jm7cuCFmJVqtVn799VeqVq0aLP5M9OjRMZs1r8WdIrKPfvvtN6pUqRIs/oz20asLDAwMUfdnqlevzurVq4PFTCYTDRo0YOLEicHiz7yrxyq9CkWiCG9vb2LEiBHqcMW4XdChpkVIqrHnGWukGruXyWQKUaNXrbEE97Iah/aatFgsIbZ7NtR8i7gX1TWGi9dutGjRQmz3bKgxFFJEahw9evQQ26nGrlmt1hB1elmNjdsEHe/iD9rwetFrNLTZbi877qux437aR5GPl5dXiLoGHaExbhN0vKvHKr0SRUREREREREREPEgNOBEREREREREREQ9SA04kigt6upO3t/fzQQQXoJaQntX42VpN3t7ez2urGrvHsxpbrdbnNX52ukBopxpI+D2rcfTo0YMdJwCdmuEmJpMJu90e4ljszqv/StiYTCb8/PxC7IuXLdQtYWcymQgICAhRYx2z3cdkMuFwOELUWN89POfZupFBax4YGKiaRyLaR5HPs++YQfeJ0+nUPgmFLsIg8hbYuHEjFy5cCBaLHj06tWvXDnU9Igkfp9PJ2rVruXr1arB47NixqV69erCYRIzT6WTlypXcunUrWDxhwoRUrlw5WEwixm63s2zZMu7fvx8snjx5cj755JNgMYmYwMBAlixZEuJiI2nTpqVMmTLBYuJZ9+7dY9myZSEW8c6dOzd58uQJFpOIuXnzJitXrjSGKViwINmyZTOGJQL+++8/1q5dawxTvHhxMmbMaAyLG+zYsYNTp04Fi1ksFmrXrq1mQiSxfft2Tp8+HSxmsVioU6eO/gDwhvz777/8+eefxjAfffQRadKkMYbfaWrAiYiIiIiIiIiIeJDOOREREREREREREfEgNeBEREREREREREQ8SA04ERERERERERERD1IDTkRERERERERExIPUgBMREREREREREfEgNeBEREREREREREQ8SA04ERERERERERERD1IDTkRERERERERExIPUgBMREREREREREfEgNeBEREREREREREQ8SA04ERERERERERERD1IDTkRERERERERExIPUgBMREREREREREfEgNeBEREREREREREQ8SA04ERERERERERERD1IDTkRERERERERExINMTqfTaQyKyIuNGTOGxYsXYzarhx0WJpMJHx8f8uXLZ0y90Llz5/jqq6+MYXHB4XBQpkwZevfubUy5dPToUdq3b4/JZDKmJBQOh4PKlSvTqVMnY8qlv/76i65du+p4EUYOh4O6devSokULY8qljRs3MmDAANU4jBwOB82bN6devXrGlEsrVqxgxIgRqrGHOBwOevbsSbly5YypEEaNGsXSpUu1L8LIZDIxbNgw8uTJY0y59MMPP/DHH3+oxmFktVoZPXo0WbJkMabC5P79+9SrV48HDx6o5mHgcDjInDkzEydONKbCzM/Pj3r16nH79m3V/A3x9vZm4sSJpE6d2ph6oX/++YfWrVvru7uHOBwOqlevTrt27Ywpt1ADTiQCihUrxsmTJ2nevLkxJaEYPHgwY8aMCfeBbP78+dSuXZvu3bsbUxKKefPm4XA48PX1NaZcmjRpEi1btlSNw2jq1KmkSZOGPXv2GFMu+fj40LVrV9U4jMaOHUuRIkVYu3atMeVSjx49GDx4sGocRkOHDqV69erMnTvXmHKpTZs2jB8/XjX2kMGDB9OlSxeGDBliTIVQuHBhzpw5o+8gYTR48GDGjRtH69atjSmX3n//fWw2G3Xr1jWmJBSDBw9m9uzZEa7XgQMHyJs3L+3btyd27NjGtBhs376dLVu28Co/48+cOUOmTJlo2rQpyZMnN6blNRg8eDDr1q2jfPnyxtQLzZgxg6ZNm+rz2EMmTpxI9uzZ2bJlizHlFmrAiURAyZIlKVOmDJ07dzamJBRFihShZcuWEWrAdejQgdOnTxtTEooZM2YwduxYTpw4YUy5NGnSJEaMGBGuhtK77KeffmLlypXs2rXLmHLJx8eHRYsWsWHDBmNKQtGvXz+OHDnC6tWrjSmXevTowZ49e1i8eLExJaHo1KkT9+/fZ86cOcaUS23atOH69etMnz7dmBI3qFmzJrly5QpTA65YsWJ8/PHHfPvtt8aUhKJgwYK0b98+XA247Nmz06JFC83CD6PMmTMzfPjwV27AXblyRQ24MNi6dSuVKlXCbrcbU2H2rAF36tQpNeDekMSJE7NixYoINeD69+/PoUOHjClxgx9//JHt27ezadMmY8otNN9URERERERERETEg9SAExERERERERER8SD3NOBsJ5jdrQXNmjUzjOY0b9GKNu070a3fCKavPMDVAOONPc3BpeUDaNmsBV1nHsNmyNqvH+f4Fcf/A45LLB/QkmYtujLzmHFrERERERERERGR8HFPA85+me3zpjF16lTDmMKUyRMZP3YkQ/p+y5ef5ydjjhqM2XvfeA8e5ODmvqVMnzqNOdsv8/8z5R9yaEYriueuwMiDgUE2v8m+pdOZOm0O2y9H/Lx6ERERERERERER3NaAe8YUizJ9VrF+/fogYx2rVy5m5ujOVMwYnUenFtOpekeWXw8y68yjzCTIW5lGTRpTq0gKLM/C9gusmjCNXdeCNN8AzAnIW7kRTRrXokiK51uLiIiIiIiIiIhEiHsbcFhI8kFpypUrF2SU59OK1ajf3odl636iQiITtvOzGTrjdJDZaJ5kJk2VvkyZPpVhjbJjNaaNzGmo0ncK06cOo1H2l24tIiIiIiIiIiLyQm5uwL2YJX09GpePh9npz4Gdf/PYkA/4728WjulDp9bNaNaqI71GzGH7v36Grf7Pdu0AS8f357vWzfjyq1Z06jOKebsu4W/Y7sGZHaxdvYbNR2/iABzXDrNp7U7O3HOC058rB9axes1GDl9zAA84s2Mtq9ds5ujNkLP0wv4c73N6+1pWr93LZTvYru5l4ahedGzVjJZf92bUor1c1RJzIiIiIiIiIiJvvdfagAMv4seLhQmw2QKDzIC7w99j65A7c2FqdejPyAlTmTpxFAO/rUeJ7Dn5YvhObgfrhTm49kd3SmQrwBdt+jB8wlSmT5vIyP4dqVM0K7nqTeXY8y6cjbO/tadyhUo0HLufQCBg90jqVv6Sqcdt4LjByu6fU6FiHYbtDADbWX5rX5kKlRoydn/Q01PD+Rxtp/mlTWUqVOnL/N/7UDZ3EWp1HMioiVOZNHoAHWsW4oMSPdl4K2STT0RERERERERE3h6vtwFn92XPgWs4sJA6Q0ZiPAlyelJDKneczz+PElKg6SB+W7WJP9fMYXirEiQPOMOSLpWoMfoozy+genc1Pb4ayu67iSjaeiRzV//J1s2/M3NQfXLFecTJud/QfuIZl6e4WtN/xJetG1I8hQVMcchZrTVt23xFuQyuTjmNwHN8JnA7AxsP5liaBvzw2yo2bVrFL/1qkC2Wg1u7h/LNiL3GW4iIiIiIiIiIyFvk9TXgbP+xZXBbRv4dAF6ZqVa7INEA7qxgYL/VXHXGpVi/NWya1p0GFUpT6pM6dBq/ng0jPiExt/hzwPfMufJktpj/ruWsuWTHq0QPZo/tSO1PS1G85GfU7/4LSwaWJjYP2L50JZdcTC6z5mjAoFE9qJDWDOa4FG4xkrFjBtMwp4sGXASe43OOOzxI9x0r/pxG9wYVKF26Ao16z2Vxz0JEI5Dja9cG315ERERERERERN4qbm7APWbX6IbUrFnz/6PGF1T5pDg50makTO+NXHfGImf7UXQrFB2AhxsXsuo/O5b36tP32/zECnZ/0cnWaiAtc3jhuL2eeSuvPwmbTZgB+8lNrDx6P8j2FtLVG8HStTs5OLclqd30r4vQc3zG5EWhhi0oGOxGFjIUL8J7FnDcvBo0ISIiIiIiIiIibxk3taiecgZyfvtiFi5c+P+xaAnL123n2HUrqfJ9TscJf/DH0HIkNAPYOH3wKHcdZuIWKk1hb+MdAtYclC6WAovTj2MHjgIQvXBVPktjxXF5Ge3yv0fmEjVo028iy/dcJiBRbsqWL0SWpN5u+sdF7Dk+Z0pIpszJQzwXc9y4xDEBtqDrzImIiIiIiIiIyNvG2Bd6NabYfDZ8NwcOHHg+Dh48xNF/znPj/m3O71nGyBaFSfL8Ue3cvHEbB2YSJU+OV/B7e8pC8uRJMOPg7u1bT0JxPmXInKFUzxIXs+02p7YtYnzfVlQp+B7JM5ai8YAlnHhovJ+IiuBzfMYUgxgxTcFjACYTJgCn05gREREREREREZG3iHsbcJiJkzoHuXPnfj5y5crJB5nTkNA79Icym82AE7vNjqtWVKDNBpjw8vp/+yt+4Y4sOOrLoVWT6NOyKkXfT0g0bNw9u4Vf+9SkVK0JnHR1FYZwiuhzfCaU9puIiIiIiIiIiLwjTE6nG6Zg+W+kbdaPGfdvLGrNvcK8WjGNW7hg55/BxcnZYzfRKk/j/PImJDRuwkMW1X+PWrPvkrXrNo7+WMi4wVN2bv/zJ4smDuD70Vu4asrMd5sPMbSomUN9C1Gg30GSt1rDqfHliA5gP8HgYrnosScpzVeeYdKnT9akw3aIvoUK0O9gclqtOcX4ctaIPUfbfnrlL8TAo6lpt/44Y8o8vf+nbIf7UTh/Xw4ka4HtwsRgOYn8SpYsSZkyZejcubMx5Tb28ztY/tclbBF5h1pSUKBScdJHMybejCJFitCyZUvatWtnTL3Q/Pnz6dChA6dPnzam3Md+meX9uzPvtM2YeQkr79f1oW+lZMbEGzNjxgzGjh3LiRMnjCmXJk2axIgRI9izZ48x5T5vUY1/+uknVq5cya5du4wpl3x8fFi0aBEbNmwwptznLapxv379OHLkCKtXrzamXOrRowd79uxh8eLFxpT7vEU17tSpE/fv32fOnDnGlEtt2rTh+vXrTJ8+3ZjyOPvl5fTvPo/wl/596vr0plKy0P8IHJnUrFmTXLlyMWTIEGMqhGLFivHxxx/z7bffGlNu8zbVvGDBgrRv357WrVsbUy5lz56dFi1a8NVXXxlTbvM21Thz5swMHz6cunXrGlNhcuDAAfLmzcuVK1eIHTu2Me0mdi4v70/3eacJf8nr8kvfSsbwG7N161YqVaqE3R7x2SZnzpwhU6ZMnDp1iuTJkxvTr9nbs2/CI3HixKxYsYLy5csbUy80Y8YM+vfvz6FDh4wpt3mbjk/h9eOPP7J9+3Y2bdpkTLnFG66MhXSFC5Da4uTx9uWsuhrKZUvvrGfF5js4zPHIUyA7YOPwhEaUzJWJUv32BnmTWkiQpSzNfEbSPIcVHFe5ZLwiaTBhnZcWkeco8ur8d46lZdMv+fLLCIzmI9nyyHiPEjp/rp05wpEj4R++NwKMdyahUo09TzX2PNX4jfG/xplQ6vry4cuNgIj8FUtU89dANX7t/K+dCaWeYRi+N4x3JW6mfRPJ6PjkMW+4AQfRizWiXvZoOG+voFf73zjpHyRpO8/i77ox57ID63s1afRpbMBKyjiPOHr0DNunjWDRheCd/4DTm9nxrx2TJRPZslqD5YKLRjQvwOmHn9+LXyThf44iEiWZk5C3ci1q164dhlGLstmCXxNZwkA19jzV2PNU4zfGnCQvlWsZa+xi1CpLtlhh/YOruKKae55q/LqZSZK3MrWMtXUxapXNZrwD8Rjtm8hGxyf3esOnoD5xd0tPyn3+I3vumYif9RNqfv4hqSzXOfj7AlYevI7NOxut5m1ibOVkTzqGj3bTu+RHDNz7GK/k+an8RXlypfDG7/IB1i5ayf7rTlLVncVfv9UihdkW+imo3GfWF6louOQhCT5sSKsK7/F+xZ40yXvCcArqk63D/Rx1Cupb7XWcgvpoXj3SNVvBY6x80HkD23vn40Ut5cgscp+C6suUxjUYc9gG1lx8vWQGX6a1GLeKEiLvKahvT40j7ymob0+NI+8pqG9PjaPcKai+U2hcYwxPSv81S2Z8SRQtvUuR7hTUt6jmkfYU1LeoxlHlFFTfKY2pMeYwNqzk+noJM75MS1Qs+dt4Curbsm/CI1KfgvoWHZ/C6y0/BfWJeCUHsPb3kTTMl5CHJ35n8pB+9B00jiUH75E4fz0Gr9zAmGeNLYCYheizeC7dPk6H17W9LBo3mD69+jB4/FL230tC4eaT+H1SLVK88F8Xi0+bNyV7LCe3/v6FQf0GM26t6x/54X6OIiIiIiIiIiIibmvARf+In31tOB13wz377QkzCYt24Nc9Fzh/YANLZv/Kr/NWsvnQOXz/nkXXj1KE6IBb0lZm0NpTXDy1kzULZ/HLjJksWLmVE5fPs2NiU3I+P9vDSq6+ewlw2jj/fPYbgJlEn41i97EdLJs5nem/zWFIjZRgzUXfvQE4beefz357tn24nqM1LwMOBuC0nQ0x+w3AmrMPewKcmv0mIiIiIiIiIvKWc08Dzm2ikzzXR1St25CGtSpSMkfyIA2z0FiIn6EQn1SvR6PG9alRsRiZExhbdS8WM21hPq/fhCYNqlMma3xjOhThfY4iIiIiIiIiIvIui2QNOBERERERERERkbeLey7CIPKO0UUYwifKXITBkpKSDauTO45xo9BYSFawOpVzxTUm3pgocRGGKF7jKHERhihe4yhxEYYoXuOofBEGS8qSNKyem7CVPhkFq1cmEpXepch8EYaoXvOocBGGqF7jqHcRBgspSzaketgO4liSFaRp5VzG8Bvzdl+EIWrvm/CIKhdhiOrHp/Dy9EUY1IATiYDX3YDL+vVK1nyXPcRaiKEyWfCOHQfvMG38ekSZBly4WMnzzVJ+aZLGmHhjokQDLlwiX42jRAMuXCJfjaNEAy5cIl+No3IDLlysefhm6TSapIlEH4guROYGXLhEwppHhQZcuETCGke9Blz4WPN8w95fmhjDb8zb3YALn8i2b8IjqjTgwiUSHp/Cy9MNOJ2CKhLp2Tgx6lPSpUlDmrCMtAXpvtXfeCcSJl7ESZKUpEnDMpKRMGbU/XB5c1Rjz1ONPU81fmO84pAkRI1djGQJiWkxGe9Bwks19zzV+LXzipMkZG1djGQJI3KRQYko7ZtIRscnt9IMOJEIeL0z4MLJnJpmyw4wsnTkuTxIlJkBZ83F10tm8GXaqPljOUrMgIviNY4SM+CieI2jxAy4KF7jqDwDzprra5bM+JIoWnqXIvMMuKhe86gwAy6q1zjqzYCzkuvrJcz4Mm3Yzi6JZN7uGXBRe9+ER1SZARfVj0/hpRlwIu88C+/VGMqcefOYF5YxdwLNc3oZ70RERERERERE3hA14EQiPROx0hfk0woVqBCW8VkpPkikt7aIiIiIiIhIZKFf6SIiIiIiIiIiIh6kBpyIiIiIiIiIiIgHuacBZ/dlUZ+WNGvWLGyj1Y+sueYw3osb2Dm/tC8tm7Wg57zTRHxZyldjPz2f71s0o2XfJcaUC3ZOz/+eFs1a0nfJv8+jjkvLGdCyGS26zuRYeC8BLCIiIiIiIiIikYKbGnDX+GvBNKZOnRq2MW05B+954uKrTm7uXcL0qdOZv+vKm2vA/beLBdOnMn3xXmPKBTv/7VrA9KnTWbz3+vOo4+Y+lk6fyrQ527n8pv4xIiIiIiIiIiLyStzTgHvOi6LdlrN+/foXjzWjqJP6HbmO7SswJ8hL5UZNaFyrCClULnELO3cvHGffviOcve5nTIpb+XNkyShGTN3ERTXQ3eQxV/av5rfR/enSpgl1a1WnRu2GtPj2B6asO8k9T0ysfufYuXNqK4sn+fB9x+Y0qF2d6jXq0KRNV4bM2MiZh8btxT3sXN48g5EjRvLbzuvopewpgez7uSlVP/+cz12N6t+z8qb2gCfYb51g3QwfurdrSr2aX1Cteh2aD92Ayv0K7Jf5c/oIhg8f/sIxYvRy4y3lFTnunWL91B/4tnkDalevQe2GLfj2hymsO3lPx/A3zHHvJGsm9afjV/WoVaM2DVt1ZeisbVx4ZNxSXjf/I0sYNWIqm1724yjwKn/PG0bXlg2oVb06tRu35fsxyzh8K+q/u0xOp/PVp6IF7KZrnuL4HLdQadpVVjSNZ9ziNbGxv1d+Cg08xnsdN3J0ZAmiGTd5DQK2dSJnmZH4ZutJwKGBxnQoAtjWKSdlRvqSrecODg0sYNxAIpmSJUtSpkwZOnfubEy5zaN59UjXbAWPMZOmSh/6VEkTjo65mThZSvJpriTPI/6nFvF9++5M334FfwBrfLJ+1oHhI7+lZLKw33NEFClShJYtW9KuXTtj6oXmz59Phw4dOH36tDHlPnZfpjSuwZjDNrC8R6VvW1E8ocm4VShMJMhaksLpYxoTANw/9gudW4/krzj1mLKkC/m8jFu434wZMxg7diwnTpwwplyaNGkSI0aMYM+ePcaU+7ipxvYLM/iy6kgO2ExES5CaDGkSEyPwFr6n/+VOYHTeq9yXcf0q4Mm/7/z000+sXLmSXbt2GVMu+fj4sGjRIjZs2GBMuY+baszjtXQp14W1D8AaJwXp3ktOXMtDLp06zdVHDmJkrMGgCT35KKnnjhn9+vXjyJEjrF692phyqUePHuzZs4fFixcbU+7jrhqH4v6+MbRsO4Wjj6xkbTWHWa0zYzVu5EadOnXi/v37zJkzx5hyqU2bNly/fp3p06cbUx5n951C4xpjeFL6SnzbqjhhK30CspYszP9LH8C2vhVpv+QWiTLnJV1oX1etWan7YyfKxvfcazw0NWvWJFeuXAwZMsSYCqFYsWJ8/PHHfPvtt8aU27iv5gABnF87jO6DFnLkDsRI+h4ZUsbD/Pgm1xLUYOq4xqTx4HG7YMGCtG/fntatWxtTLmXPnp0WLVrw1VdfGVNu45YaBx5gRPUv+eXfl/yYjVGOg7uGG6NukzlzZoYPH07dunWNqTA5cOAAefPm5cqVK8SOHduYdhM7vlMaU2PMYWxYeK/St7QqnpCwlTwrnxZO//z/A3yX8H37way9EEiMpBnIlDoO9pvnOPXvbQKjpeaTnj8zqGo6jx3Ht27dSqVKlbDbX7LfX+DMmTNkypSJU6dOkTx5cmP6NXPfvnl8agHfd/Thj4sO4qR+n4xJTNw+e5J/79qJk70RP47pSPFEr/f47krixIlZsWIF5cuXN6ZeaMaMGfTv359Dhw4ZU27jluOT0f1j/NK5NSP/ikO9KUvo4urHUeAZ5n3bCp/N1yBuGt5PFx/HdV9OX3mAJW1lBkzqx6cenJ30448/sn37djZt2mRMuUUkaMDd5/T2HZx+lJTcZfOS4NJ2Fsxezu7TN7HFy0jRLxpTp2hKogH2m4dYPmsBfx69gn/stBSo2JB6H6Xn//s3eAPuyA+p2TF7Jiv2nOdRjJTkLF2dWpVykcTF/rLfPMzqhcvYfOhfbttikjxzQT6tUZ3i73kbN33u/olVzFywmSMX7+OdpiBVGtWl0Pke5HLZgLvPiVUzWbD5CBfve5OmYBUa1S3E+R65QjbgHpxhx/aT3PNOy4clspPIDNw/zfYdp3iQODfl8iflxt6lzF26jeNXHhM95QeUrFKHKvmThXrAt1/bz5I5i9l69AqPvVOQ46NaNPg8O7ajm9l3yUnKvKXJFbQRY7vGgZWLWL7tEOdvBWCNn5pshT6jRtXCpIoe9J7fPa+3ARcRFjK1W83+wUUAcNxax7dl6zDl3yQUb9SMah9E4/ym35i66iSWYgNZt6IDH4T2onGTKNOACxcreb5Zyi9N0vw/FLiPKV3Gs+3yJU6fvsR9G1jS1FcDzk01tl9cQL/hF8hTtxafFkhNzKeHq8fnVjGwXW9WXozLJz8u4cdP44ejWR0+UaIBFy6G17H/nwzrtJkkNepRpcT7xH96XHDcO8qsbu0Ysf0OyWqNZ1nPwnjqYyBKNODCJZRjRRC2C8vp+mVfNt504rCb1YALRdAfAuFizcM3S6fR5Hl352kDbqkfnw7/g8FlPfUqDr/I3IALlxA1d3BzU3+afLeEywkL82XP7jQtnS7Id3fPiwoNuHAJVmMHgf7+BNpd/Jx7tJPB9b5jhd9nHNgyyJh1m6jXgAsfa55v2PtLkyf/Yz/HzJZ1GbonOgXbjeDHpvlIZAEI4OLGYXTqMY+T1uL0WjiG6sk9823k7W7AhU+wffNoL8Prt+DXf5NQrvso+tbMQhzAce84SwZ1ZfDqC8T7eBDzhnxGYs/smnCJKg24cAnxGRDIvildGL/tMpdOn+bSkx9H1HfZgHNweX47ag3agVfhbxg7tDHZ4wCOW/w9tgNfTztKzAo+LBpUnvB0nMLD0w24N//Ss53mlzaVqfB5X2bObUORnCVp3M2Hn6dMZeLwHjQpVYBqPx/l1u5hVM77IdW/HsjoSVOZOKIPzcvnp3y/HTww3ifgvPEHnUrmo1yL3oycOIWJP/WnXbX8ZCv2DcsvGA9WNnwXfU2xbPn5vFUvho2bwtRJo/nhuwaUzJ6LGqP+5q7hFjgu83u3kmTOVZk2vYcybtIERvT6io/ylKDzhluhTj12XP6dbiUzk6tyG3oPHcekCSPo9dVH5CnRmQ2hTKe0nf2N9pUrUKnhWPYHPo2d/oU2lStQpe98fu9TltxFatFx4CgmTp3E6AEdqVnoA0r03Ejwu3NweVVnSmQvSK2OAxk9eSqTxwzk6y8+JM/nPkz5oQ4VK9bEZ0fA/29x7Q+6l8hGgS/a0Gf4BKZOn8bEkf3pWKcoWXPVY+ox/6APIJGajeOTBvLraSsFuy9i6U+dadHiawbO+p0pDd7jwfaR+Cy/ZbyRRIgXcZOkIl22gpSrWJBULpr9EjGW1DXpP7ITXxT8f/MNIEa6z2hfNy9W523+3n6Ap4dLiYjopfnu5z40LvP/5huAOW52atcvQ2Kzg+snT3DN+DEqEXNvD2M7D2JjYAFa1Mvv0aabyBtxbztjfJZzIXpuWo0aTdvX3Hx7+5nxih6DmDFjhjKicWnpdNZeNZO2cnXjDSWCHLd3s+XAI8zJy9Os0bPmG0A0Un/UnqbF4uC8f5C/Duu30ut2b/NslvjaiVOyDT2qP2m+AZjjZqN67x5USwU3Ns5i6Tl9iXmdvOImIVW6bBQsV5GCL/txZPdl1dLd3Ldkp36XBk+abwDmhHzYsiNV0pi4vnEJ66+H7J1EFW++AfdMwEYGtJzC1ZwtGDZ3DZv+mM+Q2lnwtl9hzffVKVG9J3tSNWHYvHX8+cd8hjbISWznbXYO7c2Mf407wI7v7IFM+Cc51XrPYOXGDSyd1IVP37Nwa/doGjcZyz/P33cObq3pSIX6Y/jrVjzyNx7ILys2sfmPxUzsXpXMpjMs6lSJBpPPBLmog41joxpQf+hWrlrSU7HbZJZt3MSqX/pSI9VJfh4wE1/j+9p2jFEN6jN061Us6SvSbfIyNm5axS99a5Dq5M8MmOkbrotGBG4fSOPBx0jT4Ad+W7WJTat+oV+NbMRy3GL30G8Ysff/7Wrb0ZHUbzCCnTe9SF+hK5OWbmTT7zMZ3CgHD9f0pM+imwT/u9ldVvf4iqG775KoaGtGzl3Nn1s38/vMQdTPFYdHJ+fyTfuJnAnPE5Zwi1l7Ntfu3+d+hMad57PfsJ1g2crDBMQuQ9Mvc/x/1oo5KZ+2r08uy03+WPwHt4M89jvFkp5mM/dy8ODBcI69IWe0eOWkVo++9O3bl77dq5D5JZ8x7wx31jhUZuLGj4MXTh4/fBTqH0Deeh6vMQQ+eoi/E2IkTkq8d/G17e4a286xuHd3fj2TkpoDB1MrrdpvrljSN2PmXmNdwzD2/hLkr/ASHu6puYNr6+aw9jKkqdKBBh9EnhmHkYF7auya48Y6Js46QkD8kjRrnNeYfgdZSN9sJnuN9QzDeD7DCsDpxOkE5+M73ApxmooFixVMZm9ieL98H8kz7tg3gZw+copHTgsZcuchxCoCMfNRtlhSzLZ/2P3XTUNSjNx3fPIiZ60eT34b9e1OlZf8OHLc2sOeUzYsaQpQ0Hici56TQnniYfI7xF/7o+5a5saX5itycGn7b0yePPkFYypL9oacIeZ0PCQgc1eWrR1Pp9qfULpsTbpM9qF2CguOOyc5Fa8tC9dNpFOt8pQqW5Pvpk6iTVYrzkd72bbbuAOcOM3paPTrRub3bUzFMh9RpfkQVqwfRYUkcGfzMIaueTpvzrafkd0m809gPEoMXM/mGT1pVKk0JctWo8WgRWyZ3ZRM5uus7vcDq55Ng7u/mmHDt3CHJFQctY6lg5vxeZnSVGjUm9kbZvJlejMOw0zw+6uHMXzLHUhSkVHrljK42eeUKV2BRr1ns2Hml6Q3OwxNsBdz3HlAuu9W8Oe07jSoUJrSFRrRe+5iehaKBoHHWbv25NMt77B8yDC23DGRotp4Niz/keZVylD6s/p0m7GB5V3zEs1uD/7Y/rtYvuYSdq8S9Jg9lo61P6VU8ZJ8Vr87vywZSOnY8GD7UlZeMu5FiZQeHOTgKRvW9/ORP37wlCVDfnInMfHg6H5O/H8CpEgUE8ipf84SgIWkKVNoFpEHBP63lZ+nbuZejGzUaViauMYNJHwcd9k9qgtDNtso/O1QOhdPYNxCPMnp5O6/+9m9bRvbdu/lyLmbEVzuQV7sPru27ueRJSXFy+UmRsBNfA/9zc5tO9l79AJ3w3tqk4SDPwd/ncymW1ay1G7OZx5ct/NdY05YmFJ5Y+G8s5ER3Sex/XKQM4hubmXD3odYUpfjs/xvYiXyd5mTwIAAnIDFag1l/TgradOmwoyd/85fNCYlkrBfOMclO5iSpwrlTCILqVIlw+J8zAXfy8ZklOHmo3Eg+6e2p0WLFi8YrRmw/EKIBhxYyVerMfmCzkuPlYc8mS2AlZw1m1L02RREgGg5yJHFC5PzEbduGU9CNRGjZEf6VkkR7B9ozdSUbg0yYbVfZuXCTTwCAv6ex8KjAZhT1qR7hzyGafFmklb4lib5rNivrGLRn08uneK3eSlrrtixZqhH58YZg/3YMyetyPfti+Md7F3vx+ala7hit5KhXmcaZwx2C5JW/J72xb1DOVC4ZvIqRMMWBYkVNGjJQPEi72HBwc2r157EHmxg0eprOLxy0KxXfdIFeyHHo1jn7lQL8aFsxmQG7CfZtPIo94NkLOnqMWLpWnYenEvL1MbbSWRkv3KRKwFgTZE65OL0llSkTGbGfuUil/RFWKIox/U/mLnqPHZrakqVzU5oK0pIBNzdxviu39C+WS0qVOvGn7E+peuEibTJoxPIXk0gZxd+T/dZ50hdZxCDamXUa/a1u8/2US1p0bYtbVt8Sf0q5ShboTk/Lj+JLvTrRoFn+MfXH0zRub6+KzXLfUzVhs1o1bYVX9arRLnPmjBw6T+quQfYLy5l4mJfHEk/plm9rDrGuJMlHXX7D6R+ztjc3P4zbapWpGHXn5jz+2JGfPMDG0yFaDuwLYX0UfmaWUiZKhlm7Px74ngoxxUzMWN6Y8LBo4fG3oFEFo6bt7njAK9YcYItN/OEmThxYgMO7t6KuuduhfhnvRovPqjdl0GDBr1gDKR9+eCNMQDM8ciUJTXB+wPeRI8GmCykSme8kowZ7+hPprI7QixAaSVriVKkCvEg0chbNB9xzA5uHTmAr93Brf37npwu6jzB7E6taNXKMNqOYNsdEybHbY4fOQfYOXvwMDccJmLlKUy+ELPpzaQqUYzMQZ+s/SwHD9/AYYpFnsL5Qi5cbU5FiWLhW3DZlDATmUMs7Gkmbtw4mABb4JNVkGz/7OfwXQfmJAUonC2UR4hbnOK5vII3/6IXpupnabA6LrOsXX7ey1yCGm36MXH5Hi4HJCJ32fIUypIUb+PDS6Rkf/CAR06IHiOm4f0FmGISKwYQ+IiHWqpCoqLAcyweMJQ/bphI+VkHmuTWX5zdxRF4ndMHDnLouC83/OwEPrzLlX+vhLruqoSVg1vbR9B52HZMxTozrFORkKfJiAeZSV6oBi06dqVX/0H4DBvCwJ5f0/iTrES/+hdz+rSk+6IL4VoSRF7AdoMbt+xgO8O2zXfIUuMb+v7ow48DetChXjGS3d/Pgn6tVHO3u8eOKTPYfd+b3PWb8ZEOMm5nSZ6PTysVIrV3bFKmtHJm3XR+7N6P345Ep2Dtr6j8fOEqeX0spCxdnrwxndxc8xMD5x3i5vPJBXbun9vO8m3ncGDCbNJ7IrJyBPgT4DRh9bKG7BcBXl4WwIm/f9Sdtx7av+sVmMnwSUe6d+/+gtGFpsWThnxgUyxix3E1B8yM1StE6+AFTCRKnjzkYwBeSZKQwATOO7e4ZXdw9eotHE6wX9rKbxMnMjHEmMKakwE4cXLv9h3Azo3rt3FiJl7ixKH+RcmcIgVJgv5T7De4ftsJ5ngkThzqLUiRIkn4ZsDFiEHMUG5gMj0JOp1P5hjab1zntgPM8RKFfulgcxwSJ45hCMbh0yFzGFo9C3HNNm6f2sai8X1pVaUg7yXPSKnGA1hyIuTfFSSScjpxYgKTKeR7wmTiyUvGjj3ktFSRyM1xnT99OuGz+RYxsjdhYJdyT64WLW5hTlyN4Ws3snn7TjYvGky1OAf4rXczOv16She6iCD7hSX0+X4ul9LVZ9DA6qQP7SuBeJCVTJ+1pHXTetSoUpFPyn9K5Vpf0snnN37r9RGJucXWyb+yR3+QchN//P3BFOcT+i+axsAODaj22Sd89nltvuo6lun9K5CMW2ydOpO9WgbDbWyn5jHx98uQqhLNa2YI+cdXeTWOO+wc0YIWPntI8/V0Fi1dxR8rpzGgVUVyxLvF9jGtqNdhJsejbn8gyrKkq8333T4lreU8awY14rNyFalW/XM+LV2M0lU6MH73TRyYiB1fC2lEWmYzFpzgJJQzJsHhcAAmzJao+wUqEv1UMWNx47MJOSvuCafN9uSvbF7RiPa8YWUiRunerFq/nvUuxxqmtfgAAMvTJ2q3uzhnz2QyNNMsT/9tdlzfJLTu2IuEbXtTjBh4m8Dp9wi/UBeZc+LnF8q3nviF6bjgKL6HVjGpT0uqFn2fhNHAdvcsW37tQ81StZhwMvQaS+RijhWTmCYnAf5+If/C7HzEo8eANSaxvI1JkUjMcZPtI9vTY8EZzJlrM+induTX9ykPsRI3Qxla9vmSvF732fvbbHaH8rEhL2c7dzx8U30AABFHSURBVJhjd7xJmfw+60b/wIABA56OHxi1zhcnDq5tn8KgAQMZsewfXHxlELezkrpCbcokNeO4fpRDF0N8WkqEeOHlBc4nX40NzCQp/TklEptxXD3KocuquVs4brBu4myOBMShcOOmFA62Vo24Q+CRGfjM+QfyfUX32pmJiZmYqfLzeetB/LpwHE2zR+Pa9jH8ODd8F9gTd/AiXZUhzJ0zkm/qfUbhzMmInyAl2UrUouPImQyrnhwzXqRKm9Z4Q4kkzLFiE8MEAX5+oayP/6xvYSJmrKh7jrcbW16RiZNrly+F2jV98O95rjtMWFKkIY3VTPIUSbCYnNgeWHmvTDnKlXM1ylI0c/wnX9JSp8CMg1sXznM3lAdxXL7M1aCvGGtqUqcwg+MWF87fDeV5Obh8+WooL7JXZ82YibQWE47/TvHPnZCPjO0kJ88GunhsCwk/+IzmfSewZPtJrv13nD8mf0OpZGYc19bx0+Td6DdY5GdNnoqkVgi8doX/jN8EbP/x33UH5sTJSRHKGcoikZL9P/70aUPn305gztGUkRO6UjrEWpbibpak6Ukb34zj1kUuhvbhJy9lMoHZ7Ifv1mUsXrw42Fix9z/sOLh1ZD1LFi9hxd+X9ePtdTLHJX4cM+CPn3/o34oknKxJSZLQAn53uP0olGOGOR7x45kBP/weqebu4H/wVyZvuoUl/Re0rJpKs9/czs6Fv/7mvM1K6tx5SW4osCVRIb6sW4iY+HF874FQ1iGT1yFWxo9o0nUwoydNY/qUCYwc0ImGpeJw+vAl7Nb3yZNHpwhHVpYUKUhqAfudm9wM8SXIwY0bt3FiImnKlMZklPGW/mKxcXLzJs4ad5rjGqtX7cTPaSVzkSIkNZtJWKggWaxgO7ycRUdD+Vuz4z9+9+lCnxHTWH/yEWAmVbEivG914r97NauvG79Q2DmzfiMng96VORXFiryP1enP7tWrCXmTM6zfeNIjf+k2Jy9LubzRwG8H8+eF/EvMo92zWXQs+CPbDk+gUclcZCrVj71BUpYEWSjbzIeRzXNgxcHVS1dCaSZKpBMvBznTW7GfPMihJ9cRec5+6SBHrjrwzpqLbFF3Jq+8Sx6fYWnPFnSecwrvgu0YO64DRXTe6evhd4s7DxzgFZOY0VXziIhWvC/r9+5n/37j2Msf3YtgxUrWlvP4e/9eNg0sE3LNWPGcxxc4f9UOXslJlUyvb7fwykT2zDHBdpID+0NpRQRe4+pNO1iSkEw1f3X2iyyZsAhfe0JKf9WIXDqAeITT4QAc3L93L9TfQVarBTNgMus1HZk8PrKA5YcD8c79MR+/p9Z0ZGVNnZXM8U3Yzx3nuOF3K45b/PPPf9gtqciaNb4hGXW8pUcGJ/47h/HNhKP4PY/ZOLfgW/qsuI0zViEa1s+DFbDmrEeDwrHAfx8j2wxg262gh1IbvnM70bbnMAZ0G8nG20+mCFnzN6RRoVg476yi37fz8A3SpPI/NonvRu42nO5pJX/DRhSK5eTOqn58O883SLPNn2OTvmPk7tCmWbqBJQtN2lchufk+f/apT5elZ3jyWnZwe+8Evmo6huOBwR/ZmjIOj44e5cz2aYwwLowbcJrNO/7FbrKQKVvWcF04Qt4Qa04+LZce850/mD77TJD9eZ9dU2ezxxaHYhU+1tpZEuk57uxjUofm9F/9Hykq9mHKmGbkiasXrjs9+mcXf10KbQEsf/6Zv4jdjyBWnqIUiG3Mi0R+9iv72X78Tig/mh9zfN5stt6DOAXLUTyBjivuEZfin5UgEbfYOGMmh4P9mLJzec0Stt12Ejt/aYqp5q/s3o4pzPjrAV7ZatP8k8Rv64+8N8xCmjy5SGZ2cPWP2ay4YJg+Yb/M2jX7eIg32QvkRWcARw72/zYxrN8cTpOe6q2qk1b9t8grRn5KF0mE6e52lq0NfiZA4OllrDzojyV1Ccp8EHVnjrj52BzItn4lyJMnz0tGAWqP/8d4YzeykDSFlfUdS1Kwaht69u3N17UKU6jhLM7a41Oi50jaZnv6zrNkpd2oPpROBHe3D6B87pLU69ibAf2606pqfgo2mcs5ezSyNBtCpw+fXl3P8gHtRnajSDw7vrMbU7hwLb7u3Y/v21bjw+IdWGtOTjLjlOQP2jGyWxHi2X2Z3bgwhWt9Te9+39O22ocU77AWc/JkHpombiZFnWGMbpQZr7u7GfFFNlKlycoHmVORplAb5l1MQPL45ieLGT5bnyNRNTq3zUtMx3nmNCpI4Rpt6dF/IP17tOGLIqXosuku5lQ16dwsmxpwUUI0Pmz1DZ8lvsemXjVo8MOvLP99MRO+rUGjn49j+aAZneukdPfB4N0UeIzFwwc/ueLz8N85bQfHnb3M8nlyFeghM7ZxI+QvPwkTO+cWDGfiXzchYWayxTrK3OHGq2wPYtDgkSwPNgVZws7Bg31TaVO1InW/+YHxc1bwx+bNrF8+i7E9mtBy3AEex8nLl+2rklIHDImCHJfXMahBJao2/55Rvyxl3Z+b2bByLuO+/4rW4w7wOO6HtGhfEZ3R7j7xPmpN25KJ8D88idZNejB5+Sa2bl7D3JEdafHjn9yJ+yHNO1bTMeVV2U4xb+LvXCEpn7aoR9ao+9s00ouWvzFtyiXDcmszg75swcDpy9m4bRsbV8zgx9ZfMejP28TK2YSv/9fevUdFWSZgAH+GiwqroKZCmMQil7iLS4Ax4qAO1i5uruCWkbFK5ZpKIpFlIiqbAh2R1Lxg4eymSwNJLKbpObrugEOUJAZEdLgY61FKQ0PKL3Fm2D9sy14dRJuZhJ7fOfPP+5z55533zHzvM98lztVMezvqif70Ubyt3o8jR4+i7FApduU+j/jZz+HtVkdMTMnC4lDWopZ1BfXF67Fu7VqsXbse+69ujvDR7uyrx+1ZKhz9yeZoCCITHkeQfSe06xdheV4pjpRrcFCdi2eX5KH2yghMejIeQd/XMn2RiX/uDPi6tRYff/zxTV41aPzix3PTTM8afsl/x6ZZo3By7zasXZ2BjUXH0f4bP8zesB8ly0Jw7W37BgWnovTw65gvd0H3aS0KXs3AylWZ2P6vWlyw98T0tGIc3Ph7jLxmtuzvX46S0mw8GuSAC8eLsDFjFV7eWoqWkTORq0qG/3XfuPa4f3kJSrMfRZDDBRwv2oiMVS9ja2kLRs7MhSrZ33xf0lZjELejDIc2LsBDQc5AewtavrSC+9S/YtMBNeZ7WAOygRgw4P8NnD3C0ovx1gvRcLM9i4/2bMG69DSkr9uKkuqLGBn+FPL25+HPd5t4+ZDZWLvGY8vuDMS4tGFf5kLEP5KA1LwPoQ9MxNbdKzCBv0WmoWuFtugtqNVqqIu0OKUHujsbcKhQDbVajcKD9egwy6muvw4/PN35fC0OfD+n17+K8f4p8WJ76h0rDPaOgMLbFv8tK8S2zBVISUrCc2nZ2LGvCTa+f8KLWzdinh+va6K+yWqkP8IDHHD++F7k56Qj9dkkLH1pHbbvbYRtYBxW7sjFE559+Kj+TmTtitjM7UiP88OA5n3YnLYEi5KWYZ2qApLnTKzMexV/8eac/zwGfHVwG/5Zdxl2wXOQGMknEpmVtQti/vY6MudGwOXbahTlpiF54UIkr9iAgmodfGa+hO1b5iOo794jvk8znPsQ/8h6EUsWLsTilDS8ovoP2kc/hOTX3kTuY96wE99AZqZDq7YIb6nVUKuLoL26OULDocKrx+2FB1EvbI5sPJ9AVtaTCB96GgdfS8OSRUl4fu1OVF68F9Oe24DVMS7m600sQNbd3d2Pt4M6nK3VoLzmDK44jEWoIhzuQ3oqjXQ4/1klKmo+R/slGYa4eCNkwni4Du7hPYYOtBx7H9VN7eh2CkSkIgCjbnJamKGjBcfer0ZTezecAiOhCBj1y51J1vUBlo2TI7vRC8u01cgM/elBkP7rFlR9UI3mL79Bt/0IuAU+gHCvYX160ZtCZGQkoqKikJqaKkZ3Nv0FNB47hk+/uIzBY4IQGuyKnpa3qUyYMAHz58/HokWLxKhHhYWFSEpKQlNTkxjRDahUKmzevBkNDQ1iZFReXh5ycnJQVVUlRnQDubm5ePfdd1FZWSlGRmVnZ2PPnj04fPiwGN2xdBfPoLmpBW3tl6CzdYSzhw987nGwyHf/6tWrUVdXh/fee0+MjFq+fDmqqqpQXFwsRnQDS5cuRWdnJwoKCsTIqGeeeQbnzp3Dzp07xajP0V08jaamk2hrl6C3dYCThw98LbS+jZk1axYCAwORlZUlRteJiIhAdHQ0UlJSxOiO1nW+GXX1rWjvGoC73HwR4D4cljhRKzQ0FIsXL8aCBQvEyCg/Pz88/fTTSExMFCO6AS8vL6xfvx6zZ88Wo145ceIEgoOD0dbWhsGD+849DgyXzqKp/jOcuvAdrIc4YayvL8Y4mH9XV15ejpiYGOj1t/+HY3NzMzw8PNDY2AhnZ2cx7rsun0XDiXqc6uiCld1w3OPpC09ne1OfdWQSI0aMwN69e6FUKsWoRyqVCmvWrEFNTY0Y9S+6DnxeW4vmry7D1nE0vALug7MFGtTMzExotVocOXJEjEziTlyLJmSDUQFTEBs/B49Of+Am5RsA2GC4txwxsx5HQkI8ZipDei7fcPUJTu5hDyI2Ph5xU29evgGAlaM7wh6MRXx8HKaau3zT1SB7eggUM5JR0Hz9l7T+VAU+bNVDZucJnxv862s91B1h02Lx2BMJiI/7AyJYvvVt1sPgGR6NP86Yjsm/s0z5RkR9j42DC7zHy6FQRmOqIgz+v3A5QWRKNg6jcd94OaKUSkxVhCGA69siBgwfi/HyyVBOlmO8hco3InOysh8Fr5CJmKJUQhEeaJHyjW5i4CjcF6aAMjoaUyaGwPsOLd+oF2wc4RYsxxTlFESGWqZ8swSux/7OZgxc7U6ivHQzXkrbhU+/+THSnfk3Mp5ah7JLMtyljMU0x2vfSEREREREREREpsACrt8bhhnPpyJiqAEnC+Yi6J57ERA6AWHjPHC3+1SsOfIVbN0fwYZXHoMzVwMRERERERERkcmxcvkVGBTyAvaV7caKRyLwW9uzqK+qxLHaU9A5j8f0pC04XPEmHnfnxRdERERERERERObQzx/CQDei++5bdFnZwX4A+9fbpVAooNFoYGfXTy5GNzNJkvDGG29g3rx5YtSj4uJixMbGcp57SZIk+Pr64pNPPhEjo/Lz85GYmMg57iVJkjBx4kSUlZWJkVE5OTlISUnhHPeSJEmYMWMG3nnnHTEyauXKlcjIyOAc95IkSZg7dy7y8/PFyKikpCRs2rSJc2wmkiRh1apVSE9PF6PryOVyaLVafha9JEkSVCoVEhISxMgoHx8fNDQ0cI57SZIklJSU4OGHHxajXqmrq0NAQABkMhkGDRokxiSQJAkA8HO28a2trXBzcwMArvNfiCRJKC8vh1wuF6Me7dq1C3PmzOHnZiaSJGHatGk4cOCAGJkECzii29DW1tb/nzxjYgqFAgMHDhSHe2QwGKDRaNDV1SVGZMTYsWPh4eEhDhul0+mg0Wig0+nEiIzw9vb+4aC1N7q6uqDRaGAwGMSIjPD398fo0aPFYaMkSbqlUpSAcePGwcnJSRw2qrOzExUVFeIwmVB4eDgcHW9+Q94zZ86gtrZWHCYjZDIZJk2adEvHIK2trbf0RPFfOysrK0yePBnW1rd/RU1lZSU6OjrEYTLC2dkZQUFB4vAtqaqqQnt7uzhMFmJra4uoqCjIZDIx6pFer4dGo8GVK1fEiEzEx8cHrq6u4rBJsIAjIiIiIiIiIiIyI16DSEREREREREREZEYs4IiIiIiIiIiIiMyIBRwREREREREREZEZsYAjIiIiIiIiIiIyIxZwREREREREREREZsQCjoiIiIiIiIiIyIz+B+bG1qM+m0ljAAAAAElFTkSuQmCC)\n",
        "https://arxiv.org/pdf/1810.04805"
      ],
      "metadata": {
        "id": "L9ekOmyMq1h3"
      }
    },
    {
      "cell_type": "markdown",
      "source": [
        "## Bert embedding vs GPT Embedding\n",
        "Bert/GPT Embedding is quite similar, but about Positional Embedding, there's significant difference:\n",
        "### position embedding\n",
        "\n",
        "- Bert embedding : Learnable Positional Embedding\n",
        "- GPT embedding : Definetive Positional Embedding\n",
        "\n",
        "This allows Bert to understand scentence more profoundly, but takes time to learn properly.\n",
        "\n",
        "GPT embedding is generally useful. Although the length of input is longer than expected, It is possible to handle it.\n",
        "\n",
        "$$\n",
        "p_{i,2j}=sin(\\frac{i}{s^{2j/d}})\n",
        "$$\n",
        "\n",
        "$$\n",
        "p_{i,2j+1}=cos(\\frac{i}{s^{2j/d}})\n",
        "$$"
      ],
      "metadata": {
        "id": "4D18eJyL2BZf"
      }
    },
    {
      "cell_type": "code",
      "source": [
        "### This cell is my Implementation\n",
        "class CrossAttention(nn.Module):\n",
        "    \"\"\"\n",
        "    this module is implemented with modifying MultiHeadAttention.\n",
        "    Query: English\n",
        "    Key, Value: Italian\n",
        "    You can see the difference in forward input\n",
        "    \"\"\"\n",
        "    def __init__(self, d_model, num_heads, dropout=0.1):\n",
        "        super().__init__() # initialization\n",
        "        assert d_model % num_heads == 0, \"d_model must be divisible by num_heads\"\n",
        "\n",
        "        self.d_model = d_model\n",
        "        self.num_heads = num_heads\n",
        "        self.head_dim = d_model // num_heads  # dimention of each head\n",
        "        self.dropout = torch.nn.Dropout(dropout)\n",
        "\n",
        "        # Linear transformation of Q, K, V\n",
        "        self.query = torch.nn.Linear(d_model, d_model)\n",
        "        self.key = torch.nn.Linear(d_model, d_model)\n",
        "        self.value = torch.nn.Linear(d_model, d_model)\n",
        "\n",
        "        # Final Linear transformation\n",
        "        self.out_proj = torch.nn.Linear(d_model, d_model)\n",
        "\n",
        "    def forward(self, query_input, key_value_input, mask=None, return_attention=False):\n",
        "        batch_size, q_len, _ = query_input.shape\n",
        "        _, kv_len, _ = key_value_input.shape\n",
        "\n",
        "        # Q, K, V Linear Transformation\n",
        "        query = self.query(query_input)\n",
        "        key = self.key(key_value_input)\n",
        "        value = self.value(key_value_input)\n",
        "\n",
        "        # Reshape for Multi-head\n",
        "        query = query.view(batch_size, q_len, self.num_heads, self.head_dim).permute(0, 2, 1, 3)\n",
        "        key = key.view(batch_size, kv_len, self.num_heads, self.head_dim).permute(0, 2, 1, 3)\n",
        "        value = value.view(batch_size, kv_len, self.num_heads, self.head_dim).permute(0, 2, 1, 3)\n",
        "\n",
        "        # Score of Attentin\n",
        "        scores = torch.matmul(query, key.transpose(-2, -1)) / math.sqrt(self.head_dim)\n",
        "\n",
        "        # Mask Application\n",
        "        if mask is not None:\n",
        "            scores = scores + mask\n",
        "\n",
        "        # Softmax → Attention Weights\n",
        "        attn_weights = F.softmax(scores, dim=-1)\n",
        "        attn_weights = self.dropout(attn_weights)\n",
        "\n",
        "        # Value\n",
        "        context = torch.matmul(attn_weights, value)\n",
        "        context = context.permute(0, 2, 1, 3).contiguous().view(batch_size, q_len, self.d_model)\n",
        "\n",
        "        # output Linear\n",
        "        out = self.out_proj(context)\n",
        "\n",
        "        if return_attention:\n",
        "            return out, attn_weights\n",
        "        return out\n",
        "\n",
        "class GPT2DecoderBlockWithCrossAttention(nn.Module):\n",
        "    def __init__(self, d_model, num_heads, d_ff, dropout=0.1):\n",
        "        super().__init__()\n",
        "        self.self_attn = MultiHeadAttention(d_model, num_heads, dropout)\n",
        "        self.cross_attn = CrossAttention(d_model, num_heads, dropout)\n",
        "        self.ffn = PositionwiseFeedForward(d_model, d_ff, dropout)\n",
        "\n",
        "        self.ln1 = nn.LayerNorm(d_model)\n",
        "        self.ln2 = nn.LayerNorm(d_model)\n",
        "        self.ln3 = nn.LayerNorm(d_model)\n",
        "\n",
        "        self.dropout = nn.Dropout(dropout)\n",
        "\n",
        "    def forward(self, x, encoder_output, self_attn_mask=None, cross_attn_mask=None, return_attention=False):\n",
        "        # Self Attention\n",
        "        residual = x\n",
        "        x = self.ln1(x)\n",
        "        x = self.self_attn(x, mask=self_attn_mask)\n",
        "        x = self.dropout(x) + residual\n",
        "\n",
        "        # Cross Attention\n",
        "        residual = x\n",
        "        x = self.ln2(x)\n",
        "        if return_attention:\n",
        "            x_attended, cross_attn_weights = self.cross_attn(x, encoder_output, mask=cross_attn_mask, return_attention=True)\n",
        "        else:\n",
        "            x_attended = self.cross_attn(x, encoder_output, mask=cross_attn_mask)\n",
        "            cross_attn_weights = None\n",
        "        x = self.dropout(x_attended) + residual\n",
        "\n",
        "        # FFN\n",
        "        residual = x\n",
        "        x = self.ln3(x)\n",
        "        x = self.ffn(x)\n",
        "        x = self.dropout(x) + residual\n",
        "\n",
        "        return (x, cross_attn_weights) if return_attention else x\n",
        "\n",
        "\n",
        "class BERT2GPT(nn.Module):\n",
        "    def __init__(self, encoder: Bert, decoder_layers=6, d_model=768, num_heads=12, d_ff=3072, vocab_size=50257):\n",
        "        super().__init__()\n",
        "        self.encoder = encoder\n",
        "        self.decoder_embedding = nn.Embedding(vocab_size, d_model)\n",
        "        self.decoder_blocks = nn.ModuleList([\n",
        "            GPT2DecoderBlockWithCrossAttention(d_model, num_heads, d_ff) for _ in range(decoder_layers)\n",
        "        ])\n",
        "        self.ln_f = nn.LayerNorm(d_model)\n",
        "        self.output_proj = nn.Linear(d_model, vocab_size, bias=False)\n",
        "\n",
        "    def forward(self, src_input_ids, tgt_input_ids, src_attention_mask=None, tgt_attention_mask=None, return_attention=False):\n",
        "        encoder_output = self.encoder(src_input_ids, attention_mask=src_attention_mask)\n",
        "        tgt_embeddings = self.decoder_embedding(tgt_input_ids)\n",
        "\n",
        "        batch_size, tgt_len = tgt_input_ids.size()\n",
        "        device = tgt_input_ids.device\n",
        "        causal_mask = torch.tril(torch.ones(tgt_len, tgt_len, device=device)).unsqueeze(0).unsqueeze(1)\n",
        "        causal_mask = (1.0 - causal_mask) * -1e9\n",
        "\n",
        "        x = tgt_embeddings\n",
        "        cross_attn_weights_all = []\n",
        "\n",
        "        for i, block in enumerate(self.decoder_blocks):\n",
        "            if return_attention and i == len(self.decoder_blocks) - 1:  # 最終層だけでOK\n",
        "                x, attn_weights = block(x, encoder_output, self_attn_mask=causal_mask, return_attention=True)\n",
        "                cross_attn_weights_all.append(attn_weights)\n",
        "            else:\n",
        "                x = block(x, encoder_output, self_attn_mask=causal_mask)\n",
        "\n",
        "        x = self.ln_f(x)\n",
        "        logits = self.output_proj(x)\n",
        "\n",
        "        if return_attention:\n",
        "            return logits, cross_attn_weights_all[0]  # (B, heads, tgt_len, src_len)\n",
        "        else:\n",
        "            return logits\n",
        "\n"
      ],
      "metadata": {
        "id": "kPanmDHkoBn2"
      },
      "execution_count": null,
      "outputs": []
    },
    {
      "cell_type": "code",
      "source": [
        "#Execute 1 time\n",
        "### Suppress useless warnings\n",
        "import warnings\n",
        "warnings.filterwarnings(\"ignore\", message=\"The secret `HF_TOKEN` does not exist\")\n",
        "from collections import defaultdict\n",
        "from transformers import AutoTokenizer, MarianTokenizer\n",
        "\n",
        "# Download the files, Execute Once\n",
        "URL = \"https://drive.google.com/file/d/1_npGYZk13fs5hE0kAggiSrmKkqW3OrLT/view?usp=sharing\"\n",
        "!gdown --fuzzy $URL -O- | tar -xz\n",
        "### based on [1] Deep Learning\n",
        "src_tokenizer = AutoTokenizer.from_pretrained(\"bert-base-cased\")  # English\n",
        "### I choosed token for this project\n",
        "tgt_tokenizer = MarianTokenizer.from_pretrained(\"Helsinki-NLP/opus-mt-en-it\")\n",
        "\"\"\"\n",
        "# I should have done with my original tokenizer, because I implemented my model and these pretrained tokenizer would be not apropriate.\n",
        "from tokenizers import ByteLevelBPETokenizer\n",
        "src_tokenizer = ByteLevelBPETokenizer()\n",
        "src_tokenizer.train([\"eng_text.txt\"], vocab_size=32000, min_frequency=2)\n",
        "srctokenizer.save_model(\"src_tokenizer\")\n",
        "tgt_tokenizer = ByteLevelBPETokenizer()\n",
        "tgt_tokenizer.train([\"eng_text.txt\"], vocab_size=32000, min_frequency=2)\n",
        "tgttokenizer.save_model(\"tgt_tokenizer\")\n",
        "\"\"\""
      ],
      "metadata": {
        "colab": {
          "base_uri": "https://localhost:8080/",
          "height": 522,
          "referenced_widgets": [
            "cf120f62f6014b5e8a1ae33e7710a740",
            "11ba11b457a74403bad2b5309978591c",
            "bbfd6221e1c74b1c9f686a6bd066f6ae",
            "85dc7a4810454fe9ad779c07edb5cb48",
            "8a9f1560db6d4974a5adea3881c40d0c",
            "7d39145c4cbe48c09a8da217b8b06dcd",
            "056be302645a41ceaadcd5dda7eb1fb7",
            "f8ca22b5aeea4ff48b0f1a40bf2cd5a7",
            "a62a09c8766c4958943be1a0d4b33124",
            "511fbc8d09c7438d9b9e6a85f01421c8",
            "207122568ce746b293a7725a88401cd1",
            "26333ea6bc6e4a9ca1b0a5c910433bb3",
            "f904e8d046db45fd9868814a552c14d8",
            "236cf2f8f49f4a78a583e6c1b2860eae",
            "9417de92b93c417aba8b8d079fca92d5",
            "d4b53babb3a8489b9611cbbc30fab5fe",
            "935a151343c44632a17bb283f2f418c4",
            "3abea600544f46f6a9f5929b48b97cd7",
            "dfe2e11752da45eb9c8410e653142499",
            "4a7f4bf01d304f12a8db32c212542cc2",
            "b1fa4738e8e34973a2fd88f43685999d",
            "21dc4e21e6c542d6b5861c8ca04b3425",
            "81b5a2d13c60433c800ad0063b48895e",
            "8d5b63c0e9f74b339c7ef8229892659f",
            "80e8c9bdc82e4bd7b69afe325f0789f6",
            "a9df89a6c08d41e0b15f6efcbba51c3b",
            "8109e8d4801741c79e307db4d2a9ae76",
            "f13aee09e83543a99e9f17806a4ddc45",
            "4406e70c54aa45cb8041de36f324c92c",
            "f478d9ed7db54c388a2d80625a900067",
            "eebb52bbf8fe4c8d830fb791021328ce",
            "5ef65ace5b6745bbb20bbddb02b6f528",
            "9a77d07811524b86af4a9af21776ad52",
            "b6ccc8269f28443f910a52b8839b98e3",
            "e874cf39f3c543a9891209b3a8f89a8e",
            "ffe9ea3db07846e59ad05f62f457d192",
            "a6b3ff1da2724464aaefce6a2b1238fd",
            "4e2e4ed81eba4193bf8e3cf7bc685176",
            "d11b1396d3354a36a90d555f6f5d6816",
            "801352ee01cf44fcb2c5b40108df48be",
            "6ce1951d0bbc489e83d31da2b0682dd3",
            "d1980867a59c4b8db6589218ec56ab37",
            "6fe88614fc5d4bb9a17eb82a99f5d513",
            "2f69f791d44c46c480a24c24fbd27d2a",
            "27d4c58c1bfd4311a0046c4799fa5c86",
            "a6a13917e3874f7eb2c78ee2d3973585",
            "b26785c75d754b69a3e9b9f26cdaf8f1",
            "073f04caaf034ab7b081ecda4125dbdc",
            "40c1db01578448fe8c694c02cc1c2428",
            "eb1b0ab56c1a4a9586857a8232fc8bfa",
            "aa3b4e4099114af080c63fd5f45347fa",
            "c0cdff22cf3744ca9762767e6dfa93ea",
            "6f03b340fa73443ca764d6b7e22f5904",
            "008830c11b5b49e8aa27a91d8c1fc2b1",
            "8d62f5c9e6e6448bbe9880f95421cd7f",
            "1802bd7c86784da5893b1e609de918ef",
            "66ad98ae47bf49f5841a1c138cdb0fe6",
            "198f81f7538a42ac83784803fc9d8ff1",
            "bc0b84f6c20e46208bcf22547fc3acbe",
            "fa2507abc7fc457b910735ac3bcb12cb",
            "633aa2c9cad2425bb9cfcc7ecdd50d15",
            "b01548733a004f118f51d8a95c1366ab",
            "c1b0b630052d4cf4b539539c636f60b4",
            "9d7a2a4b35634aeea310e999296d8e6e",
            "55118eec9a4642689256d8266572d21d",
            "041c7ab4f5f74500a49bfe975bb47126",
            "f1b0f32cf9ee42d3a9b60b050d79e7c9",
            "993e19233ca84f88916901f7c8286b59",
            "96fc99b603ec4375819e693f2be08083",
            "b8e99969254e43a0bcf564dcfd8b2e41",
            "4b8f241a02a1440fbb227c41ee23eb12",
            "f824833079064ab3aa0ae0f9b6d74beb",
            "a08bd729fd524311bf1d2478aa04f52e",
            "bc00ea330a6a4fa1828216d163f9fc30",
            "e37956cf986240be90ad0350e3b0964b",
            "94e049e54a0140058ad774b28eb25bc6",
            "69697fdf6d6b406dabcc344bbfdc83f5",
            "0f74b2e62c674a00b868c8fd40b21292",
            "e5bf0a9a05d54dfa81fa160965a776f3",
            "b77f20ac32bf422da879e854b188e47c",
            "81bc6ab9e1f14feabc6d221772b6a338",
            "60ac9b49b386405d80ed3d307c59b2f5",
            "b7d43badfabb4915ba2c926d70dc6f24",
            "7cb7f3736a804aaf9fe7bb6d62f918b3",
            "076fafe267ee4d7ca63846eb4e1f0924",
            "846d2768bab84ec7bc05ca951499a776",
            "536bf60abeb14999a2d3784cd7f102ee",
            "4a80ee6c435649f0ba09098e71388b7e",
            "97e58286443447caa29ab9a53c0de2e4",
            "12b0af5871b146f093d05e2c776b187f",
            "e6856b9342f84c25897249e18c3546d0",
            "fe0eb96becfa44c29a40d499328e1d9c",
            "a91d730ad9f64548b70a6f92e1bb0b4d",
            "2e451fdd6223480b9f82cb202b3e3607",
            "65976fb7a7d1401c9c8bae9ee8fdef0b",
            "43ced9c128e545d7ae375c86601651ce",
            "ce732ce99e444e3da31f8871f597d590",
            "f7e7d449715b4af1af740d48f4104d58",
            "44a49014f9d04f90ab81b8ad6ee00508"
          ]
        },
        "id": "gJC_zBRfoNj4",
        "outputId": "3ebe6e14-e25d-4cc2-fef9-4187db248ad6"
      },
      "execution_count": null,
      "outputs": [
        {
          "output_type": "stream",
          "name": "stdout",
          "text": [
            "Downloading...\n",
            "From: https://drive.google.com/uc?id=1_npGYZk13fs5hE0kAggiSrmKkqW3OrLT\n",
            "To: <_io.BufferedWriter name='<stdout>'>\n",
            "100% 3.92M/3.92M [00:00<00:00, 22.2MB/s]\n"
          ]
        },
        {
          "output_type": "stream",
          "name": "stderr",
          "text": [
            "/usr/local/lib/python3.11/dist-packages/huggingface_hub/utils/_auth.py:94: UserWarning: \n",
            "The secret `HF_TOKEN` does not exist in your Colab secrets.\n",
            "To authenticate with the Hugging Face Hub, create a token in your settings tab (https://huggingface.co/settings/tokens), set it as secret in your Google Colab and restart your session.\n",
            "You will be able to reuse this secret in all of your notebooks.\n",
            "Please note that authentication is recommended but still optional to access public models or datasets.\n",
            "  warnings.warn(\n"
          ]
        },
        {
          "output_type": "display_data",
          "data": {
            "text/plain": [
              "tokenizer_config.json:   0%|          | 0.00/49.0 [00:00<?, ?B/s]"
            ],
            "application/vnd.jupyter.widget-view+json": {
              "version_major": 2,
              "version_minor": 0,
              "model_id": "cf120f62f6014b5e8a1ae33e7710a740"
            }
          },
          "metadata": {}
        },
        {
          "output_type": "display_data",
          "data": {
            "text/plain": [
              "config.json:   0%|          | 0.00/570 [00:00<?, ?B/s]"
            ],
            "application/vnd.jupyter.widget-view+json": {
              "version_major": 2,
              "version_minor": 0,
              "model_id": "26333ea6bc6e4a9ca1b0a5c910433bb3"
            }
          },
          "metadata": {}
        },
        {
          "output_type": "display_data",
          "data": {
            "text/plain": [
              "vocab.txt:   0%|          | 0.00/213k [00:00<?, ?B/s]"
            ],
            "application/vnd.jupyter.widget-view+json": {
              "version_major": 2,
              "version_minor": 0,
              "model_id": "81b5a2d13c60433c800ad0063b48895e"
            }
          },
          "metadata": {}
        },
        {
          "output_type": "display_data",
          "data": {
            "text/plain": [
              "tokenizer.json:   0%|          | 0.00/436k [00:00<?, ?B/s]"
            ],
            "application/vnd.jupyter.widget-view+json": {
              "version_major": 2,
              "version_minor": 0,
              "model_id": "b6ccc8269f28443f910a52b8839b98e3"
            }
          },
          "metadata": {}
        },
        {
          "output_type": "display_data",
          "data": {
            "text/plain": [
              "tokenizer_config.json:   0%|          | 0.00/42.0 [00:00<?, ?B/s]"
            ],
            "application/vnd.jupyter.widget-view+json": {
              "version_major": 2,
              "version_minor": 0,
              "model_id": "27d4c58c1bfd4311a0046c4799fa5c86"
            }
          },
          "metadata": {}
        },
        {
          "output_type": "display_data",
          "data": {
            "text/plain": [
              "source.spm:   0%|          | 0.00/789k [00:00<?, ?B/s]"
            ],
            "application/vnd.jupyter.widget-view+json": {
              "version_major": 2,
              "version_minor": 0,
              "model_id": "1802bd7c86784da5893b1e609de918ef"
            }
          },
          "metadata": {}
        },
        {
          "output_type": "display_data",
          "data": {
            "text/plain": [
              "target.spm:   0%|          | 0.00/814k [00:00<?, ?B/s]"
            ],
            "application/vnd.jupyter.widget-view+json": {
              "version_major": 2,
              "version_minor": 0,
              "model_id": "f1b0f32cf9ee42d3a9b60b050d79e7c9"
            }
          },
          "metadata": {}
        },
        {
          "output_type": "display_data",
          "data": {
            "text/plain": [
              "vocab.json: 0.00B [00:00, ?B/s]"
            ],
            "application/vnd.jupyter.widget-view+json": {
              "version_major": 2,
              "version_minor": 0,
              "model_id": "0f74b2e62c674a00b868c8fd40b21292"
            }
          },
          "metadata": {}
        },
        {
          "output_type": "display_data",
          "data": {
            "text/plain": [
              "config.json: 0.00B [00:00, ?B/s]"
            ],
            "application/vnd.jupyter.widget-view+json": {
              "version_major": 2,
              "version_minor": 0,
              "model_id": "97e58286443447caa29ab9a53c0de2e4"
            }
          },
          "metadata": {}
        },
        {
          "output_type": "stream",
          "name": "stderr",
          "text": [
            "/usr/local/lib/python3.11/dist-packages/transformers/models/marian/tokenization_marian.py:175: UserWarning: Recommended: pip install sacremoses.\n",
            "  warnings.warn(\"Recommended: pip install sacremoses.\")\n"
          ]
        }
      ]
    },
    {
      "cell_type": "code",
      "source": [
        "### from [2]Machine Learning\n",
        "def load_translation_pairs(eng_path, ita_path):\n",
        "    with open(eng_path, \"r\") as f_eng, open(ita_path,\"r\") as f_ita:\n",
        "        eng_lines = f_eng.read().replace('<sos>', '').replace('<eos>', '').strip().split(\"\\n\")\n",
        "        ita_lines = f_ita.read().replace('<sos>', '').replace('<eos>', '').strip().split(\"\\n\")\n",
        "\n",
        "    assert len(eng_lines) == len(ita_lines), \"The line has missalignment\"\n",
        "    return list(zip(eng_lines, ita_lines))\n",
        "pairs = load_translation_pairs(\"text-eng.txt\", \"text-ita.txt\")\n",
        "print(pairs[:5])"
      ],
      "metadata": {
        "colab": {
          "base_uri": "https://localhost:8080/"
        },
        "id": "5mK2tQDVsvbf",
        "outputId": "4487a38b-df1e-4647-e930-1176349de207"
      },
      "execution_count": null,
      "outputs": [
        {
          "output_type": "stream",
          "name": "stdout",
          "text": [
            "[('hi . ', 'ciao ! '), (' hi . ', ' ciao . '), (' run ! ', ' corri ! '), (' run ! ', ' corra ! '), (' run ! ', ' correte ! ')]\n"
          ]
        }
      ]
    },
    {
      "cell_type": "code",
      "source": [
        "import torch\n",
        "from torch.utils.data import Dataset, DataLoader\n",
        "from sklearn.model_selection import train_test_split\n",
        "\n",
        "class TranslationDataset(Dataset):\n",
        "    def __init__(self, pairs, src_tokenizer, tgt_tokenizer, max_length=64):\n",
        "        self.pairs = pairs\n",
        "        self.src_tokenizer = src_tokenizer\n",
        "        self.tgt_tokenizer = tgt_tokenizer\n",
        "        self.max_length = max_length\n",
        "\n",
        "    def __len__(self):\n",
        "        return len(self.pairs)\n",
        "\n",
        "    def __getitem__(self, idx):\n",
        "        src_text, tgt_text = self.pairs[idx]\n",
        "\n",
        "        src_enc = self.src_tokenizer(\n",
        "            src_text,\n",
        "            padding=\"max_length\",\n",
        "            truncation=True,\n",
        "            max_length=self.max_length,\n",
        "            return_tensors=\"pt\"\n",
        "        )\n",
        "\n",
        "        tgt_enc = self.tgt_tokenizer(\n",
        "            tgt_text,\n",
        "            padding=\"max_length\",\n",
        "            truncation=True,\n",
        "            max_length=self.max_length,\n",
        "            return_tensors=\"pt\"\n",
        "        )\n",
        "\n",
        "        return {\n",
        "            \"src_input_ids\": src_enc[\"input_ids\"].squeeze(0),\n",
        "            \"src_attention_mask\": src_enc[\"attention_mask\"].squeeze(0),\n",
        "            \"tgt_input_ids\": tgt_enc[\"input_ids\"].squeeze(0),\n",
        "            \"tgt_attention_mask\": tgt_enc[\"attention_mask\"].squeeze(0),\n",
        "        }\n",
        "\n",
        "train_pairs, val_pairs = train_test_split(pairs, test_size=0.1, random_state=42)\n",
        "\n",
        "train_dataset = TranslationDataset(train_pairs, src_tokenizer, tgt_tokenizer, max_length=64)\n",
        "val_dataset = TranslationDataset(val_pairs, src_tokenizer, tgt_tokenizer, max_length=64)\n",
        "\n",
        "train_dataloader = DataLoader(train_dataset, batch_size=32, shuffle=True)\n",
        "val_dataloader = DataLoader(val_dataset, batch_size=32, shuffle=False)\n",
        "\n",
        "#dataset = TranslationDataset(pairs, src_tokenizer, tgt_tokenizer, max_length=64)\n",
        "#dataloader = DataLoader(dataset, batch_size=32, shuffle=True)"
      ],
      "metadata": {
        "id": "kgfThQRmtQlv"
      },
      "execution_count": null,
      "outputs": []
    },
    {
      "cell_type": "code",
      "source": [
        "from torch.optim import Adam\n",
        "MAXLEN=20\n",
        "src_vocab_size = len(src_tokenizer)\n",
        "tgt_vocab_size = len(tgt_tokenizer)\n",
        "\n",
        "encoder = Bert(vocab_size=src_vocab_size,\n",
        "               d_model=768,\n",
        "               num_layers=12,\n",
        "               num_heads=12,\n",
        "               d_ff=3072,\n",
        "               max_seq_len=512,\n",
        "               dropout=0.1\n",
        "               ) # Instantiate the Bert encoder\n",
        "\n",
        "model = BERT2GPT(encoder=encoder,\n",
        "                 vocab_size=tgt_vocab_size,\n",
        "                 decoder_layers=6,\n",
        "                 d_model=768,\n",
        "                 num_heads=12,\n",
        "                 d_ff=3072,\n",
        "                 )\n",
        "device = torch.device(\"cuda\" if torch.cuda.is_available() else \"cpu\")\n",
        "print(device)\n",
        "model.to(device)\n",
        "\n",
        "optimizer = Adam(model.parameters(), lr=5e-5)\n",
        "pad_token_id = tgt_tokenizer.pad_token_id\n"
      ],
      "metadata": {
        "colab": {
          "base_uri": "https://localhost:8080/"
        },
        "id": "xHW1heaFuU6X",
        "outputId": "6a6e8498-4a37-4b5a-8073-4028252bf281"
      },
      "execution_count": null,
      "outputs": [
        {
          "output_type": "stream",
          "name": "stdout",
          "text": [
            "cuda\n"
          ]
        }
      ]
    },
    {
      "cell_type": "code",
      "source": [
        "import torch\n",
        "import torch.nn as nn\n",
        "from torch.optim import Adam\n",
        "from tqdm import tqdm\n",
        "from google.colab import drive\n",
        "import os\n",
        "drive.mount('/content/drive')\n",
        "import nltk\n",
        "from nltk.translate.bleu_score import sentence_bleu, SmoothingFunction\n",
        "nltk.download('punkt')\n",
        "nltk.download('punkt_tab') # Download the missing resource\n",
        "def save_checkpoint(model, optimizer, epoch, step, path_dir=\"/content/drive/MyDrive/checkpoints\"):\n",
        "    os.makedirs(path_dir, exist_ok=True)\n",
        "    filename = f\"checkpoint_epoch{epoch}_step{step}.pt\"\n",
        "    path = os.path.join(path_dir, filename)\n",
        "    torch.save({\n",
        "        \"model_state_dict\": model.state_dict(),\n",
        "        \"optimizer_state_dict\": optimizer.state_dict(),\n",
        "        \"epoch\": epoch,\n",
        "        \"step\": step,\n",
        "    }, path)\n",
        "def find_latest_checkpoint(path_dir=\"/content/drive/MyDrive/checkpoints\"):\n",
        "    if not os.path.exists(path_dir):\n",
        "        return None\n",
        "    checkpoints = [f for f in os.listdir(path_dir) if f.startswith(\"checkpoint_epoch\")]\n",
        "    if not checkpoints:\n",
        "        return None\n",
        "    # ソートして最新のものを取得\n",
        "    checkpoints = sorted(checkpoints, key=lambda x: (\n",
        "        int(x.split(\"epoch\")[1].split(\"_\")[0]),  # epoch number\n",
        "        int(x.split(\"step\")[1].split(\".\")[0])    # step number\n",
        "    ))\n",
        "    return os.path.join(path_dir, checkpoints[-1])\n",
        "\n",
        "def load_latest_checkpoint(model, optimizer=None, path_dir=\"/content/drive/MyDrive/checkpoints\"):\n",
        "    path = find_latest_checkpoint(path_dir)\n",
        "    if path is None:\n",
        "        print(\"The checkpoint not found. Start from scratch\")\n",
        "        return 0, 0\n",
        "    # 修正: map_locationを指定してCPUで読み込む\n",
        "    checkpoint = torch.load(path, map_location=torch.device('cpu'))\n",
        "    model.load_state_dict(checkpoint[\"model_state_dict\"])\n",
        "    if optimizer:\n",
        "        optimizer.load_state_dict(checkpoint[\"optimizer_state_dict\"])\n",
        "    print(f\"Load First Checkpoint: {path}\")\n",
        "    return checkpoint[\"epoch\"], checkpoint[\"step\"]\n",
        "\"\"\"\n",
        "def load_checkpoint(model, optimizer, path=\"checkpoint.pt\"):\n",
        "    checkpoint = torch.load(path)\n",
        "    model.load_state_dict(checkpoint[\"model_state_dict\"])\n",
        "    optimizer.load_state_dict(checkpoint[\"optimizer_state_dict\"])\n",
        "    start_epoch = checkpoint[\"epoch\"]\n",
        "    start_step = checkpoint[\"step\"]\n",
        "    return start_epoch, start_step\n",
        "\"\"\"\n",
        "def compute_bleu(reference, prediction):\n",
        "    ref_tokens = nltk.word_tokenize(reference.lower())\n",
        "    pred_tokens = nltk.word_tokenize(prediction.lower())\n",
        "    smoothie = SmoothingFunction().method4\n",
        "    return sentence_bleu([ref_tokens], pred_tokens, smoothing_function=smoothie)\n",
        "\n",
        "from itertools import islice\n",
        "\n",
        "def evaluate(model, val_dataloader, device, pad_token_id):\n",
        "    model.eval()\n",
        "    criterion = nn.CrossEntropyLoss(ignore_index=pad_token_id)\n",
        "    total_loss = 0\n",
        "\n",
        "    with torch.no_grad():\n",
        "        for batch in val_dataloader:\n",
        "            src_input_ids = batch[\"src_input_ids\"].to(device)\n",
        "            src_attention_mask = batch[\"src_attention_mask\"].to(device)\n",
        "            tgt_input_ids = batch[\"tgt_input_ids\"].to(device)\n",
        "\n",
        "            decoder_input = tgt_input_ids[:, :-1]\n",
        "            labels = tgt_input_ids[:, 1:]\n",
        "\n",
        "            logits = model(src_input_ids, decoder_input, src_attention_mask)\n",
        "            loss = criterion(logits.view(-1, logits.size(-1)), labels.reshape(-1))\n",
        "            total_loss += loss.item()\n",
        "\n",
        "    return total_loss / len(val_dataloader)\n",
        "\n",
        "def train(model, train_dataloader,val_dataloader, optimizer, device, pad_token_id, src_tokenizer, tgt_tokenizer, num_epochs=5, print_every=100):\n",
        "    # チェックポイントから再開\n",
        "    start_epoch, start_step = load_latest_checkpoint(model, optimizer, path_dir=\"/content/drive/MyDrive/checkpoints\")\n",
        "    print(f\"Start from Check point: epoch={start_epoch}, step={start_step}\")\n",
        "\n",
        "    model.train()\n",
        "    criterion = nn.CrossEntropyLoss(ignore_index=pad_token_id)\n",
        "    # CrossEntropy + Softmax\n",
        "    for epoch in range(start_epoch, num_epochs):\n",
        "        epoch_loss = 0\n",
        "\n",
        "        # start_step 分だけデータをスキップ\n",
        "        data_iter = iter(train_dataloader)\n",
        "        if epoch == start_epoch and start_step > 0:\n",
        "            data_iter = islice(data_iter, start_step, None)\n",
        "\n",
        "        # tqdm で進捗表示（表示stepは正しく設定）\n",
        "        pbar = tqdm(\n",
        "            enumerate(data_iter, start=start_step if epoch == start_epoch else 0),\n",
        "            total=len(train_dataloader),\n",
        "            initial=start_step if epoch == start_epoch else 0,\n",
        "            desc=f\"Epoch {epoch + 1}/{num_epochs}\"\n",
        "        )\n",
        "        model.eval()\n",
        "        val_loss = evaluate(model, val_dataloader, device, pad_token_id)\n",
        "        print(f\"Validation Loss (Epoch {epoch + 1}): {val_loss:.4f}\")\n",
        "        model.train()\n",
        "        for step, batch in pbar:\n",
        "            if step % 1000 == 0 and not (epoch == start_epoch and step == start_step):\n",
        "                save_checkpoint(model, optimizer, epoch, step, path_dir=\"/content/drive/MyDrive/checkpoints\")\n",
        "\n",
        "            src_input_ids = batch[\"src_input_ids\"].to(device)\n",
        "            src_attention_mask = batch[\"src_attention_mask\"].to(device)\n",
        "            tgt_input_ids = batch[\"tgt_input_ids\"].to(device)\n",
        "\n",
        "            decoder_input = tgt_input_ids[:, :-1]\n",
        "            labels = tgt_input_ids[:, 1:]\n",
        "            # Model output: Probability Distribution\n",
        "            logits = model(src_input_ids, decoder_input, src_attention_mask)\n",
        "            ## criterion is Cross Enrtopy Loss.\n",
        "            loss = criterion(logits.view(-1, logits.size(-1)), labels.reshape(-1))\n",
        "\n",
        "            optimizer.zero_grad()\n",
        "            loss.backward()\n",
        "            optimizer.step()\n",
        "\n",
        "            epoch_loss += loss.item()\n",
        "            pbar.set_postfix({\"Loss\": loss.item()})\n",
        "\n",
        "            if step % print_every == 0:\n",
        "                model.eval()\n",
        "                with torch.no_grad():\n",
        "                    pred_ids = logits.argmax(-1)\n",
        "                    for i in range(min(2, src_input_ids.size(0))):\n",
        "                        src_text = src_tokenizer.decode(batch[\"src_input_ids\"][i], skip_special_tokens=True)\n",
        "                        tgt_text = tgt_tokenizer.decode(batch[\"tgt_input_ids\"][i], skip_special_tokens=True)\n",
        "                        pred_text = tgt_tokenizer.decode(pred_ids[i], skip_special_tokens=True)\n",
        "\n",
        "                        bleu = compute_bleu(tgt_text, pred_text)\n",
        "\n",
        "                        print(\"\\n[Input]     \", src_text)\n",
        "                        print(\"[Target]    \", tgt_text)\n",
        "                        print(\"[Predicted] \", pred_text)\n",
        "                        print(\"[BLEU]      \", f\"{bleu:.4f}\")\n",
        "\n",
        "                model.train()\n",
        "\n",
        "        # エポック末尾で checkpoint 保存\n",
        "        save_checkpoint(model, optimizer, epoch, step, path_dir=\"/content/drive/MyDrive/checkpoints\")\n",
        "\n",
        "def greedy_decode(model, src_input_ids, src_attention_mask, tgt_tokenizer, max_len=50, device='cuda',return_attention=False):\n",
        "    model.eval()\n",
        "    batch_size = src_input_ids.size(0)\n",
        "\n",
        "    bos_token_id = tgt_tokenizer.bos_token_id\n",
        "    if bos_token_id is None:\n",
        "        bos_token_id = tgt_tokenizer.pad_token_id\n",
        "\n",
        "    decoder_input = torch.full((batch_size, 1), bos_token_id, dtype=torch.long).to(device)\n",
        "\n",
        "    with torch.no_grad():\n",
        "        for _ in range(max_len):\n",
        "            logits, cross_attn_weights = model(src_input_ids, decoder_input, src_attention_mask,return_attention=True)\n",
        "            next_token = logits[:, -1, :].argmax(-1, keepdim=True)  # (batch, 1)\n",
        "            decoder_input = torch.cat([decoder_input, next_token], dim=1)\n",
        "\n",
        "            if (next_token == tgt_tokenizer.eos_token_id).all():\n",
        "                break\n",
        "    if return_attention == True:\n",
        "        return decoder_input, cross_attn_weights\n",
        "    return decoder_input\n"
      ],
      "metadata": {
        "colab": {
          "base_uri": "https://localhost:8080/"
        },
        "id": "5mPADMs9d3PR",
        "outputId": "6e3e1052-e9d9-408b-dbf2-c4caef063f99"
      },
      "execution_count": null,
      "outputs": [
        {
          "output_type": "stream",
          "name": "stdout",
          "text": [
            "Drive already mounted at /content/drive; to attempt to forcibly remount, call drive.mount(\"/content/drive\", force_remount=True).\n"
          ]
        },
        {
          "output_type": "stream",
          "name": "stderr",
          "text": [
            "[nltk_data] Downloading package punkt to /root/nltk_data...\n",
            "[nltk_data]   Package punkt is already up-to-date!\n",
            "[nltk_data] Downloading package punkt_tab to /root/nltk_data...\n",
            "[nltk_data]   Package punkt_tab is already up-to-date!\n"
          ]
        }
      ]
    },
    {
      "cell_type": "markdown",
      "source": [
        "## Train Model\n",
        "If you are not interested in Traning model, do not execute this part. this part will take you a lot of time."
      ],
      "metadata": {
        "id": "UFnKqsX45S8X"
      }
    },
    {
      "cell_type": "code",
      "source": [
        "train(model=model, train_dataloader=train_dataloader,val_dataloader=val_dataloader, optimizer=optimizer, device=device, pad_token_id=pad_token_id, src_tokenizer=src_tokenizer,tgt_tokenizer=tgt_tokenizer,num_epochs=5)"
      ],
      "metadata": {
        "id": "-7_ZnyTGw-Dd",
        "colab": {
          "base_uri": "https://localhost:8080/"
        },
        "outputId": "e40a2f08-0584-4310-e8b4-366dd91d4fcf"
      },
      "execution_count": null,
      "outputs": [
        {
          "output_type": "stream",
          "name": "stdout",
          "text": [
            "✅ 最新のチェックポイントを読み込みました: /content/drive/MyDrive/checkpoints/checkpoint_epoch2_step6000.pt\n",
            "✅ チェックポイントから再開: epoch=2, step=6000\n"
          ]
        },
        {
          "output_type": "stream",
          "name": "stderr",
          "text": [
            "\rEpoch 3/5:  64%|██████▍   | 6000/9369 [00:00<?, ?it/s]"
          ]
        },
        {
          "output_type": "stream",
          "name": "stdout",
          "text": [
            "🔍 Validation Loss (Epoch 3): 0.1848\n"
          ]
        },
        {
          "output_type": "stream",
          "name": "stderr",
          "text": [
            "Epoch 3/5:  64%|██████▍   | 6001/9369 [06:40<374:43:27, 400.54s/it, Loss=0.139]"
          ]
        },
        {
          "output_type": "stream",
          "name": "stdout",
          "text": [
            "\n",
            "[Input]      listen to tom.\n",
            "[Target]     ascoltate tom .\n",
            "[Predicted]  coltaate tom . . . . . . . . . . . . . . . . . . . . . . . . . . . . . . . . . . . . . . . . . . . . . . . . . . . . . . . . .\n",
            "[BLEU]       0.0111\n",
            "\n",
            "[Input]      how can this work?\n",
            "[Target]     come può funzionare questo ?\n",
            "[Predicted]  può funzionare questo ? ?ooo ? ?o ? ? ? ? ? ? ? ? ? ? ? ? ? ? ? ? ? ? ? ? ? ? ? ? ? ? ? ? ? ? ? ? ? ? ? ? ? ? ? ? ? ? ? ? ? ?\n",
            "[BLEU]       0.0414\n"
          ]
        },
        {
          "output_type": "stream",
          "name": "stderr",
          "text": [
            "Epoch 3/5:  65%|██████▌   | 6101/9369 [08:05<45:37,  1.19it/s, Loss=0.33]"
          ]
        },
        {
          "output_type": "stream",
          "name": "stdout",
          "text": [
            "\n",
            "[Input]      of course, i remember tom.\n",
            "[Target]     certo , mi ricordo di tom .\n",
            "[Predicted]  to , ri ricordo di tom . . . . . . . . . . . a . . . . . . . . . . . . . . . . . . a . . . . . . . . . . . con . . . . . . . a .\n",
            "[BLEU]       0.0414\n",
            "\n",
            "[Input]      i like cheese pizza.\n",
            "[Target]     mi piace la pizza con il formaggio .\n",
            "[Predicted]  piace la pizza . la formaggio . . . . . . . . . . . . . . . . . . . . . . . . . . . . . . . . . . . . . . . . . . . . . . . . . . . . .\n",
            "[BLEU]       0.0274\n"
          ]
        },
        {
          "output_type": "stream",
          "name": "stderr",
          "text": [
            "Epoch 3/5:  66%|██████▌   | 6201/9369 [09:30<44:47,  1.18it/s, Loss=0.181]"
          ]
        },
        {
          "output_type": "stream",
          "name": "stdout",
          "text": [
            "\n",
            "[Input]      i almost never make mistakes.\n",
            "[Target]     non commetto quasi mai degli errori .\n",
            "[Predicted]  fmetto quasi mai errori errori . . . . . . . . . error . . .o . . error . .o . error . . . . .o .o error . . . .oooo quasio erroro .o . . quasi . .ooo\n",
            "[BLEU]       0.0205\n",
            "\n",
            "[Input]      so what ' s your problem?\n",
            "[Target]     allora , qual è il tuo problema ?\n",
            "[Predicted]  ora qua, qual è il suo problema ? ? ? ? ? ? ? ? ? ? ? ? ? ? ? ? ? ? ? ? ? ? ? ? ? ? ? ? ? ? ? ? ? ? ? ? ? ? ? ? ? ? ? ? ? ? ? ? ?\n",
            "[BLEU]       0.0474\n"
          ]
        },
        {
          "output_type": "stream",
          "name": "stderr",
          "text": [
            "Epoch 3/5:  67%|██████▋   | 6301/9369 [10:54<43:22,  1.18it/s, Loss=0.186]"
          ]
        },
        {
          "output_type": "stream",
          "name": "stdout",
          "text": [
            "\n",
            "[Input]      i live in a town near boston.\n",
            "[Target]     io vivo in una città vicino a boston .\n",
            "[Predicted]  a in una città vicino a boston . . . . . . . . . . . . . . . . . . . . . . . . . . . . . . . . . . . . . . . . . . . . . . . .\n",
            "[BLEU]       0.1006\n",
            "\n",
            "[Input]      who knows what might happen?\n",
            "[Target]     chi sa cosa potrebbe capitare ?\n",
            "[Predicted]  sa chesa potrebbe sucre ? ?re ? ? ? ? ? ? ? ? ? ? ? ? ? ? ? ? ? ? ? ? ? ? ? ? ? ? ? ? ? ? ? ? ? ? ? ? ? ? ? ? ? ? . ? ? ? ? ? ?\n",
            "[BLEU]       0.0073\n"
          ]
        },
        {
          "output_type": "stream",
          "name": "stderr",
          "text": [
            "Epoch 3/5:  68%|██████▊   | 6401/9369 [12:19<42:01,  1.18it/s, Loss=0.32]"
          ]
        },
        {
          "output_type": "stream",
          "name": "stdout",
          "text": [
            "\n",
            "[Input]      meet me in the bar.\n",
            "[Target]     incontriamoci al bar .\n",
            "[Predicted]  contriamoci nel bar . . . . . . . . . . . . . . . . . . . . . . . . . . . . . . . . . . . . . . . . . . . . . . . . . . . . . . . .\n",
            "[BLEU]       0.0111\n",
            "\n",
            "[Input]      what ' re you saying?\n",
            "[Target]     che cosa stai dicendo ?\n",
            "[Predicted]  cosa stai dicendo ? ? ? ? ? ? ? ? ? ? ? ? ? ? ? ? ? ? ? ? ? ? ? ? ? ? ? ? ? ? ? ? ? ? ? ? ? ? ? ? ? ? ? ? ? ? ? ? ? ? ? ? ? ?\n",
            "[BLEU]       0.0399\n"
          ]
        },
        {
          "output_type": "stream",
          "name": "stderr",
          "text": [
            "Epoch 3/5:  69%|██████▉   | 6501/9369 [13:44<40:35,  1.18it/s, Loss=0.244]"
          ]
        },
        {
          "output_type": "stream",
          "name": "stdout",
          "text": [
            "\n",
            "[Input]      we ' ll start as soon as it stops raining.\n",
            "[Target]     cominceremo appena smette di piovere .\n",
            "[Predicted]  inceremo appena smette di piovere .re . . . .siment . . . . . . . . . .ment . . . . . . . . . . . . . . . .ament . . . . . . . .siamentament .la . .\n",
            "[BLEU]       0.0515\n",
            "\n",
            "[Input]      i used to be fat.\n",
            "[Target]     ero grassa .\n",
            "[Predicted]  ero grassa . . . . . . . . . . . . . . . . . . . . . .si . . . . . . . . . . . . . . . . . . . . . . . . . . .si . . . . . . . .\n",
            "[BLEU]       0.0218\n"
          ]
        },
        {
          "output_type": "stream",
          "name": "stderr",
          "text": [
            "Epoch 3/5:  70%|███████   | 6601/9369 [15:08<39:10,  1.18it/s, Loss=0.239]"
          ]
        },
        {
          "output_type": "stream",
          "name": "stdout",
          "text": [
            "\n",
            "[Input]      let ' s start with you.\n",
            "[Target]     cominciamo con lei .\n",
            "[Predicted]  inciamo con telei . . . . . . . . . . . . . . . . . . . . . . . . . . . . . . . . . . . . . . . . . . . . . . . . con . . . . . . .\n",
            "[BLEU]       0.0063\n",
            "\n",
            "[Input]      i ' m coming early.\n",
            "[Target]     verrò presto .\n",
            "[Predicted]  rò presto . . . . . . . . . . . . . . . . . . . . . . . . . . . . . . . . . . . . . . . . . . . . . . . . . . . . . .ò . .\n",
            "[BLEU]       0.0113\n"
          ]
        },
        {
          "output_type": "stream",
          "name": "stderr",
          "text": [
            "Epoch 3/5:  72%|███████▏  | 6701/9369 [16:33<37:43,  1.18it/s, Loss=0.251]"
          ]
        },
        {
          "output_type": "stream",
          "name": "stdout",
          "text": [
            "\n",
            "[Input]      tom wrote something on the blackboard.\n",
            "[Target]     tom ha scritto qualcosa sulla lavagna .\n",
            "[Predicted]  m ha scritto qualcosa sulla lavagna . . . . . . . . . . . . . . . . . . . . . . . . . . . . . . . . . . . . . . . . . . . . . . . . .\n",
            "[BLEU]       0.0814\n",
            "\n",
            "[Input]      i have to go to the bank now.\n",
            "[Target]     io devo andare in banca ora .\n",
            "[Predicted]  devo andare in banca aa . . a . or a a a a . a a a a . a a a a a a or a a a or a a a a a a a a a a a a a a a a a a a a a a a a a a a\n",
            "[BLEU]       0.0414\n"
          ]
        },
        {
          "output_type": "stream",
          "name": "stderr",
          "text": [
            "Epoch 3/5:  73%|███████▎  | 6801/9369 [17:57<36:16,  1.18it/s, Loss=0.317]"
          ]
        },
        {
          "output_type": "stream",
          "name": "stdout",
          "text": [
            "\n",
            "[Input]      why did you need a chainsaw?\n",
            "[Target]     perché le serviva una motosega ?\n",
            "[Predicted]  ché a serviva una motosega ? at ?e ?e ? ? ? ? ? ? ? ? ? ? ? ? ? ? ? ? ? ? ? ? . ? ? ? ? ? ? ? ? ? ? ? ? ? ? ? ? ? ? ? ? ? ? ? ? ?\n",
            "[BLEU]       0.0399\n",
            "\n",
            "[Input]      tom isn ' t like the others, is he?\n",
            "[Target]     tom non è come gli altri , vero ?\n",
            "[Predicted]  m non è come gli altri , vero ? ? ? ? ? ? ? ? ? ? ?  ?  ? ?  ? ? ? ? ? ? ?     . ? ? ? ?  a ? ?  .  ?  ?  ?    ? ?\n",
            "[BLEU]       0.1543\n"
          ]
        },
        {
          "output_type": "stream",
          "name": "stderr",
          "text": [
            "Epoch 3/5:  74%|███████▎  | 6901/9369 [19:22<34:57,  1.18it/s, Loss=0.23]"
          ]
        },
        {
          "output_type": "stream",
          "name": "stdout",
          "text": [
            "\n",
            "[Input]      wake me up at seven.\n",
            "[Target]     mi svegli alle sette .\n",
            "[Predicted]  svegli alle sette . . . . . . . . . . . . . . . . . . . . . . . . . . . . . . . . . . . . . . . . . . . . . . . . . . . . . . .\n",
            "[BLEU]       0.0392\n",
            "\n",
            "[Input]      i thought tom would like it.\n",
            "[Target]     pensavo che a tom sarebbe piaciuto .\n",
            "[Predicted]  avo che a tom sarebbe piaciuto . .lolo .lolo .lololololo . .lololololo .lololololo .lo .lololololololololololololololololololo\n",
            "[BLEU]       0.3238\n"
          ]
        },
        {
          "output_type": "stream",
          "name": "stderr",
          "text": [
            "Epoch 3/5:  75%|███████▍  | 7001/9369 [21:25<8:11:12, 12.45s/it, Loss=0.205]"
          ]
        },
        {
          "output_type": "stream",
          "name": "stdout",
          "text": [
            "\n",
            "[Input]      you should be with the others.\n",
            "[Target]     dovreste essere con gli altri .\n",
            "[Predicted]  vreb essere con le altri . . . . . . . . . . . . . . . . . . . . . . . . . . . . . . . . . . . . . . . . . . . . . . . . . . . . .\n",
            "[BLEU]       0.0160\n",
            "\n",
            "[Input]      i was so careful.\n",
            "[Target]     ero così prudente .\n",
            "[Predicted]  ero così prudente . . . . . . . . . . . . . . . . . . . . . . . .si . . . . . . . . . . . . . . . co . . . . . . . . . . .si . . .\n",
            "[BLEU]       0.0399\n"
          ]
        },
        {
          "output_type": "stream",
          "name": "stderr",
          "text": [
            "Epoch 3/5:  76%|███████▌  | 7101/9369 [22:50<31:42,  1.19it/s, Loss=0.219]"
          ]
        },
        {
          "output_type": "stream",
          "name": "stdout",
          "text": [
            "\n",
            "[Input]      i saw something strange.\n",
            "[Target]     vidi qualcosa di strano .\n",
            "[Predicted]  di qualcosa di strano . . . . . . . . . . . . . . . . . . . . . . . . . . . . . . . . . . . . . . . . . . . . . . . . . . . . . . .\n",
            "[BLEU]       0.0385\n",
            "\n",
            "[Input]      you ' re stuck.\n",
            "[Target]     tu sei bloccato .\n",
            "[Predicted]  sei bloccata . . . . . . . . . . . . . .o . . . . . . . . . . . . . . . . . . . . . . . . . . . . . . . . . . . . . . . . . .\n",
            "[BLEU]       0.0064\n"
          ]
        },
        {
          "output_type": "stream",
          "name": "stderr",
          "text": [
            "Epoch 3/5:  77%|███████▋  | 7201/9369 [24:15<30:31,  1.18it/s, Loss=0.219]"
          ]
        },
        {
          "output_type": "stream",
          "name": "stdout",
          "text": [
            "\n",
            "[Input]      i don ' t need your help.\n",
            "[Target]     non mi serve il vostro aiuto .\n",
            "[Predicted]  ho serve il sustro aiuto . . . . . . . . . . . . . . . . . . . . . . . . . . . . . . . . . . . . . . . . . . . . . . . . . . . . .\n",
            "[BLEU]       0.0160\n",
            "\n",
            "[Input]      when did you last see tom?\n",
            "[Target]     quando avete visto tom per l'ultima volta ?\n",
            "[Predicted]  ndo vete visto tom per l'ultima volta ? ? ? ? ? ? ? ? ? ? ? ? ? ? ? ? ? ? ? ? ? ? ? ? ? ? ? ? ? ? ? ? ? ? ? ? ? ? ? ? ? ? ? ? ? ?\n",
            "[BLEU]       0.0846\n"
          ]
        },
        {
          "output_type": "stream",
          "name": "stderr",
          "text": [
            "Epoch 3/5:  78%|███████▊  | 7301/9369 [25:40<29:17,  1.18it/s, Loss=0.297]"
          ]
        },
        {
          "output_type": "stream",
          "name": "stdout",
          "text": [
            "\n",
            "[Input]      it finally stopped raining towards evening.\n",
            "[Target]     verso sera ha finalmente smesso di piovere .\n",
            "[Predicted]  si haa ha finalmente smesso di piovere . . ser ser . ser ser ser . . ser ser ser ser ser ser ser ser ser ser ser ser ser ser ser ser ser ser ser ser ser ser ser ser ser ser ser ser ser ser ser all ser ser ser ser ser ser\n",
            "[BLEU]       0.0814\n",
            "\n",
            "[Input]      there are some problems.\n",
            "[Target]     ci sono alcuni problemi .\n",
            "[Predicted]  sono alcune problemi . . . . . . . . . . . . . . . . . . . . . .no .no . .no . . . . . . . . . . . . . . . . .no . . . . . . . .no\n",
            "[BLEU]       0.0135\n"
          ]
        },
        {
          "output_type": "stream",
          "name": "stderr",
          "text": [
            "Epoch 3/5:  79%|███████▉  | 7401/9369 [27:04<27:56,  1.17it/s, Loss=0.267]"
          ]
        },
        {
          "output_type": "stream",
          "name": "stdout",
          "text": [
            "\n",
            "[Input]      tom had to go to boston with mary.\n",
            "[Target]     tom doveva andare a boston con mary .\n",
            "[Predicted]  m vva andare a boston con mary . . . . . . . . . . . . . . . . . . . . . . . . . . . . . . . . . . . . . . . con . . . . . . . . .\n",
            "[BLEU]       0.0799\n",
            "\n",
            "[Input]      it ' s a very tough job.\n",
            "[Target]     è un lavoro molto duro .\n",
            "[Predicted]  è un lavoro molto diffiro . . . . . . . . . . . . . . . . . . . . . . . . . . . . . . . . . . . . . . . . . . . . . . . . . . . . .\n",
            "[BLEU]       0.0414\n"
          ]
        },
        {
          "output_type": "stream",
          "name": "stderr",
          "text": [
            "Epoch 3/5:  80%|████████  | 7501/9369 [28:29<26:21,  1.18it/s, Loss=0.247]"
          ]
        },
        {
          "output_type": "stream",
          "name": "stdout",
          "text": [
            "\n",
            "[Input]      she ' s waiting for you at home.\n",
            "[Target]     lei ti sta aspettando a casa .\n",
            "[Predicted]  lei ti sta aspettando a casa . . . . . . . . . . . . . . . . . . . . a . . . . . . . . . . . . . . a . . a . . . . . . a . . . . . .\n",
            "[BLEU]       0.0953\n",
            "\n",
            "[Input]      you might be right.\n",
            "[Target]     potresti aver ragione .\n",
            "[Predicted]  resti averegione . . . . . . . . . . . . . . . . . . . . . . . . . . . . . . . . . . . . . . . . . . . . . . . . . . . . . . .\n",
            "[BLEU]       0.0054\n"
          ]
        },
        {
          "output_type": "stream",
          "name": "stderr",
          "text": [
            "Epoch 3/5:  81%|████████  | 7601/9369 [29:54<25:06,  1.17it/s, Loss=0.298]"
          ]
        },
        {
          "output_type": "stream",
          "name": "stdout",
          "text": [
            "\n",
            "[Input]      i wonder whether tom is dangerous or not.\n",
            "[Target]     io mi chiedo se tom sia pericoloso o no .\n",
            "[Predicted]  mi chiedo se tom sia pericoloso o no . . . . . . . o . . . . . . . . . . . . o . o . . o o . . . . . . . . o . . . o . . . . . . o .\n",
            "[BLEU]       0.1361\n",
            "\n",
            "[Input]      the stamp came off.\n",
            "[Target]     è venuto via il francobollo .\n",
            "[Predicted]  è touto via il collobollo . . . . . . . . . . . . . . . . . . . . . . . . . . . . . . . . . . . . . . . . . . . . . . . . . . . .\n",
            "[BLEU]       0.0136\n"
          ]
        },
        {
          "output_type": "stream",
          "name": "stderr",
          "text": [
            "Epoch 3/5:  82%|████████▏ | 7701/9369 [31:18<23:37,  1.18it/s, Loss=0.223]"
          ]
        },
        {
          "output_type": "stream",
          "name": "stdout",
          "text": [
            "\n",
            "[Input]      why are you so stubborn?\n",
            "[Target]     perché sei così ostinato ?\n",
            "[Predicted]  ché sei così teststinato ? ? ? ? ? ? ? ? ? ? ? ? ? ? ? ? ? ? ? ? ? ? ? ? ? ? ? ? ? ? ? ? ? ? ? ? ? ? ? ? ? ? ? ? ? ? ? ? ? ? ? ?\n",
            "[BLEU]       0.0129\n",
            "\n",
            "[Input]      she isn ' t as energetic as she once was.\n",
            "[Target]     non è energica come era una volta .\n",
            "[Predicted]  è comeica com era una volta . . . . . . . . . . . . . . . . . . . . . . . . . . . . . . . . . . . . . . . . . . . . . . . . . . . .\n",
            "[BLEU]       0.0414\n"
          ]
        },
        {
          "output_type": "stream",
          "name": "stderr",
          "text": [
            "Epoch 3/5:  83%|████████▎ | 7801/9369 [32:43<22:16,  1.17it/s, Loss=0.163]"
          ]
        },
        {
          "output_type": "stream",
          "name": "stdout",
          "text": [
            "\n",
            "[Input]      what do you want to do in the future?\n",
            "[Target]     voi cosa volete fare in futuro ?\n",
            "[Predicted]  i chesa volete fare in futuro ? ? ? ? ? ? ? ? ? ? ? ? ? ? ? ? ? ? ? ? ? ? ? ? ? ? ? ? ? ? ? ? ? ? ? ? ? ? ? ? ? ? ? ? ? ? ? ? ? ?\n",
            "[BLEU]       0.0607\n",
            "\n",
            "[Input]      i think he is angry.\n",
            "[Target]     penso che lui sia arrabbiato .\n",
            "[Predicted]  o che lui sia arrabbiato . . . . . . . . . . . . . . . . . . . . . . . . . . . . . . . . . . . . . . . . . . . . . . . . . . . .\n",
            "[BLEU]       0.0596\n"
          ]
        },
        {
          "output_type": "stream",
          "name": "stderr",
          "text": [
            "Epoch 3/5:  84%|████████▍ | 7901/9369 [34:08<20:45,  1.18it/s, Loss=0.199]"
          ]
        },
        {
          "output_type": "stream",
          "name": "stdout",
          "text": [
            "\n",
            "[Input]      it took me half an hour to work out this problem.\n",
            "[Target]     mi ci è voluta mezz'ora per risolvere questo problema .\n",
            "[Predicted]  ci soè volu met un'ora per potsolvere unto problema . . problem problem problem problem problem problemo problem .osi problem problem problem problemoo problem problem ao problemo a problem problem problem a ao problem problem  problem problem problem a a aament inament\n",
            "[BLEU]       0.0180\n",
            "\n",
            "[Input]      why do you like coffee strong?\n",
            "[Target]     perché ti piace il caffè forte ?\n",
            "[Predicted]  ché ti piace il caffè forte ? for for for for . for for ? for for for for for ? for for for for ? for for for for for for for for for for for for for for for for for for for for for for for for for for for for for for for\n",
            "[BLEU]       0.0785\n"
          ]
        },
        {
          "output_type": "stream",
          "name": "stderr",
          "text": [
            "Epoch 3/5:  85%|████████▌ | 8001/9369 [36:03<3:47:42,  9.99s/it, Loss=0.191]"
          ]
        },
        {
          "output_type": "stream",
          "name": "stdout",
          "text": [
            "\n",
            "[Input]      i plan to go skiing with my girlfriend.\n",
            "[Target]     ho intenzione di andare a sciare con la mia ragazza .\n",
            "[Predicted]  intenzione di andare a sciare con la mia ragazza . . . . . . . . . . . . . . . . . . . . . . . . . . . . . . . . . . . . . . . . . . . . . .\n",
            "[BLEU]       0.1575\n",
            "\n",
            "[Input]      it was fun while it lasted.\n",
            "[Target]     è stata divertente finché è durata .\n",
            "[Predicted]  è stato divertente mentché è rata . . . . . . . . . . . . .o . . . . . . . . . . . . . . . . . . . . . . . . . .la . . . . . . . . .\n",
            "[BLEU]       0.0080\n"
          ]
        },
        {
          "output_type": "stream",
          "name": "stderr",
          "text": [
            "Epoch 3/5:  86%|████████▋ | 8101/9369 [37:28<17:42,  1.19it/s, Loss=0.33]"
          ]
        },
        {
          "output_type": "stream",
          "name": "stdout",
          "text": [
            "\n",
            "[Input]      tom didn ' t know how to open it.\n",
            "[Target]     tom non sapeva come aprirla .\n",
            "[Predicted]  m non sapeva come aprira .r .lala .lala . .lalola .lalalalalalalala . .lalalalalala . . .lalalalala . .la .lalalalololalalalalala\n",
            "[BLEU]       0.0709\n",
            "\n",
            "[Input]      i ' m sorry that happened to you.\n",
            "[Target]     mi dispiace che vi sia capitato .\n",
            "[Predicted]  dispiace che vi sia capitato . . . . . . . . . . . . . . . . . . . . . .  . . . . . . . . . . . . . .si .  . . .ti . . . . . . . .\n",
            "[BLEU]       0.0846\n"
          ]
        },
        {
          "output_type": "stream",
          "name": "stderr",
          "text": [
            "Epoch 3/5:  88%|████████▊ | 8201/9369 [38:53<16:31,  1.18it/s, Loss=0.225]"
          ]
        },
        {
          "output_type": "stream",
          "name": "stdout",
          "text": [
            "\n",
            "[Input]      he always sings in the shower.\n",
            "[Target]     canta sempre sotto la doccia .\n",
            "[Predicted]  ta sempre sotto la doccia . . . . . . . . . . . . . . . . . . . . . . . . . . . . . . . . . . . . . . . . . . . . . . . . . . . . . .\n",
            "[BLEU]       0.0576\n",
            "\n",
            "[Input]      i don ' t take drugs.\n",
            "[Target]     io non prendo medicine .\n",
            "[Predicted]  non fndo drog . . . . . . . . . . . . . . . . . . . . . . . . . . . . . . . . . . . . . . . . . . . . . . . . . . . . . . . . .\n",
            "[BLEU]       0.0062\n"
          ]
        },
        {
          "output_type": "stream",
          "name": "stderr",
          "text": [
            "Epoch 3/5:  89%|████████▊ | 8301/9369 [40:18<15:10,  1.17it/s, Loss=0.183]"
          ]
        },
        {
          "output_type": "stream",
          "name": "stdout",
          "text": [
            "\n",
            "[Input]      nothing is really easy.\n",
            "[Target]     nulla è davvero facile .\n",
            "[Predicted]  a è veravvero facile . . . . . . . . . . . . . . . . . . . . . . . . . . . . . . . . . . . . . . . . . . . . . . . . . . . . .\n",
            "[BLEU]       0.0127\n",
            "\n",
            "[Input]      i don ' t have any money with me.\n",
            "[Target]     non ho denaro con me .\n",
            "[Predicted]  ho soldaro con me . .o .o . .o .oo .o .o . .o .ooo . .oo . con .o . . . . .o . .o .oo . .oooo con cono . . con cono con\n",
            "[BLEU]       0.0367\n"
          ]
        },
        {
          "output_type": "stream",
          "name": "stderr",
          "text": [
            "Epoch 3/5:  90%|████████▉ | 8401/9369 [41:42<13:42,  1.18it/s, Loss=0.225]"
          ]
        },
        {
          "output_type": "stream",
          "name": "stdout",
          "text": [
            "\n",
            "[Input]      he criticizes everything.\n",
            "[Target]     critica tutto .\n",
            "[Predicted]  a tutto . . . . . . . . . . . . . . . . . . . . . . . . . . . . . . . . . . . . . . .si . . . . . . . . . . . . . . . . a .si\n",
            "[BLEU]       0.0111\n",
            "\n",
            "[Input]      tom is very understanding.\n",
            "[Target]     tom è molto comprensivo .\n",
            "[Predicted]  m è molto comprensib . . . . . . . . . . . . . . . . . . . . . . . . . . . . . . . . . . . . . . . . . . . . . . . . . . mol . .\n",
            "[BLEU]       0.0127\n"
          ]
        },
        {
          "output_type": "stream",
          "name": "stderr",
          "text": [
            "Epoch 3/5:  91%|█████████ | 8501/9369 [43:07<12:15,  1.18it/s, Loss=0.175]"
          ]
        },
        {
          "output_type": "stream",
          "name": "stdout",
          "text": [
            "\n",
            "[Input]      i ' m absolutely certain that that ' s what happened.\n",
            "[Target]     sono assolutamente certo che questo sia quel che è successo .\n",
            "[Predicted]  no assolutamente certo che questo sia col che è capitao . . . . . . . . . . . . . . . . . . . . . . . . . . . . . . . . . . . . . . . . . .\n",
            "[BLEU]       0.0780\n",
            "\n",
            "[Input]      tom was jumping on the bed.\n",
            "[Target]     tom stava saltando sul letto .\n",
            "[Predicted]  m stava chiando sul letto . . . . . . . . . . . . . . . . . . . . . . . . . . . . . . . . . . . . . . . . . . . . . . . . . . . . .\n",
            "[BLEU]       0.0238\n"
          ]
        },
        {
          "output_type": "stream",
          "name": "stderr",
          "text": [
            "Epoch 3/5:  92%|█████████▏| 8601/9369 [44:32<10:54,  1.17it/s, Loss=0.324]"
          ]
        },
        {
          "output_type": "stream",
          "name": "stdout",
          "text": [
            "\n",
            "[Input]      she enjoyed herself at the party yesterday.\n",
            "[Target]     si è divertita alla festa ieri .\n",
            "[Predicted]  è divertita alla festa ieri . i i i . i . . i i i i . . . . i i . i i i i . i i . i . . i i i i i i i i i i i . i i i i i i i i i .\n",
            "[BLEU]       0.0785\n",
            "\n",
            "[Input]      avoid drinking too much water with your meals.\n",
            "[Target]     eviti di bere troppa acqua durante i pasti .\n",
            "[Predicted]  ti di bere troppa acqua conrante i tui . . . . . . . . . . . . . . . . . . . . . . . . . . . . . . . . . . . . . . . .o . . . . . .\n",
            "[BLEU]       0.0467\n"
          ]
        },
        {
          "output_type": "stream",
          "name": "stderr",
          "text": [
            "Epoch 3/5:  93%|█████████▎| 8701/9369 [45:56<09:27,  1.18it/s, Loss=0.238]"
          ]
        },
        {
          "output_type": "stream",
          "name": "stdout",
          "text": [
            "\n",
            "[Input]      please be honest with me.\n",
            "[Target]     per favore , siate onesti con me .\n",
            "[Predicted]  pie , siate onesti con me . . . . . . . . . . . . . . . . . . . . . . . . . . . con . . . . . . . . . . . conmi . . . . .mi . . . . .\n",
            "[BLEU]       0.0799\n",
            "\n",
            "[Input]      i ' d prefer red wine.\n",
            "[Target]     io preferirei il vino rosso .\n",
            "[Predicted]  preferirei il vino rosso . . . . .so . . .o . . .o . . . . . . . . . .o . . . . . .oo .o . . .o . .oo . .so .o . . .e\n",
            "[BLEU]       0.0798\n"
          ]
        },
        {
          "output_type": "stream",
          "name": "stderr",
          "text": [
            "Epoch 3/5:  94%|█████████▍| 8801/9369 [47:21<08:03,  1.18it/s, Loss=0.231]"
          ]
        },
        {
          "output_type": "stream",
          "name": "stdout",
          "text": [
            "\n",
            "[Input]      don ' t push the wrong button.\n",
            "[Target]     non premete il pulsante sbagliato .\n",
            "[Predicted]  spmere il pulsante sbagliato . .oo . . . . . . . . . . s . . . . . . . . . . . . . . .o . . . . . . . . . s . . . . .oo . .\n",
            "[BLEU]       0.0466\n",
            "\n",
            "[Input]      we went to the theater.\n",
            "[Target]     siamo andati a teatro .\n",
            "[Predicted]  amo andate a teatro . . . . . . . .o . . . . . . . .o .o . . . . . . . . . . . . . . . . . . .o .o . . . . . . . .o .o . .o\n",
            "[BLEU]       0.0246\n"
          ]
        },
        {
          "output_type": "stream",
          "name": "stderr",
          "text": [
            "Epoch 3/5:  95%|█████████▌| 8901/9369 [48:45<06:38,  1.17it/s, Loss=0.201]"
          ]
        },
        {
          "output_type": "stream",
          "name": "stdout",
          "text": [
            "\n",
            "[Input]      i tasted the wine.\n",
            "[Target]     ho assaggiato il vino .\n",
            "[Predicted]  assaggiato il vino . . . . . . . . . . . . . . . . . . . . . . . . . . . . . . . . . . . . . . . . .o . . . . . . . . . . .o\n",
            "[BLEU]       0.0414\n",
            "\n",
            "[Input]      worrying is like paying a debt you don ' t owe.\n",
            "[Target]     preoccuparsi è come pagare un debito che non si ha .\n",
            "[Predicted]  occuparsi nonè come unrl che debito che non de de . . . . . . . . . .e . . . . . . . . . . . . . . . . . . . . .e . .e . . . . . . . . . .\n",
            "[BLEU]       0.0274\n"
          ]
        },
        {
          "output_type": "stream",
          "name": "stderr",
          "text": [
            "Epoch 3/5:  96%|█████████▌| 9001/9369 [50:47<1:13:30, 11.98s/it, Loss=0.165]"
          ]
        },
        {
          "output_type": "stream",
          "name": "stdout",
          "text": [
            "\n",
            "[Input]      i ' d prefer to do that by myself.\n",
            "[Target]     preferirei farlo da solo .\n",
            "[Predicted]  irei farlo da solo . .oooo . .ooooo . . .o . . da .o .lala da . dao . da da da da da .la da . da da da da da da da da da . . dala da da da\n",
            "[BLEU]       0.0534\n",
            "\n",
            "[Input]      mary lost her reading glasses.\n",
            "[Target]     mary ha perso i suoi occhiali da lettura .\n",
            "[Predicted]  ary ha perso i suoi occhiali da lettura . . . . . .si . . . . . . . .do . . . . . . . . . . .sisi . . . . .si . .sisisisi .sosisisi . .si\n",
            "[BLEU]       0.1543\n"
          ]
        },
        {
          "output_type": "stream",
          "name": "stderr",
          "text": [
            "Epoch 3/5:  97%|█████████▋| 9101/9369 [52:12<03:47,  1.18it/s, Loss=0.182]"
          ]
        },
        {
          "output_type": "stream",
          "name": "stdout",
          "text": [
            "\n",
            "[Input]      let ' s begin.\n",
            "[Target]     iniziamo !\n",
            "[Predicted]  iziamo . . . . . . . . . . . . . . . . . . . . . . . . . . . . . . . . . . . . . . . . . . . . . . . . . . . . . . .i . . .\n",
            "[BLEU]       0.0000\n",
            "\n",
            "[Input]      i was too tired to keep working.\n",
            "[Target]     ero troppo stanco per continuare a lavorare .\n",
            "[Predicted]  ero troppo stanco per continuare a lavorare . . . . . . . . . . . . . . . . . . . . . . . . . . . . . . . . . . . . . . . . . . . . . . . .\n",
            "[BLEU]       0.1197\n"
          ]
        },
        {
          "output_type": "stream",
          "name": "stderr",
          "text": [
            "Epoch 3/5:  98%|█████████▊| 9201/9369 [53:37<02:21,  1.19it/s, Loss=0.226]"
          ]
        },
        {
          "output_type": "stream",
          "name": "stdout",
          "text": [
            "\n",
            "[Input]      i don ' t eat as much fruit as i should.\n",
            "[Target]     io non mangio tutta la frutta che dovrei mangiare .\n",
            "[Predicted]  non mangio mola la frutta che dovrei fargiare . . . . . . . . . . . . . . . . . . . . . . . . . . . . . . . . . . . . . . . . . . . . . .\n",
            "[BLEU]       0.0521\n",
            "\n",
            "[Input]      tom probably shouldn ' t do that with mary.\n",
            "[Target]     tom probabilmente non dovrebbe farlo con mary .\n",
            "[Predicted]  m probabilmente non dovrebbe farlo con mary . . con . . . . . . . . . con . . . . . . . con con . . . . con . con con con . con . . con con . . . con . con con con con con\n",
            "[BLEU]       0.1026\n"
          ]
        },
        {
          "output_type": "stream",
          "name": "stderr",
          "text": [
            "Epoch 3/5:  99%|█████████▉| 9301/9369 [55:02<00:57,  1.17it/s, Loss=0.219]"
          ]
        },
        {
          "output_type": "stream",
          "name": "stdout",
          "text": [
            "\n",
            "[Input]      have you sold it yet?\n",
            "[Target]     lo avete già venduto ?\n",
            "[Predicted]  avete già venduto ?to ?to ?o ? ? ?o ? ? ? ? ? ? ?o ? ? ?o ? ? ?o ? ? ? ? ? ? ?o ? ? ? ? ? ?o ? ? ? ? ? ? ? ?o ?ment ?\n",
            "[BLEU]       0.0406\n",
            "\n",
            "[Input]      why are you so excited?\n",
            "[Target]     perché sei così emozionata ?\n",
            "[Predicted]  ché i così emozionata ?da ? ? ? ? ? ? ? ? ? ? ? ? ? ? ? ? ? ? ? ? ? ? ? ? ? ? ? ? ? ? ? ? ? ? ? ? ? ? ? ? ? ? ? ? ? ? ? ? ?\n",
            "[BLEU]       0.0233\n"
          ]
        },
        {
          "output_type": "stream",
          "name": "stderr",
          "text": [
            "Epoch 3/5: 100%|██████████| 9369/9369 [55:59<00:00,  1.00it/s, Loss=0.231]\n",
            "Epoch 4/5:   0%|          | 0/9369 [00:00<?, ?it/s]"
          ]
        },
        {
          "output_type": "stream",
          "name": "stdout",
          "text": [
            "🔍 Validation Loss (Epoch 4): 0.1937\n"
          ]
        },
        {
          "output_type": "stream",
          "name": "stderr",
          "text": [
            "Epoch 4/5:   0%|          | 1/9369 [05:56<927:05:28, 356.27s/it, Loss=0.218]"
          ]
        },
        {
          "output_type": "stream",
          "name": "stdout",
          "text": [
            "\n",
            "[Input]      why will you do that?\n",
            "[Target]     perché lo farai ?\n",
            "[Predicted]  ché lo farete ? ? ? ? ? ? ? ? ? ? ? ? ? ? ? ? ? ? ? ? ? ? ? ? ? ? ? ? ? ? ? ? ? ? ? ? ? ? ? ? ? ? ? ? ? ? ? ? ? ? ? ? ? ? ? ? ?\n",
            "[BLEU]       0.0062\n",
            "\n",
            "[Input]      you haven ' t yet learned to drive, have you?\n",
            "[Target]     non hai ancora imparato a guidare , vero ?\n",
            "[Predicted]  ahai ancora imparato a guidare , vero ? ? ? ? ? ? ? ? ? ?  ? ? ? ? ? ?  ?  ? ? ? ? ? ? ?  ?     ? ? ?  ?   ?  ? ? ?\n",
            "[BLEU]       0.1399\n"
          ]
        },
        {
          "output_type": "stream",
          "name": "stderr",
          "text": [
            "Epoch 4/5:   1%|          | 101/9369 [07:22<2:11:23,  1.18it/s, Loss=0.224]"
          ]
        },
        {
          "output_type": "stream",
          "name": "stdout",
          "text": [
            "\n",
            "[Input]      can you teach me?\n",
            "[Target]     mi potete insegnare ?\n",
            "[Predicted]  puete insegnare ? ? ? ? ? ? ? ? ? ? ? ? ? ? ? ? ? ? ? ? ? ? ? ? ? ? ? ? ? ? ? ? ?e ? ? ? ? ? ? ?e ? ? ? ? ? ? ? ? ? ? ? ?e ?\n",
            "[BLEU]       0.0113\n",
            "\n",
            "[Input]      could you tell me the wi - fi password?\n",
            "[Target]     mi potreste dire la password del wi-fi ?\n",
            "[Predicted]  potresti dire la password del wi-fi ? ? passse passse pass ? pass pass ? pass pass pass passse pass ? ? pass pass pass pass pass pass pass pass passe pass pass pass pass pass pass pass pass pass pass pass pass pass pass pass pass pass pass pass pass pass pass\n",
            "[BLEU]       0.0846\n"
          ]
        },
        {
          "output_type": "stream",
          "name": "stderr",
          "text": [
            "Epoch 4/5:   2%|▏         | 201/9369 [08:46<2:09:09,  1.18it/s, Loss=0.173]"
          ]
        },
        {
          "output_type": "stream",
          "name": "stdout",
          "text": [
            "\n",
            "[Input]      i don ' t know exactly what tom wants to do.\n",
            "[Target]     non so esattamente cosa vuole tom .\n",
            "[Predicted]  so esattamente cosa vuole tom . . . . . . . . . . . . . . . . . . . . . . . . . . . . . . . . . . . . . . . . . . . . . . . . .\n",
            "[BLEU]       0.0830\n",
            "\n",
            "[Input]      give it to tom.\n",
            "[Target]     dalla a tom .\n",
            "[Predicted]  lo a tom . . . . . . . . . . . . . a . a . a . . a . . a . . . . . . a . a . . . . . a a a . . . a a a . a . . . a a a . a .\n",
            "[BLEU]       0.0211\n"
          ]
        },
        {
          "output_type": "stream",
          "name": "stderr",
          "text": [
            "Epoch 4/5:   3%|▎         | 301/9369 [10:11<2:09:26,  1.17it/s, Loss=0.205]"
          ]
        },
        {
          "output_type": "stream",
          "name": "stdout",
          "text": [
            "\n",
            "[Input]      tom borrowed a dictionary from the library.\n",
            "[Target]     tom prese in prestito un dizionario dalla biblioteca .\n",
            "[Predicted]  m hase in prestito un dizionario dalla biblioteca . . . . . . . . . . . . . . . . . .o . . . . . . . . . . . . . . . . . . . . . . . . .\n",
            "[BLEU]       0.1088\n",
            "\n",
            "[Input]      i ' ll keep that if you don ' t mind.\n",
            "[Target]     la terrò se non vi dispiace .\n",
            "[Predicted]  terrò se non le dispiace . . . . . . . . . . . . . . . . . . . . . . . . . non . . . . se . . . . non . . se . non . . . . . . . non . . non . .\n",
            "[BLEU]       0.0274\n"
          ]
        },
        {
          "output_type": "stream",
          "name": "stderr",
          "text": [
            "Epoch 4/5:   4%|▍         | 401/9369 [11:36<2:06:39,  1.18it/s, Loss=0.164]"
          ]
        },
        {
          "output_type": "stream",
          "name": "stdout",
          "text": [
            "\n",
            "[Input]      he threw a rock into the pond.\n",
            "[Target]     lui tirò un sasso nella palude .\n",
            "[Predicted]  i tirò un sasso nnella palude . . . . . . . . . . . . . . . . . . . . . . . . . . . . . . . . . . . . . . . . . . . . . . . . . .\n",
            "[BLEU]       0.0288\n",
            "\n",
            "[Input]      you ' re still a tailor, aren ' t you?\n",
            "[Target]     sei ancora un sarto , vero ?\n",
            "[Predicted]  i ancora un sarto , vero ? ? no    ?   ?          ?     ?            o    o   .    ?\n",
            "[BLEU]       0.2818\n"
          ]
        },
        {
          "output_type": "stream",
          "name": "stderr",
          "text": [
            "Epoch 4/5:   5%|▌         | 501/9369 [13:00<2:05:34,  1.18it/s, Loss=0.152]"
          ]
        },
        {
          "output_type": "stream",
          "name": "stdout",
          "text": [
            "\n",
            "[Input]      he isn ' t here yet.\n",
            "[Target]     non è ancora qui .\n",
            "[Predicted]  è ancora qua . . .o . . . . . . . . . . . . . . . . . . . . . . . . . . . . . . . . . . . . . . . . . . . . .o . . . . . .\n",
            "[BLEU]       0.0127\n",
            "\n",
            "[Input]      we should go.\n",
            "[Target]     noi dovremmo andare .\n",
            "[Predicted]  i dovremmo andare .re . . . . . . . . . . . . . . . . . . . . . . . . . . . . . . . . . . . . . . . . . . . . . . . . . . . . .\n",
            "[BLEU]       0.0127\n"
          ]
        },
        {
          "output_type": "stream",
          "name": "stderr",
          "text": [
            "Epoch 4/5:   6%|▋         | 601/9369 [14:25<2:04:10,  1.18it/s, Loss=0.151]"
          ]
        },
        {
          "output_type": "stream",
          "name": "stdout",
          "text": [
            "\n",
            "[Input]      i started working here in 2013.\n",
            "[Target]     io ho iniziato a lavorare qui nel 2013 .\n",
            "[Predicted]  ho iniziato a lavorare qua nel 2013 . . . . . . . . . . . . . . . . . . . . . . . . . . . . . . . . . . . . . . . . . . . . . . . . . .\n",
            "[BLEU]       0.0577\n",
            "\n",
            "[Input]      i wish i could be as rich as you.\n",
            "[Target]     io vorrei potere essere ricca come lei .\n",
            "[Predicted]  vorrei esere essere ricca come lei . vo . . . con . . . . . . . .  . . con con . . . . . .   . . . . con . .  . con    .  ca .  . .\n",
            "[BLEU]       0.0815\n"
          ]
        },
        {
          "output_type": "stream",
          "name": "stderr",
          "text": [
            "Epoch 4/5:   7%|▋         | 701/9369 [15:50<2:02:04,  1.18it/s, Loss=0.267]"
          ]
        },
        {
          "output_type": "stream",
          "name": "stdout",
          "text": [
            "\n",
            "[Input]      i love you.\n",
            "[Target]     ti amo !\n",
            "[Predicted]  amo . . . . . . . . . . . . . . . . . . . . . . . . . . . . . . . . . . . . . . . . . . . . . . . . . . . . . . . . . . . .\n",
            "[BLEU]       0.0051\n",
            "\n",
            "[Input]      you have good ideas.\n",
            "[Target]     lei ha delle buone idee .\n",
            "[Predicted]  hai ha delle buone idee . .da . . . .da .eeda . . . . . . . . . . . . . . . . . . . . . . . . . . . . . . . . . . . . . . . . .\n",
            "[BLEU]       0.0643\n"
          ]
        },
        {
          "output_type": "stream",
          "name": "stderr",
          "text": [
            "Epoch 4/5:   9%|▊         | 801/9369 [17:14<2:01:25,  1.18it/s, Loss=0.2]"
          ]
        },
        {
          "output_type": "stream",
          "name": "stdout",
          "text": [
            "\n",
            "[Input]      i still have tom.\n",
            "[Target]     ho ancora tom .\n",
            "[Predicted]  ancora tom . . . . . . . . . . . . . . . . . . .e .o . . . . . . . . . . . . . . . . . . . . . . . . . . . . . . . . . . .\n",
            "[BLEU]       0.0225\n",
            "\n",
            "[Input]      a nice room, isn ' t it?\n",
            "[Target]     una camera carina , vero ?\n",
            "[Predicted]  a stan ina , vero ? ? ? ? ? ? ? ? ? ? ? ? ? ? ? ? ? ? ? ? ? ? ? ? ? ? ? ? ? ? ? ? ? ? ? ? ? ? ? ? ? ? ? ? ? ? ? ? ? ? ? ? ? ?\n",
            "[BLEU]       0.0218\n"
          ]
        },
        {
          "output_type": "stream",
          "name": "stderr",
          "text": [
            "Epoch 4/5:  10%|▉         | 901/9369 [18:39<2:00:17,  1.17it/s, Loss=0.225]"
          ]
        },
        {
          "output_type": "stream",
          "name": "stdout",
          "text": [
            "\n",
            "[Input]      tom didn ' t answer the question.\n",
            "[Target]     tom non rispose alla domanda .\n",
            "[Predicted]  m non hapose alla domanda . .t . .si . . . . . . . . . . . . . . . . . . . . . . . . . . . . . . . . . . . . . . . . . . . . . . .\n",
            "[BLEU]       0.0246\n",
            "\n",
            "[Input]      you ' ve done a perfect job.\n",
            "[Target]     hai fatto un lavoro perfetto .\n",
            "[Predicted]  lei fatto un lavoro perfetto . .o .oo . .o . . . . . . . . . . . . . . .o . . . . . . . . . . . . . . . . . . .o . . . . . . .\n",
            "[BLEU]       0.0669\n"
          ]
        },
        {
          "output_type": "stream",
          "name": "stderr",
          "text": [
            "Epoch 4/5:  11%|█         | 1001/9369 [21:00<41:00:53, 17.65s/it, Loss=0.184]"
          ]
        },
        {
          "output_type": "stream",
          "name": "stdout",
          "text": [
            "\n",
            "[Input]      they didn ' t even know what to do.\n",
            "[Target]     non sapevano nemmeno che fare .\n",
            "[Predicted]  sapevano nppeno co fare . . far faro far far . far far . far .o . far .o far far . .o . far far .o .o . .o . .o . . . .o far far . . . . . . . . .o\n",
            "[BLEU]       0.0151\n",
            "\n",
            "[Input]      i felt responsible.\n",
            "[Target]     io mi sentivo responsabile .\n",
            "[Predicted]  mi soivo responsabile . .o .si . . . . . . .oo . . . . . . . .osi . . . . . . . .si . . .si . . . . . .sisi .e . .osisi .si .\n",
            "[BLEU]       0.0164\n"
          ]
        },
        {
          "output_type": "stream",
          "name": "stderr",
          "text": [
            "Epoch 4/5:  12%|█▏        | 1101/9369 [22:25<1:55:17,  1.20it/s, Loss=0.263]"
          ]
        },
        {
          "output_type": "stream",
          "name": "stdout",
          "text": [
            "\n",
            "[Input]      it was a good decision.\n",
            "[Target]     è stata una buona decisione .\n",
            "[Predicted]  è stata una buona decisione . . . . . . . .e . . . . .e . . .e .e . . . .e .si . . . .eesi . . .esieee . . . .esi . .e .\n",
            "[BLEU]       0.1103\n",
            "\n",
            "[Input]      tom didn ' t give me any details.\n",
            "[Target]     tom non mi ha dato alcun dettaglio .\n",
            "[Predicted]  m non mi died dato alcun dettataglio . . . . . . . . . . . . . . . . . . . . . . . . . . . . . . . . . . . . . . . . . . . . . . . . .\n",
            "[BLEU]       0.0174\n"
          ]
        },
        {
          "output_type": "stream",
          "name": "stderr",
          "text": [
            "Epoch 4/5:  13%|█▎        | 1201/9369 [23:50<1:55:11,  1.18it/s, Loss=0.189]"
          ]
        },
        {
          "output_type": "stream",
          "name": "stdout",
          "text": [
            "\n",
            "[Input]      is he a friend of yours?\n",
            "[Target]     lui è un tuo amico ?\n",
            "[Predicted]  i è un voo amico ?ros ? ? ? ? ? ? ? ? ? ? ? ? ? ? ? ? ? ? ? ? ?o ?o ? ?o ? ? ?oo ? ? ? ? ? ? ? ?o ? ? ? ?o ?o ?o ?\n",
            "[BLEU]       0.0162\n",
            "\n",
            "[Input]      you ' d better do it soon.\n",
            "[Target]     fareste meglio a farlo presto .\n",
            "[Predicted]  te meglio a farlo presto . . .s .s .s . . . . . . . . . . .o . . . . . .s . . . . . .s . . . .o . .ssament . . . . . .s .\n",
            "[BLEU]       0.0744\n"
          ]
        },
        {
          "output_type": "stream",
          "name": "stderr",
          "text": [
            "Epoch 4/5:  14%|█▍        | 1301/9369 [25:14<1:54:35,  1.17it/s, Loss=0.197]"
          ]
        },
        {
          "output_type": "stream",
          "name": "stdout",
          "text": [
            "\n",
            "[Input]      tom gives too much money to his children.\n",
            "[Target]     tom dà troppi soldi ai suoi figli .\n",
            "[Predicted]  m dà troppi soldi ai suoi figli . . . . . . . . . . . . .e . . . . .o . . . . . . . . . . . . . .o .oo . .o . .o . . . .\n",
            "[BLEU]       0.1158\n",
            "\n",
            "[Input]      it ' ll rain tonight.\n",
            "[Target]     pioverà stasera .\n",
            "[Predicted]  overà stansera . .s . . .tete .o . . .o . . . . . . . . . . . . .o . . sero . . . .sos . ser . . .à .a sers ser ser ser serament ser . ser\n",
            "[BLEU]       0.0066\n"
          ]
        },
        {
          "output_type": "stream",
          "name": "stderr",
          "text": [
            "Epoch 4/5:  15%|█▍        | 1401/9369 [26:39<1:53:02,  1.17it/s, Loss=0.209]"
          ]
        },
        {
          "output_type": "stream",
          "name": "stdout",
          "text": [
            "\n",
            "[Input]      there really is no difference.\n",
            "[Target]     non c'è veramente differenza .\n",
            "[Predicted]  c'è veramente differenza . .oo . . . . . . . . . . . . . . . . . .o . . . .oo . . . . . . . . . . . . . . . . . . . . . . .\n",
            "[BLEU]       0.0863\n",
            "\n",
            "[Input]      i have no other option.\n",
            "[Target]     io non ho altre opzioni .\n",
            "[Predicted]  non ho altre opzioni . . . .o . . . . . . . . . . . . . . . . . . . . . . . . . . . . . . . . . . . . . . . . . . . . . . . . . . .\n",
            "[BLEU]       0.0576\n"
          ]
        },
        {
          "output_type": "stream",
          "name": "stderr",
          "text": [
            "Epoch 4/5:  16%|█▌        | 1501/9369 [28:03<1:51:09,  1.18it/s, Loss=0.266]"
          ]
        },
        {
          "output_type": "stream",
          "name": "stdout",
          "text": [
            "\n",
            "[Input]      say it in french.\n",
            "[Target]     lo dica in francese .\n",
            "[Predicted]  dica in francese . . . . . . . . . . . . . . . . . . . . . . . . . . . . . . . . . . . . . . . . . . . . . . . . . . . . franc franc . . franc\n",
            "[BLEU]       0.0378\n",
            "\n",
            "[Input]      it is remarkable that he said nothing at all.\n",
            "[Target]     è ammirevole che non abbia detto assolutamente nulla .\n",
            "[Predicted]  è aicoevole che non habbia detto nullsolutamente nulla . null ni nullso . null ni al null . . null . . null . null null . null null null . null null null null null null null null null . null null null . null null null null null\n",
            "[BLEU]       0.0202\n"
          ]
        },
        {
          "output_type": "stream",
          "name": "stderr",
          "text": [
            "Epoch 4/5:  17%|█▋        | 1601/9369 [29:28<1:50:37,  1.17it/s, Loss=0.187]"
          ]
        },
        {
          "output_type": "stream",
          "name": "stdout",
          "text": [
            "\n",
            "[Input]      did you draw that?\n",
            "[Target]     l'ha disegnato lei ?\n",
            "[Predicted]  'hai disegnato ?qu ? ? ? ? ? ? ? ? ? ? ? ? ? ? ? ? ? ? ? ? ? ? ? ?lo ? ? ? ? ?lolo ? ? ? ? ? ? ?lo ? ?lo ? ? ?lo ?lo ?lo ? ?lo\n",
            "[BLEU]       0.0065\n",
            "\n",
            "[Input]      i ' m an engineer.\n",
            "[Target]     sono ingegnere .\n",
            "[Predicted]  no ungegnata . .o . . . . . . .o . . . . . . .o . . . . . . . . . . . un . . . .o . . . . .o . . . . un . .o . . un uno . .\n",
            "[BLEU]       0.0059\n"
          ]
        },
        {
          "output_type": "stream",
          "name": "stderr",
          "text": [
            "Epoch 4/5:  18%|█▊        | 1701/9369 [30:53<1:48:11,  1.18it/s, Loss=0.209]"
          ]
        },
        {
          "output_type": "stream",
          "name": "stdout",
          "text": [
            "\n",
            "[Input]      you can park here.\n",
            "[Target]     potete parcheggiare qui .\n",
            "[Predicted]  ete parcheggiare qui . .o . . . . . . . . . . . . . . . . . . . . . . . . . . . . . . . . . . . . . . . . . . . . . . . . . . . .\n",
            "[BLEU]       0.0225\n",
            "\n",
            "[Input]      our teacher is a real idiot.\n",
            "[Target]     la nostra professoressa è una vera idiota .\n",
            "[Predicted]  nostra professoressa è una vera idiota . .oo idioo .s .o . . . . .ì . . .ì .ì . . . . . . . .o . . . . . idi . .ì . . . .ì . . .\n",
            "[BLEU]       0.1298\n"
          ]
        },
        {
          "output_type": "stream",
          "name": "stderr",
          "text": [
            "Epoch 4/5:  19%|█▉        | 1801/9369 [32:17<1:47:10,  1.18it/s, Loss=0.231]"
          ]
        },
        {
          "output_type": "stream",
          "name": "stdout",
          "text": [
            "\n",
            "[Input]      please stay here.\n",
            "[Target]     restate qui , per favore .\n",
            "[Predicted]  ate qui , per pie . .o . . . .o . . . . . . . . . . . . . . . . . . . . . . . . . . . . . . . . . . . . . . . . . . . . . . .\n",
            "[BLEU]       0.0238\n",
            "\n",
            "[Input]      tom has no qualms about stealing other people ' s food.\n",
            "[Target]     tom non si fa scrupoli a rubare il cibo delle altre persone .\n",
            "[Predicted]  m non ha fa aiveoli a rubare il cibo delle persontre persone . diooo . . . .o .o . .o . . . . . . . . . . .o . . .ooo . . .o .o . .o .\n",
            "[BLEU]       0.1001\n"
          ]
        },
        {
          "output_type": "stream",
          "name": "stderr",
          "text": [
            "Epoch 4/5:  20%|██        | 1901/9369 [33:42<1:45:32,  1.18it/s, Loss=0.254]"
          ]
        },
        {
          "output_type": "stream",
          "name": "stdout",
          "text": [
            "\n",
            "[Input]      i have no reason not to trust tom.\n",
            "[Target]     non ho alcuna ragione per non fidarmi di tom .\n",
            "[Predicted]  ho ralcuna ragione per fi fidarmi di tom . .o .oo . . .oo . . . . . . . . . .o . . . . . . . . . . . . . . . . . . . . . . . . .\n",
            "[BLEU]       0.0576\n",
            "\n",
            "[Input]      please continue.\n",
            "[Target]     per piacere , continua .\n",
            "[Predicted]  piacere , continuate . . . . . . . . . . . . . . . . . . . . . . . . . . . . . . . . . . . . . . . . . . . . . . . . . . . . . .\n",
            "[BLEU]       0.0127\n"
          ]
        },
        {
          "output_type": "stream",
          "name": "stderr",
          "text": [
            "Epoch 4/5:  21%|██▏       | 2001/9369 [35:54<30:46:35, 15.04s/it, Loss=0.208]"
          ]
        },
        {
          "output_type": "stream",
          "name": "stdout",
          "text": [
            "\n",
            "[Input]      did you enjoy that?\n",
            "[Target]     a lei è piaciuto ?\n",
            "[Predicted]  telei è piaciuto ? ? ?o ? ? ? ? ? ? ? ? ? ? ? ? ?o ? ? ? ? ? ? ? ? ?lo ? ? ? ? ? ? ? ? ? ?o ? ? ? ? ?lo ? ? ? ? ? ? ? ?lo\n",
            "[BLEU]       0.0225\n",
            "\n",
            "[Input]      did you go to tom ' s halloween party last year?\n",
            "[Target]     è andato alla festa di halloween di tom dell'anno scorso ?\n",
            "[Predicted]  è andato alla festa di halloween di tom dell'anno scorso ? anno ? ? ?o ? ?oo allo all ? all all all all ? all all all all all ?o allo all ? all all all all all all all all all all\n",
            "[BLEU]       0.2074\n"
          ]
        },
        {
          "output_type": "stream",
          "name": "stderr",
          "text": [
            "Epoch 4/5:  22%|██▏       | 2101/9369 [37:19<1:42:28,  1.18it/s, Loss=0.187]"
          ]
        },
        {
          "output_type": "stream",
          "name": "stdout",
          "text": [
            "\n",
            "[Input]      did you say three?\n",
            "[Target]     hai detto tre ?\n",
            "[Predicted]  hai detto tre ? ?sisieee ? ? ? ? ? ? ? ? ?e ?e ?osie ? ?e ? ? ?esisieee ?o ?eee ?sieeesie ?esieeeeee ?\n",
            "[BLEU]       0.0642\n",
            "\n",
            "[Input]      tom would surely agree.\n",
            "[Target]     tom sarebbe sicuramente d'accordo .\n",
            "[Predicted]  m sarebbe sicuramente d'accordo . . . soo con . . . . . . . con . . . .o . . . . con con . . . . . con . con . . con s . . . s con . . con con .\n",
            "[BLEU]       0.0466\n"
          ]
        },
        {
          "output_type": "stream",
          "name": "stderr",
          "text": [
            "Epoch 4/5:  23%|██▎       | 2201/9369 [38:44<1:40:59,  1.18it/s, Loss=0.205]"
          ]
        },
        {
          "output_type": "stream",
          "name": "stdout",
          "text": [
            "\n",
            "[Input]      is it a yes or a no?\n",
            "[Target]     è un sì o un no ?\n",
            "[Predicted]  è un sì o un no ? ? no ? no ? no no no ? ? ? ? no ? no ? ? ? ? no ? ? no ? no ? no ? no ? no no no no ? ? no no no no no ? no ? no no no no no no no ? no no\n",
            "[BLEU]       0.0905\n",
            "\n",
            "[Input]      would you like to get a coffee together?\n",
            "[Target]     ti andrebbe di prendere un caffè insieme ?\n",
            "[Predicted]  pirebbe pre prendere un caffè insieme ? ? ? ? ? ? ? ? ? ? ? ? ? ? ? ? ? ? ? ? ?s ? ? ? ? ? ? ? ? ?s ? ? ? ? ? ? ? ? ? ? ? ? ? ?\n",
            "[BLEU]       0.0656\n"
          ]
        },
        {
          "output_type": "stream",
          "name": "stderr",
          "text": [
            "Epoch 4/5:  24%|██▍       | 2266/9369 [39:39<1:40:11,  1.18it/s, Loss=0.204]"
          ]
        }
      ]
    },
    {
      "cell_type": "markdown",
      "source": [
        "## Interesting Output\n",
        "(for the sake of visualization, Meaningless output was truncated.)\n",
        "\n",
        "\n",
        "\n",
        "Epoch 1/5:  37%|███▋      | 3901/10410 [53:22<1:29:09,  1.22it/s, Loss=1.16]\\\n",
        "[Input]      are you through with your breakfast?\\\n",
        "[Target]     hai finito con la tua colazione ?\\\n",
        "[Predicted]  è finito con la sua colazione ? \\\n",
        "[BLEU]       0.1618\n",
        "- <font color= \"gray\">Grammatically `è ` is incorrect, should be `ha`, but it is still understandable and corresponds to `sua`. He just need to learn collocation of passato prossimo.</font>\n",
        "\n",
        "Epoch 1/5:  33%|███▎      | 3401/10410 [46:31<1:35:55,  1.22it/s, Loss=1.52]\\\n",
        "[Input]      tom didn ' t tell mary to do that.\\\n",
        "[Target]     tom non ha detto a mary di farlo .\\\n",
        "[Predicted]  m non ha detto a mary dirlo .\n",
        "[BLEU]       0.4671\n",
        "- <font color= \"gray\">Almost there, but `di farlo`(of doing that) is trancated into `dirlo` (saying that) This example shows clearly how the tokenization works.</font>\n",
        "\n",
        "Epoch 2/5:  11%|█         | 1101/10410 [15:12<2:07:51,  1.21it/s, Loss=0.413]\\\n",
        "[Input]      i can ' t see what ' s happening.\\\n",
        "[Target]     io non riesco a vedere cosa sta succedendo .\\\n",
        "[Predicted]  non riesco a vedere cosa sta succedendo . \\\n",
        "[BLEU]       0.7598\n",
        "- <font color= \"gray\">Grammatically correct, Prediction could be much more natural Italian.</font>\n",
        "\n",
        "\n",
        "Validation Loss (Epoch 4): 0.1937\n",
        "(Exsample of Training Loss(Epoch 4): 0.218)"
      ],
      "metadata": {
        "id": "lKpy48f7IIW5"
      }
    },
    {
      "cell_type": "code",
      "source": [
        "save_checkpoint(model, optimizer, epoch, step, \"checkpoints\")"
      ],
      "metadata": {
        "id": "xDkTn5jw4SXg"
      },
      "execution_count": null,
      "outputs": []
    },
    {
      "cell_type": "code",
      "source": [
        "from google.colab import drive\n",
        "drive.mount('/content/drive')"
      ],
      "metadata": {
        "id": "ZQBH2wce4nyP"
      },
      "execution_count": null,
      "outputs": []
    },
    {
      "cell_type": "code",
      "source": [
        "# モデル定義とインスタンス作成後\n",
        "# Correct the path directory for loading the checkpoint\n",
        "_, _ = load_latest_checkpoint(model, path_dir=\"/content/drive/MyDrive/checkpoints\")\n",
        "model.to(device)\n",
        "model.eval()\n",
        "src_text = \"How are you today?\"\n",
        "\n",
        "def translate_text(src_txt):\n",
        "    # 入力文のエンコード\n",
        "    src_encoding = src_tokenizer(src_text, return_tensors=\"pt\", padding=True, truncation=True, max_length=64)\n",
        "    src_input_ids = src_encoding[\"input_ids\"].to(device)\n",
        "    src_attention_mask = src_encoding[\"attention_mask\"].to(device)\n",
        "\n",
        "    # 翻訳とクロスアテンションウェイトの取得\n",
        "    # return_attention=True を追加\n",
        "    output_ids, cross_attn_weights = greedy_decode(model, src_input_ids, src_attention_mask, tgt_tokenizer, max_len=40, device=device, return_attention=True)\n",
        "\n",
        "    # トークンから文字列に変換\n",
        "    translated_text = tgt_tokenizer.batch_decode(output_ids, skip_special_tokens=True)[0]\n",
        "\n",
        "    # src_tokens と tgt_tokens の取得\n",
        "    src_tokens = src_tokenizer.convert_ids_to_tokens(src_input_ids[0].tolist())\n",
        "    # 生成された output_ids から tgt_tokens を取得\n",
        "    tgt_tokens = tgt_tokenizer.convert_ids_to_tokens(output_ids[0].tolist())\n",
        "\n",
        "\n",
        "    return translated_text, src_tokens, tgt_tokens, cross_attn_weights\n",
        "\n",
        "translated_text, src_tokens, tgt_tokens, cross_attn_weights = translate_text(src_text)\n",
        "print(\"Result of translation:\", translated_text)\n",
        "# visualize_attention関数にクロスアテンションウェイトを渡す\n",
        "# visualize_attention(cross_attn_weights, src_tokens, tgt_tokens) # これはまだ実行しない"
      ],
      "metadata": {
        "id": "t2SSqIrLxCYd"
      },
      "execution_count": null,
      "outputs": []
    },
    {
      "cell_type": "markdown",
      "source": [
        "BertEmbedding - Visualizer"
      ],
      "metadata": {
        "id": "h_B8pROgX5Re"
      }
    },
    {
      "cell_type": "code",
      "source": [
        "import torch\n",
        "import matplotlib.pyplot as plt\n",
        "import seaborn as sns\n",
        "import numpy as np\n",
        "\n",
        "def plot_word_embedding_spectrum(word, model, tokenizer):\n",
        "    model.eval()\n",
        "    device = next(model.parameters()).device\n",
        "\n",
        "    # トークナイズ（サブワード対応）\n",
        "    tokens = tokenizer.tokenize(word)\n",
        "    input_ids = tokenizer.convert_tokens_to_ids(tokens)\n",
        "    input_tensor = torch.tensor([input_ids]).to(device)\n",
        "\n",
        "    with torch.no_grad():\n",
        "        # 埋め込みベクトル取得（[batch, seq_len, dim]）\n",
        "        embeddings = model.encoder.embedding.token(input_tensor)  # BERTのtoken埋め込みだけ使用\n",
        "        embeddings = embeddings.squeeze(0).cpu().numpy()  # (seq_len, dim)\n",
        "\n",
        "    # 可視化\n",
        "    plt.figure(figsize=(10, len(tokens)))\n",
        "    sns.heatmap(embeddings, cmap=\"viridis\", cbar=True)\n",
        "\n",
        "    plt.yticks(np.arange(len(tokens)) + 0.5, tokens, rotation=0)\n",
        "    plt.xlabel(\"Embedding Dimension\")\n",
        "    plt.title(f\"Word Embedding Spectrum: '{word}'\")\n",
        "    plt.tight_layout()\n",
        "    plt.show()\n",
        "from sklearn.metrics.pairwise import cosine_similarity\n",
        "import torch\n",
        "import numpy as np\n",
        "\n",
        "def find_top_k_similar_words(word, model, tokenizer, top_k=5):\n",
        "    model.eval()\n",
        "    device = next(model.parameters()).device\n",
        "\n",
        "    # Step 1: トークン化 → ID変換（サブワード前提）\n",
        "    tokens = tokenizer.tokenize(word)\n",
        "    input_ids = tokenizer.convert_tokens_to_ids(tokens)\n",
        "\n",
        "    if len(input_ids) > 1:\n",
        "        print(f\"⚠️ '{word}' は {len(input_ids)} トークンに分割されます。最初のトークンのみ使用: '{tokens[0]}'\")\n",
        "    token_id = input_ids[0]\n",
        "\n",
        "    # Step 2: 指定トークンの埋め込みベクトルを取得\n",
        "    token_embedding = model.encoder.embedding.token.weight[token_id].detach().cpu().numpy()  # (d_model,)\n",
        "\n",
        "    # Step 3: 全トークン埋め込みと類似度計算\n",
        "    all_embeddings = model.encoder.embedding.token.weight.detach().cpu().numpy()  # (vocab_size, d_model)\n",
        "    similarities = cosine_similarity([token_embedding], all_embeddings)[0]  # (vocab_size,)\n",
        "\n",
        "    # Step 4: 上位K個のインデックスを取得（自身は除外）\n",
        "    similar_ids = similarities.argsort()[::-1]  # 降順ソート\n",
        "    top_ids = [i for i in similar_ids if i != token_id][:top_k]\n",
        "\n",
        "    # Step 5: トークンをIDから復元して表示\n",
        "    similar_words = tokenizer.convert_ids_to_tokens(top_ids)\n",
        "    print(f\"\\n🔍 '{word}' に類似するトークン上位 {top_k}:\")\n",
        "    for i, (tok_id, score) in enumerate(zip(top_ids, similarities[top_ids])):\n",
        "        print(f\"{i+1}. {similar_words[i]:<12}  (cosine: {score:.4f})\")\n",
        "\n",
        "    return similar_words\n",
        "\n",
        "plot_word_embedding_spectrum(\"visit\", model, src_tokenizer)\n",
        "find_top_k_similar_words(\"visit\", model, src_tokenizer)"
      ],
      "metadata": {
        "id": "Hu6iheTAX9Mm"
      },
      "execution_count": null,
      "outputs": []
    },
    {
      "cell_type": "code",
      "source": [
        "import matplotlib.pyplot as plt\n",
        "import seaborn as sns\n",
        "\n",
        "def visualize_attention(attn_weights, src_tokens, tgt_tokens, head=0):\n",
        "    \"\"\"\n",
        "    attn_weights: (B, heads, tgt_len, src_len)\n",
        "    src_tokens, tgt_tokens: list of token strings\n",
        "    \"\"\"\n",
        "    attn = attn_weights[0, head].detach().cpu().numpy()  # 1つ目のバッチ・指定のhead\n",
        "\n",
        "    plt.figure(figsize=(12, 6))\n",
        "    sns.heatmap(attn[::-1], xticklabels=src_tokens, yticklabels=tgt_tokens, cmap='viridis')\n",
        "\n",
        "    plt.xlabel(\"Source Tokens (English)\")\n",
        "    plt.ylabel(\"Target Tokens (Italian)\")\n",
        "    plt.title(f\"Cross Attention Head {head}\")\n",
        "\n",
        "    plt.yticks(rotation=0)\n",
        "    plt.show()\n",
        "\n",
        "# visualize_attention(model.attn_weights, src_tokens, tgt_tokens) # This line caused the error and is commented out\n",
        "# Now call visualize_attention with the variables returned from translate_text\n",
        "src_text = \"When is your birthday?\"\n",
        "translated_text, src_tokens, tgt_tokens, cross_attn_weights = translate_text(src_text)\n",
        "visualize_attention(cross_attn_weights, src_tokens, tgt_tokens)\n",
        "print(translated_text)"
      ],
      "metadata": {
        "id": "eB3s5dbgqdZ4"
      },
      "execution_count": null,
      "outputs": []
    },
    {
      "cell_type": "code",
      "source": [
        "def investigate_model(src_text=\"are you through with your breakfast?\"):\n",
        "    translated_text, src_tokens, tgt_tokens, cross_attn_weights = translate_text(src_text)\n",
        "    print(\"Result of Translation:\", translated_text)\n",
        "    plot_word_embedding_spectrum(\"visit\", model, src_tokenizer)\n",
        "    find_top_k_similar_words(\"visit\", model, src_tokenizer)\n",
        "    visualize_attention(cross_attn_weights, src_tokens, tgt_tokens)\n",
        "Sentences = [\"I'm Naoya.\",\"What should I do for you?\", \"It is important to learn Deep Learning.\" ]\n",
        "for src_text in Sentences:\n",
        "    investigate_model(src_text=src_text)"
      ],
      "metadata": {
        "id": "SofSlSPyfzn5"
      },
      "execution_count": null,
      "outputs": []
    }
  ]
}